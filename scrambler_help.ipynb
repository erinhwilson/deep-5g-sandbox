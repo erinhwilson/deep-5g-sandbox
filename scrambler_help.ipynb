{
 "cells": [
  {
   "cell_type": "markdown",
   "metadata": {},
   "source": [
    "# Sandbox for building toy PyTorch models and testing them in Scramblers\n",
    "I've been learning Pytorch and have put together some baby models on a toy dataset of 8-mers with 3-mer motifs to practice sticking tubes together. I also want to practice running scramblers to identify important sequences. \n",
    "\n",
    "I'm stuck but hopefully this notebook can demonstrate what I've tried and what might be wrong?\n"
   ]
  },
  {
   "cell_type": "code",
   "execution_count": 1,
   "metadata": {},
   "outputs": [],
   "source": [
    "import torch\n",
    "from torch import nn\n",
    "\n",
    "from itertools import product\n",
    "import matplotlib.pyplot as plt\n",
    "import numpy as np\n",
    "import pandas as pd\n",
    "\n",
    "import utils as u"
   ]
  },
  {
   "cell_type": "code",
   "execution_count": 2,
   "metadata": {},
   "outputs": [
    {
     "name": "stdout",
     "output_type": "stream",
     "text": [
      "Total 8mers: 65536\n"
     ]
    }
   ],
   "source": [
    "# create all possible n-mers for 8\n",
    "seqs8 = [''.join(x) for x in product(['A','C','G','T'], repeat=8)]\n",
    "print('Total 8mers:',len(seqs8))"
   ]
  },
  {
   "cell_type": "code",
   "execution_count": 3,
   "metadata": {},
   "outputs": [],
   "source": [
    "# if you want to down select\n",
    "seqs8_200 = u.downselect_list(seqs8,200)"
   ]
  },
  {
   "cell_type": "code",
   "execution_count": 4,
   "metadata": {},
   "outputs": [],
   "source": [
    "score_dict = {\n",
    "    'A':20,\n",
    "    'C':17,\n",
    "    'G':14,\n",
    "    'T':11\n",
    "}\n",
    "                  \n",
    "def score_seqs_motif(seqs):\n",
    "    '''\n",
    "    Use simple system to assign scores to a given seq:\n",
    "    Using above scoring dict, take the average score of the sequence. \n",
    "    If the sequence has a TAT, give it a 10pt bump.\n",
    "    If it has a GCG, take away 10 pts\n",
    "    (Simulating activating and repressing motifs)\n",
    "    '''\n",
    "    data = []\n",
    "    for seq in seqs:\n",
    "        score = np.mean([score_dict[base] for base in seq])\n",
    "        if 'TAT' in seq:\n",
    "            score += 10\n",
    "        if 'GCG' in seq:\n",
    "            score -= 10\n",
    "        data.append([seq,score])\n",
    "        \n",
    "    df = pd.DataFrame(data, columns=['seq','score'])\n",
    "    return df\n",
    "    "
   ]
  },
  {
   "cell_type": "code",
   "execution_count": 5,
   "metadata": {},
   "outputs": [
    {
     "data": {
      "text/html": [
       "<div>\n",
       "<style scoped>\n",
       "    .dataframe tbody tr th:only-of-type {\n",
       "        vertical-align: middle;\n",
       "    }\n",
       "\n",
       "    .dataframe tbody tr th {\n",
       "        vertical-align: top;\n",
       "    }\n",
       "\n",
       "    .dataframe thead th {\n",
       "        text-align: right;\n",
       "    }\n",
       "</style>\n",
       "<table border=\"1\" class=\"dataframe\">\n",
       "  <thead>\n",
       "    <tr style=\"text-align: right;\">\n",
       "      <th></th>\n",
       "      <th>seq</th>\n",
       "      <th>score</th>\n",
       "    </tr>\n",
       "  </thead>\n",
       "  <tbody>\n",
       "    <tr>\n",
       "      <th>0</th>\n",
       "      <td>AAAAAAAA</td>\n",
       "      <td>20.000</td>\n",
       "    </tr>\n",
       "    <tr>\n",
       "      <th>1</th>\n",
       "      <td>AAAAAAAC</td>\n",
       "      <td>19.625</td>\n",
       "    </tr>\n",
       "    <tr>\n",
       "      <th>2</th>\n",
       "      <td>AAAAAAAG</td>\n",
       "      <td>19.250</td>\n",
       "    </tr>\n",
       "    <tr>\n",
       "      <th>3</th>\n",
       "      <td>AAAAAAAT</td>\n",
       "      <td>18.875</td>\n",
       "    </tr>\n",
       "    <tr>\n",
       "      <th>4</th>\n",
       "      <td>AAAAAACA</td>\n",
       "      <td>19.625</td>\n",
       "    </tr>\n",
       "  </tbody>\n",
       "</table>\n",
       "</div>"
      ],
      "text/plain": [
       "        seq   score\n",
       "0  AAAAAAAA  20.000\n",
       "1  AAAAAAAC  19.625\n",
       "2  AAAAAAAG  19.250\n",
       "3  AAAAAAAT  18.875\n",
       "4  AAAAAACA  19.625"
      ]
     },
     "execution_count": 5,
     "metadata": {},
     "output_type": "execute_result"
    }
   ],
   "source": [
    "mer8_motif = score_seqs_motif(seqs8)\n",
    "mer8_motif.head()"
   ]
  },
  {
   "cell_type": "code",
   "execution_count": 6,
   "metadata": {},
   "outputs": [
    {
     "name": "stdout",
     "output_type": "stream",
     "text": [
      "            seq   score\n",
      "64767  TTTATTTT  22.125\n",
      "            seq  score\n",
      "59135  TGCGTTTT    2.5\n"
     ]
    }
   ],
   "source": [
    "print(mer8_motif[mer8_motif['seq']=='TTTATTTT'])\n",
    "print(mer8_motif[mer8_motif['seq']=='TGCGTTTT'])"
   ]
  },
  {
   "cell_type": "code",
   "execution_count": 7,
   "metadata": {},
   "outputs": [
    {
     "data": {
      "image/png": "[encoded data removed]",
      "text/plain": [
       "<Figure size 432x288 with 1 Axes>"
      ]
     },
     "metadata": {
      "needs_background": "light"
     },
     "output_type": "display_data"
    }
   ],
   "source": [
    "plt.hist(mer8_motif['score'].values,bins=20)\n",
    "plt.title(\"8-mer with Motifs score distribution\")\n",
    "plt.xlabel(\"seq score\",fontsize=14)\n",
    "plt.ylabel(\"count\",fontsize=14)\n",
    "plt.show()"
   ]
  },
  {
   "cell_type": "markdown",
   "metadata": {},
   "source": [
    "### Define some basic model archs for Linear and CNN"
   ]
  },
  {
   "cell_type": "code",
   "execution_count": 8,
   "metadata": {},
   "outputs": [],
   "source": [
    "class DNA_Linear_Deep(nn.Module):\n",
    "    def __init__(self, seq_len,h1_size):\n",
    "        super().__init__()\n",
    "        self.seq_len = seq_len\n",
    "        \n",
    "        self.lin = nn.Sequential(\n",
    "            nn.Linear(4*seq_len, h1_size),\n",
    "            nn.ReLU(inplace=True),\n",
    "            nn.Linear(h1_size, 1),\n",
    "            nn.ReLU(inplace=True)\n",
    "        )\n",
    "\n",
    "    def forward(self, xb):\n",
    "        # Linear wraps up the weights/bias dot product operations\n",
    "        # reshape to flatten sequence dimension\n",
    "        xb = xb.view(xb.shape[0],self.seq_len*4)\n",
    "        out = self.lin(xb)\n",
    "        #print(\"Lin out shape:\", out.shape)\n",
    "        return out\n",
    "    \n",
    "\n",
    "    \n",
    "class DNA_CNN(nn.Module):\n",
    "    def __init__(self,\n",
    "                 seq_len,\n",
    "                 num_filters=31,\n",
    "                 kernel_size=3\n",
    "                ):\n",
    "        super().__init__()\n",
    "        self.seq_len = seq_len\n",
    "        \n",
    "        self.conv_net = nn.Sequential(\n",
    "            nn.Conv2d(1, num_filters, kernel_size=(4,kernel_size)),\n",
    "            # ^^ changed from 4 to 1 channel??\n",
    "            nn.ReLU(inplace=True),\n",
    "            nn.Flatten(),\n",
    "            nn.Linear(num_filters*(seq_len-kernel_size+1), 10),\n",
    "            nn.ReLU(inplace=True),\n",
    "            nn.Linear(10, 1),\n",
    "        ) \n",
    "\n",
    "    def forward(self, xb):\n",
    "        # reshape view to batch_ssize x 4channel x seq_len\n",
    "        # permute to put channel in correct order\n",
    "        #xb = xb.view(-1,self.seq_len,4).permute(0,2,1) \n",
    "        #xb = xb.permute(0,2,1) \n",
    "        # OHE FIX??\n",
    "        xb = xb.permute(0,2,1).unsqueeze(1)\n",
    "        # ^^ Conv2D input fix?? I think the unsqueeze adds a necessary dimension for Conv2D?\n",
    "        #print(xb.shape)\n",
    "        out = self.conv_net(xb)\n",
    "        #print(\"CNN out shape:\",out.shape)\n",
    "        return out"
   ]
  },
  {
   "cell_type": "code",
   "execution_count": 9,
   "metadata": {},
   "outputs": [],
   "source": [
    "def plot_train_test_hist(train_df, test_df,bins=10):\n",
    "    ''' Check distribution of train/test scores, sanity check that its not skewed'''\n",
    "    plt.hist(train_df['score'].values,bins=bins,label=\"train\")\n",
    "    plt.hist(test_df['score'].values,bins=bins,label='test')\n",
    "    plt.legend()\n",
    "    plt.xlabel(\"seq score\",fontsize=14)\n",
    "    plt.ylabel(\"count\",fontsize=14)\n",
    "    plt.show()\n",
    "    \n",
    "    \n",
    "def quick_test8(model, oracle):\n",
    "    '''Sanity check some sequence predictions against the oracle (ground truth dict)'''\n",
    "    seqs1 = ['AAAAAAAA', 'CCCCCCCC','GGGGGGGG','TTTTTTTT']\n",
    "    seqs2 = ['AACCAACA','CCGGCGCG','GGGTAAGG', 'TTTCGTTT','TGTAATAC']\n",
    "    seqsTAT = ['TATAAAAA','CCTATCCC','GTATGGGG','TTTATTTT']\n",
    "    seqsGCG = ['AAGCGAAA','CGCGCCCC','GGGCGGGG','TTGCGTTT']\n",
    "    TATGCG =  ['ATATGCGA','TGCGTATT']\n",
    "\n",
    "    for seqs in [seqs1, seqs2, seqsTAT, seqsGCG, TATGCG]:\n",
    "        u.quick_seq_pred(model, seqs, oracle)\n",
    "        print()"
   ]
  },
  {
   "cell_type": "markdown",
   "metadata": {},
   "source": [
    "# Single task Regression with Motifs\n",
    "### Split data into train and test"
   ]
  },
  {
   "cell_type": "code",
   "execution_count": 10,
   "metadata": {},
   "outputs": [],
   "source": [
    "# build DataLoader objects in PyTorch, also return pandas dfs of the train and test seqs\n",
    "mer8motif_train_dl, \\\n",
    "mer8motif_test_dl, \\\n",
    "mer8motif_train_df, \\\n",
    "mer8motif_test_df = u.build_dataloaders_single(mer8_motif, batch_size=13)"
   ]
  },
  {
   "cell_type": "code",
   "execution_count": 11,
   "metadata": {},
   "outputs": [
    {
     "data": {
      "image/png": "[encoded data removed]",
      "text/plain": [
       "<Figure size 432x288 with 1 Axes>"
      ]
     },
     "metadata": {
      "needs_background": "light"
     },
     "output_type": "display_data"
    }
   ],
   "source": [
    "plot_train_test_hist(mer8motif_train_df, mer8motif_test_df,bins=20)"
   ]
  },
  {
   "cell_type": "code",
   "execution_count": 12,
   "metadata": {},
   "outputs": [
    {
     "data": {
      "text/plain": [
       "(8, 4)"
      ]
     },
     "execution_count": 12,
     "metadata": {},
     "output_type": "execute_result"
    }
   ],
   "source": [
    "mer8motif_train_df['oh'].values[0].shape"
   ]
  },
  {
   "cell_type": "code",
   "execution_count": 13,
   "metadata": {},
   "outputs": [
    {
     "name": "stdout",
     "output_type": "stream",
     "text": [
      "xb shape: torch.Size([13, 8, 4])\n",
      "xb shape after forward pass: torch.Size([13, 1, 4, 8])\n",
      "tensor([[[[0., 0., 0., 0., 0., 0., 0., 1.],\n",
      "          [1., 1., 0., 0., 0., 1., 0., 0.],\n",
      "          [0., 0., 1., 1., 0., 0., 0., 0.],\n",
      "          [0., 0., 0., 0., 1., 0., 1., 0.]]],\n",
      "\n",
      "\n",
      "        [[[0., 0., 0., 1., 0., 0., 0., 0.],\n",
      "          [0., 1., 0., 0., 1., 0., 0., 1.],\n",
      "          [0., 0., 1., 0., 0., 0., 0., 0.],\n",
      "          [1., 0., 0., 0., 0., 1., 1., 0.]]],\n",
      "\n",
      "\n",
      "        [[[1., 0., 0., 0., 0., 1., 0., 1.],\n",
      "          [0., 1., 0., 0., 1., 0., 1., 0.],\n",
      "          [0., 0., 1., 0., 0., 0., 0., 0.],\n",
      "          [0., 0., 0., 1., 0., 0., 0., 0.]]],\n",
      "\n",
      "\n",
      "        [[[0., 1., 1., 1., 0., 0., 1., 0.],\n",
      "          [0., 0., 0., 0., 1., 0., 0., 0.],\n",
      "          [1., 0., 0., 0., 0., 1., 0., 0.],\n",
      "          [0., 0., 0., 0., 0., 0., 0., 1.]]],\n",
      "\n",
      "\n",
      "        [[[0., 0., 0., 0., 1., 1., 0., 0.],\n",
      "          [1., 1., 0., 1., 0., 0., 1., 0.],\n",
      "          [0., 0., 1., 0., 0., 0., 0., 0.],\n",
      "          [0., 0., 0., 0., 0., 0., 0., 1.]]],\n",
      "\n",
      "\n",
      "        [[[0., 0., 0., 0., 0., 1., 0., 0.],\n",
      "          [0., 0., 0., 0., 0., 0., 0., 0.],\n",
      "          [1., 0., 1., 1., 1., 0., 0., 1.],\n",
      "          [0., 1., 0., 0., 0., 0., 1., 0.]]],\n",
      "\n",
      "\n",
      "        [[[0., 0., 0., 0., 0., 1., 1., 0.],\n",
      "          [1., 1., 0., 0., 1., 0., 0., 0.],\n",
      "          [0., 0., 1., 0., 0., 0., 0., 0.],\n",
      "          [0., 0., 0., 1., 0., 0., 0., 1.]]],\n",
      "\n",
      "\n",
      "        [[[0., 1., 1., 0., 1., 0., 0., 0.],\n",
      "          [0., 0., 0., 0., 0., 1., 1., 0.],\n",
      "          [1., 0., 0., 1., 0., 0., 0., 1.],\n",
      "          [0., 0., 0., 0., 0., 0., 0., 0.]]],\n",
      "\n",
      "\n",
      "        [[[0., 1., 1., 0., 1., 1., 0., 0.],\n",
      "          [1., 0., 0., 0., 0., 0., 0., 1.],\n",
      "          [0., 0., 0., 0., 0., 0., 0., 0.],\n",
      "          [0., 0., 0., 1., 0., 0., 1., 0.]]],\n",
      "\n",
      "\n",
      "        [[[1., 1., 0., 1., 0., 0., 0., 0.],\n",
      "          [0., 0., 1., 0., 0., 0., 0., 0.],\n",
      "          [0., 0., 0., 0., 0., 0., 0., 1.],\n",
      "          [0., 0., 0., 0., 1., 1., 1., 0.]]],\n",
      "\n",
      "\n",
      "        [[[0., 0., 1., 0., 1., 0., 1., 0.],\n",
      "          [1., 0., 0., 0., 0., 0., 0., 0.],\n",
      "          [0., 0., 0., 1., 0., 0., 0., 0.],\n",
      "          [0., 1., 0., 0., 0., 1., 0., 1.]]],\n",
      "\n",
      "\n",
      "        [[[0., 0., 0., 0., 0., 0., 1., 1.],\n",
      "          [1., 1., 1., 1., 0., 0., 0., 0.],\n",
      "          [0., 0., 0., 0., 0., 1., 0., 0.],\n",
      "          [0., 0., 0., 0., 1., 0., 0., 0.]]],\n",
      "\n",
      "\n",
      "        [[[1., 0., 0., 1., 0., 0., 0., 0.],\n",
      "          [0., 0., 1., 0., 1., 0., 1., 0.],\n",
      "          [0., 1., 0., 0., 0., 1., 0., 0.],\n",
      "          [0., 0., 0., 0., 0., 0., 0., 1.]]]], dtype=torch.float64)\n"
     ]
    }
   ],
   "source": [
    "# inspect some stuff about a batch\n",
    "for xb, yb in mer8motif_train_dl:\n",
    "    break\n",
    "\n",
    "# print some stuff that happens in the forward pass of the PyTorch model\n",
    "print(\"xb shape:\",xb.shape)\n",
    "print(\"xb shape after forward pass:\",xb.permute(0,2,1).unsqueeze(1).shape)\n",
    "print(xb.permute(0,2,1).unsqueeze(1))"
   ]
  },
  {
   "cell_type": "markdown",
   "metadata": {},
   "source": [
    "##  Linear Model"
   ]
  },
  {
   "cell_type": "code",
   "execution_count": 14,
   "metadata": {},
   "outputs": [
    {
     "name": "stderr",
     "output_type": "stream",
     "text": [
      "/home/ewilson6/anaconda3/envs/scrambler/lib/python3.7/site-packages/torch/autograd/__init__.py:149: UserWarning: CUDA initialization: The NVIDIA driver on your system is too old (found version 9000). Please update your GPU driver by downloading and installing a new version from the URL: http://www.nvidia.com/Download/index.aspx Alternatively, go to: https://pytorch.org to install a PyTorch version that has been compiled with your version of the CUDA driver. (Triggered internally at  /opt/conda/conda-bld/pytorch_1623448224956/work/c10/cuda/CUDAFunctions.cpp:115.)\n",
      "  allow_unreachable=True, accumulate_grad=True)  # allow_unreachable flag\n"
     ]
    },
    {
     "name": "stdout",
     "output_type": "stream",
     "text": [
      "0 7.298014665399341\n",
      "1 4.830536375531053\n",
      "2 3.758235338633112\n",
      "3 3.0617318206901842\n",
      "4 2.263229434837428\n",
      "5 2.0471202440612157\n",
      "6 1.3583737193997\n",
      "7 1.0989971940062069\n",
      "8 0.9329651279086778\n",
      "9 0.9082946633174902\n",
      "10 0.9163997002601906\n",
      "11 0.8181010219974737\n",
      "12 0.7677742120124079\n",
      "13 1.7697973465720327\n",
      "14 0.5902624033044184\n",
      "15 0.6177609452291718\n",
      "16 0.6140612181839367\n",
      "17 0.672745149576372\n",
      "18 1.1800101330929553\n",
      "19 0.5810934314427532\n"
     ]
    },
    {
     "data": {
      "image/png": "[encoded data removed]",
      "text/plain": [
       "<Figure size 432x288 with 1 Axes>"
      ]
     },
     "metadata": {
      "needs_background": "light"
     },
     "output_type": "display_data"
    }
   ],
   "source": [
    "seq_len = len(mer8motif_train_df['seq'].values[0])\n",
    "hidden_layer_size = 24\n",
    "\n",
    "mer8motif_model_lin_d = DNA_Linear_Deep(seq_len,hidden_layer_size)\n",
    "\n",
    "mer8motif_train_losses_lin_d, mer8motif_test_losses_lin_d = u.run_model(\n",
    "    mer8motif_train_dl, \n",
    "    mer8motif_test_dl, \n",
    "    mer8motif_model_lin_d\n",
    ")\n",
    "\n",
    "# to plot loss\n",
    "mer8motif_lin_d_data_label = list(zip([mer8motif_train_losses_lin_d,\n",
    "                                       mer8motif_test_losses_lin_d], \n",
    "                                      ['Lin(dp) Train Loss',\n",
    "                                       'Lin(dp) Test Loss']))\n",
    "u.quick_loss_plot(mer8motif_lin_d_data_label)"
   ]
  },
  {
   "cell_type": "code",
   "execution_count": 15,
   "metadata": {},
   "outputs": [
    {
     "name": "stdout",
     "output_type": "stream",
     "text": [
      "AAAAAAAA: pred:20.407 actual:20.000 (-0.407)\n",
      "CCCCCCCC: pred:17.154 actual:17.000 (-0.154)\n",
      "GGGGGGGG: pred:13.873 actual:14.000 (0.127)\n",
      "TTTTTTTT: pred:12.535 actual:11.000 (-1.535)\n",
      "\n",
      "AACCAACA: pred:19.680 actual:18.875 (-0.805)\n",
      "CCGGCGCG: pred:0.000 actual:5.500 (5.500)\n",
      "GGGTAAGG: pred:15.549 actual:15.125 (-0.424)\n",
      "TTTCGTTT: pred:11.881 actual:12.125 (0.244)\n",
      "TGTAATAC: pred:15.950 actual:15.500 (-0.450)\n",
      "\n",
      "TATAAAAA: pred:26.361 actual:27.750 (1.389)\n",
      "CCTATCCC: pred:25.059 actual:25.875 (0.816)\n",
      "GTATGGGG: pred:23.580 actual:24.000 (0.420)\n",
      "TTTATTTT: pred:21.047 actual:22.125 (1.078)\n",
      "\n",
      "AAGCGAAA: pred:7.732 actual:8.125 (0.393)\n",
      "CGCGCCCC: pred:6.520 actual:6.250 (-0.270)\n",
      "GGGCGGGG: pred:4.397 actual:4.375 (-0.022)\n",
      "TTGCGTTT: pred:2.864 actual:2.500 (-0.364)\n",
      "\n",
      "ATATGCGA: pred:16.587 actual:15.875 (-0.712)\n",
      "TGCGTATT: pred:14.260 actual:13.625 (-0.635)\n",
      "\n"
     ]
    }
   ],
   "source": [
    "oracle_8mer_motif = dict(mer8_motif[['seq','score']].values)\n",
    "quick_test8(mer8motif_model_lin_d,oracle_8mer_motif)"
   ]
  },
  {
   "cell_type": "markdown",
   "metadata": {},
   "source": [
    "### CNN Model"
   ]
  },
  {
   "cell_type": "code",
   "execution_count": 16,
   "metadata": {},
   "outputs": [
    {
     "name": "stdout",
     "output_type": "stream",
     "text": [
      "0 0.4765327754366528\n",
      "1 0.1570231312616459\n",
      "2 0.046843871257918994\n",
      "3 0.029868828262592365\n",
      "4 0.013718355558184892\n",
      "5 0.00854265474538348\n",
      "6 0.010521948389252642\n",
      "7 0.006266354176536156\n",
      "8 0.005913617471550604\n",
      "9 0.004782517314920865\n",
      "10 0.004891932779237769\n",
      "11 0.0044633977875948114\n",
      "12 0.003749687698227659\n",
      "13 0.0035985081395560844\n",
      "14 0.0032765557422854866\n",
      "15 0.003626778771706426\n",
      "16 0.0029563801821182807\n",
      "17 0.0032281302727915125\n",
      "18 0.0033545040094249533\n",
      "19 0.0027883732697468653\n"
     ]
    },
    {
     "data": {
      "image/png": "[encoded data removed]",
      "text/plain": [
       "<Figure size 432x288 with 1 Axes>"
      ]
     },
     "metadata": {
      "needs_background": "light"
     },
     "output_type": "display_data"
    }
   ],
   "source": [
    "seq_len = len(mer8motif_train_df['seq'].values[0])\n",
    "\n",
    "mer8motif_model_cnn = DNA_CNN(seq_len)\n",
    "\n",
    "mer8motif_train_losses_cnn, \\\n",
    "mer8motif_test_losses_cnn = u.run_model(\n",
    "    mer8motif_train_dl, \n",
    "    mer8motif_test_dl, \n",
    "    mer8motif_model_cnn, \n",
    ")\n",
    "\n",
    "# to plot loss\n",
    "mer8motif_cnn_data_label = list(zip([mer8motif_train_losses_cnn,mer8motif_test_losses_cnn], ['CNN Train Loss','CNN Test Loss']))\n",
    "u.quick_loss_plot(mer8motif_cnn_data_label)"
   ]
  },
  {
   "cell_type": "code",
   "execution_count": 17,
   "metadata": {},
   "outputs": [
    {
     "name": "stdout",
     "output_type": "stream",
     "text": [
      "AAAAAAAA: pred:20.049 actual:20.000 (-0.049)\n",
      "CCCCCCCC: pred:17.019 actual:17.000 (-0.019)\n",
      "GGGGGGGG: pred:14.023 actual:14.000 (-0.023)\n",
      "TTTTTTTT: pred:11.054 actual:11.000 (-0.054)\n",
      "\n",
      "AACCAACA: pred:18.857 actual:18.875 (0.018)\n",
      "CCGGCGCG: pred:5.632 actual:5.500 (-0.132)\n",
      "GGGTAAGG: pred:15.108 actual:15.125 (0.017)\n",
      "TTTCGTTT: pred:12.184 actual:12.125 (-0.059)\n",
      "TGTAATAC: pred:15.516 actual:15.500 (-0.016)\n",
      "\n",
      "TATAAAAA: pred:27.795 actual:27.750 (-0.045)\n",
      "CCTATCCC: pred:25.909 actual:25.875 (-0.034)\n",
      "GTATGGGG: pred:24.007 actual:24.000 (-0.007)\n",
      "TTTATTTT: pred:22.109 actual:22.125 (0.016)\n",
      "\n",
      "AAGCGAAA: pred:8.151 actual:8.125 (-0.026)\n",
      "CGCGCCCC: pred:6.224 actual:6.250 (0.026)\n",
      "GGGCGGGG: pred:4.425 actual:4.375 (-0.050)\n",
      "TTGCGTTT: pred:2.694 actual:2.500 (-0.194)\n",
      "\n",
      "ATATGCGA: pred:15.734 actual:15.875 (0.141)\n",
      "TGCGTATT: pred:13.655 actual:13.625 (-0.030)\n",
      "\n"
     ]
    }
   ],
   "source": [
    "quick_test8(mer8motif_model_cnn, oracle_8mer_motif)"
   ]
  },
  {
   "cell_type": "code",
   "execution_count": 18,
   "metadata": {
    "scrolled": false
   },
   "outputs": [
    {
     "data": {
      "image/png": "[encoded data removed]",
      "text/plain": [
       "<Figure size 432x288 with 1 Axes>"
      ]
     },
     "metadata": {
      "needs_background": "light"
     },
     "output_type": "display_data"
    }
   ],
   "source": [
    "u.quick_loss_plot(\n",
    "    mer8motif_lin_d_data_label + \\\n",
    "    mer8motif_cnn_data_label\n",
    ")"
   ]
  },
  {
   "cell_type": "code",
   "execution_count": 19,
   "metadata": {},
   "outputs": [],
   "source": [
    "def parity_pred(models, seqs, oracle,task,alt=True):\n",
    "    '''Given some sequences, get the model's predictions '''\n",
    "    dfs = {} # key: model name, value: parity_df\n",
    "    \n",
    "    \n",
    "    for model_name,model in models:\n",
    "        print(f\"Running {model_name}\")\n",
    "        data = []\n",
    "        for dna in seqs:\n",
    "            s = torch.tensor(u.one_hot_encode(dna)).unsqueeze(0)\n",
    "            actual = oracle[dna]\n",
    "            pred = model(s.float())\n",
    "            data.append([dna,actual,pred.item()])\n",
    "        df = pd.DataFrame(data, columns=['seq','truth','pred'])\n",
    "        pearson = df['truth'].corr(df['pred'])\n",
    "        dfs[model_name] = (pearson,df)\n",
    "        \n",
    "        #plot parity plot\n",
    "        if alt: # make an altair plot\n",
    "            u.alt_parity_plot(model_name, df, pearson,task)\n",
    "        u.parity_plot(model_name, df, pearson)\n",
    "\n",
    "    return dfs"
   ]
  },
  {
   "cell_type": "code",
   "execution_count": 20,
   "metadata": {},
   "outputs": [
    {
     "name": "stdout",
     "output_type": "stream",
     "text": [
      "Running LinearDeep_8mer\n"
     ]
    },
    {
     "data": {
      "image/png": "[encoded data removed]",
      "text/plain": [
       "<Figure size 432x288 with 1 Axes>"
      ]
     },
     "metadata": {
      "needs_background": "light"
     },
     "output_type": "display_data"
    },
    {
     "name": "stdout",
     "output_type": "stream",
     "text": [
      "Running CNN_8mer\n"
     ]
    },
    {
     "data": {
      "image/png": "[encoded data removed]",
      "text/plain": [
       "<Figure size 432x288 with 1 Axes>"
      ]
     },
     "metadata": {
      "needs_background": "light"
     },
     "output_type": "display_data"
    }
   ],
   "source": [
    "models = [\n",
    "    (\"LinearDeep_8mer\",mer8motif_model_lin_d),\n",
    "    (\"CNN_8mer\",mer8motif_model_cnn),\n",
    "]\n",
    "\n",
    "seqs = mer8motif_test_df['seq'].values\n",
    "task = \"TATGCGmotif\"\n",
    "\n",
    "dfs = parity_pred(models, seqs, oracle_8mer_motif,task,alt=True)"
   ]
  },
  {
   "cell_type": "markdown",
   "metadata": {},
   "source": [
    "# Checkpoint 1\n",
    "The models are trained in PyTorch and are working as expected: the linear model does pretty good (it's a simple task) but the CNN model is doing much better. \n",
    "\n",
    "I'd like to practice using Scramblers, and I expect that Scramblers should see that the models are indeed relying on the TAT and GCG motifs to predict the scoring pattern.\n",
    "\n",
    "However, Scramblers are in Keras, not PyTorch. \n",
    "\n",
    "So I'm trying to use ONNX to convert the PyTorch models to Keras. Unfortunately, ONNX uses tf.Keras while scramblers just use Keras. So this will actually be 2 steps:\n",
    "1. Convert PyTorch to tf.Keras (via ONNX)\n",
    "2. Convert tf.Keras to Keras\n"
   ]
  },
  {
   "cell_type": "markdown",
   "metadata": {},
   "source": [
    "## try to export to keras"
   ]
  },
  {
   "cell_type": "code",
   "execution_count": 21,
   "metadata": {},
   "outputs": [
    {
     "data": {
      "text/plain": [
       "DNA_Linear_Deep(\n",
       "  (lin): Sequential(\n",
       "    (0): Linear(in_features=32, out_features=24, bias=True)\n",
       "    (1): ReLU(inplace=True)\n",
       "    (2): Linear(in_features=24, out_features=1, bias=True)\n",
       "    (3): ReLU(inplace=True)\n",
       "  )\n",
       ")"
      ]
     },
     "execution_count": 21,
     "metadata": {},
     "output_type": "execute_result"
    }
   ],
   "source": [
    "mer8motif_model_lin_d"
   ]
  },
  {
   "cell_type": "code",
   "execution_count": 22,
   "metadata": {},
   "outputs": [
    {
     "data": {
      "text/plain": [
       "DNA_CNN(\n",
       "  (conv_net): Sequential(\n",
       "    (0): Conv2d(1, 31, kernel_size=(4, 3), stride=(1, 1))\n",
       "    (1): ReLU(inplace=True)\n",
       "    (2): Flatten(start_dim=1, end_dim=-1)\n",
       "    (3): Linear(in_features=186, out_features=10, bias=True)\n",
       "    (4): ReLU(inplace=True)\n",
       "    (5): Linear(in_features=10, out_features=1, bias=True)\n",
       "  )\n",
       ")"
      ]
     },
     "execution_count": 22,
     "metadata": {},
     "output_type": "execute_result"
    }
   ],
   "source": [
    "mer8motif_model_cnn"
   ]
  },
  {
   "cell_type": "markdown",
   "metadata": {},
   "source": [
    "### Try onnx export"
   ]
  },
  {
   "cell_type": "code",
   "execution_count": 23,
   "metadata": {},
   "outputs": [
    {
     "name": "stderr",
     "output_type": "stream",
     "text": [
      "Using TensorFlow backend.\n",
      "/home/ewilson6/anaconda3/envs/scrambler/lib/python3.7/site-packages/tensorflow/python/framework/dtypes.py:526: FutureWarning: Passing (type, 1) or '1type' as a synonym of type is deprecated; in a future version of numpy, it will be understood as (type, (1,)) / '(1,)type'.\n",
      "  _np_qint8 = np.dtype([(\"qint8\", np.int8, 1)])\n",
      "/home/ewilson6/anaconda3/envs/scrambler/lib/python3.7/site-packages/tensorflow/python/framework/dtypes.py:527: FutureWarning: Passing (type, 1) or '1type' as a synonym of type is deprecated; in a future version of numpy, it will be understood as (type, (1,)) / '(1,)type'.\n",
      "  _np_quint8 = np.dtype([(\"quint8\", np.uint8, 1)])\n",
      "/home/ewilson6/anaconda3/envs/scrambler/lib/python3.7/site-packages/tensorflow/python/framework/dtypes.py:528: FutureWarning: Passing (type, 1) or '1type' as a synonym of type is deprecated; in a future version of numpy, it will be understood as (type, (1,)) / '(1,)type'.\n",
      "  _np_qint16 = np.dtype([(\"qint16\", np.int16, 1)])\n",
      "/home/ewilson6/anaconda3/envs/scrambler/lib/python3.7/site-packages/tensorflow/python/framework/dtypes.py:529: FutureWarning: Passing (type, 1) or '1type' as a synonym of type is deprecated; in a future version of numpy, it will be understood as (type, (1,)) / '(1,)type'.\n",
      "  _np_quint16 = np.dtype([(\"quint16\", np.uint16, 1)])\n",
      "/home/ewilson6/anaconda3/envs/scrambler/lib/python3.7/site-packages/tensorflow/python/framework/dtypes.py:530: FutureWarning: Passing (type, 1) or '1type' as a synonym of type is deprecated; in a future version of numpy, it will be understood as (type, (1,)) / '(1,)type'.\n",
      "  _np_qint32 = np.dtype([(\"qint32\", np.int32, 1)])\n",
      "/home/ewilson6/anaconda3/envs/scrambler/lib/python3.7/site-packages/tensorflow/python/framework/dtypes.py:535: FutureWarning: Passing (type, 1) or '1type' as a synonym of type is deprecated; in a future version of numpy, it will be understood as (type, (1,)) / '(1,)type'.\n",
      "  np_resource = np.dtype([(\"resource\", np.ubyte, 1)])\n"
     ]
    }
   ],
   "source": [
    "import keras\n",
    "import onnx\n",
    "import onnx2keras\n",
    "from onnx2keras import onnx_to_keras"
   ]
  },
  {
   "cell_type": "code",
   "execution_count": 24,
   "metadata": {},
   "outputs": [],
   "source": [
    "seqs = [\"AAAAAAAA\",\"TTTTTTTT\",\"CCCCCCCC\",\"GGGGGGGG\",\"GGGTATGG\",\"AAGCGAAA\"]"
   ]
  },
  {
   "cell_type": "code",
   "execution_count": 25,
   "metadata": {},
   "outputs": [],
   "source": [
    "def export2keras(pt_model, model_name_str,example_seqs):\n",
    "    \n",
    "    # make dummy input from example seqs\n",
    "    ohe_seqs = [u.one_hot_encode(x) for x in example_seqs]\n",
    "    ohe_seqs = [torch.from_numpy(x).unsqueeze(0).float() for x in ohe_seqs]\n",
    "    dummy_input = ohe_seqs[0]\n",
    "    \n",
    "    # export intermediate ONNX model\n",
    "    onnx_model_str = f\"{model_name_str}.onnx\"\n",
    "    torch.onnx.export(\n",
    "        pt_model, \n",
    "        dummy_input, \n",
    "        onnx_model_str, \n",
    "        input_names=['test_input'], # should this change? Does it matter?\n",
    "        output_names=['test_output']\n",
    "    )\n",
    "    print(\"Done saving to onnx.\")\n",
    "    print(\"Loading to Keras...\")\n",
    "    \n",
    "    # convert ONNX to keras\n",
    "    onnx_model = onnx.load(onnx_model_str)\n",
    "    k_model = onnx_to_keras(onnx_model, ['test_input'])\n",
    "    \n",
    "    print(\"\\nConfirming Torch and Keras match\")\n",
    "    # confirm Pytorch and Keras agree\n",
    "    for i in range(len(example_seqs)):\n",
    "        seq = example_seqs[i]\n",
    "        ohe_seq = ohe_seqs[i]\n",
    "        seq_k = np.array(ohe_seq)\n",
    "\n",
    "        res = pt_model(ohe_seq)\n",
    "        res2 = k_model.predict(seq_k)\n",
    "        \n",
    "        print(f\"{seq}: \\n\\tPyTorch:{res.item()} \\n\\tKeras  :{res2[0][0]}\")\n",
    "        \n",
    "    # save the Keras model\n",
    "    k_model_str = f\"{model_name_str}.h5\"\n",
    "    \n",
    "    k_model.save(k_model_str)\n",
    "    print(f\"Keras Model saved at {k_model_str}\")\n",
    "    return k_model\n"
   ]
  },
  {
   "cell_type": "code",
   "execution_count": 114,
   "metadata": {},
   "outputs": [
    {
     "data": {
      "text/plain": [
       "'1.13.1'"
      ]
     },
     "execution_count": 114,
     "metadata": {},
     "output_type": "execute_result"
    }
   ],
   "source": [
    "tf.__version__"
   ]
  },
  {
   "cell_type": "code",
   "execution_count": 26,
   "metadata": {
    "scrolled": false
   },
   "outputs": [
    {
     "name": "stderr",
     "output_type": "stream",
     "text": [
      "INFO:onnx2keras:Converter is called.\n",
      "DEBUG:onnx2keras:List input shapes:\n",
      "DEBUG:onnx2keras:None\n",
      "DEBUG:onnx2keras:List inputs:\n",
      "DEBUG:onnx2keras:Input 0 -> test_input.\n",
      "DEBUG:onnx2keras:List outputs:\n",
      "DEBUG:onnx2keras:Output 0 -> test_output.\n",
      "DEBUG:onnx2keras:Gathering weights to dictionary.\n",
      "DEBUG:onnx2keras:Found weight lin.0.weight with shape (24, 32).\n",
      "DEBUG:onnx2keras:Found weight lin.0.bias with shape (24,).\n",
      "DEBUG:onnx2keras:Found weight lin.2.weight with shape (1, 24).\n",
      "DEBUG:onnx2keras:Found weight lin.2.bias with shape (1,).\n",
      "DEBUG:onnx2keras:Found weight 17 with shape (1,).\n",
      "DEBUG:onnx2keras:Found input test_input with shape [8, 4]\n",
      "DEBUG:onnx2keras:######\n",
      "DEBUG:onnx2keras:...\n",
      "DEBUG:onnx2keras:Converting ONNX operation\n",
      "DEBUG:onnx2keras:type: Shape\n",
      "DEBUG:onnx2keras:node_name: 5\n",
      "DEBUG:onnx2keras:node_params: {'change_ordering': False, 'name_policy': None}\n",
      "DEBUG:onnx2keras:...\n",
      "DEBUG:onnx2keras:Check if all inputs are available:\n",
      "DEBUG:onnx2keras:Check input 0 (name test_input).\n",
      "DEBUG:onnx2keras:... found all, continue\n",
      "DEBUG:onnx2keras:shape:Actual shape:\n",
      "DEBUG:onnx2keras:shape:[Dimension(None) Dimension(8) Dimension(4)]\n",
      "DEBUG:onnx2keras:Output TF Layer -> [Dimension(None) Dimension(8) Dimension(4)]\n",
      "DEBUG:onnx2keras:######\n",
      "DEBUG:onnx2keras:...\n",
      "DEBUG:onnx2keras:Converting ONNX operation\n",
      "DEBUG:onnx2keras:type: Constant\n",
      "DEBUG:onnx2keras:node_name: 6\n",
      "DEBUG:onnx2keras:node_params: {'value': array(0), 'change_ordering': False, 'name_policy': None}\n",
      "DEBUG:onnx2keras:...\n",
      "DEBUG:onnx2keras:Check if all inputs are available:\n",
      "DEBUG:onnx2keras:... found all, continue\n",
      "DEBUG:onnx2keras:Output TF Layer -> 0\n",
      "DEBUG:onnx2keras:######\n",
      "DEBUG:onnx2keras:...\n",
      "DEBUG:onnx2keras:Converting ONNX operation\n",
      "DEBUG:onnx2keras:type: Gather\n",
      "DEBUG:onnx2keras:node_name: 7\n",
      "DEBUG:onnx2keras:node_params: {'axis': 0, 'change_ordering': False, 'name_policy': None}\n",
      "DEBUG:onnx2keras:...\n",
      "DEBUG:onnx2keras:Check if all inputs are available:\n",
      "DEBUG:onnx2keras:Check input 0 (name 5).\n",
      "DEBUG:onnx2keras:Check input 1 (name 6).\n",
      "DEBUG:onnx2keras:... found all, continue\n",
      "DEBUG:onnx2keras:gather:Gather from numpy array\n",
      "DEBUG:onnx2keras:Output TF Layer -> ?\n",
      "DEBUG:onnx2keras:######\n",
      "DEBUG:onnx2keras:...\n",
      "DEBUG:onnx2keras:Converting ONNX operation\n",
      "DEBUG:onnx2keras:type: Unsqueeze\n",
      "DEBUG:onnx2keras:node_name: 9\n",
      "DEBUG:onnx2keras:node_params: {'axes': [0], 'change_ordering': False, 'name_policy': None}\n",
      "DEBUG:onnx2keras:...\n",
      "DEBUG:onnx2keras:Check if all inputs are available:\n",
      "DEBUG:onnx2keras:Check input 0 (name 7).\n",
      "DEBUG:onnx2keras:... found all, continue\n",
      "DEBUG:onnx2keras:unsqueeze:Work with numpy types.\n",
      "DEBUG:onnx2keras:Output TF Layer -> [Dimension(None)]\n",
      "DEBUG:onnx2keras:######\n",
      "DEBUG:onnx2keras:...\n",
      "DEBUG:onnx2keras:Converting ONNX operation\n",
      "DEBUG:onnx2keras:type: Concat\n",
      "DEBUG:onnx2keras:node_name: 11\n",
      "DEBUG:onnx2keras:node_params: {'axis': 0, 'change_ordering': False, 'name_policy': None}\n",
      "DEBUG:onnx2keras:...\n",
      "DEBUG:onnx2keras:Check if all inputs are available:\n",
      "DEBUG:onnx2keras:Check input 0 (name 9).\n",
      "DEBUG:onnx2keras:Check input 1 (name 17).\n",
      "DEBUG:onnx2keras:The input not found in layers / model inputs.\n",
      "DEBUG:onnx2keras:Found in weights, add as a numpy constant.\n",
      "DEBUG:onnx2keras:... found all, continue\n",
      "DEBUG:onnx2keras:concat:Concat numpy arrays.\n",
      "DEBUG:onnx2keras:Output TF Layer -> [Dimension(None) 32]\n",
      "DEBUG:onnx2keras:######\n",
      "DEBUG:onnx2keras:...\n",
      "DEBUG:onnx2keras:Converting ONNX operation\n",
      "DEBUG:onnx2keras:type: Reshape\n",
      "DEBUG:onnx2keras:node_name: 12\n",
      "DEBUG:onnx2keras:node_params: {'change_ordering': False, 'name_policy': None}\n",
      "DEBUG:onnx2keras:...\n",
      "DEBUG:onnx2keras:Check if all inputs are available:\n",
      "DEBUG:onnx2keras:Check input 0 (name test_input).\n",
      "DEBUG:onnx2keras:Check input 1 (name 11).\n",
      "DEBUG:onnx2keras:... found all, continue\n",
      "DEBUG:onnx2keras:reshape:The second argument is numpy array.\n",
      "DEBUG:onnx2keras:reshape:The first argument is Keras/tf layer. Apply keras.Reshape.\n",
      "DEBUG:onnx2keras:reshape:Target shape :\n",
      "DEBUG:onnx2keras:reshape:[32]\n",
      "DEBUG:onnx2keras:Output TF Layer -> Tensor(\"12/Reshape:0\", shape=(?, 32), dtype=float32)\n",
      "DEBUG:onnx2keras:######\n",
      "DEBUG:onnx2keras:...\n",
      "DEBUG:onnx2keras:Converting ONNX operation\n",
      "DEBUG:onnx2keras:type: Gemm\n",
      "DEBUG:onnx2keras:node_name: 13\n",
      "DEBUG:onnx2keras:node_params: {'alpha': 1.0, 'beta': 1.0, 'transB': 1, 'change_ordering': False, 'name_policy': None}\n",
      "DEBUG:onnx2keras:...\n",
      "DEBUG:onnx2keras:Check if all inputs are available:\n",
      "DEBUG:onnx2keras:Check input 0 (name 12).\n",
      "DEBUG:onnx2keras:Check input 1 (name lin.0.weight).\n",
      "DEBUG:onnx2keras:The input not found in layers / model inputs.\n",
      "DEBUG:onnx2keras:Found in weights, add as a numpy constant.\n",
      "DEBUG:onnx2keras:Check input 2 (name lin.0.bias).\n",
      "DEBUG:onnx2keras:The input not found in layers / model inputs.\n",
      "DEBUG:onnx2keras:Found in weights, add as a numpy constant.\n",
      "DEBUG:onnx2keras:... found all, continue\n",
      "DEBUG:onnx2keras:gemm:Convert GEMM with bias.\n",
      "DEBUG:onnx2keras:gemm:Transposing W matrix.\n",
      "DEBUG:onnx2keras:gemm:Input units 32, output units 24.\n"
     ]
    },
    {
     "name": "stdout",
     "output_type": "stream",
     "text": [
      "Done saving to onnx.\n",
      "Loading to Keras...\n",
      "WARNING:tensorflow:From /home/ewilson6/anaconda3/envs/scrambler/lib/python3.7/site-packages/tensorflow/python/ops/resource_variable_ops.py:435: colocate_with (from tensorflow.python.framework.ops) is deprecated and will be removed in a future version.\n",
      "Instructions for updating:\n",
      "Colocations handled automatically by placer.\n"
     ]
    },
    {
     "name": "stderr",
     "output_type": "stream",
     "text": [
      "WARNING:tensorflow:From /home/ewilson6/anaconda3/envs/scrambler/lib/python3.7/site-packages/tensorflow/python/ops/resource_variable_ops.py:435: colocate_with (from tensorflow.python.framework.ops) is deprecated and will be removed in a future version.\n",
      "Instructions for updating:\n",
      "Colocations handled automatically by placer.\n",
      "DEBUG:onnx2keras:Output TF Layer -> Tensor(\"13/BiasAdd:0\", shape=(?, 24), dtype=float32)\n",
      "DEBUG:onnx2keras:######\n",
      "DEBUG:onnx2keras:...\n",
      "DEBUG:onnx2keras:Converting ONNX operation\n",
      "DEBUG:onnx2keras:type: Relu\n",
      "DEBUG:onnx2keras:node_name: 14\n",
      "DEBUG:onnx2keras:node_params: {'change_ordering': False, 'name_policy': None}\n",
      "DEBUG:onnx2keras:...\n",
      "DEBUG:onnx2keras:Check if all inputs are available:\n",
      "DEBUG:onnx2keras:Check input 0 (name 13).\n",
      "DEBUG:onnx2keras:... found all, continue\n",
      "DEBUG:onnx2keras:Output TF Layer -> Tensor(\"14/Relu:0\", shape=(?, 24), dtype=float32)\n",
      "DEBUG:onnx2keras:######\n",
      "DEBUG:onnx2keras:...\n",
      "DEBUG:onnx2keras:Converting ONNX operation\n",
      "DEBUG:onnx2keras:type: Gemm\n",
      "DEBUG:onnx2keras:node_name: 15\n",
      "DEBUG:onnx2keras:node_params: {'alpha': 1.0, 'beta': 1.0, 'transB': 1, 'change_ordering': False, 'name_policy': None}\n",
      "DEBUG:onnx2keras:...\n",
      "DEBUG:onnx2keras:Check if all inputs are available:\n",
      "DEBUG:onnx2keras:Check input 0 (name 14).\n",
      "DEBUG:onnx2keras:Check input 1 (name lin.2.weight).\n",
      "DEBUG:onnx2keras:The input not found in layers / model inputs.\n",
      "DEBUG:onnx2keras:Found in weights, add as a numpy constant.\n",
      "DEBUG:onnx2keras:Check input 2 (name lin.2.bias).\n",
      "DEBUG:onnx2keras:The input not found in layers / model inputs.\n",
      "DEBUG:onnx2keras:Found in weights, add as a numpy constant.\n",
      "DEBUG:onnx2keras:... found all, continue\n",
      "DEBUG:onnx2keras:gemm:Convert GEMM with bias.\n",
      "DEBUG:onnx2keras:gemm:Transposing W matrix.\n",
      "DEBUG:onnx2keras:gemm:Input units 24, output units 1.\n",
      "DEBUG:onnx2keras:Output TF Layer -> Tensor(\"15/BiasAdd:0\", shape=(?, 1), dtype=float32)\n",
      "DEBUG:onnx2keras:######\n",
      "DEBUG:onnx2keras:...\n",
      "DEBUG:onnx2keras:Converting ONNX operation\n",
      "DEBUG:onnx2keras:type: Relu\n",
      "DEBUG:onnx2keras:node_name: test_output\n",
      "DEBUG:onnx2keras:node_params: {'change_ordering': False, 'name_policy': None}\n",
      "DEBUG:onnx2keras:...\n",
      "DEBUG:onnx2keras:Check if all inputs are available:\n",
      "DEBUG:onnx2keras:Check input 0 (name 15).\n",
      "DEBUG:onnx2keras:... found all, continue\n",
      "DEBUG:onnx2keras:Output TF Layer -> Tensor(\"test_output/Relu:0\", shape=(?, 1), dtype=float32)\n"
     ]
    },
    {
     "name": "stdout",
     "output_type": "stream",
     "text": [
      "\n",
      "Confirming Torch and Keras match\n",
      "AAAAAAAA: \n",
      "\tPyTorch:20.406902313232422 \n",
      "\tKeras  :20.406902313232422\n",
      "TTTTTTTT: \n",
      "\tPyTorch:12.535486221313477 \n",
      "\tKeras  :12.535486221313477\n",
      "CCCCCCCC: \n",
      "\tPyTorch:17.153942108154297 \n",
      "\tKeras  :17.15393829345703\n",
      "GGGGGGGG: \n",
      "\tPyTorch:13.873432159423828 \n",
      "\tKeras  :13.873430252075195\n",
      "GGGTATGG: \n",
      "\tPyTorch:22.243972778320312 \n",
      "\tKeras  :22.243968963623047\n",
      "AAGCGAAA: \n",
      "\tPyTorch:7.731834411621094 \n",
      "\tKeras  :7.731834411621094\n",
      "Keras Model saved at mer8motif_model_lin_d.h5\n"
     ]
    }
   ],
   "source": [
    "k_lin_d_model = export2keras(mer8motif_model_lin_d, \"mer8motif_model_lin_d\",seqs)"
   ]
  },
  {
   "cell_type": "code",
   "execution_count": 27,
   "metadata": {
    "scrolled": false
   },
   "outputs": [
    {
     "name": "stderr",
     "output_type": "stream",
     "text": [
      "INFO:onnx2keras:Converter is called.\n",
      "DEBUG:onnx2keras:List input shapes:\n",
      "DEBUG:onnx2keras:None\n",
      "DEBUG:onnx2keras:List inputs:\n",
      "DEBUG:onnx2keras:Input 0 -> test_input.\n",
      "DEBUG:onnx2keras:List outputs:\n",
      "DEBUG:onnx2keras:Output 0 -> test_output.\n",
      "DEBUG:onnx2keras:Gathering weights to dictionary.\n",
      "DEBUG:onnx2keras:Found weight conv_net.0.weight with shape (31, 1, 4, 3).\n",
      "DEBUG:onnx2keras:Found weight conv_net.0.bias with shape (31,).\n",
      "DEBUG:onnx2keras:Found weight conv_net.3.weight with shape (10, 186).\n",
      "DEBUG:onnx2keras:Found weight conv_net.3.bias with shape (10,).\n",
      "DEBUG:onnx2keras:Found weight conv_net.5.weight with shape (1, 10).\n",
      "DEBUG:onnx2keras:Found weight conv_net.5.bias with shape (1,).\n",
      "DEBUG:onnx2keras:Found input test_input with shape [8, 4]\n",
      "DEBUG:onnx2keras:######\n",
      "DEBUG:onnx2keras:...\n",
      "DEBUG:onnx2keras:Converting ONNX operation\n",
      "DEBUG:onnx2keras:type: Transpose\n",
      "DEBUG:onnx2keras:node_name: 7\n",
      "DEBUG:onnx2keras:node_params: {'perm': [0, 2, 1], 'change_ordering': False, 'name_policy': None}\n",
      "DEBUG:onnx2keras:...\n",
      "DEBUG:onnx2keras:Check if all inputs are available:\n",
      "DEBUG:onnx2keras:Check input 0 (name test_input).\n",
      "DEBUG:onnx2keras:... found all, continue\n",
      "DEBUG:onnx2keras:Output TF Layer -> Tensor(\"7/transpose:0\", shape=(?, 4, 8), dtype=float32)\n",
      "DEBUG:onnx2keras:######\n",
      "DEBUG:onnx2keras:...\n",
      "DEBUG:onnx2keras:Converting ONNX operation\n",
      "DEBUG:onnx2keras:type: Unsqueeze\n",
      "DEBUG:onnx2keras:node_name: 8\n",
      "DEBUG:onnx2keras:node_params: {'axes': [1], 'change_ordering': False, 'name_policy': None}\n",
      "DEBUG:onnx2keras:...\n",
      "DEBUG:onnx2keras:Check if all inputs are available:\n",
      "DEBUG:onnx2keras:Check input 0 (name 7).\n",
      "DEBUG:onnx2keras:... found all, continue\n",
      "DEBUG:onnx2keras:Output TF Layer -> Tensor(\"8/ExpandDims:0\", shape=(?, 1, 4, 8), dtype=float32)\n",
      "DEBUG:onnx2keras:######\n",
      "DEBUG:onnx2keras:...\n",
      "DEBUG:onnx2keras:Converting ONNX operation\n",
      "DEBUG:onnx2keras:type: Conv\n",
      "DEBUG:onnx2keras:node_name: 9\n",
      "DEBUG:onnx2keras:node_params: {'dilations': [1, 1], 'group': 1, 'kernel_shape': [4, 3], 'pads': [0, 0, 0, 0], 'strides': [1, 1], 'change_ordering': False, 'name_policy': None}\n",
      "DEBUG:onnx2keras:...\n",
      "DEBUG:onnx2keras:Check if all inputs are available:\n",
      "DEBUG:onnx2keras:Check input 0 (name 8).\n",
      "DEBUG:onnx2keras:Check input 1 (name conv_net.0.weight).\n",
      "DEBUG:onnx2keras:The input not found in layers / model inputs.\n",
      "DEBUG:onnx2keras:Found in weights, add as a numpy constant.\n",
      "DEBUG:onnx2keras:Check input 2 (name conv_net.0.bias).\n",
      "DEBUG:onnx2keras:The input not found in layers / model inputs.\n",
      "DEBUG:onnx2keras:Found in weights, add as a numpy constant.\n",
      "DEBUG:onnx2keras:... found all, continue\n",
      "DEBUG:onnx2keras:conv:Conv with bias\n",
      "DEBUG:onnx2keras:conv:2D convolution\n",
      "DEBUG:onnx2keras:Output TF Layer -> Tensor(\"9/BiasAdd:0\", shape=(?, 31, 1, 6), dtype=float32)\n",
      "DEBUG:onnx2keras:######\n",
      "DEBUG:onnx2keras:...\n",
      "DEBUG:onnx2keras:Converting ONNX operation\n",
      "DEBUG:onnx2keras:type: Relu\n",
      "DEBUG:onnx2keras:node_name: 10\n",
      "DEBUG:onnx2keras:node_params: {'change_ordering': False, 'name_policy': None}\n",
      "DEBUG:onnx2keras:...\n",
      "DEBUG:onnx2keras:Check if all inputs are available:\n",
      "DEBUG:onnx2keras:Check input 0 (name 9).\n",
      "DEBUG:onnx2keras:... found all, continue\n",
      "DEBUG:onnx2keras:Output TF Layer -> Tensor(\"10/Relu:0\", shape=(?, 31, 1, 6), dtype=float32)\n",
      "DEBUG:onnx2keras:######\n",
      "DEBUG:onnx2keras:...\n",
      "DEBUG:onnx2keras:Converting ONNX operation\n",
      "DEBUG:onnx2keras:type: Flatten\n",
      "DEBUG:onnx2keras:node_name: 11\n",
      "DEBUG:onnx2keras:node_params: {'axis': 1, 'change_ordering': False, 'name_policy': None}\n",
      "DEBUG:onnx2keras:...\n",
      "DEBUG:onnx2keras:Check if all inputs are available:\n",
      "DEBUG:onnx2keras:Check input 0 (name 10).\n",
      "DEBUG:onnx2keras:... found all, continue\n",
      "DEBUG:onnx2keras:flatten:Convert inputs to Keras/TF layers if needed.\n",
      "DEBUG:onnx2keras:Output TF Layer -> Tensor(\"11/Reshape:0\", shape=(?, ?), dtype=float32)\n",
      "DEBUG:onnx2keras:######\n",
      "DEBUG:onnx2keras:...\n",
      "DEBUG:onnx2keras:Converting ONNX operation\n",
      "DEBUG:onnx2keras:type: Gemm\n",
      "DEBUG:onnx2keras:node_name: 12\n",
      "DEBUG:onnx2keras:node_params: {'alpha': 1.0, 'beta': 1.0, 'transB': 1, 'change_ordering': False, 'name_policy': None}\n",
      "DEBUG:onnx2keras:...\n",
      "DEBUG:onnx2keras:Check if all inputs are available:\n",
      "DEBUG:onnx2keras:Check input 0 (name 11).\n",
      "DEBUG:onnx2keras:Check input 1 (name conv_net.3.weight).\n",
      "DEBUG:onnx2keras:The input not found in layers / model inputs.\n",
      "DEBUG:onnx2keras:Found in weights, add as a numpy constant.\n",
      "DEBUG:onnx2keras:Check input 2 (name conv_net.3.bias).\n",
      "DEBUG:onnx2keras:The input not found in layers / model inputs.\n",
      "DEBUG:onnx2keras:Found in weights, add as a numpy constant.\n",
      "DEBUG:onnx2keras:... found all, continue\n",
      "DEBUG:onnx2keras:gemm:Convert GEMM with bias.\n",
      "DEBUG:onnx2keras:gemm:Transposing W matrix.\n",
      "DEBUG:onnx2keras:gemm:Input units 186, output units 10.\n"
     ]
    },
    {
     "name": "stdout",
     "output_type": "stream",
     "text": [
      "Done saving to onnx.\n",
      "Loading to Keras...\n"
     ]
    },
    {
     "name": "stderr",
     "output_type": "stream",
     "text": [
      "DEBUG:onnx2keras:Output TF Layer -> Tensor(\"12_2/BiasAdd:0\", shape=(?, 10), dtype=float32)\n",
      "DEBUG:onnx2keras:######\n",
      "DEBUG:onnx2keras:...\n",
      "DEBUG:onnx2keras:Converting ONNX operation\n",
      "DEBUG:onnx2keras:type: Relu\n",
      "DEBUG:onnx2keras:node_name: 13\n",
      "DEBUG:onnx2keras:node_params: {'change_ordering': False, 'name_policy': None}\n",
      "DEBUG:onnx2keras:...\n",
      "DEBUG:onnx2keras:Check if all inputs are available:\n",
      "DEBUG:onnx2keras:Check input 0 (name 12).\n",
      "DEBUG:onnx2keras:... found all, continue\n",
      "DEBUG:onnx2keras:Output TF Layer -> Tensor(\"13_1/Relu:0\", shape=(?, 10), dtype=float32)\n",
      "DEBUG:onnx2keras:######\n",
      "DEBUG:onnx2keras:...\n",
      "DEBUG:onnx2keras:Converting ONNX operation\n",
      "DEBUG:onnx2keras:type: Gemm\n",
      "DEBUG:onnx2keras:node_name: test_output\n",
      "DEBUG:onnx2keras:node_params: {'alpha': 1.0, 'beta': 1.0, 'transB': 1, 'change_ordering': False, 'name_policy': None}\n",
      "DEBUG:onnx2keras:...\n",
      "DEBUG:onnx2keras:Check if all inputs are available:\n",
      "DEBUG:onnx2keras:Check input 0 (name 13).\n",
      "DEBUG:onnx2keras:Check input 1 (name conv_net.5.weight).\n",
      "DEBUG:onnx2keras:The input not found in layers / model inputs.\n",
      "DEBUG:onnx2keras:Found in weights, add as a numpy constant.\n",
      "DEBUG:onnx2keras:Check input 2 (name conv_net.5.bias).\n",
      "DEBUG:onnx2keras:The input not found in layers / model inputs.\n",
      "DEBUG:onnx2keras:Found in weights, add as a numpy constant.\n",
      "DEBUG:onnx2keras:... found all, continue\n",
      "DEBUG:onnx2keras:gemm:Convert GEMM with bias.\n",
      "DEBUG:onnx2keras:gemm:Transposing W matrix.\n",
      "DEBUG:onnx2keras:gemm:Input units 10, output units 1.\n",
      "DEBUG:onnx2keras:Output TF Layer -> Tensor(\"test_output_1/BiasAdd:0\", shape=(?, 1), dtype=float32)\n"
     ]
    },
    {
     "name": "stdout",
     "output_type": "stream",
     "text": [
      "\n",
      "Confirming Torch and Keras match\n",
      "AAAAAAAA: \n",
      "\tPyTorch:20.049259185791016 \n",
      "\tKeras  :20.049257278442383\n",
      "TTTTTTTT: \n",
      "\tPyTorch:11.053607940673828 \n",
      "\tKeras  :11.053607940673828\n",
      "CCCCCCCC: \n",
      "\tPyTorch:17.018943786621094 \n",
      "\tKeras  :17.018943786621094\n",
      "GGGGGGGG: \n",
      "\tPyTorch:14.023262977600098 \n",
      "\tKeras  :14.023262977600098\n",
      "GGGTATGG: \n",
      "\tPyTorch:24.014760971069336 \n",
      "\tKeras  :24.014759063720703\n",
      "AAGCGAAA: \n",
      "\tPyTorch:8.15086841583252 \n",
      "\tKeras  :8.15086841583252\n",
      "Keras Model saved at mer8motif_model_cnn.h5\n"
     ]
    }
   ],
   "source": [
    "k_cnn_model = export2keras(mer8motif_model_cnn, \"mer8motif_model_cnn\",seqs)"
   ]
  },
  {
   "cell_type": "markdown",
   "metadata": {},
   "source": [
    "The models seems to be predicting the same out to ~5 decimals between PyTorch and Keras!"
   ]
  },
  {
   "cell_type": "markdown",
   "metadata": {},
   "source": [
    "# Test Keras model in Scramblers\n",
    "Using notebook template from optimus prime example"
   ]
  },
  {
   "cell_type": "code",
   "execution_count": 28,
   "metadata": {},
   "outputs": [],
   "source": [
    "import keras\n",
    "from keras.models import Sequential, Model, load_model\n",
    "\n",
    "import os\n",
    "import pickle\n",
    "import numpy as np\n",
    "import pandas as pd\n",
    "\n",
    "import scipy.sparse as sp\n",
    "import scipy.io as spio\n",
    "\n",
    "import matplotlib.pyplot as plt\n",
    "\n",
    "from scrambler.models import *\n",
    "from scrambler.utils import OneHotEncoder, get_sequence_masks\n",
    "from scrambler.visualizations import plot_dna_logo, plot_dna_importance_scores\n",
    "\n",
    "#from optimus5_utils import load_optimus5_data, load_optimus5_predictor, animate_optimus5_examples\n",
    "\n",
    "import utils as u\n",
    "SEQ_LEN=8"
   ]
  },
  {
   "cell_type": "code",
   "execution_count": 29,
   "metadata": {},
   "outputs": [
    {
     "name": "stdout",
     "output_type": "stream",
     "text": [
      "(52416, 1, 8, 4)\n",
      "(52416, 1)\n",
      "(13088, 1, 8, 4)\n",
      "(13088, 1)\n"
     ]
    }
   ],
   "source": [
    "# use same train/test sets as above\n",
    "encoder = OneHotEncoder(seq_length=SEQ_LEN, channel_map={'A' : 0, 'C' : 1, 'G' : 2, 'T' : 3})\n",
    "\n",
    "x_train = np.array([encoder(seq[0]).reshape(1, SEQ_LEN, 4) for seq in mer8motif_train_df[['seq']].values])\n",
    "x_test = np.array([encoder(seq[0]).reshape(1, SEQ_LEN, 4) for seq in mer8motif_test_df[['seq']].values])\n",
    "\n",
    "y_train = mer8motif_train_df[['score']].values\n",
    "y_test = mer8motif_test_df[['score']].values\n",
    "\n",
    "\n",
    "# Apparently keras can't deal with training sets that are not \n",
    "# an exact multiple of the batch size... sooo... trim some?\n",
    "train_trim = 12\n",
    "test_trim = 20\n",
    "\n",
    "x_train = x_train[:-train_trim]\n",
    "x_test = x_test[:-test_trim]\n",
    "y_train = y_train[:-train_trim]\n",
    "y_test = y_test[:-test_trim]\n",
    "\n",
    "print(x_train.shape)\n",
    "print(y_train.shape)\n",
    "print(x_test.shape)\n",
    "print(y_test.shape)"
   ]
  },
  {
   "cell_type": "code",
   "execution_count": 30,
   "metadata": {},
   "outputs": [
    {
     "name": "stdout",
     "output_type": "stream",
     "text": [
      "$$$$$$$$\n",
      "[[[0. 0. 0. 0.]\n",
      "  [0. 0. 0. 0.]\n",
      "  [0. 0. 0. 0.]\n",
      "  [0. 0. 0. 0.]\n",
      "  [0. 0. 0. 0.]\n",
      "  [0. 0. 0. 0.]\n",
      "  [0. 0. 0. 0.]\n",
      "  [0. 0. 0. 0.]]]\n",
      "[1 1 1 1 1 1 1 1]\n",
      "[[0.24929416 0.25099199 0.24954216 0.25017169]\n",
      " [0.24925601 0.25061045 0.25116368 0.24896986]\n",
      " [0.24906524 0.24925601 0.24961847 0.25206028]\n",
      " [0.24996185 0.25011446 0.24923693 0.25068676]\n",
      " [0.24887448 0.2503243  0.25053415 0.25026707]\n",
      " [0.25141167 0.24965662 0.24866463 0.25026707]\n",
      " [0.25087753 0.24807325 0.25198398 0.24906524]\n",
      " [0.24977108 0.25076307 0.24998092 0.24948493]]\n",
      "(8, 4)\n"
     ]
    }
   ],
   "source": [
    "#Define sequence template and background\n",
    "\n",
    "#sequence_template = '$' * 50\n",
    "sequence_template = '$' * SEQ_LEN\n",
    "\n",
    "pseudo_count = 1.0\n",
    "\n",
    "onehot_template = encoder(sequence_template)[None, ...]\n",
    "sequence_mask = get_sequence_masks([sequence_template])[0]\n",
    "\n",
    "# This is the background? So it's a mean by position... I'll probs change this...\n",
    "x_mean = (np.sum(x_train, axis=(0, 1)) + pseudo_count) / (x_train.shape[0] + 4. * pseudo_count)\n",
    "\n",
    "print(sequence_template)\n",
    "print(onehot_template)\n",
    "print(sequence_mask)\n",
    "print(x_mean)\n",
    "print(x_mean.shape)"
   ]
  },
  {
   "cell_type": "code",
   "execution_count": 32,
   "metadata": {},
   "outputs": [
    {
     "data": {
      "image/png": "[encoded data removed]",
      "text/plain": [
       "<Figure size 360x72 with 1 Axes>"
      ]
     },
     "metadata": {},
     "output_type": "display_data"
    },
    {
     "name": "stdout",
     "output_type": "stream",
     "text": [
      "Mean KL Div against background (bits) = 1.9999891911093224\n"
     ]
    },
    {
     "data": {
      "image/png": "[encoded data removed]",
      "text/plain": [
       "<Figure size 360x72 with 1 Axes>"
      ]
     },
     "metadata": {},
     "output_type": "display_data"
    }
   ],
   "source": [
    "#Visualize background sequence distribution\n",
    "plot_dna_logo(\n",
    "    np.copy(x_mean), \n",
    "    sequence_template=sequence_template, \n",
    "    figsize=(5, 1), logo_height=1.0, \n",
    "    plot_start=0, plot_end=SEQ_LEN)\n",
    "\n",
    "\n",
    "#Calculate mean training set kl-divergence against background\n",
    "# resets one hot to almost 0 and almost 1... why?\n",
    "#x_train_clipped = np.clip(np.copy(x_train[:, 0, :, :]), 1e-8, 1. - 1e-8)\n",
    "x_train_clipped = np.clip(np.copy(x_train[:, 0, :, :]), 1e-8, 1. - 1e-8)\n",
    "\n",
    "# (train size, 50)\n",
    "kl_divs = np.sum(x_train_clipped * \\\n",
    "                 np.log(x_train_clipped / np.tile(np.expand_dims(x_mean, axis=0), \n",
    "                                                  (x_train_clipped.shape[0], 1, 1))), axis=-1)\\\n",
    "            / np.log(2.0)\n",
    "\n",
    "# train size\n",
    "x_mean_kl_divs = np.sum(kl_divs * sequence_mask, axis=-1) / np.sum(sequence_mask)\n",
    "# 1\n",
    "x_mean_kl_div = np.mean(x_mean_kl_divs)\n",
    "\n",
    "print(\"Mean KL Div against background (bits) = \" + str(x_mean_kl_div))\n",
    "\n",
    "\n",
    "# Plot test array just so I can see some letters show up\n",
    "test = np.array([[.6, .2, .2, .0],\n",
    "                 [.2, .6, .2, .0],\n",
    "                 [.0, .2, .2, .6],\n",
    "                 [.3, .2, .2, .3],\n",
    "                 [.8, .2, .0, .0],\n",
    "                 [.0, .2, .2, .8],\n",
    "                 [.4, .4, .2, .0],\n",
    "                 [.6, .4, .0, .0],\n",
    "                ])\n",
    "plot_dna_logo(\n",
    "    np.copy(test), \n",
    "    sequence_template=sequence_template, \n",
    "    figsize=(5, 1), logo_height=1.0, \n",
    "    plot_start=0, plot_end=SEQ_LEN)"
   ]
  },
  {
   "cell_type": "markdown",
   "metadata": {},
   "source": [
    "## Scramblin' Time\n",
    "I changed some of the settings to try to make the smallest scrambler network as possible because the sequences are so small!"
   ]
  },
  {
   "cell_type": "code",
   "execution_count": 42,
   "metadata": {},
   "outputs": [],
   "source": [
    "#Plot training statistics\n",
    "def plot_training_stats(train_history):\n",
    "    f, (ax1, ax2) = plt.subplots(1, 2, figsize=(2 * 4, 3))\n",
    "\n",
    "    n_epochs_actual = len(train_history['nll_loss'])\n",
    "\n",
    "    ax1.plot(np.arange(1, n_epochs_actual + 1), train_history['nll_loss'], linewidth=3, color='green',label='nll_loss')\n",
    "    ax1.plot(np.arange(1, n_epochs_actual + 1), train_history['val_nll_loss'], linewidth=3, color='orange',label='vall_nll_loss')\n",
    "\n",
    "    plt.sca(ax1)\n",
    "    plt.xlabel(\"Epochs\", fontsize=14)\n",
    "    plt.ylabel(\"NLL\", fontsize=14)\n",
    "    plt.xlim(1, n_epochs_actual)\n",
    "    plt.xticks([1, n_epochs_actual], [1, n_epochs_actual], fontsize=12)\n",
    "    plt.yticks(fontsize=12)\n",
    "    plt.legend()\n",
    "\n",
    "    ax2.plot(np.arange(1, n_epochs_actual + 1), train_history['entropy_loss'], linewidth=3, color='green',label='entropy_loss')\n",
    "    ax2.plot(np.arange(1, n_epochs_actual + 1), train_history['val_entropy_loss'], linewidth=3, color='orange',label='val_entropy_loss')\n",
    "\n",
    "    plt.sca(ax2)\n",
    "    plt.xlabel(\"Epochs\", fontsize=14)\n",
    "    plt.ylabel(\"Entropy Loss\", fontsize=14)\n",
    "    plt.xlim(1, n_epochs_actual)\n",
    "    plt.xticks([1, n_epochs_actual], [1, n_epochs_actual], fontsize=12)\n",
    "    plt.yticks(fontsize=12)\n",
    "    plt.legend()\n",
    "\n",
    "    plt.tight_layout()\n",
    "\n",
    "    plt.show()\n",
    "\n",
    "def build_scrambler():\n",
    "    #Scrambler network configuration\n",
    "    network_config = {\n",
    "        'n_groups' : 1,\n",
    "        'n_resblocks_per_group' : 1, # resblock has 2 conv layers\n",
    "        'n_channels' : 32, # num filters\n",
    "        'window_size' : 3, # kernel size\n",
    "        'dilation_rates' : [1],\n",
    "        'drop_rate' : 0.0,\n",
    "        'norm_mode' : 'instance', # some sort of normalization\n",
    "        'mask_smoothing' : False, # \"smooth\" not referenced in paper or github instructions\n",
    "        'mask_smoothing_window_size' : 5,\n",
    "        'mask_smoothing_std' : 1.,\n",
    "        'mask_drop_scales' : [1, 5],\n",
    "        'mask_min_drop_rate' : 0.0,\n",
    "        'mask_max_drop_rate' : 0.5,\n",
    "        'label_input' : False\n",
    "    }\n",
    "\n",
    "    #Initialize scrambler\n",
    "    scrambler = Scrambler(\n",
    "        scrambler_mode='inclusion',\n",
    "        input_size_x=1,\n",
    "        input_size_y=SEQ_LEN,\n",
    "        n_out_channels=4,\n",
    "        input_templates=[onehot_template],\n",
    "        input_backgrounds=[x_mean],\n",
    "        batch_size=32,\n",
    "        n_samples=32,\n",
    "        sample_mode='gumbel',\n",
    "        zeropad_input=False,\n",
    "        mask_dropout=False,\n",
    "        network_config=network_config\n",
    "    )\n",
    "    \n",
    "    return scrambler\n",
    "\n",
    "def train_scrambler_on_model(model, n_epochs=10):\n",
    "    # init scrambler object\n",
    "    scr = build_scrambler()\n",
    "    \n",
    "    # train scrambler on model\n",
    "    train_history = scr.train(\n",
    "        model,\n",
    "        x_train,\n",
    "        y_train,\n",
    "        x_test,\n",
    "        y_test,\n",
    "        n_epochs,\n",
    "        monitor_test_indices=np.arange(32).tolist(),\n",
    "        monitor_batch_freq_dict={0 : 1, 100 : 5, 469 : 10},\n",
    "        nll_mode='reconstruction',\n",
    "        predictor_task='regression',\n",
    "        entropy_mode='target',\n",
    "        entropy_bits=0.125,\n",
    "        entropy_weight=10.\n",
    "    )\n",
    "    \n",
    "    # plot \n",
    "    plot_training_stats(train_history)\n",
    "    \n",
    "    return scr, train_history\n",
    "\n",
    "def save_scrambler(scrambler, train_history, model_name,save_dir=\"saved_models\"):\n",
    "    #Save scrambler checkpoint\n",
    "\n",
    "    #model_name = 'optimus5_inclusion_scrambler_bits_0125_epochs_10'\n",
    "    #model_name = 'mer8motif_model_lin_d_inclusion_scrambler_bits_0125_epochs_10'\n",
    "\n",
    "    if not os.path.isdir(save_dir):\n",
    "        os.makedirs(save_dir)\n",
    "\n",
    "    model_path = os.path.join(save_dir, model_name + '.h5')\n",
    "\n",
    "    scrambler.save_model(model_path)\n",
    "\n",
    "    pickle.dump({'train_history' : train_history}, open(save_dir + '/' + model_name + '_train_history.pickle', 'wb'))\n",
    "\n"
   ]
  },
  {
   "cell_type": "code",
   "execution_count": 43,
   "metadata": {},
   "outputs": [
    {
     "name": "stdout",
     "output_type": "stream",
     "text": [
      "SCRAMBLER INITIATED!!\n",
      "IN SCRAMBLER TRAIN!\n"
     ]
    },
    {
     "ename": "ValueError",
     "evalue": "('Could not interpret optimizer identifier:', <keras.optimizers.SGD object at 0x7fc9089cd190>)",
     "output_type": "error",
     "traceback": [
      "\u001b[0;31m---------------------------------------------------------------------------\u001b[0m",
      "\u001b[0;31mValueError\u001b[0m                                Traceback (most recent call last)",
      "\u001b[0;32m<ipython-input-43-13c07041ac8a>\u001b[0m in \u001b[0;36m<module>\u001b[0;34m\u001b[0m\n\u001b[0;32m----> 1\u001b[0;31m \u001b[0mlin_d_scr\u001b[0m\u001b[0;34m,\u001b[0m \u001b[0mlin_d_scr_train_hist\u001b[0m \u001b[0;34m=\u001b[0m \u001b[0mtrain_scrambler_on_model\u001b[0m\u001b[0;34m(\u001b[0m\u001b[0mk_lin_d_model\u001b[0m\u001b[0;34m)\u001b[0m\u001b[0;34m\u001b[0m\u001b[0;34m\u001b[0m\u001b[0m\n\u001b[0m\u001b[1;32m      2\u001b[0m \u001b[0mmodel_name\u001b[0m \u001b[0;34m=\u001b[0m \u001b[0;34m'mer8motif_model_lin_d_inclusion_scrambler_bits_0125_epochs_10'\u001b[0m\u001b[0;34m\u001b[0m\u001b[0;34m\u001b[0m\u001b[0m\n\u001b[1;32m      3\u001b[0m \u001b[0msave_scrambler\u001b[0m\u001b[0;34m(\u001b[0m\u001b[0mlin_d_scr\u001b[0m\u001b[0;34m,\u001b[0m \u001b[0mlin_d_scr_train_hist\u001b[0m\u001b[0;34m,\u001b[0m \u001b[0mmodel_name\u001b[0m\u001b[0;34m)\u001b[0m\u001b[0;34m\u001b[0m\u001b[0;34m\u001b[0m\u001b[0m\n",
      "\u001b[0;32m<ipython-input-42-2604b0adad97>\u001b[0m in \u001b[0;36mtrain_scrambler_on_model\u001b[0;34m(model, n_epochs)\u001b[0m\n\u001b[1;32m     86\u001b[0m         \u001b[0mentropy_mode\u001b[0m\u001b[0;34m=\u001b[0m\u001b[0;34m'target'\u001b[0m\u001b[0;34m,\u001b[0m\u001b[0;34m\u001b[0m\u001b[0;34m\u001b[0m\u001b[0m\n\u001b[1;32m     87\u001b[0m         \u001b[0mentropy_bits\u001b[0m\u001b[0;34m=\u001b[0m\u001b[0;36m0.125\u001b[0m\u001b[0;34m,\u001b[0m\u001b[0;34m\u001b[0m\u001b[0;34m\u001b[0m\u001b[0m\n\u001b[0;32m---> 88\u001b[0;31m         \u001b[0mentropy_weight\u001b[0m\u001b[0;34m=\u001b[0m\u001b[0;36m10.\u001b[0m\u001b[0;34m\u001b[0m\u001b[0;34m\u001b[0m\u001b[0m\n\u001b[0m\u001b[1;32m     89\u001b[0m     )\n\u001b[1;32m     90\u001b[0m \u001b[0;34m\u001b[0m\u001b[0m\n",
      "\u001b[0;32m~/anaconda3/envs/scrambler/lib/python3.7/site-packages/scrambler-0.1-py3.7.egg/scrambler/models/scrambler_models.py\u001b[0m in \u001b[0;36mtrain\u001b[0;34m(self, predictor, x_train, y_train, x_test, y_test, n_epochs, group_train, group_test, monitor_test_indices, monitor_batch_freq_dict, adam_lr, adam_beta_1, adam_beta_2, nll_mode, predictor_task, reference, entropy_mode, entropy_bits, entropy_weight)\u001b[0m\n\u001b[1;32m   1075\u001b[0m         \u001b[0;31m#Freeze predictor\u001b[0m\u001b[0;34m\u001b[0m\u001b[0;34m\u001b[0m\u001b[0;34m\u001b[0m\u001b[0m\n\u001b[1;32m   1076\u001b[0m         \u001b[0mpredictor\u001b[0m\u001b[0;34m.\u001b[0m\u001b[0mtrainable\u001b[0m \u001b[0;34m=\u001b[0m \u001b[0;32mFalse\u001b[0m\u001b[0;34m\u001b[0m\u001b[0;34m\u001b[0m\u001b[0m\n\u001b[0;32m-> 1077\u001b[0;31m         \u001b[0mpredictor\u001b[0m\u001b[0;34m.\u001b[0m\u001b[0mcompile\u001b[0m\u001b[0;34m(\u001b[0m\u001b[0moptimizer\u001b[0m\u001b[0;34m=\u001b[0m\u001b[0mkeras\u001b[0m\u001b[0;34m.\u001b[0m\u001b[0moptimizers\u001b[0m\u001b[0;34m.\u001b[0m\u001b[0mSGD\u001b[0m\u001b[0;34m(\u001b[0m\u001b[0mlr\u001b[0m\u001b[0;34m=\u001b[0m\u001b[0;36m0.1\u001b[0m\u001b[0;34m)\u001b[0m\u001b[0;34m,\u001b[0m \u001b[0mloss\u001b[0m\u001b[0;34m=\u001b[0m\u001b[0;34m'mean_squared_error'\u001b[0m\u001b[0;34m)\u001b[0m\u001b[0;34m\u001b[0m\u001b[0;34m\u001b[0m\u001b[0m\n\u001b[0m\u001b[1;32m   1078\u001b[0m \u001b[0;34m\u001b[0m\u001b[0m\n\u001b[1;32m   1079\u001b[0m         \u001b[0mprint\u001b[0m\u001b[0;34m(\u001b[0m\u001b[0;34m\"predictor is compiled??\"\u001b[0m\u001b[0;34m)\u001b[0m\u001b[0;34m\u001b[0m\u001b[0;34m\u001b[0m\u001b[0m\n",
      "\u001b[0;32m~/anaconda3/envs/scrambler/lib/python3.7/site-packages/tensorflow/python/training/checkpointable/base.py\u001b[0m in \u001b[0;36m_method_wrapper\u001b[0;34m(self, *args, **kwargs)\u001b[0m\n\u001b[1;32m    440\u001b[0m     \u001b[0mself\u001b[0m\u001b[0;34m.\u001b[0m\u001b[0m_setattr_tracking\u001b[0m \u001b[0;34m=\u001b[0m \u001b[0;32mFalse\u001b[0m  \u001b[0;31m# pylint: disable=protected-access\u001b[0m\u001b[0;34m\u001b[0m\u001b[0;34m\u001b[0m\u001b[0m\n\u001b[1;32m    441\u001b[0m     \u001b[0;32mtry\u001b[0m\u001b[0;34m:\u001b[0m\u001b[0;34m\u001b[0m\u001b[0;34m\u001b[0m\u001b[0m\n\u001b[0;32m--> 442\u001b[0;31m       \u001b[0mmethod\u001b[0m\u001b[0;34m(\u001b[0m\u001b[0mself\u001b[0m\u001b[0;34m,\u001b[0m \u001b[0;34m*\u001b[0m\u001b[0margs\u001b[0m\u001b[0;34m,\u001b[0m \u001b[0;34m**\u001b[0m\u001b[0mkwargs\u001b[0m\u001b[0;34m)\u001b[0m\u001b[0;34m\u001b[0m\u001b[0;34m\u001b[0m\u001b[0m\n\u001b[0m\u001b[1;32m    443\u001b[0m     \u001b[0;32mfinally\u001b[0m\u001b[0;34m:\u001b[0m\u001b[0;34m\u001b[0m\u001b[0;34m\u001b[0m\u001b[0m\n\u001b[1;32m    444\u001b[0m       \u001b[0mself\u001b[0m\u001b[0;34m.\u001b[0m\u001b[0m_setattr_tracking\u001b[0m \u001b[0;34m=\u001b[0m \u001b[0mprevious_value\u001b[0m  \u001b[0;31m# pylint: disable=protected-access\u001b[0m\u001b[0;34m\u001b[0m\u001b[0;34m\u001b[0m\u001b[0m\n",
      "\u001b[0;32m~/anaconda3/envs/scrambler/lib/python3.7/site-packages/tensorflow/python/keras/engine/training.py\u001b[0m in \u001b[0;36mcompile\u001b[0;34m(self, optimizer, loss, metrics, loss_weights, sample_weight_mode, weighted_metrics, target_tensors, distribute, **kwargs)\u001b[0m\n\u001b[1;32m    192\u001b[0m     \u001b[0mrun_eagerly\u001b[0m \u001b[0;34m=\u001b[0m \u001b[0mkwargs\u001b[0m\u001b[0;34m.\u001b[0m\u001b[0mpop\u001b[0m\u001b[0;34m(\u001b[0m\u001b[0;34m'run_eagerly'\u001b[0m\u001b[0;34m,\u001b[0m \u001b[0;32mNone\u001b[0m\u001b[0;34m)\u001b[0m\u001b[0;34m\u001b[0m\u001b[0;34m\u001b[0m\u001b[0m\n\u001b[1;32m    193\u001b[0m     \u001b[0mself\u001b[0m\u001b[0;34m.\u001b[0m\u001b[0m_run_eagerly\u001b[0m \u001b[0;34m=\u001b[0m \u001b[0mrun_eagerly\u001b[0m\u001b[0;34m\u001b[0m\u001b[0;34m\u001b[0m\u001b[0m\n\u001b[0;32m--> 194\u001b[0;31m     \u001b[0moptimizer\u001b[0m \u001b[0;34m=\u001b[0m \u001b[0moptimizers\u001b[0m\u001b[0;34m.\u001b[0m\u001b[0mget\u001b[0m\u001b[0;34m(\u001b[0m\u001b[0moptimizer\u001b[0m\u001b[0;34m)\u001b[0m\u001b[0;34m\u001b[0m\u001b[0;34m\u001b[0m\u001b[0m\n\u001b[0m\u001b[1;32m    195\u001b[0m \u001b[0;34m\u001b[0m\u001b[0m\n\u001b[1;32m    196\u001b[0m     \u001b[0;31m# Validate that arguments passed by the user to `compile` are supported by\u001b[0m\u001b[0;34m\u001b[0m\u001b[0;34m\u001b[0m\u001b[0;34m\u001b[0m\u001b[0m\n",
      "\u001b[0;32m~/anaconda3/envs/scrambler/lib/python3.7/site-packages/tensorflow/python/keras/optimizers.py\u001b[0m in \u001b[0;36mget\u001b[0;34m(identifier)\u001b[0m\n\u001b[1;32m    870\u001b[0m     \u001b[0;32mreturn\u001b[0m \u001b[0mdeserialize\u001b[0m\u001b[0;34m(\u001b[0m\u001b[0mconfig\u001b[0m\u001b[0;34m)\u001b[0m\u001b[0;34m\u001b[0m\u001b[0;34m\u001b[0m\u001b[0m\n\u001b[1;32m    871\u001b[0m   \u001b[0;32melse\u001b[0m\u001b[0;34m:\u001b[0m\u001b[0;34m\u001b[0m\u001b[0;34m\u001b[0m\u001b[0m\n\u001b[0;32m--> 872\u001b[0;31m     \u001b[0;32mraise\u001b[0m \u001b[0mValueError\u001b[0m\u001b[0;34m(\u001b[0m\u001b[0;34m'Could not interpret optimizer identifier:'\u001b[0m\u001b[0;34m,\u001b[0m \u001b[0midentifier\u001b[0m\u001b[0;34m)\u001b[0m\u001b[0;34m\u001b[0m\u001b[0;34m\u001b[0m\u001b[0m\n\u001b[0m",
      "\u001b[0;31mValueError\u001b[0m: ('Could not interpret optimizer identifier:', <keras.optimizers.SGD object at 0x7fc9089cd190>)"
     ]
    }
   ],
   "source": [
    "lin_d_scr, lin_d_scr_train_hist = train_scrambler_on_model(k_lin_d_model)\n",
    "model_name = 'mer8motif_model_lin_d_inclusion_scrambler_bits_0125_epochs_10'\n",
    "save_scrambler(lin_d_scr, lin_d_scr_train_hist, model_name)"
   ]
  },
  {
   "cell_type": "markdown",
   "metadata": {},
   "source": [
    "# Error! \n",
    "I think this has to do with ONNX using tf.keras and Scramblers using regular keras."
   ]
  },
  {
   "cell_type": "code",
   "execution_count": 44,
   "metadata": {},
   "outputs": [
    {
     "data": {
      "text/plain": [
       "<tensorflow.python.keras.engine.training.Model at 0x7fccbae0a290>"
      ]
     },
     "execution_count": 44,
     "metadata": {},
     "output_type": "execute_result"
    }
   ],
   "source": [
    "k_lin_d_model"
   ]
  },
  {
   "cell_type": "code",
   "execution_count": 45,
   "metadata": {},
   "outputs": [
    {
     "data": {
      "text/plain": [
       "<tensorflow.python.keras.engine.training.Model at 0x7fcc9148dd50>"
      ]
     },
     "execution_count": 45,
     "metadata": {},
     "output_type": "execute_result"
    }
   ],
   "source": [
    "k_cnn_model"
   ]
  },
  {
   "cell_type": "markdown",
   "metadata": {},
   "source": [
    "# try to Save as h5 and reload in keras (remove tensorflow)"
   ]
  },
  {
   "cell_type": "markdown",
   "metadata": {},
   "source": [
    "Optimus model loaded in Scrambler example is `keras.engine.training.Model`"
   ]
  },
  {
   "cell_type": "code",
   "execution_count": 46,
   "metadata": {},
   "outputs": [
    {
     "data": {
      "text/plain": [
       "<keras.engine.training.Model at 0x7fc8fd5e8d50>"
      ]
     },
     "execution_count": 46,
     "metadata": {},
     "output_type": "execute_result"
    }
   ],
   "source": [
    "# conf = k_lin_d_model.get_config()\n",
    "# k_lin_no_tf = keras.models.Model.from_config(conf)\n",
    "# k_lin_no_tf # try saving then reloading\n",
    "# ^^ Ran in scrambler but must not have had weights? Scrambler didn't learn anything..."
   ]
  },
  {
   "cell_type": "code",
   "execution_count": 56,
   "metadata": {},
   "outputs": [
    {
     "name": "stderr",
     "output_type": "stream",
     "text": [
      "/home/ewilson6/anaconda3/envs/scrambler/lib/python3.7/site-packages/keras/engine/saving.py:292: UserWarning: No training configuration found in save file: the model was *not* compiled. Compile it manually.\n",
      "  warnings.warn('No training configuration found in save file: '\n"
     ]
    },
    {
     "data": {
      "text/plain": [
       "<keras.engine.training.Model at 0x7fc8f6c3e4d0>"
      ]
     },
     "execution_count": 56,
     "metadata": {},
     "output_type": "execute_result"
    }
   ],
   "source": [
    "k_lin_d_model.save(\"k_lin_d.h5\")\n",
    "k_lin_no_tf = keras.models.load_model(\"k_lin_d.h5\")\n",
    "k_lin_no_tf"
   ]
  },
  {
   "cell_type": "code",
   "execution_count": 57,
   "metadata": {},
   "outputs": [
    {
     "name": "stdout",
     "output_type": "stream",
     "text": [
      "SCRAMBLER INITIATED!!\n",
      "IN SCRAMBLER TRAIN!\n",
      "predictor is compiled??\n",
      "<keras.engine.training.Model object at 0x7fc8f6c3e4d0>\n",
      "Scrambler has created inputs...\n",
      "Starting to build lambda stuff?\n",
      "About to predict stuff...\n",
      "Inflating?\n",
      "Calculating NLL / error?\n",
      "Calculated NLL?: Tensor(\"nll_4/mul:0\", shape=(32,), dtype=float32)\n",
      "Made Loss Model\n",
      "Compiled loss model: <keras.engine.training.Model object at 0x7fc8e378d890>\n",
      "label train and test? [] []\n",
      "APPENDING to callbacks\n",
      "Fitting loss model...\n",
      "\tgroup train 1 (52416, 1)\n",
      "\tx train 1 (52416, 1, 8, 4)\n",
      "\tdrop train 0 []\n",
      "\tlabel train 0 []\n",
      "\n",
      "n epochs: 10\n",
      "batch size: 32\n",
      "callbacks: [<scrambler.models.scrambler_models.ScramblerMonitor object at 0x7fc8e36a7dd0>]\n",
      "Train on 52416 samples, validate on 13088 samples\n",
      "Epoch 1/10\n",
      "52416/52416 [==============================] - 57s 1ms/step - loss: 20.6728 - nll_loss: 6.5726 - entropy_loss: 14.1002 - val_loss: 15.8754 - val_nll_loss: 4.4676 - val_entropy_loss: 11.4079\n",
      "Epoch 2/10\n",
      "52416/52416 [==============================] - 39s 740us/step - loss: 14.9313 - nll_loss: 4.1243 - entropy_loss: 10.8069 - val_loss: 14.3460 - val_nll_loss: 3.8348 - val_entropy_loss: 10.5112\n",
      "Epoch 3/10\n",
      "52416/52416 [==============================] - 38s 724us/step - loss: 14.0774 - nll_loss: 3.7081 - entropy_loss: 10.3693 - val_loss: 13.8931 - val_nll_loss: 3.8359 - val_entropy_loss: 10.0572\n",
      "Epoch 4/10\n",
      "52416/52416 [==============================] - 51s 980us/step - loss: 13.7789 - nll_loss: 3.5777 - entropy_loss: 10.2011 - val_loss: 13.6809 - val_nll_loss: 3.5491 - val_entropy_loss: 10.1318\n",
      "Epoch 5/10\n",
      "52416/52416 [==============================] - 42s 805us/step - loss: 13.6492 - nll_loss: 3.4985 - entropy_loss: 10.1507 - val_loss: 13.5695 - val_nll_loss: 3.3112 - val_entropy_loss: 10.2583\n",
      "Epoch 6/10\n",
      "52416/52416 [==============================] - 52s 988us/step - loss: 13.5567 - nll_loss: 3.4513 - entropy_loss: 10.1053 - val_loss: 13.5365 - val_nll_loss: 3.3382 - val_entropy_loss: 10.1984\n",
      "Epoch 7/10\n",
      "52416/52416 [==============================] - 44s 838us/step - loss: 13.5134 - nll_loss: 3.4036 - entropy_loss: 10.1098 - val_loss: 13.4501 - val_nll_loss: 3.4469 - val_entropy_loss: 10.0033\n",
      "Epoch 8/10\n",
      "52416/52416 [==============================] - 41s 787us/step - loss: 13.4558 - nll_loss: 3.3890 - entropy_loss: 10.0668 - val_loss: 13.4109 - val_nll_loss: 3.3931 - val_entropy_loss: 10.0178\n",
      "Epoch 9/10\n",
      "52416/52416 [==============================] - 45s 855us/step - loss: 13.4417 - nll_loss: 3.4110 - entropy_loss: 10.0306 - val_loss: 13.4064 - val_nll_loss: 3.4616 - val_entropy_loss: 9.9447\n",
      "Epoch 10/10\n",
      "52416/52416 [==============================] - 43s 815us/step - loss: 13.4039 - nll_loss: 3.3679 - entropy_loss: 10.0359 - val_loss: 13.3629 - val_nll_loss: 3.3040 - val_entropy_loss: 10.0589\n",
      "Done creating train history\n",
      "returning....\n"
     ]
    },
    {
     "data": {
      "image/png": "[encoded data removed]",
      "text/plain": [
       "<Figure size 576x216 with 2 Axes>"
      ]
     },
     "metadata": {
      "needs_background": "light"
     },
     "output_type": "display_data"
    },
    {
     "name": "stdout",
     "output_type": "stream",
     "text": [
      "Saved scrambler model at saved_models/mer8motif_model_lin_d_inclusion_scrambler_bits_0125_epochs_10.h5 \n"
     ]
    }
   ],
   "source": [
    "lin_d_scr, lin_d_scr_train_hist = train_scrambler_on_model(k_lin_no_tf)\n",
    "model_name = 'mer8motif_model_lin_d_inclusion_scrambler_bits_0125_epochs_10'\n",
    "save_scrambler(lin_d_scr, lin_d_scr_train_hist, model_name)"
   ]
  },
  {
   "cell_type": "markdown",
   "metadata": {},
   "source": [
    "## Eval scrambler results?\n",
    "So the scrambler ran on the linear model - now check the scrambler results by visualizing some sequences and their importances"
   ]
  },
  {
   "cell_type": "code",
   "execution_count": 59,
   "metadata": {
    "scrolled": false
   },
   "outputs": [
    {
     "name": "stdout",
     "output_type": "stream",
     "text": [
      "Num TAT: 1146\n",
      "Num TAT: 1124\n",
      "GCG example idx 133: AAAGCGAA\n",
      "TAT example idx 13074: TTTTATAG\n"
     ]
    }
   ],
   "source": [
    "# get seqs from test df that are ineresting to spot check\n",
    "test_df = mer8motif_test_df.reset_index()\n",
    "\n",
    "tat = list(test_df[test_df['seq'].str.contains(\"TAT\")].index)\n",
    "gcg = list(test_df[test_df['seq'].str.contains(\"GCG\")].index)\n",
    "\n",
    "print(\"Num TAT:\",len(tat))\n",
    "print(\"Num TAT:\",len(gcg))\n",
    "\n",
    "# Show some examples\n",
    "list_idx = 2\n",
    "g = gcg[list_idx]\n",
    "print(f'GCG example idx {g}: {test_df.loc[g][\"seq\"]}')\n",
    "\n",
    "list_idx = 1145\n",
    "t = tat[list_idx]\n",
    "print(f'TAT example idx {t}: {test_df.loc[t][\"seq\"]}')\n",
    "\n",
    "# some idxs I checked and think are interesting?\n",
    "ixs = [4,133,97,99,13074,13075,578,579,438,439]"
   ]
  },
  {
   "cell_type": "code",
   "execution_count": 61,
   "metadata": {
    "scrolled": false
   },
   "outputs": [
    {
     "name": "stdout",
     "output_type": "stream",
     "text": [
      "13088/13088 [==============================] - 4s 291us/step\n",
      "Test sequence 4:\n",
      " - Prediction (original) = 19.3\n",
      " - Predictions (scrambled) = [18.0, 18.0, 16.3, 17.3, 18.7, 17.6, 17.8, 19.2, 16.8, 18.7, 18.1, 16.8, 16.7, 17.6, 17.4, 17.7, 17.2, 18.5, 17.9, 17.9, 18.1, 18.9, 16.6, 16.7, 18.4, 16.4, 17.7, 18.3, 18.6, 17.6, 16.1, 16.5]\n"
     ]
    },
    {
     "data": {
      "image/png": "[encoded data removed]",
      "text/plain": [
       "<Figure size 360x72 with 1 Axes>"
      ]
     },
     "metadata": {},
     "output_type": "display_data"
    },
    {
     "data": {
      "image/png": "[encoded data removed]",
      "text/plain": [
       "<Figure size 360x72 with 1 Axes>"
      ]
     },
     "metadata": {},
     "output_type": "display_data"
    },
    {
     "data": {
      "image/png": "[encoded data removed]",
      "text/plain": [
       "<Figure size 360x72 with 1 Axes>"
      ]
     },
     "metadata": {
      "needs_background": "light"
     },
     "output_type": "display_data"
    },
    {
     "name": "stdout",
     "output_type": "stream",
     "text": [
      "Test sequence 133:\n",
      " - Prediction (original) = 7.91\n",
      " - Predictions (scrambled) = [6.04, 5.34, 6.14, 5.53, 5.59, 6.48, 5.52, 5.81, 6.06, 4.31, 5.75, 6.24, 6.24, 6.49, 5.71, 6.01, -0.0, 5.63, 3.27, 5.59, 5.52, 5.85, 4.31, 5.74, 6.0, 5.71, 5.75, 6.5, 6.49, 6.41, 5.61, 6.16]\n"
     ]
    },
    {
     "data": {
      "image/png": "[encoded data removed]",
      "text/plain": [
       "<Figure size 360x72 with 1 Axes>"
      ]
     },
     "metadata": {},
     "output_type": "display_data"
    },
    {
     "data": {
      "image/png": "[encoded data removed]",
      "text/plain": [
       "<Figure size 360x72 with 1 Axes>"
      ]
     },
     "metadata": {},
     "output_type": "display_data"
    },
    {
     "data": {
      "image/png": "[encoded data removed]",
      "text/plain": [
       "<Figure size 360x72 with 1 Axes>"
      ]
     },
     "metadata": {
      "needs_background": "light"
     },
     "output_type": "display_data"
    },
    {
     "name": "stdout",
     "output_type": "stream",
     "text": [
      "Test sequence 97:\n",
      " - Prediction (original) = 27.2\n",
      " - Predictions (scrambled) = [25.3, 26.3, 26.4, 26.9, 25.9, 26.2, 26.2, 24.8, 25.2, 24.1, 26.1, 24.5, 26.0, 25.1, 25.3, 25.0, 26.0, 25.2, 26.6, 26.2, 25.5, 25.4, 24.5, 26.1, 25.4, 25.1, 25.5, 26.1, 25.2, 25.7, 25.3, 25.0]\n"
     ]
    },
    {
     "data": {
      "image/png": "[encoded data removed]",
      "text/plain": [
       "<Figure size 360x72 with 1 Axes>"
      ]
     },
     "metadata": {},
     "output_type": "display_data"
    },
    {
     "data": {
      "image/png": "[encoded data removed]",
      "text/plain": [
       "<Figure size 360x72 with 1 Axes>"
      ]
     },
     "metadata": {},
     "output_type": "display_data"
    },
    {
     "data": {
      "image/png": "[encoded data removed]",
      "text/plain": [
       "<Figure size 360x72 with 1 Axes>"
      ]
     },
     "metadata": {
      "needs_background": "light"
     },
     "output_type": "display_data"
    },
    {
     "name": "stdout",
     "output_type": "stream",
     "text": [
      "Test sequence 99:\n",
      " - Prediction (original) = 18.7\n",
      " - Predictions (scrambled) = [15.2, 16.7, 16.4, 16.2, 16.6, 16.7, 17.1, 18.0, 15.8, 16.1, 15.0, 17.8, 16.0, 16.9, 16.7, 16.7, 16.4, 17.7, 16.3, 17.3, 17.0, 15.8, 16.9, 17.2, 17.0, 16.4, 17.2, 17.0, 15.9, 17.3, 16.4, 16.2]\n"
     ]
    },
    {
     "data": {
      "image/png": "[encoded data removed]",
      "text/plain": [
       "<Figure size 360x72 with 1 Axes>"
      ]
     },
     "metadata": {},
     "output_type": "display_data"
    },
    {
     "data": {
      "image/png": "[encoded data removed]",
      "text/plain": [
       "<Figure size 360x72 with 1 Axes>"
      ]
     },
     "metadata": {},
     "output_type": "display_data"
    },
    {
     "data": {
      "image/png": "[encoded data removed]",
      "text/plain": [
       "<Figure size 360x72 with 1 Axes>"
      ]
     },
     "metadata": {
      "needs_background": "light"
     },
     "output_type": "display_data"
    },
    {
     "name": "stdout",
     "output_type": "stream",
     "text": [
      "Test sequence 13074:\n",
      " - Prediction (original) = 22.2\n",
      " - Predictions (scrambled) = [23.0, 21.1, 23.2, 22.0, 22.2, 20.5, 24.3, 23.9, 26.7, 22.2, 20.3, 22.9, 24.4, 30.6, 22.3, 22.2, 23.6, 23.5, 23.5, 22.9, 24.7, 24.2, 21.8, 21.7, 21.8, 20.5, 23.1, 21.6, 23.3, 20.2, 23.3, 21.9]\n"
     ]
    },
    {
     "data": {
      "image/png": "[encoded data removed]",
      "text/plain": [
       "<Figure size 360x72 with 1 Axes>"
      ]
     },
     "metadata": {},
     "output_type": "display_data"
    },
    {
     "data": {
      "image/png": "[encoded data removed]",
      "text/plain": [
       "<Figure size 360x72 with 1 Axes>"
      ]
     },
     "metadata": {},
     "output_type": "display_data"
    },
    {
     "data": {
      "image/png": "[encoded data removed]",
      "text/plain": [
       "<Figure size 360x72 with 1 Axes>"
      ]
     },
     "metadata": {
      "needs_background": "light"
     },
     "output_type": "display_data"
    },
    {
     "name": "stdout",
     "output_type": "stream",
     "text": [
      "Test sequence 13075:\n",
      " - Prediction (original) = 13.8\n",
      " - Predictions (scrambled) = [15.5, 15.5, 14.1, 16.1, 15.6, 13.8, 14.3, 14.9, 14.8, 14.1, 15.7, 13.9, 14.8, 20.7, 15.7, 15.1, 15.6, 13.8, 14.2, 13.8, 15.0, 14.7, 13.5, 14.7, 15.3, 14.2, 15.5, 14.4, 14.1, 15.5, 16.0, 14.6]\n"
     ]
    },
    {
     "data": {
      "image/png": "[encoded data removed]",
      "text/plain": [
       "<Figure size 360x72 with 1 Axes>"
      ]
     },
     "metadata": {},
     "output_type": "display_data"
    },
    {
     "data": {
      "image/png": "[encoded data removed]",
      "text/plain": [
       "<Figure size 360x72 with 1 Axes>"
      ]
     },
     "metadata": {},
     "output_type": "display_data"
    },
    {
     "data": {
      "image/png": "[encoded data removed]",
      "text/plain": [
       "<Figure size 360x72 with 1 Axes>"
      ]
     },
     "metadata": {
      "needs_background": "light"
     },
     "output_type": "display_data"
    },
    {
     "name": "stdout",
     "output_type": "stream",
     "text": [
      "Test sequence 578:\n",
      " - Prediction (original) = 25.3\n",
      " - Predictions (scrambled) = [23.6, 24.3, 24.5, 24.1, 17.9, 24.7, 24.6, 24.6, 22.9, 24.4, 24.5, 24.7, 24.4, 24.3, 24.3, 24.9, 23.1, 24.7, 24.2, 24.2, 24.7, 25.0, 23.9, 24.5, 24.5, 23.3, 23.8, 23.0, 25.0, 24.2, 23.3, 24.4]\n"
     ]
    },
    {
     "data": {
      "image/png": "[encoded data removed]",
      "text/plain": [
       "<Figure size 360x72 with 1 Axes>"
      ]
     },
     "metadata": {},
     "output_type": "display_data"
    },
    {
     "data": {
      "image/png": "[encoded data removed]",
      "text/plain": [
       "<Figure size 360x72 with 1 Axes>"
      ]
     },
     "metadata": {},
     "output_type": "display_data"
    },
    {
     "data": {
      "image/png": "[encoded data removed]",
      "text/plain": [
       "<Figure size 360x72 with 1 Axes>"
      ]
     },
     "metadata": {
      "needs_background": "light"
     },
     "output_type": "display_data"
    },
    {
     "name": "stdout",
     "output_type": "stream",
     "text": [
      "Test sequence 579:\n",
      " - Prediction (original) = 14.9\n",
      " - Predictions (scrambled) = [13.7, 13.4, 11.8, 13.6, 13.5, 13.5, 11.6, 12.7, 14.5, 13.0, 13.1, 14.2, 12.5, 12.6, 12.1, 13.9, 13.4, 13.3, 12.0, 13.4, 11.8, 14.9, 16.4, 13.8, 13.9, 14.1, 13.3, 12.9, 17.0, 13.0, 12.3, 13.1]\n"
     ]
    },
    {
     "data": {
      "image/png": "[encoded data removed]",
      "text/plain": [
       "<Figure size 360x72 with 1 Axes>"
      ]
     },
     "metadata": {},
     "output_type": "display_data"
    },
    {
     "data": {
      "image/png": "[encoded data removed]",
      "text/plain": [
       "<Figure size 360x72 with 1 Axes>"
      ]
     },
     "metadata": {},
     "output_type": "display_data"
    },
    {
     "data": {
      "image/png": "[encoded data removed]",
      "text/plain": [
       "<Figure size 360x72 with 1 Axes>"
      ]
     },
     "metadata": {
      "needs_background": "light"
     },
     "output_type": "display_data"
    },
    {
     "name": "stdout",
     "output_type": "stream",
     "text": [
      "Test sequence 438:\n",
      " - Prediction (original) = 7.07\n",
      " - Predictions (scrambled) = [5.61, 6.75, 2.72, 6.02, 6.44, 6.09, 5.38, 6.4, 5.59, 6.18, 4.98, 4.07, -0.0, 5.68, 6.45, 6.73, -0.0, 5.52, 6.28, 6.48, 5.31, 5.31, 6.5, 5.73, 4.03, 6.01, 5.8, 5.05, 5.42, 4.7, 6.31, 5.68]\n"
     ]
    },
    {
     "data": {
      "image/png": "[encoded data removed]",
      "text/plain": [
       "<Figure size 360x72 with 1 Axes>"
      ]
     },
     "metadata": {},
     "output_type": "display_data"
    },
    {
     "data": {
      "image/png": "[encoded data removed]",
      "text/plain": [
       "<Figure size 360x72 with 1 Axes>"
      ]
     },
     "metadata": {},
     "output_type": "display_data"
    },
    {
     "data": {
      "image/png": "[encoded data removed]",
      "text/plain": [
       "<Figure size 360x72 with 1 Axes>"
      ]
     },
     "metadata": {
      "needs_background": "light"
     },
     "output_type": "display_data"
    },
    {
     "name": "stdout",
     "output_type": "stream",
     "text": [
      "Test sequence 439:\n",
      " - Prediction (original) = 16.9\n",
      " - Predictions (scrambled) = [11.4, 15.6, 16.2, 16.1, 15.7, 15.5, 16.5, 15.8, 14.2, 15.8, 16.7, 16.6, 16.2, 15.4, 16.2, 16.4, 15.5, 15.8, 15.4, 15.5, 15.9, 13.9, 15.9, 15.3, 16.5, 14.5, 16.1, 14.9, 15.5, 16.0, 15.4, 15.9]\n"
     ]
    },
    {
     "data": {
      "image/png": "[encoded data removed]",
      "text/plain": [
       "<Figure size 360x72 with 1 Axes>"
      ]
     },
     "metadata": {},
     "output_type": "display_data"
    },
    {
     "data": {
      "image/png": "[encoded data removed]",
      "text/plain": [
       "<Figure size 360x72 with 1 Axes>"
      ]
     },
     "metadata": {},
     "output_type": "display_data"
    },
    {
     "data": {
      "image/png": "[encoded data removed]",
      "text/plain": [
       "<Figure size 360x72 with 1 Axes>"
      ]
     },
     "metadata": {
      "needs_background": "light"
     },
     "output_type": "display_data"
    }
   ],
   "source": [
    "viz_scrambler_results(k_lin_no_tf, lin_d_scr)"
   ]
  },
  {
   "cell_type": "markdown",
   "metadata": {},
   "source": [
    "# Checkpoint 2\n",
    "### Scramblers working for linear model!\n",
    "Running the scrambler on the linear model, it seems to highlight GCGs and TATs when present, though it is not perfect. Some other surrounding letters get lumped in too."
   ]
  },
  {
   "cell_type": "markdown",
   "metadata": {},
   "source": [
    "# Next: run scramblers on the CNN model"
   ]
  },
  {
   "cell_type": "code",
   "execution_count": 62,
   "metadata": {
    "scrolled": false
   },
   "outputs": [
    {
     "ename": "TypeError",
     "evalue": "('Keyword argument not understood:', 'module')",
     "output_type": "error",
     "traceback": [
      "\u001b[0;31m---------------------------------------------------------------------------\u001b[0m",
      "\u001b[0;31mTypeError\u001b[0m                                 Traceback (most recent call last)",
      "\u001b[0;32m<ipython-input-62-938e8e46a34d>\u001b[0m in \u001b[0;36m<module>\u001b[0;34m\u001b[0m\n\u001b[1;32m      1\u001b[0m \u001b[0mk_cnn_model\u001b[0m\u001b[0;34m.\u001b[0m\u001b[0msave\u001b[0m\u001b[0;34m(\u001b[0m\u001b[0;34m\"k_cnn.h5\"\u001b[0m\u001b[0;34m)\u001b[0m\u001b[0;34m\u001b[0m\u001b[0;34m\u001b[0m\u001b[0m\n\u001b[0;32m----> 2\u001b[0;31m \u001b[0mk_cnn_no_tf\u001b[0m \u001b[0;34m=\u001b[0m \u001b[0mkeras\u001b[0m\u001b[0;34m.\u001b[0m\u001b[0mmodels\u001b[0m\u001b[0;34m.\u001b[0m\u001b[0mload_model\u001b[0m\u001b[0;34m(\u001b[0m\u001b[0;34m\"k_cnn.h5\"\u001b[0m\u001b[0;34m)\u001b[0m\u001b[0;34m\u001b[0m\u001b[0;34m\u001b[0m\u001b[0m\n\u001b[0m\u001b[1;32m      3\u001b[0m \u001b[0mk_cnn_no_tf\u001b[0m\u001b[0;34m\u001b[0m\u001b[0;34m\u001b[0m\u001b[0m\n",
      "\u001b[0;32m~/anaconda3/envs/scrambler/lib/python3.7/site-packages/keras/engine/saving.py\u001b[0m in \u001b[0;36mload_model\u001b[0;34m(filepath, custom_objects, compile)\u001b[0m\n\u001b[1;32m    417\u001b[0m     \u001b[0mf\u001b[0m \u001b[0;34m=\u001b[0m \u001b[0mh5dict\u001b[0m\u001b[0;34m(\u001b[0m\u001b[0mfilepath\u001b[0m\u001b[0;34m,\u001b[0m \u001b[0;34m'r'\u001b[0m\u001b[0;34m)\u001b[0m\u001b[0;34m\u001b[0m\u001b[0;34m\u001b[0m\u001b[0m\n\u001b[1;32m    418\u001b[0m     \u001b[0;32mtry\u001b[0m\u001b[0;34m:\u001b[0m\u001b[0;34m\u001b[0m\u001b[0;34m\u001b[0m\u001b[0m\n\u001b[0;32m--> 419\u001b[0;31m         \u001b[0mmodel\u001b[0m \u001b[0;34m=\u001b[0m \u001b[0m_deserialize_model\u001b[0m\u001b[0;34m(\u001b[0m\u001b[0mf\u001b[0m\u001b[0;34m,\u001b[0m \u001b[0mcustom_objects\u001b[0m\u001b[0;34m,\u001b[0m \u001b[0mcompile\u001b[0m\u001b[0;34m)\u001b[0m\u001b[0;34m\u001b[0m\u001b[0;34m\u001b[0m\u001b[0m\n\u001b[0m\u001b[1;32m    420\u001b[0m     \u001b[0;32mfinally\u001b[0m\u001b[0;34m:\u001b[0m\u001b[0;34m\u001b[0m\u001b[0;34m\u001b[0m\u001b[0m\n\u001b[1;32m    421\u001b[0m         \u001b[0;32mif\u001b[0m \u001b[0mopened_new_file\u001b[0m\u001b[0;34m:\u001b[0m\u001b[0;34m\u001b[0m\u001b[0;34m\u001b[0m\u001b[0m\n",
      "\u001b[0;32m~/anaconda3/envs/scrambler/lib/python3.7/site-packages/keras/engine/saving.py\u001b[0m in \u001b[0;36m_deserialize_model\u001b[0;34m(f, custom_objects, compile)\u001b[0m\n\u001b[1;32m    223\u001b[0m         \u001b[0;32mraise\u001b[0m \u001b[0mValueError\u001b[0m\u001b[0;34m(\u001b[0m\u001b[0;34m'No model found in config.'\u001b[0m\u001b[0;34m)\u001b[0m\u001b[0;34m\u001b[0m\u001b[0;34m\u001b[0m\u001b[0m\n\u001b[1;32m    224\u001b[0m     \u001b[0mmodel_config\u001b[0m \u001b[0;34m=\u001b[0m \u001b[0mjson\u001b[0m\u001b[0;34m.\u001b[0m\u001b[0mloads\u001b[0m\u001b[0;34m(\u001b[0m\u001b[0mmodel_config\u001b[0m\u001b[0;34m.\u001b[0m\u001b[0mdecode\u001b[0m\u001b[0;34m(\u001b[0m\u001b[0;34m'utf-8'\u001b[0m\u001b[0;34m)\u001b[0m\u001b[0;34m)\u001b[0m\u001b[0;34m\u001b[0m\u001b[0;34m\u001b[0m\u001b[0m\n\u001b[0;32m--> 225\u001b[0;31m     \u001b[0mmodel\u001b[0m \u001b[0;34m=\u001b[0m \u001b[0mmodel_from_config\u001b[0m\u001b[0;34m(\u001b[0m\u001b[0mmodel_config\u001b[0m\u001b[0;34m,\u001b[0m \u001b[0mcustom_objects\u001b[0m\u001b[0;34m=\u001b[0m\u001b[0mcustom_objects\u001b[0m\u001b[0;34m)\u001b[0m\u001b[0;34m\u001b[0m\u001b[0;34m\u001b[0m\u001b[0m\n\u001b[0m\u001b[1;32m    226\u001b[0m     \u001b[0mmodel_weights_group\u001b[0m \u001b[0;34m=\u001b[0m \u001b[0mf\u001b[0m\u001b[0;34m[\u001b[0m\u001b[0;34m'model_weights'\u001b[0m\u001b[0;34m]\u001b[0m\u001b[0;34m\u001b[0m\u001b[0;34m\u001b[0m\u001b[0m\n\u001b[1;32m    227\u001b[0m \u001b[0;34m\u001b[0m\u001b[0m\n",
      "\u001b[0;32m~/anaconda3/envs/scrambler/lib/python3.7/site-packages/keras/engine/saving.py\u001b[0m in \u001b[0;36mmodel_from_config\u001b[0;34m(config, custom_objects)\u001b[0m\n\u001b[1;32m    456\u001b[0m                         '`Sequential.from_config(config)`?')\n\u001b[1;32m    457\u001b[0m     \u001b[0;32mfrom\u001b[0m \u001b[0;34m.\u001b[0m\u001b[0;34m.\u001b[0m\u001b[0mlayers\u001b[0m \u001b[0;32mimport\u001b[0m \u001b[0mdeserialize\u001b[0m\u001b[0;34m\u001b[0m\u001b[0;34m\u001b[0m\u001b[0m\n\u001b[0;32m--> 458\u001b[0;31m     \u001b[0;32mreturn\u001b[0m \u001b[0mdeserialize\u001b[0m\u001b[0;34m(\u001b[0m\u001b[0mconfig\u001b[0m\u001b[0;34m,\u001b[0m \u001b[0mcustom_objects\u001b[0m\u001b[0;34m=\u001b[0m\u001b[0mcustom_objects\u001b[0m\u001b[0;34m)\u001b[0m\u001b[0;34m\u001b[0m\u001b[0;34m\u001b[0m\u001b[0m\n\u001b[0m\u001b[1;32m    459\u001b[0m \u001b[0;34m\u001b[0m\u001b[0m\n\u001b[1;32m    460\u001b[0m \u001b[0;34m\u001b[0m\u001b[0m\n",
      "\u001b[0;32m~/anaconda3/envs/scrambler/lib/python3.7/site-packages/keras/layers/__init__.py\u001b[0m in \u001b[0;36mdeserialize\u001b[0;34m(config, custom_objects)\u001b[0m\n\u001b[1;32m     53\u001b[0m                                     \u001b[0mmodule_objects\u001b[0m\u001b[0;34m=\u001b[0m\u001b[0mglobs\u001b[0m\u001b[0;34m,\u001b[0m\u001b[0;34m\u001b[0m\u001b[0;34m\u001b[0m\u001b[0m\n\u001b[1;32m     54\u001b[0m                                     \u001b[0mcustom_objects\u001b[0m\u001b[0;34m=\u001b[0m\u001b[0mcustom_objects\u001b[0m\u001b[0;34m,\u001b[0m\u001b[0;34m\u001b[0m\u001b[0;34m\u001b[0m\u001b[0m\n\u001b[0;32m---> 55\u001b[0;31m                                     printable_module_name='layer')\n\u001b[0m",
      "\u001b[0;32m~/anaconda3/envs/scrambler/lib/python3.7/site-packages/keras/utils/generic_utils.py\u001b[0m in \u001b[0;36mdeserialize_keras_object\u001b[0;34m(identifier, module_objects, custom_objects, printable_module_name)\u001b[0m\n\u001b[1;32m    143\u001b[0m                     \u001b[0mconfig\u001b[0m\u001b[0;34m[\u001b[0m\u001b[0;34m'config'\u001b[0m\u001b[0;34m]\u001b[0m\u001b[0;34m,\u001b[0m\u001b[0;34m\u001b[0m\u001b[0;34m\u001b[0m\u001b[0m\n\u001b[1;32m    144\u001b[0m                     custom_objects=dict(list(_GLOBAL_CUSTOM_OBJECTS.items()) +\n\u001b[0;32m--> 145\u001b[0;31m                                         list(custom_objects.items())))\n\u001b[0m\u001b[1;32m    146\u001b[0m             \u001b[0;32mwith\u001b[0m \u001b[0mCustomObjectScope\u001b[0m\u001b[0;34m(\u001b[0m\u001b[0mcustom_objects\u001b[0m\u001b[0;34m)\u001b[0m\u001b[0;34m:\u001b[0m\u001b[0;34m\u001b[0m\u001b[0;34m\u001b[0m\u001b[0m\n\u001b[1;32m    147\u001b[0m                 \u001b[0;32mreturn\u001b[0m \u001b[0mcls\u001b[0m\u001b[0;34m.\u001b[0m\u001b[0mfrom_config\u001b[0m\u001b[0;34m(\u001b[0m\u001b[0mconfig\u001b[0m\u001b[0;34m[\u001b[0m\u001b[0;34m'config'\u001b[0m\u001b[0;34m]\u001b[0m\u001b[0;34m)\u001b[0m\u001b[0;34m\u001b[0m\u001b[0;34m\u001b[0m\u001b[0m\n",
      "\u001b[0;32m~/anaconda3/envs/scrambler/lib/python3.7/site-packages/keras/engine/network.py\u001b[0m in \u001b[0;36mfrom_config\u001b[0;34m(cls, config, custom_objects)\u001b[0m\n\u001b[1;32m   1020\u001b[0m         \u001b[0;31m# First, we create all layers and enqueue nodes to be processed\u001b[0m\u001b[0;34m\u001b[0m\u001b[0;34m\u001b[0m\u001b[0;34m\u001b[0m\u001b[0m\n\u001b[1;32m   1021\u001b[0m         \u001b[0;32mfor\u001b[0m \u001b[0mlayer_data\u001b[0m \u001b[0;32min\u001b[0m \u001b[0mconfig\u001b[0m\u001b[0;34m[\u001b[0m\u001b[0;34m'layers'\u001b[0m\u001b[0;34m]\u001b[0m\u001b[0;34m:\u001b[0m\u001b[0;34m\u001b[0m\u001b[0;34m\u001b[0m\u001b[0m\n\u001b[0;32m-> 1022\u001b[0;31m             \u001b[0mprocess_layer\u001b[0m\u001b[0;34m(\u001b[0m\u001b[0mlayer_data\u001b[0m\u001b[0;34m)\u001b[0m\u001b[0;34m\u001b[0m\u001b[0;34m\u001b[0m\u001b[0m\n\u001b[0m\u001b[1;32m   1023\u001b[0m         \u001b[0;31m# Then we process nodes in order of layer depth.\u001b[0m\u001b[0;34m\u001b[0m\u001b[0;34m\u001b[0m\u001b[0;34m\u001b[0m\u001b[0m\n\u001b[1;32m   1024\u001b[0m         \u001b[0;31m# Nodes that cannot yet be processed (if the inbound node\u001b[0m\u001b[0;34m\u001b[0m\u001b[0;34m\u001b[0m\u001b[0;34m\u001b[0m\u001b[0m\n",
      "\u001b[0;32m~/anaconda3/envs/scrambler/lib/python3.7/site-packages/keras/engine/network.py\u001b[0m in \u001b[0;36mprocess_layer\u001b[0;34m(layer_data)\u001b[0m\n\u001b[1;32m   1006\u001b[0m \u001b[0;34m\u001b[0m\u001b[0m\n\u001b[1;32m   1007\u001b[0m             layer = deserialize_layer(layer_data,\n\u001b[0;32m-> 1008\u001b[0;31m                                       custom_objects=custom_objects)\n\u001b[0m\u001b[1;32m   1009\u001b[0m             \u001b[0mcreated_layers\u001b[0m\u001b[0;34m[\u001b[0m\u001b[0mlayer_name\u001b[0m\u001b[0;34m]\u001b[0m \u001b[0;34m=\u001b[0m \u001b[0mlayer\u001b[0m\u001b[0;34m\u001b[0m\u001b[0;34m\u001b[0m\u001b[0m\n\u001b[1;32m   1010\u001b[0m \u001b[0;34m\u001b[0m\u001b[0m\n",
      "\u001b[0;32m~/anaconda3/envs/scrambler/lib/python3.7/site-packages/keras/layers/__init__.py\u001b[0m in \u001b[0;36mdeserialize\u001b[0;34m(config, custom_objects)\u001b[0m\n\u001b[1;32m     53\u001b[0m                                     \u001b[0mmodule_objects\u001b[0m\u001b[0;34m=\u001b[0m\u001b[0mglobs\u001b[0m\u001b[0;34m,\u001b[0m\u001b[0;34m\u001b[0m\u001b[0;34m\u001b[0m\u001b[0m\n\u001b[1;32m     54\u001b[0m                                     \u001b[0mcustom_objects\u001b[0m\u001b[0;34m=\u001b[0m\u001b[0mcustom_objects\u001b[0m\u001b[0;34m,\u001b[0m\u001b[0;34m\u001b[0m\u001b[0;34m\u001b[0m\u001b[0m\n\u001b[0;32m---> 55\u001b[0;31m                                     printable_module_name='layer')\n\u001b[0m",
      "\u001b[0;32m~/anaconda3/envs/scrambler/lib/python3.7/site-packages/keras/utils/generic_utils.py\u001b[0m in \u001b[0;36mdeserialize_keras_object\u001b[0;34m(identifier, module_objects, custom_objects, printable_module_name)\u001b[0m\n\u001b[1;32m    143\u001b[0m                     \u001b[0mconfig\u001b[0m\u001b[0;34m[\u001b[0m\u001b[0;34m'config'\u001b[0m\u001b[0;34m]\u001b[0m\u001b[0;34m,\u001b[0m\u001b[0;34m\u001b[0m\u001b[0;34m\u001b[0m\u001b[0m\n\u001b[1;32m    144\u001b[0m                     custom_objects=dict(list(_GLOBAL_CUSTOM_OBJECTS.items()) +\n\u001b[0;32m--> 145\u001b[0;31m                                         list(custom_objects.items())))\n\u001b[0m\u001b[1;32m    146\u001b[0m             \u001b[0;32mwith\u001b[0m \u001b[0mCustomObjectScope\u001b[0m\u001b[0;34m(\u001b[0m\u001b[0mcustom_objects\u001b[0m\u001b[0;34m)\u001b[0m\u001b[0;34m:\u001b[0m\u001b[0;34m\u001b[0m\u001b[0;34m\u001b[0m\u001b[0m\n\u001b[1;32m    147\u001b[0m                 \u001b[0;32mreturn\u001b[0m \u001b[0mcls\u001b[0m\u001b[0;34m.\u001b[0m\u001b[0mfrom_config\u001b[0m\u001b[0;34m(\u001b[0m\u001b[0mconfig\u001b[0m\u001b[0;34m[\u001b[0m\u001b[0;34m'config'\u001b[0m\u001b[0;34m]\u001b[0m\u001b[0;34m)\u001b[0m\u001b[0;34m\u001b[0m\u001b[0;34m\u001b[0m\u001b[0m\n",
      "\u001b[0;32m~/anaconda3/envs/scrambler/lib/python3.7/site-packages/keras/layers/core.py\u001b[0m in \u001b[0;36mfrom_config\u001b[0;34m(cls, config, custom_objects)\u001b[0m\n\u001b[1;32m    762\u001b[0m         \u001b[0mconfig\u001b[0m\u001b[0;34m[\u001b[0m\u001b[0;34m'function'\u001b[0m\u001b[0;34m]\u001b[0m \u001b[0;34m=\u001b[0m \u001b[0mfunction\u001b[0m\u001b[0;34m\u001b[0m\u001b[0;34m\u001b[0m\u001b[0m\n\u001b[1;32m    763\u001b[0m         \u001b[0mconfig\u001b[0m\u001b[0;34m[\u001b[0m\u001b[0;34m'output_shape'\u001b[0m\u001b[0;34m]\u001b[0m \u001b[0;34m=\u001b[0m \u001b[0moutput_shape\u001b[0m\u001b[0;34m\u001b[0m\u001b[0;34m\u001b[0m\u001b[0m\n\u001b[0;32m--> 764\u001b[0;31m         \u001b[0;32mreturn\u001b[0m \u001b[0mcls\u001b[0m\u001b[0;34m(\u001b[0m\u001b[0;34m**\u001b[0m\u001b[0mconfig\u001b[0m\u001b[0;34m)\u001b[0m\u001b[0;34m\u001b[0m\u001b[0;34m\u001b[0m\u001b[0m\n\u001b[0m\u001b[1;32m    765\u001b[0m \u001b[0;34m\u001b[0m\u001b[0m\n\u001b[1;32m    766\u001b[0m \u001b[0;34m\u001b[0m\u001b[0m\n",
      "\u001b[0;32m~/anaconda3/envs/scrambler/lib/python3.7/site-packages/keras/legacy/interfaces.py\u001b[0m in \u001b[0;36mwrapper\u001b[0;34m(*args, **kwargs)\u001b[0m\n\u001b[1;32m     89\u001b[0m                 warnings.warn('Update your `' + object_name + '` call to the ' +\n\u001b[1;32m     90\u001b[0m                               'Keras 2 API: ' + signature, stacklevel=2)\n\u001b[0;32m---> 91\u001b[0;31m             \u001b[0;32mreturn\u001b[0m \u001b[0mfunc\u001b[0m\u001b[0;34m(\u001b[0m\u001b[0;34m*\u001b[0m\u001b[0margs\u001b[0m\u001b[0;34m,\u001b[0m \u001b[0;34m**\u001b[0m\u001b[0mkwargs\u001b[0m\u001b[0;34m)\u001b[0m\u001b[0;34m\u001b[0m\u001b[0;34m\u001b[0m\u001b[0m\n\u001b[0m\u001b[1;32m     92\u001b[0m         \u001b[0mwrapper\u001b[0m\u001b[0;34m.\u001b[0m\u001b[0m_original_function\u001b[0m \u001b[0;34m=\u001b[0m \u001b[0mfunc\u001b[0m\u001b[0;34m\u001b[0m\u001b[0;34m\u001b[0m\u001b[0m\n\u001b[1;32m     93\u001b[0m         \u001b[0;32mreturn\u001b[0m \u001b[0mwrapper\u001b[0m\u001b[0;34m\u001b[0m\u001b[0;34m\u001b[0m\u001b[0m\n",
      "\u001b[0;32m~/anaconda3/envs/scrambler/lib/python3.7/site-packages/keras/layers/core.py\u001b[0m in \u001b[0;36m__init__\u001b[0;34m(self, function, output_shape, mask, arguments, **kwargs)\u001b[0m\n\u001b[1;32m    624\u001b[0m     def __init__(self, function, output_shape=None,\n\u001b[1;32m    625\u001b[0m                  mask=None, arguments=None, **kwargs):\n\u001b[0;32m--> 626\u001b[0;31m         \u001b[0msuper\u001b[0m\u001b[0;34m(\u001b[0m\u001b[0mLambda\u001b[0m\u001b[0;34m,\u001b[0m \u001b[0mself\u001b[0m\u001b[0;34m)\u001b[0m\u001b[0;34m.\u001b[0m\u001b[0m__init__\u001b[0m\u001b[0;34m(\u001b[0m\u001b[0;34m**\u001b[0m\u001b[0mkwargs\u001b[0m\u001b[0;34m)\u001b[0m\u001b[0;34m\u001b[0m\u001b[0;34m\u001b[0m\u001b[0m\n\u001b[0m\u001b[1;32m    627\u001b[0m         \u001b[0mself\u001b[0m\u001b[0;34m.\u001b[0m\u001b[0mfunction\u001b[0m \u001b[0;34m=\u001b[0m \u001b[0mfunction\u001b[0m\u001b[0;34m\u001b[0m\u001b[0;34m\u001b[0m\u001b[0m\n\u001b[1;32m    628\u001b[0m         \u001b[0mself\u001b[0m\u001b[0;34m.\u001b[0m\u001b[0marguments\u001b[0m \u001b[0;34m=\u001b[0m \u001b[0marguments\u001b[0m \u001b[0;32mif\u001b[0m \u001b[0marguments\u001b[0m \u001b[0;32melse\u001b[0m \u001b[0;34m{\u001b[0m\u001b[0;34m}\u001b[0m\u001b[0;34m\u001b[0m\u001b[0;34m\u001b[0m\u001b[0m\n",
      "\u001b[0;32m~/anaconda3/envs/scrambler/lib/python3.7/site-packages/keras/engine/base_layer.py\u001b[0m in \u001b[0;36m__init__\u001b[0;34m(self, **kwargs)\u001b[0m\n\u001b[1;32m    126\u001b[0m         \u001b[0;32mfor\u001b[0m \u001b[0mkwarg\u001b[0m \u001b[0;32min\u001b[0m \u001b[0mkwargs\u001b[0m\u001b[0;34m:\u001b[0m\u001b[0;34m\u001b[0m\u001b[0;34m\u001b[0m\u001b[0m\n\u001b[1;32m    127\u001b[0m             \u001b[0;32mif\u001b[0m \u001b[0mkwarg\u001b[0m \u001b[0;32mnot\u001b[0m \u001b[0;32min\u001b[0m \u001b[0mallowed_kwargs\u001b[0m\u001b[0;34m:\u001b[0m\u001b[0;34m\u001b[0m\u001b[0;34m\u001b[0m\u001b[0m\n\u001b[0;32m--> 128\u001b[0;31m                 \u001b[0;32mraise\u001b[0m \u001b[0mTypeError\u001b[0m\u001b[0;34m(\u001b[0m\u001b[0;34m'Keyword argument not understood:'\u001b[0m\u001b[0;34m,\u001b[0m \u001b[0mkwarg\u001b[0m\u001b[0;34m)\u001b[0m\u001b[0;34m\u001b[0m\u001b[0;34m\u001b[0m\u001b[0m\n\u001b[0m\u001b[1;32m    129\u001b[0m         \u001b[0mname\u001b[0m \u001b[0;34m=\u001b[0m \u001b[0mkwargs\u001b[0m\u001b[0;34m.\u001b[0m\u001b[0mget\u001b[0m\u001b[0;34m(\u001b[0m\u001b[0;34m'name'\u001b[0m\u001b[0;34m)\u001b[0m\u001b[0;34m\u001b[0m\u001b[0;34m\u001b[0m\u001b[0m\n\u001b[1;32m    130\u001b[0m         \u001b[0;32mif\u001b[0m \u001b[0;32mnot\u001b[0m \u001b[0mname\u001b[0m\u001b[0;34m:\u001b[0m\u001b[0;34m\u001b[0m\u001b[0;34m\u001b[0m\u001b[0m\n",
      "\u001b[0;31mTypeError\u001b[0m: ('Keyword argument not understood:', 'module')"
     ]
    }
   ],
   "source": [
    "k_cnn_model.save(\"k_cnn.h5\")\n",
    "k_cnn_no_tf = keras.models.load_model(\"k_cnn.h5\")\n",
    "k_cnn_no_tf"
   ]
  },
  {
   "cell_type": "markdown",
   "metadata": {},
   "source": [
    "# Error! Can't reload tf.keras into Keras for CNNs\n",
    "I've tried tracing the reason for this and best I can tell, it's that ONNX creates a lamba layer for the CNN model when translating the `unsqueeze()` command from PyTorch to keras. However this lambda layer is defined, it works in tf.keras but not in regular keras."
   ]
  },
  {
   "cell_type": "code",
   "execution_count": 63,
   "metadata": {},
   "outputs": [
    {
     "name": "stdout",
     "output_type": "stream",
     "text": [
      "_________________________________________________________________\n",
      "Layer (type)                 Output Shape              Param #   \n",
      "=================================================================\n",
      "test_input (InputLayer)      (None, 8, 4)              0         \n",
      "_________________________________________________________________\n",
      "7 (Permute)                  (None, 4, 8)              0         \n",
      "_________________________________________________________________\n",
      "8 (Lambda)                   (None, 1, 4, 8)           0         \n",
      "_________________________________________________________________\n",
      "9 (Conv2D)                   (None, 31, 1, 6)          403       \n",
      "_________________________________________________________________\n",
      "10 (Activation)              (None, 31, 1, 6)          0         \n",
      "_________________________________________________________________\n",
      "11 (Reshape)                 (None, None)              0         \n",
      "_________________________________________________________________\n",
      "12_reshape (Reshape)         (None, 186)               0         \n",
      "_________________________________________________________________\n",
      "12 (Dense)                   (None, 10)                1870      \n",
      "_________________________________________________________________\n",
      "13 (Activation)              (None, 10)                0         \n",
      "_________________________________________________________________\n",
      "test_output (Dense)          (None, 1)                 11        \n",
      "=================================================================\n",
      "Total params: 2,284\n",
      "Trainable params: 2,284\n",
      "Non-trainable params: 0\n",
      "_________________________________________________________________\n"
     ]
    }
   ],
   "source": [
    "k_cnn_model.summary()"
   ]
  },
  {
   "cell_type": "code",
   "execution_count": 74,
   "metadata": {},
   "outputs": [
    {
     "data": {
      "text/plain": [
       "{'name': '8',\n",
       " 'class_name': 'Lambda',\n",
       " 'config': {'name': '8',\n",
       "  'trainable': True,\n",
       "  'dtype': 'float32',\n",
       "  'function': ('4wIAAAAAAAAAAwAAAAQAAABTAAAAcxoAAABkAWQCbABtAX0CAQB8AmoCoAN8AHwBoQJTACkDTukA\\nAAAAKQHaBWtlcmFzKQTaCnRlbnNvcmZsb3dyAgAAANoHYmFja2VuZNoLZXhwYW5kX2RpbXMpA9oB\\neNoEYXhpc3ICAAAAqQByCAAAAPpgL2hvbWUvZXdpbHNvbjYvYW5hY29uZGEzL2VudnMvc2NyYW1i\\nbGVyL2xpYi9weXRob24zLjcvc2l0ZS1wYWNrYWdlcy9vbm54MmtlcmFzL3Jlc2hhcGVfbGF5ZXJz\\nLnB52gx0YXJnZXRfbGF5ZXLhAAAAcwQAAAAAAQwB\\n',\n",
       "   (1,),\n",
       "   None),\n",
       "  'module': 'onnx2keras.reshape_layers',\n",
       "  'function_type': 'lambda',\n",
       "  'output_shape': None,\n",
       "  'output_shape_type': 'raw',\n",
       "  'output_shape_module': None,\n",
       "  'arguments': {}},\n",
       " 'inbound_nodes': [[['7', 0, 0, {}]]]}"
      ]
     },
     "execution_count": 74,
     "metadata": {},
     "output_type": "execute_result"
    }
   ],
   "source": [
    "# I think this is the layer causing issues\n",
    "k_cnn_model.get_config()['layers'][2]"
   ]
  },
  {
   "cell_type": "markdown",
   "metadata": {},
   "source": [
    "### ^^ keras doesn't know what a \"module\" is? Must be a tf.keras thing..."
   ]
  },
  {
   "cell_type": "markdown",
   "metadata": {},
   "source": [
    "# Other tried to convert tf.keras to Keras Model\n",
    "ONNX uses tf.keras, but scramblers uses Keras. We need to convert it before using in scramblers, but for CNNs, I can't seem to just use `keras.models.load_model()`... there's formatting incompatibility\n",
    "\n",
    "Things that did not work:\n",
    "* Just using tf.keras.Model in scramblers - broke in scrambler as above with the SGD error\n",
    "* Just recasting as a keras model - broke in scramblers\n",
    "  * `cnn_test = keras.models.Model(k_lin_d_model)`\n",
    "\n",
    "* saving and reloading from json or config file\n",
    "  * keras still doesn't know about 'module' \n",
    "  \n",
    "Current thing that is partially working to at least load into scramblers:\n",
    "1. make tf.keras model as json object\n",
    "2. Delete part of json that keras doesn't recognize\n",
    "  * `del json_['config']['layers'][2]['config']['module']`\n",
    "  * `del json_['config']['layers'][2]['config']['output_shape_module']`\n",
    "    * I believe these have to do with the Unsqueeze function that happens in the pytorch cnn... Not sure how to get this to work in keras\n",
    "3. convert to json string\n",
    "4. load into keras.Model\n",
    "5. save weights from tf.keras model\n",
    "6. load weights into keras.Model\n",
    "\n",
    "This seems to preserve the predictions still and can go into scramblers, but then it breaks at scrambler prediction time with dimension mismatches. And thus I'm stuck again.\n",
    "\n"
   ]
  },
  {
   "cell_type": "markdown",
   "metadata": {},
   "source": [
    "### Demo of json manual deletions"
   ]
  },
  {
   "cell_type": "code",
   "execution_count": 75,
   "metadata": {},
   "outputs": [],
   "source": [
    "import json"
   ]
  },
  {
   "cell_type": "code",
   "execution_count": 76,
   "metadata": {
    "scrolled": false
   },
   "outputs": [],
   "source": [
    "kjson = k_cnn_model.to_json()\n",
    "json_obj = json.loads(kjson)"
   ]
  },
  {
   "cell_type": "code",
   "execution_count": 77,
   "metadata": {},
   "outputs": [
    {
     "data": {
      "text/plain": [
       "{'name': '8',\n",
       " 'trainable': True,\n",
       " 'dtype': 'float32',\n",
       " 'function': ['4wIAAAAAAAAAAwAAAAQAAABTAAAAcxoAAABkAWQCbABtAX0CAQB8AmoCoAN8AHwBoQJTACkDTukA\\nAAAAKQHaBWtlcmFzKQTaCnRlbnNvcmZsb3dyAgAAANoHYmFja2VuZNoLZXhwYW5kX2RpbXMpA9oB\\neNoEYXhpc3ICAAAAqQByCAAAAPpgL2hvbWUvZXdpbHNvbjYvYW5hY29uZGEzL2VudnMvc2NyYW1i\\nbGVyL2xpYi9weXRob24zLjcvc2l0ZS1wYWNrYWdlcy9vbm54MmtlcmFzL3Jlc2hhcGVfbGF5ZXJz\\nLnB52gx0YXJnZXRfbGF5ZXLhAAAAcwQAAAAAAQwB\\n',\n",
       "  [1],\n",
       "  None],\n",
       " 'module': 'onnx2keras.reshape_layers',\n",
       " 'function_type': 'lambda',\n",
       " 'output_shape': None,\n",
       " 'output_shape_type': 'raw',\n",
       " 'output_shape_module': None,\n",
       " 'arguments': {}}"
      ]
     },
     "execution_count": 77,
     "metadata": {},
     "output_type": "execute_result"
    }
   ],
   "source": [
    "json_obj['config']['layers'][2]['config']"
   ]
  },
  {
   "cell_type": "code",
   "execution_count": 78,
   "metadata": {},
   "outputs": [
    {
     "data": {
      "text/plain": [
       "{'name': '8',\n",
       " 'trainable': True,\n",
       " 'dtype': 'float32',\n",
       " 'function': ['4wIAAAAAAAAAAwAAAAQAAABTAAAAcxoAAABkAWQCbABtAX0CAQB8AmoCoAN8AHwBoQJTACkDTukA\\nAAAAKQHaBWtlcmFzKQTaCnRlbnNvcmZsb3dyAgAAANoHYmFja2VuZNoLZXhwYW5kX2RpbXMpA9oB\\neNoEYXhpc3ICAAAAqQByCAAAAPpgL2hvbWUvZXdpbHNvbjYvYW5hY29uZGEzL2VudnMvc2NyYW1i\\nbGVyL2xpYi9weXRob24zLjcvc2l0ZS1wYWNrYWdlcy9vbm54MmtlcmFzL3Jlc2hhcGVfbGF5ZXJz\\nLnB52gx0YXJnZXRfbGF5ZXLhAAAAcwQAAAAAAQwB\\n',\n",
       "  [1],\n",
       "  None],\n",
       " 'function_type': 'lambda',\n",
       " 'output_shape': None,\n",
       " 'output_shape_type': 'raw',\n",
       " 'arguments': {}}"
      ]
     },
     "execution_count": 78,
     "metadata": {},
     "output_type": "execute_result"
    }
   ],
   "source": [
    "# deleting things that seem to be unsupported by keras but are created in tf.keras\n",
    "del json_obj['config']['layers'][2]['config']['module']\n",
    "del json_obj['config']['layers'][2]['config']['output_shape_module']\n",
    "\n",
    "# json object with problem \"module\" lines deleted\n",
    "json_obj['config']['layers'][2]['config']"
   ]
  },
  {
   "cell_type": "code",
   "execution_count": 80,
   "metadata": {
    "scrolled": false
   },
   "outputs": [
    {
     "data": {
      "text/plain": [
       "{'class_name': 'Model',\n",
       " 'config': {'name': 'model_1',\n",
       "  'layers': [{'name': 'test_input',\n",
       "    'class_name': 'InputLayer',\n",
       "    'config': {'batch_input_shape': [None, 8, 4],\n",
       "     'dtype': 'float32',\n",
       "     'sparse': False,\n",
       "     'name': 'test_input'},\n",
       "    'inbound_nodes': []},\n",
       "   {'name': '7',\n",
       "    'class_name': 'Permute',\n",
       "    'config': {'name': '7',\n",
       "     'trainable': True,\n",
       "     'dtype': 'float32',\n",
       "     'dims': [2, 1]},\n",
       "    'inbound_nodes': [[['test_input', 0, 0, {}]]]},\n",
       "   {'name': '8',\n",
       "    'class_name': 'Lambda',\n",
       "    'config': {'name': '8',\n",
       "     'trainable': True,\n",
       "     'dtype': 'float32',\n",
       "     'function': ['4wIAAAAAAAAAAwAAAAQAAABTAAAAcxoAAABkAWQCbABtAX0CAQB8AmoCoAN8AHwBoQJTACkDTukA\\nAAAAKQHaBWtlcmFzKQTaCnRlbnNvcmZsb3dyAgAAANoHYmFja2VuZNoLZXhwYW5kX2RpbXMpA9oB\\neNoEYXhpc3ICAAAAqQByCAAAAPpgL2hvbWUvZXdpbHNvbjYvYW5hY29uZGEzL2VudnMvc2NyYW1i\\nbGVyL2xpYi9weXRob24zLjcvc2l0ZS1wYWNrYWdlcy9vbm54MmtlcmFzL3Jlc2hhcGVfbGF5ZXJz\\nLnB52gx0YXJnZXRfbGF5ZXLhAAAAcwQAAAAAAQwB\\n',\n",
       "      [1],\n",
       "      None],\n",
       "     'function_type': 'lambda',\n",
       "     'output_shape': None,\n",
       "     'output_shape_type': 'raw',\n",
       "     'arguments': {}},\n",
       "    'inbound_nodes': [[['7', 0, 0, {}]]]},\n",
       "   {'name': '9',\n",
       "    'class_name': 'Conv2D',\n",
       "    'config': {'name': '9',\n",
       "     'trainable': True,\n",
       "     'dtype': 'float32',\n",
       "     'filters': 31,\n",
       "     'kernel_size': [4, 3],\n",
       "     'strides': [1, 1],\n",
       "     'padding': 'valid',\n",
       "     'data_format': 'channels_first',\n",
       "     'dilation_rate': [1, 1],\n",
       "     'activation': 'linear',\n",
       "     'use_bias': True,\n",
       "     'kernel_initializer': {'class_name': 'Zeros',\n",
       "      'config': {'dtype': 'float32'}},\n",
       "     'bias_initializer': {'class_name': 'Zeros',\n",
       "      'config': {'dtype': 'float32'}},\n",
       "     'kernel_regularizer': None,\n",
       "     'bias_regularizer': None,\n",
       "     'activity_regularizer': None,\n",
       "     'kernel_constraint': None,\n",
       "     'bias_constraint': None},\n",
       "    'inbound_nodes': [[['8', 0, 0, {}]]]},\n",
       "   {'name': '10',\n",
       "    'class_name': 'Activation',\n",
       "    'config': {'name': '10',\n",
       "     'trainable': True,\n",
       "     'dtype': 'float32',\n",
       "     'activation': 'relu'},\n",
       "    'inbound_nodes': [[['9', 0, 0, {}]]]},\n",
       "   {'name': '11',\n",
       "    'class_name': 'Reshape',\n",
       "    'config': {'name': '11',\n",
       "     'trainable': True,\n",
       "     'dtype': 'float32',\n",
       "     'target_shape': [-1]},\n",
       "    'inbound_nodes': [[['10', 0, 0, {}]]]},\n",
       "   {'name': '12_reshape',\n",
       "    'class_name': 'Reshape',\n",
       "    'config': {'name': '12_reshape',\n",
       "     'trainable': True,\n",
       "     'dtype': 'float32',\n",
       "     'target_shape': [186]},\n",
       "    'inbound_nodes': [[['11', 0, 0, {}]]]},\n",
       "   {'name': '12',\n",
       "    'class_name': 'Dense',\n",
       "    'config': {'name': '12',\n",
       "     'trainable': True,\n",
       "     'dtype': 'float32',\n",
       "     'units': 10,\n",
       "     'activation': 'linear',\n",
       "     'use_bias': True,\n",
       "     'kernel_initializer': {'class_name': 'Zeros',\n",
       "      'config': {'dtype': 'float32'}},\n",
       "     'bias_initializer': {'class_name': 'Zeros',\n",
       "      'config': {'dtype': 'float32'}},\n",
       "     'kernel_regularizer': None,\n",
       "     'bias_regularizer': None,\n",
       "     'activity_regularizer': None,\n",
       "     'kernel_constraint': None,\n",
       "     'bias_constraint': None},\n",
       "    'inbound_nodes': [[['12_reshape', 0, 0, {}]]]},\n",
       "   {'name': '13',\n",
       "    'class_name': 'Activation',\n",
       "    'config': {'name': '13',\n",
       "     'trainable': True,\n",
       "     'dtype': 'float32',\n",
       "     'activation': 'relu'},\n",
       "    'inbound_nodes': [[['12', 0, 0, {}]]]},\n",
       "   {'name': 'test_output',\n",
       "    'class_name': 'Dense',\n",
       "    'config': {'name': 'test_output',\n",
       "     'trainable': True,\n",
       "     'dtype': 'float32',\n",
       "     'units': 1,\n",
       "     'activation': 'linear',\n",
       "     'use_bias': True,\n",
       "     'kernel_initializer': {'class_name': 'Zeros',\n",
       "      'config': {'dtype': 'float32'}},\n",
       "     'bias_initializer': {'class_name': 'Zeros',\n",
       "      'config': {'dtype': 'float32'}},\n",
       "     'kernel_regularizer': None,\n",
       "     'bias_regularizer': None,\n",
       "     'activity_regularizer': None,\n",
       "     'kernel_constraint': None,\n",
       "     'bias_constraint': None},\n",
       "    'inbound_nodes': [[['13', 0, 0, {}]]]}],\n",
       "  'input_layers': [['test_input', 0, 0]],\n",
       "  'output_layers': [['test_output', 0, 0]]},\n",
       " 'keras_version': '2.2.4-tf',\n",
       " 'backend': 'tensorflow'}"
      ]
     },
     "execution_count": 80,
     "metadata": {},
     "output_type": "execute_result"
    }
   ],
   "source": [
    "#Full JSON object:\n",
    "json_obj"
   ]
  },
  {
   "cell_type": "code",
   "execution_count": 82,
   "metadata": {},
   "outputs": [
    {
     "data": {
      "text/plain": [
       "<keras.engine.training.Model at 0x7fc8ff3cb110>"
      ]
     },
     "execution_count": 82,
     "metadata": {},
     "output_type": "execute_result"
    }
   ],
   "source": [
    "# convert json to string and load into keras\n",
    "json_str = json.dumps(json_obj)\n",
    "jtest = keras.models.model_from_json(json_str)\n",
    "jtest"
   ]
  },
  {
   "cell_type": "code",
   "execution_count": 83,
   "metadata": {},
   "outputs": [
    {
     "name": "stdout",
     "output_type": "stream",
     "text": [
      "_________________________________________________________________\n",
      "Layer (type)                 Output Shape              Param #   \n",
      "=================================================================\n",
      "test_input (InputLayer)      (None, 8, 4)              0         \n",
      "_________________________________________________________________\n",
      "7 (Permute)                  (None, 4, 8)              0         \n",
      "_________________________________________________________________\n",
      "8 (Lambda)                   (None, 1, 4, 8)           0         \n",
      "_________________________________________________________________\n",
      "9 (Conv2D)                   (None, 31, 1, 6)          403       \n",
      "_________________________________________________________________\n",
      "10 (Activation)              (None, 31, 1, 6)          0         \n",
      "_________________________________________________________________\n",
      "11 (Reshape)                 (None, 186)               0         \n",
      "_________________________________________________________________\n",
      "12_reshape (Reshape)         (None, 186)               0         \n",
      "_________________________________________________________________\n",
      "12 (Dense)                   (None, 10)                1870      \n",
      "_________________________________________________________________\n",
      "13 (Activation)              (None, 10)                0         \n",
      "_________________________________________________________________\n",
      "test_output (Dense)          (None, 1)                 11        \n",
      "=================================================================\n",
      "Total params: 2,284\n",
      "Trainable params: 2,284\n",
      "Non-trainable params: 0\n",
      "_________________________________________________________________\n"
     ]
    }
   ],
   "source": [
    "jtest.summary()"
   ]
  },
  {
   "cell_type": "markdown",
   "metadata": {},
   "source": [
    "### But wait! the newly loaded keras model doesn't have weights! \n",
    "Need to add from the tf.keras model?"
   ]
  },
  {
   "cell_type": "code",
   "execution_count": 85,
   "metadata": {
    "scrolled": false
   },
   "outputs": [
    {
     "name": "stdout",
     "output_type": "stream",
     "text": [
      "Before: [array([[[[0., 0., 0., 0., 0., 0., 0., 0., 0., 0., 0., 0., 0., 0., 0.,\n",
      "          0., 0., 0., 0., 0., 0., 0., 0., 0., 0., 0., 0., 0., 0., 0.,\n",
      "          0.]],\n",
      "\n",
      "        [[0., 0., 0., 0., 0., 0., 0., 0., 0., 0., 0., 0., 0., 0., 0.,\n",
      "          0., 0., 0., 0., 0., 0., 0., 0., 0., 0., 0., 0., 0., 0., 0.,\n",
      "          0.]],\n",
      "\n",
      "        [[0., 0., 0., 0., 0., 0., 0., 0., 0., 0., 0., 0., 0., 0., 0.,\n",
      "          0., 0., 0., 0., 0., 0., 0., 0., 0., 0., 0., 0., 0., 0., 0.,\n",
      "          0.]]],\n",
      "\n",
      "\n",
      "       [[[0., 0., 0., 0., 0., 0., 0., 0., 0., 0., 0., 0., 0., 0., 0.,\n",
      "          0., 0., 0., 0., 0., 0., 0., 0., 0., 0., 0., 0., 0., 0., 0.,\n",
      "          0.]],\n",
      "\n",
      "        [[0., 0., 0., 0., 0., 0., 0., 0., 0., 0., 0., 0., 0., 0., 0.,\n",
      "          0., 0., 0., 0., 0., 0., 0., 0., 0., 0., 0., 0., 0., 0., 0.,\n",
      "          0.]],\n",
      "\n",
      "        [[0., 0., 0., 0., 0., 0., 0., 0., 0., 0., 0., 0., 0., 0., 0.,\n",
      "          0., 0., 0., 0., 0., 0., 0., 0., 0., 0., 0., 0., 0., 0., 0.,\n",
      "          0.]]],\n",
      "\n",
      "\n",
      "       [[[0., 0., 0., 0., 0., 0., 0., 0., 0., 0., 0., 0., 0., 0., 0.,\n",
      "          0., 0., 0., 0., 0., 0., 0., 0., 0., 0., 0., 0., 0., 0., 0.,\n",
      "          0.]],\n",
      "\n",
      "        [[0., 0., 0., 0., 0., 0., 0., 0., 0., 0., 0., 0., 0., 0., 0.,\n",
      "          0., 0., 0., 0., 0., 0., 0., 0., 0., 0., 0., 0., 0., 0., 0.,\n",
      "          0.]],\n",
      "\n",
      "        [[0., 0., 0., 0., 0., 0., 0., 0., 0., 0., 0., 0., 0., 0., 0.,\n",
      "          0., 0., 0., 0., 0., 0., 0., 0., 0., 0., 0., 0., 0., 0., 0.,\n",
      "          0.]]],\n",
      "\n",
      "\n",
      "       [[[0., 0., 0., 0., 0., 0., 0., 0., 0., 0., 0., 0., 0., 0., 0.,\n",
      "          0., 0., 0., 0., 0., 0., 0., 0., 0., 0., 0., 0., 0., 0., 0.,\n",
      "          0.]],\n",
      "\n",
      "        [[0., 0., 0., 0., 0., 0., 0., 0., 0., 0., 0., 0., 0., 0., 0.,\n",
      "          0., 0., 0., 0., 0., 0., 0., 0., 0., 0., 0., 0., 0., 0., 0.,\n",
      "          0.]],\n",
      "\n",
      "        [[0., 0., 0., 0., 0., 0., 0., 0., 0., 0., 0., 0., 0., 0., 0.,\n",
      "          0., 0., 0., 0., 0., 0., 0., 0., 0., 0., 0., 0., 0., 0., 0.,\n",
      "          0.]]]], dtype=float32), array([0., 0., 0., 0., 0., 0., 0., 0., 0., 0., 0., 0., 0., 0., 0., 0., 0.,\n",
      "       0., 0., 0., 0., 0., 0., 0., 0., 0., 0., 0., 0., 0., 0.],\n",
      "      dtype=float32), array([[0., 0., 0., ..., 0., 0., 0.],\n",
      "       [0., 0., 0., ..., 0., 0., 0.],\n",
      "       [0., 0., 0., ..., 0., 0., 0.],\n",
      "       ...,\n",
      "       [0., 0., 0., ..., 0., 0., 0.],\n",
      "       [0., 0., 0., ..., 0., 0., 0.],\n",
      "       [0., 0., 0., ..., 0., 0., 0.]], dtype=float32), array([0., 0., 0., 0., 0., 0., 0., 0., 0., 0.], dtype=float32), array([[0.],\n",
      "       [0.],\n",
      "       [0.],\n",
      "       [0.],\n",
      "       [0.],\n",
      "       [0.],\n",
      "       [0.],\n",
      "       [0.],\n",
      "       [0.],\n",
      "       [0.]], dtype=float32), array([0.], dtype=float32)]\n",
      "After: [array([[[[ 7.71132350e-01, -6.72157645e-01, -1.68501735e-01,\n",
      "          -1.43571883e-01, -1.08531311e-01, -1.88428208e-01,\n",
      "          -8.84520113e-01, -1.59313589e-01,  1.39109800e-02,\n",
      "          -7.77920783e-02, -4.10176605e-01,  9.55612436e-02,\n",
      "           4.42355812e-01, -3.17356586e-01, -5.29815495e-01,\n",
      "          -5.95287025e-01, -4.26956385e-01, -6.72082976e-02,\n",
      "           4.74336714e-01,  3.92716825e-01, -1.25637531e-01,\n",
      "          -1.16256349e-01,  4.53754850e-02, -3.03629786e-01,\n",
      "          -9.13668752e-01,  4.53041553e-01, -1.07395105e-01,\n",
      "          -3.99266183e-01, -1.92873910e-01, -4.05218869e-01,\n",
      "          -2.34135762e-01]],\n",
      "\n",
      "        [[ 2.12301806e-01,  5.02290905e-01,  2.55281150e-01,\n",
      "          -4.52743769e-01,  1.12719700e-01,  1.82274640e-01,\n",
      "          -1.20542932e+00,  9.43947807e-02,  1.23453982e-01,\n",
      "          -1.36275291e-02,  4.73084182e-01, -2.80236080e-02,\n",
      "          -1.91486746e-01, -2.34910473e-01, -4.19943929e-01,\n",
      "           7.74557829e-01, -5.98426938e-01, -1.11179411e-01,\n",
      "           3.01032335e-01,  1.47457272e-01, -1.51576653e-01,\n",
      "          -2.86117584e-01, -2.25710601e-01, -5.85734509e-02,\n",
      "           1.26225603e+00, -9.38133538e-01, -1.19570540e-02,\n",
      "          -4.44787413e-01,  1.02281749e-01,  5.67953467e-01,\n",
      "          -3.70083809e-01]],\n",
      "\n",
      "        [[-4.27036434e-01,  8.08556259e-01,  1.59424618e-01,\n",
      "          -3.79277825e-01, -1.13428131e-01, -5.71920909e-02,\n",
      "          -6.39069080e-01, -7.02089146e-02, -8.56218860e-02,\n",
      "          -1.96237758e-01, -3.79069865e-01, -2.66970694e-01,\n",
      "           4.90689427e-01,  4.14431430e-02, -1.24974094e-01,\n",
      "          -6.42390013e-01,  4.63268310e-01, -1.94182545e-01,\n",
      "          -1.82025284e-02,  2.64078438e-01, -1.84538051e-01,\n",
      "          -4.61888522e-01,  6.00864291e-01,  5.56336045e-02,\n",
      "          -9.62699294e-01, -8.69559109e-01, -3.56801301e-02,\n",
      "           1.00546204e-01, -3.95338237e-01, -5.81322908e-01,\n",
      "           1.27943873e-01]]],\n",
      "\n",
      "\n",
      "       [[[-6.01857066e-01,  3.62145185e-01, -2.40626812e-01,\n",
      "          -1.42297447e-01, -2.91923601e-02, -3.78309518e-01,\n",
      "           1.57388854e+00, -6.31011844e-01, -2.37383366e-01,\n",
      "          -1.97462201e-01, -4.09208059e-01, -8.95206183e-02,\n",
      "          -2.84431994e-01, -2.88806438e-01, -4.38007653e-01,\n",
      "          -5.95045805e-01, -4.19090152e-01, -1.09902218e-01,\n",
      "           1.64852679e-01,  5.02329990e-02, -1.34003624e-01,\n",
      "           1.11677766e-01, -5.65743327e-01, -2.60906011e-01,\n",
      "          -9.12581682e-01,  4.23878640e-01, -1.93175688e-01,\n",
      "          -4.43473250e-01,  1.33537352e-01, -4.04777050e-01,\n",
      "          -2.36739635e-01]],\n",
      "\n",
      "        [[-3.43179971e-01, -2.05340669e-01, -8.34836438e-02,\n",
      "          -4.34719980e-01, -3.17366868e-01, -6.09436072e-02,\n",
      "          -1.23734379e+00, -5.11700571e-01, -8.75385627e-02,\n",
      "          -5.35766482e-02, -4.95712817e-01, -1.10877730e-01,\n",
      "          -1.70735538e-01,  1.47982329e-01, -1.13924764e-01,\n",
      "          -5.94675303e-01,  1.32292783e+00,  1.35789886e-01,\n",
      "           3.85955542e-01, -1.81593210e-01, -3.45066525e-02,\n",
      "           6.64469242e-01, -9.96202603e-02, -3.29000831e-01,\n",
      "          -8.15080225e-01,  1.40789783e+00, -5.00369780e-02,\n",
      "           7.42922962e-01, -2.36855336e-02, -4.50706750e-01,\n",
      "           5.40089905e-01]],\n",
      "\n",
      "        [[-1.09211169e-01, -2.99836189e-01, -2.62575388e-01,\n",
      "           1.33800435e+00,  1.55825615e-01, -5.36603257e-02,\n",
      "           5.02033949e-01, -5.76051176e-01, -3.90066653e-01,\n",
      "           8.85472458e-04, -3.79860252e-01,  2.15306263e-02,\n",
      "          -2.35824868e-01, -7.53418952e-02,  7.20895827e-02,\n",
      "          -6.44230247e-01,  2.83563435e-01, -3.61964673e-01,\n",
      "           1.21022370e-02, -4.50340539e-01, -2.27908552e-01,\n",
      "          -3.10923457e-01, -4.34307575e-01, -7.31078312e-02,\n",
      "          -9.62910652e-01, -9.56307530e-01, -7.50779659e-02,\n",
      "           1.04271017e-01, -2.32450008e-01, -5.82170725e-01,\n",
      "           1.26584888e-01]]],\n",
      "\n",
      "\n",
      "       [[[-6.00935340e-01,  1.09592512e-01, -3.70646626e-01,\n",
      "          -1.38028368e-01,  4.33841906e-02, -6.22709505e-02,\n",
      "          -9.17874634e-01,  2.22641855e-01, -2.04843968e-01,\n",
      "           9.62580889e-02, -4.09136295e-01, -4.36760336e-02,\n",
      "          -3.49652946e-01, -5.65719046e-02,  7.06973150e-02,\n",
      "          -5.95210135e-01,  5.03438532e-01, -2.20115975e-01,\n",
      "          -7.78984249e-01, -2.15580881e-01, -5.66117764e-02,\n",
      "          -9.93840575e-01,  1.73450455e-01, -4.85710092e-02,\n",
      "          -9.11295056e-01, -1.88882935e+00,  2.35692151e-02,\n",
      "           7.67677128e-01, -3.49029273e-01, -4.04820085e-01,\n",
      "           6.74584568e-01]],\n",
      "\n",
      "        [[-3.02331030e-01, -5.57043791e-01, -2.43877113e-01,\n",
      "           9.08943594e-01, -3.47488135e-01,  4.56889533e-02,\n",
      "           2.40558147e+00,  4.72460836e-01,  1.01214595e-01,\n",
      "          -3.68418455e-01, -4.95704979e-01,  5.23471944e-02,\n",
      "           4.44483161e-01, -1.29413098e-01,  8.23760033e-03,\n",
      "          -5.95001221e-01, -6.12986147e-01, -6.42096475e-02,\n",
      "          -5.50067425e-01, -3.38149548e-01, -2.20457297e-02,\n",
      "          -6.55410469e-01,  5.45196235e-01,  1.38866514e-01,\n",
      "          -8.15130949e-01, -9.40947175e-01, -5.04326308e-04,\n",
      "          -4.67519194e-01, -4.15572852e-01, -3.73209804e-01,\n",
      "          -3.77680272e-01]],\n",
      "\n",
      "        [[-1.37501687e-01, -1.03606604e-01,  6.70705140e-02,\n",
      "          -3.93403858e-01, -3.01278353e-01, -2.17744783e-01,\n",
      "          -6.71802104e-01,  3.28449726e-01, -1.02825627e-01,\n",
      "          -9.68110003e-03, -3.79717082e-01, -1.14781916e-01,\n",
      "          -1.97837815e-01, -2.08316799e-02,  5.33953682e-02,\n",
      "          -6.43443704e-01, -1.49450386e+00,  3.96009199e-02,\n",
      "          -6.20430009e-03,  3.02117527e-01, -2.63840109e-01,\n",
      "           9.04462576e-01, -2.49324590e-02, -2.12954193e-01,\n",
      "          -9.63218153e-01,  1.47274423e+00, -1.98031321e-01,\n",
      "          -1.06661570e+00, -1.03848837e-01, -5.81443429e-01,\n",
      "          -7.33958840e-01]]],\n",
      "\n",
      "\n",
      "       [[[-2.16985822e-01,  9.34648141e-02,  1.71568394e-01,\n",
      "          -1.39644101e-01, -2.83321977e-01, -3.02359998e-01,\n",
      "          -9.03752565e-01,  1.26838773e-01,  6.85454011e-02,\n",
      "           4.35111262e-02,  5.58979750e-01, -3.34212631e-01,\n",
      "          -3.23656559e-01, -1.17929392e-01,  5.50464213e-01,\n",
      "           7.73324311e-01, -3.74008089e-01,  1.27555849e-02,\n",
      "          -5.82002521e-01, -1.90445572e-01,  9.25722048e-02,\n",
      "           2.62315869e-01,  1.47359282e-01, -3.08556080e-01,\n",
      "           1.16720665e+00,  3.96019489e-01,  8.91047791e-02,\n",
      "          -4.17219043e-01, -1.37824506e-01,  5.35886049e-01,\n",
      "          -2.33997986e-01]],\n",
      "\n",
      "        [[-4.03598756e-01, -9.67446640e-02, -2.32504383e-01,\n",
      "          -4.35730606e-01, -1.35625392e-01, -6.12739101e-02,\n",
      "          -1.19678557e+00,  1.01339243e-01,  1.99664623e-01,\n",
      "          -2.38940164e-01, -4.95678961e-01,  1.71992835e-02,\n",
      "          -1.26495823e-01,  3.74573916e-02,  2.32916981e-01,\n",
      "          -5.94425142e-01, -5.96219122e-01,  1.92344204e-01,\n",
      "           7.55575299e-02,  5.66837370e-01, -1.79177999e-01,\n",
      "          -6.21621847e-01,  1.65475383e-01, -1.27645042e-02,\n",
      "          -8.16208780e-01, -9.48712468e-01,  4.83896770e-03,\n",
      "          -4.46984112e-01, -3.61109525e-02, -3.72987092e-01,\n",
      "          -3.69865209e-01]],\n",
      "\n",
      "        [[-9.95094031e-02, -3.11394334e-01, -2.78213084e-01,\n",
      "          -4.24911022e-01, -2.58213073e-01,  2.17171803e-01,\n",
      "          -5.87856889e-01,  1.79443844e-02,  2.35241912e-02,\n",
      "           8.04105699e-02,  5.89281678e-01, -3.25235933e-01,\n",
      "          -2.81340569e-01,  3.75448838e-02,  1.61514595e-01,\n",
      "           7.26642668e-01,  3.00445527e-01, -1.75290078e-01,\n",
      "          -7.77737275e-02, -3.95524085e-01, -3.43095772e-02,\n",
      "          -7.49700889e-02, -3.62746030e-01,  1.39097735e-01,\n",
      "           1.11445296e+00, -8.68500352e-01, -2.52957523e-01,\n",
      "           5.23948185e-02,  1.44184947e-01,  3.59925508e-01,\n",
      "           1.75041467e-01]]]], dtype=float32), array([-0.19614972, -0.18641838, -0.31660098, -0.42353645, -0.02264501,\n",
      "       -0.09751419, -0.9367353 , -0.27132425, -0.33091754, -0.1693396 ,\n",
      "       -0.6597422 , -0.17115277, -0.2108799 , -0.13672021,  0.12185246,\n",
      "       -0.91555625, -0.55042803, -0.2533336 , -0.26278126, -0.22403201,\n",
      "        0.11367669, -0.8455384 , -0.3878056 , -0.06633003, -1.4764878 ,\n",
      "       -1.0097903 , -0.32950953, -0.45375726, -0.38058755, -0.5294174 ,\n",
      "       -0.4927253 ], dtype=float32), array([[ 0.0992559 , -0.06771934,  0.1120785 , ...,  0.04165846,\n",
      "        -0.06243534,  0.00815095],\n",
      "       [-0.01575608,  0.0639207 ,  0.09704275, ...,  0.04288648,\n",
      "        -0.10677808, -0.04186924],\n",
      "       [-0.04565142, -0.12434734, -0.01989973, ..., -0.01289871,\n",
      "        -0.09192917,  0.00268141],\n",
      "       ...,\n",
      "       [ 0.08435617,  0.00641523,  0.24633276, ...,  0.06189913,\n",
      "         0.02976527, -0.05673642],\n",
      "       [ 0.02849725,  0.00624751,  0.11268124, ...,  0.14340328,\n",
      "        -0.021902  ,  0.06589616],\n",
      "       [ 0.05587222, -0.01440558,  0.47544414, ...,  0.37477174,\n",
      "         0.02400672, -0.13431756]], dtype=float32), array([ 0.09754386,  1.8385823 ,  1.8647523 ,  0.24153766,  1.0357755 ,\n",
      "       -0.55481964,  2.2371902 ,  1.1306953 , -1.4116619 , -0.02292832],\n",
      "      dtype=float32), array([[ 0.47723722],\n",
      "       [-1.750552  ],\n",
      "       [ 1.4513453 ],\n",
      "       [ 0.6290849 ],\n",
      "       [ 0.86245215],\n",
      "       [-0.9638918 ],\n",
      "       [ 1.7886982 ],\n",
      "       [ 0.89887273],\n",
      "       [-2.504699  ],\n",
      "       [ 0.79422736]], dtype=float32), array([7.2007184], dtype=float32)]\n"
     ]
    }
   ],
   "source": [
    "# load weights into empty jtest\n",
    "print(\"Before:\",jtest.get_weights())\n",
    "k_cnn_model.save_weights('k_cnn_model_weights.h5')\n",
    "jtest.load_weights('k_cnn_model_weights.h5')\n",
    "print(\"After:\",jtest.get_weights())\n"
   ]
  },
  {
   "cell_type": "markdown",
   "metadata": {},
   "source": [
    "### Quick check to make sure previous tf.keras model makes the same predictions as the newly weight-loaded `jtest`"
   ]
  },
  {
   "cell_type": "code",
   "execution_count": 87,
   "metadata": {},
   "outputs": [
    {
     "name": "stdout",
     "output_type": "stream",
     "text": [
      "<tensorflow.python.keras.engine.training.Model object at 0x7fcc9148dd50>\n",
      "<keras.engine.training.Model object at 0x7fc8ff3cb110>\n"
     ]
    }
   ],
   "source": [
    "print(k_cnn_model)\n",
    "print(jtest)"
   ]
  },
  {
   "cell_type": "code",
   "execution_count": 94,
   "metadata": {},
   "outputs": [
    {
     "name": "stdout",
     "output_type": "stream",
     "text": [
      "_________________________________________________________________\n",
      "Layer (type)                 Output Shape              Param #   \n",
      "=================================================================\n",
      "test_input (InputLayer)      (None, 8, 4)              0         \n",
      "_________________________________________________________________\n",
      "7 (Permute)                  (None, 4, 8)              0         \n",
      "_________________________________________________________________\n",
      "8 (Lambda)                   (None, 1, 4, 8)           0         \n",
      "_________________________________________________________________\n",
      "9 (Conv2D)                   (None, 31, 1, 6)          403       \n",
      "_________________________________________________________________\n",
      "10 (Activation)              (None, 31, 1, 6)          0         \n",
      "_________________________________________________________________\n",
      "11 (Reshape)                 (None, 186)               0         \n",
      "_________________________________________________________________\n",
      "12_reshape (Reshape)         (None, 186)               0         \n",
      "_________________________________________________________________\n",
      "12 (Dense)                   (None, 10)                1870      \n",
      "_________________________________________________________________\n",
      "13 (Activation)              (None, 10)                0         \n",
      "_________________________________________________________________\n",
      "test_output (Dense)          (None, 1)                 11        \n",
      "=================================================================\n",
      "Total params: 2,284\n",
      "Trainable params: 2,284\n",
      "Non-trainable params: 0\n",
      "_________________________________________________________________\n"
     ]
    }
   ],
   "source": [
    "jtest_reload.summary()"
   ]
  },
  {
   "cell_type": "code",
   "execution_count": 116,
   "metadata": {},
   "outputs": [
    {
     "data": {
      "text/plain": [
       "(52416, 1, 8, 4)"
      ]
     },
     "execution_count": 116,
     "metadata": {},
     "output_type": "execute_result"
    }
   ],
   "source": [
    "x_train.shape"
   ]
  },
  {
   "cell_type": "code",
   "execution_count": null,
   "metadata": {},
   "outputs": [],
   "source": []
  },
  {
   "cell_type": "code",
   "execution_count": null,
   "metadata": {},
   "outputs": [],
   "source": []
  },
  {
   "cell_type": "code",
   "execution_count": 110,
   "metadata": {},
   "outputs": [
    {
     "name": "stdout",
     "output_type": "stream",
     "text": [
      "AAAAAAAA: tf.keras: [[20.049257]]  reg keras: [[20.04926]]\n",
      "TTTTTTTT: tf.keras: [[11.053608]]  reg keras: [[11.053608]]\n",
      "CCCCCCCC: tf.keras: [[17.018944]]  reg keras: [[17.018944]]\n",
      "GGGGGGGG: tf.keras: [[14.023263]]  reg keras: [[14.023263]]\n",
      "GGGTATGG: tf.keras: [[24.01476]]  reg keras: [[24.014761]]\n",
      "AAGCGAAA: tf.keras: [[8.150868]]  reg keras: [[8.150868]]\n"
     ]
    }
   ],
   "source": [
    "ohe_seqs = [u.one_hot_encode(x) for x in seqs]\n",
    "ohe_seqs = [torch.from_numpy(x).unsqueeze(0).float() for x in ohe_seqs]\n",
    "\n",
    "for i in range(len(seqs)):\n",
    "    seq = seqs[i]\n",
    "    ohe_seq = ohe_seqs[i]\n",
    "    seq_k = np.array(ohe_seq)\n",
    "\n",
    "    res2 = k_cnn_model.predict(seq_k)\n",
    "    res3 = jtest.predict(seq_k)\n",
    "    print(f\"{seq}: tf.keras: {res2}  reg keras: {res3}\")\n"
   ]
  },
  {
   "cell_type": "markdown",
   "metadata": {},
   "source": [
    "### Yes, these look the same. Save."
   ]
  },
  {
   "cell_type": "code",
   "execution_count": 90,
   "metadata": {},
   "outputs": [],
   "source": [
    "jtest.save(\"jtest_cnn.h5\")"
   ]
  },
  {
   "cell_type": "code",
   "execution_count": 91,
   "metadata": {},
   "outputs": [
    {
     "name": "stderr",
     "output_type": "stream",
     "text": [
      "/home/ewilson6/anaconda3/envs/scrambler/lib/python3.7/site-packages/keras/engine/saving.py:292: UserWarning: No training configuration found in save file: the model was *not* compiled. Compile it manually.\n",
      "  warnings.warn('No training configuration found in save file: '\n"
     ]
    }
   ],
   "source": [
    "jtest_reload = keras.models.load_model(\"jtest_cnn.h5\")"
   ]
  },
  {
   "cell_type": "code",
   "execution_count": null,
   "metadata": {},
   "outputs": [],
   "source": []
  },
  {
   "cell_type": "code",
   "execution_count": 111,
   "metadata": {},
   "outputs": [
    {
     "name": "stdout",
     "output_type": "stream",
     "text": [
      "AAAAAAAA: tf.keras: [[20.049257]]  reg keras: [[20.04926]]   keras reload: [[20.04926]]\n",
      "TTTTTTTT: tf.keras: [[11.053608]]  reg keras: [[11.053608]]   keras reload: [[11.053608]]\n",
      "CCCCCCCC: tf.keras: [[17.018944]]  reg keras: [[17.018944]]   keras reload: [[17.018944]]\n",
      "GGGGGGGG: tf.keras: [[14.023263]]  reg keras: [[14.023263]]   keras reload: [[14.023263]]\n",
      "GGGTATGG: tf.keras: [[24.01476]]  reg keras: [[24.014761]]   keras reload: [[24.014761]]\n",
      "AAGCGAAA: tf.keras: [[8.150868]]  reg keras: [[8.150868]]   keras reload: [[8.150868]]\n"
     ]
    }
   ],
   "source": [
    "for i in range(len(seqs)):\n",
    "    seq = seqs[i]\n",
    "    ohe_seq = ohe_seqs[i]\n",
    "    seq_k = np.array(ohe_seq)\n",
    "\n",
    "    res2 = k_cnn_model.predict(seq_k)\n",
    "    res3 = jtest.predict(seq_k)\n",
    "    res4 = jtest_reload.predict(seq_k)\n",
    "    print(f\"{seq}: tf.keras: {res2}  reg keras: {res3}   keras reload: {res4}\")"
   ]
  },
  {
   "cell_type": "markdown",
   "metadata": {},
   "source": [
    "# Try to use jtest in Scramblers"
   ]
  },
  {
   "cell_type": "code",
   "execution_count": 96,
   "metadata": {
    "scrolled": false
   },
   "outputs": [
    {
     "name": "stdout",
     "output_type": "stream",
     "text": [
      "SCRAMBLER INITIATED!!\n",
      "IN SCRAMBLER TRAIN!\n",
      "predictor is compiled??\n",
      "<keras.engine.training.Model object at 0x7fc8ff3cb110>\n",
      "Scrambler has created inputs...\n",
      "Starting to build lambda stuff?\n",
      "About to predict stuff...\n"
     ]
    },
    {
     "ename": "ValueError",
     "evalue": "Dimension must be 4 but is 3 for 'model_1_1/7/transpose' (op: 'Transpose') with input shapes: [?,1,8,4], [3].",
     "output_type": "error",
     "traceback": [
      "\u001b[0;31m---------------------------------------------------------------------------\u001b[0m",
      "\u001b[0;31mInvalidArgumentError\u001b[0m                      Traceback (most recent call last)",
      "\u001b[0;32m~/anaconda3/envs/scrambler/lib/python3.7/site-packages/tensorflow/python/framework/ops.py\u001b[0m in \u001b[0;36m_create_c_op\u001b[0;34m(graph, node_def, inputs, control_inputs)\u001b[0m\n\u001b[1;32m   1658\u001b[0m   \u001b[0;32mtry\u001b[0m\u001b[0;34m:\u001b[0m\u001b[0;34m\u001b[0m\u001b[0;34m\u001b[0m\u001b[0m\n\u001b[0;32m-> 1659\u001b[0;31m     \u001b[0mc_op\u001b[0m \u001b[0;34m=\u001b[0m \u001b[0mc_api\u001b[0m\u001b[0;34m.\u001b[0m\u001b[0mTF_FinishOperation\u001b[0m\u001b[0;34m(\u001b[0m\u001b[0mop_desc\u001b[0m\u001b[0;34m)\u001b[0m\u001b[0;34m\u001b[0m\u001b[0;34m\u001b[0m\u001b[0m\n\u001b[0m\u001b[1;32m   1660\u001b[0m   \u001b[0;32mexcept\u001b[0m \u001b[0merrors\u001b[0m\u001b[0;34m.\u001b[0m\u001b[0mInvalidArgumentError\u001b[0m \u001b[0;32mas\u001b[0m \u001b[0me\u001b[0m\u001b[0;34m:\u001b[0m\u001b[0;34m\u001b[0m\u001b[0;34m\u001b[0m\u001b[0m\n",
      "\u001b[0;31mInvalidArgumentError\u001b[0m: Dimension must be 4 but is 3 for 'model_1_1/7/transpose' (op: 'Transpose') with input shapes: [?,1,8,4], [3].",
      "\nDuring handling of the above exception, another exception occurred:\n",
      "\u001b[0;31mValueError\u001b[0m                                Traceback (most recent call last)",
      "\u001b[0;32m<ipython-input-96-8e6734e3318f>\u001b[0m in \u001b[0;36m<module>\u001b[0;34m\u001b[0m\n\u001b[0;32m----> 1\u001b[0;31m \u001b[0mcnn_scr\u001b[0m\u001b[0;34m,\u001b[0m \u001b[0mcnn_scr_train_hist\u001b[0m \u001b[0;34m=\u001b[0m \u001b[0mtrain_scrambler_on_model\u001b[0m\u001b[0;34m(\u001b[0m\u001b[0mjtest\u001b[0m\u001b[0;34m)\u001b[0m\u001b[0;34m\u001b[0m\u001b[0;34m\u001b[0m\u001b[0m\n\u001b[0m\u001b[1;32m      2\u001b[0m \u001b[0mmodel_name\u001b[0m \u001b[0;34m=\u001b[0m \u001b[0;34m'mer8motif_model_cnn_inclusion_scrambler_bits_0125_epochs_10'\u001b[0m\u001b[0;34m\u001b[0m\u001b[0;34m\u001b[0m\u001b[0m\n\u001b[1;32m      3\u001b[0m \u001b[0msave_scrambler\u001b[0m\u001b[0;34m(\u001b[0m\u001b[0mcnn_scr\u001b[0m\u001b[0;34m,\u001b[0m \u001b[0mcnn_scr_train_hist\u001b[0m\u001b[0;34m,\u001b[0m \u001b[0mmodel_name\u001b[0m\u001b[0;34m)\u001b[0m\u001b[0;34m\u001b[0m\u001b[0;34m\u001b[0m\u001b[0m\n",
      "\u001b[0;32m<ipython-input-42-2604b0adad97>\u001b[0m in \u001b[0;36mtrain_scrambler_on_model\u001b[0;34m(model, n_epochs)\u001b[0m\n\u001b[1;32m     86\u001b[0m         \u001b[0mentropy_mode\u001b[0m\u001b[0;34m=\u001b[0m\u001b[0;34m'target'\u001b[0m\u001b[0;34m,\u001b[0m\u001b[0;34m\u001b[0m\u001b[0;34m\u001b[0m\u001b[0m\n\u001b[1;32m     87\u001b[0m         \u001b[0mentropy_bits\u001b[0m\u001b[0;34m=\u001b[0m\u001b[0;36m0.125\u001b[0m\u001b[0;34m,\u001b[0m\u001b[0;34m\u001b[0m\u001b[0;34m\u001b[0m\u001b[0m\n\u001b[0;32m---> 88\u001b[0;31m         \u001b[0mentropy_weight\u001b[0m\u001b[0;34m=\u001b[0m\u001b[0;36m10.\u001b[0m\u001b[0;34m\u001b[0m\u001b[0;34m\u001b[0m\u001b[0m\n\u001b[0m\u001b[1;32m     89\u001b[0m     )\n\u001b[1;32m     90\u001b[0m \u001b[0;34m\u001b[0m\u001b[0m\n",
      "\u001b[0;32m~/anaconda3/envs/scrambler/lib/python3.7/site-packages/scrambler-0.1-py3.7.egg/scrambler/models/scrambler_models.py\u001b[0m in \u001b[0;36mtrain\u001b[0;34m(self, predictor, x_train, y_train, x_test, y_test, n_epochs, group_train, group_test, monitor_test_indices, monitor_batch_freq_dict, adam_lr, adam_beta_1, adam_beta_2, nll_mode, predictor_task, reference, entropy_mode, entropy_bits, entropy_weight)\u001b[0m\n\u001b[1;32m   1161\u001b[0m         \u001b[0;31m#return predictor, scrambler_inputs\u001b[0m\u001b[0;34m\u001b[0m\u001b[0;34m\u001b[0m\u001b[0;34m\u001b[0m\u001b[0m\n\u001b[1;32m   1162\u001b[0m         \u001b[0;31m#Make reference prediction on non-scrambled input sequence\u001b[0m\u001b[0;34m\u001b[0m\u001b[0;34m\u001b[0m\u001b[0;34m\u001b[0m\u001b[0m\n\u001b[0;32m-> 1163\u001b[0;31m         \u001b[0my_pred_non_scrambled_deflated\u001b[0m \u001b[0;34m=\u001b[0m \u001b[0mpredictor\u001b[0m\u001b[0;34m(\u001b[0m\u001b[0mscrambler_inputs\u001b[0m\u001b[0;34m)\u001b[0m \u001b[0;32mif\u001b[0m \u001b[0mreference\u001b[0m \u001b[0;34m==\u001b[0m \u001b[0;34m'predictor'\u001b[0m \u001b[0;32melse\u001b[0m \u001b[0mscrambler_label\u001b[0m\u001b[0;34m\u001b[0m\u001b[0;34m\u001b[0m\u001b[0m\n\u001b[0m\u001b[1;32m   1164\u001b[0m \u001b[0;34m\u001b[0m\u001b[0m\n\u001b[1;32m   1165\u001b[0m         \u001b[0;31m#Make prediction on scrambled sequence samples\u001b[0m\u001b[0;34m\u001b[0m\u001b[0;34m\u001b[0m\u001b[0;34m\u001b[0m\u001b[0m\n",
      "\u001b[0;32m~/anaconda3/envs/scrambler/lib/python3.7/site-packages/keras/engine/base_layer.py\u001b[0m in \u001b[0;36m__call__\u001b[0;34m(self, inputs, **kwargs)\u001b[0m\n\u001b[1;32m    455\u001b[0m             \u001b[0;31m# Actually call the layer,\u001b[0m\u001b[0;34m\u001b[0m\u001b[0;34m\u001b[0m\u001b[0;34m\u001b[0m\u001b[0m\n\u001b[1;32m    456\u001b[0m             \u001b[0;31m# collecting output(s), mask(s), and shape(s).\u001b[0m\u001b[0;34m\u001b[0m\u001b[0;34m\u001b[0m\u001b[0;34m\u001b[0m\u001b[0m\n\u001b[0;32m--> 457\u001b[0;31m             \u001b[0moutput\u001b[0m \u001b[0;34m=\u001b[0m \u001b[0mself\u001b[0m\u001b[0;34m.\u001b[0m\u001b[0mcall\u001b[0m\u001b[0;34m(\u001b[0m\u001b[0minputs\u001b[0m\u001b[0;34m,\u001b[0m \u001b[0;34m**\u001b[0m\u001b[0mkwargs\u001b[0m\u001b[0;34m)\u001b[0m\u001b[0;34m\u001b[0m\u001b[0;34m\u001b[0m\u001b[0m\n\u001b[0m\u001b[1;32m    458\u001b[0m             \u001b[0moutput_mask\u001b[0m \u001b[0;34m=\u001b[0m \u001b[0mself\u001b[0m\u001b[0;34m.\u001b[0m\u001b[0mcompute_mask\u001b[0m\u001b[0;34m(\u001b[0m\u001b[0minputs\u001b[0m\u001b[0;34m,\u001b[0m \u001b[0mprevious_mask\u001b[0m\u001b[0;34m)\u001b[0m\u001b[0;34m\u001b[0m\u001b[0;34m\u001b[0m\u001b[0m\n\u001b[1;32m    459\u001b[0m \u001b[0;34m\u001b[0m\u001b[0m\n",
      "\u001b[0;32m~/anaconda3/envs/scrambler/lib/python3.7/site-packages/keras/engine/network.py\u001b[0m in \u001b[0;36mcall\u001b[0;34m(self, inputs, mask)\u001b[0m\n\u001b[1;32m    562\u001b[0m             \u001b[0;32mreturn\u001b[0m \u001b[0mself\u001b[0m\u001b[0;34m.\u001b[0m\u001b[0m_output_tensor_cache\u001b[0m\u001b[0;34m[\u001b[0m\u001b[0mcache_key\u001b[0m\u001b[0;34m]\u001b[0m\u001b[0;34m\u001b[0m\u001b[0;34m\u001b[0m\u001b[0m\n\u001b[1;32m    563\u001b[0m         \u001b[0;32melse\u001b[0m\u001b[0;34m:\u001b[0m\u001b[0;34m\u001b[0m\u001b[0;34m\u001b[0m\u001b[0m\n\u001b[0;32m--> 564\u001b[0;31m             \u001b[0moutput_tensors\u001b[0m\u001b[0;34m,\u001b[0m \u001b[0m_\u001b[0m\u001b[0;34m,\u001b[0m \u001b[0m_\u001b[0m \u001b[0;34m=\u001b[0m \u001b[0mself\u001b[0m\u001b[0;34m.\u001b[0m\u001b[0mrun_internal_graph\u001b[0m\u001b[0;34m(\u001b[0m\u001b[0minputs\u001b[0m\u001b[0;34m,\u001b[0m \u001b[0mmasks\u001b[0m\u001b[0;34m)\u001b[0m\u001b[0;34m\u001b[0m\u001b[0;34m\u001b[0m\u001b[0m\n\u001b[0m\u001b[1;32m    565\u001b[0m             \u001b[0;32mreturn\u001b[0m \u001b[0moutput_tensors\u001b[0m\u001b[0;34m\u001b[0m\u001b[0;34m\u001b[0m\u001b[0m\n\u001b[1;32m    566\u001b[0m \u001b[0;34m\u001b[0m\u001b[0m\n",
      "\u001b[0;32m~/anaconda3/envs/scrambler/lib/python3.7/site-packages/keras/engine/network.py\u001b[0m in \u001b[0;36mrun_internal_graph\u001b[0;34m(self, inputs, masks)\u001b[0m\n\u001b[1;32m    719\u001b[0m                                     \u001b[0mkwargs\u001b[0m\u001b[0;34m[\u001b[0m\u001b[0;34m'mask'\u001b[0m\u001b[0;34m]\u001b[0m \u001b[0;34m=\u001b[0m \u001b[0mcomputed_mask\u001b[0m\u001b[0;34m\u001b[0m\u001b[0;34m\u001b[0m\u001b[0m\n\u001b[1;32m    720\u001b[0m                             output_tensors = to_list(\n\u001b[0;32m--> 721\u001b[0;31m                                 layer.call(computed_tensor, **kwargs))\n\u001b[0m\u001b[1;32m    722\u001b[0m                             output_masks = layer.compute_mask(computed_tensor,\n\u001b[1;32m    723\u001b[0m                                                               computed_mask)\n",
      "\u001b[0;32m~/anaconda3/envs/scrambler/lib/python3.7/site-packages/keras/layers/core.py\u001b[0m in \u001b[0;36mcall\u001b[0;34m(self, inputs)\u001b[0m\n\u001b[1;32m    451\u001b[0m \u001b[0;34m\u001b[0m\u001b[0m\n\u001b[1;32m    452\u001b[0m     \u001b[0;32mdef\u001b[0m \u001b[0mcall\u001b[0m\u001b[0;34m(\u001b[0m\u001b[0mself\u001b[0m\u001b[0;34m,\u001b[0m \u001b[0minputs\u001b[0m\u001b[0;34m)\u001b[0m\u001b[0;34m:\u001b[0m\u001b[0;34m\u001b[0m\u001b[0;34m\u001b[0m\u001b[0m\n\u001b[0;32m--> 453\u001b[0;31m         \u001b[0;32mreturn\u001b[0m \u001b[0mK\u001b[0m\u001b[0;34m.\u001b[0m\u001b[0mpermute_dimensions\u001b[0m\u001b[0;34m(\u001b[0m\u001b[0minputs\u001b[0m\u001b[0;34m,\u001b[0m \u001b[0;34m(\u001b[0m\u001b[0;36m0\u001b[0m\u001b[0;34m,\u001b[0m\u001b[0;34m)\u001b[0m \u001b[0;34m+\u001b[0m \u001b[0mself\u001b[0m\u001b[0;34m.\u001b[0m\u001b[0mdims\u001b[0m\u001b[0;34m)\u001b[0m\u001b[0;34m\u001b[0m\u001b[0;34m\u001b[0m\u001b[0m\n\u001b[0m\u001b[1;32m    454\u001b[0m \u001b[0;34m\u001b[0m\u001b[0m\n\u001b[1;32m    455\u001b[0m     \u001b[0;32mdef\u001b[0m \u001b[0mget_config\u001b[0m\u001b[0;34m(\u001b[0m\u001b[0mself\u001b[0m\u001b[0;34m)\u001b[0m\u001b[0;34m:\u001b[0m\u001b[0;34m\u001b[0m\u001b[0;34m\u001b[0m\u001b[0m\n",
      "\u001b[0;32m~/anaconda3/envs/scrambler/lib/python3.7/site-packages/keras/backend/tensorflow_backend.py\u001b[0m in \u001b[0;36mpermute_dimensions\u001b[0;34m(x, pattern)\u001b[0m\n\u001b[1;32m   1981\u001b[0m         \u001b[0mA\u001b[0m \u001b[0mtensor\u001b[0m\u001b[0;34m.\u001b[0m\u001b[0;34m\u001b[0m\u001b[0;34m\u001b[0m\u001b[0m\n\u001b[1;32m   1982\u001b[0m     \"\"\"\n\u001b[0;32m-> 1983\u001b[0;31m     \u001b[0;32mreturn\u001b[0m \u001b[0mtf\u001b[0m\u001b[0;34m.\u001b[0m\u001b[0mtranspose\u001b[0m\u001b[0;34m(\u001b[0m\u001b[0mx\u001b[0m\u001b[0;34m,\u001b[0m \u001b[0mperm\u001b[0m\u001b[0;34m=\u001b[0m\u001b[0mpattern\u001b[0m\u001b[0;34m)\u001b[0m\u001b[0;34m\u001b[0m\u001b[0;34m\u001b[0m\u001b[0m\n\u001b[0m\u001b[1;32m   1984\u001b[0m \u001b[0;34m\u001b[0m\u001b[0m\n\u001b[1;32m   1985\u001b[0m \u001b[0;34m\u001b[0m\u001b[0m\n",
      "\u001b[0;32m~/anaconda3/envs/scrambler/lib/python3.7/site-packages/tensorflow/python/ops/array_ops.py\u001b[0m in \u001b[0;36mtranspose\u001b[0;34m(a, perm, name, conjugate)\u001b[0m\n\u001b[1;32m   1672\u001b[0m           \u001b[0mret\u001b[0m\u001b[0;34m.\u001b[0m\u001b[0mset_shape\u001b[0m\u001b[0;34m(\u001b[0m\u001b[0minput_shape\u001b[0m\u001b[0;34m[\u001b[0m\u001b[0;34m:\u001b[0m\u001b[0;34m:\u001b[0m\u001b[0;34m-\u001b[0m\u001b[0;36m1\u001b[0m\u001b[0;34m]\u001b[0m\u001b[0;34m)\u001b[0m\u001b[0;34m\u001b[0m\u001b[0;34m\u001b[0m\u001b[0m\n\u001b[1;32m   1673\u001b[0m     \u001b[0;32melse\u001b[0m\u001b[0;34m:\u001b[0m\u001b[0;34m\u001b[0m\u001b[0;34m\u001b[0m\u001b[0m\n\u001b[0;32m-> 1674\u001b[0;31m       \u001b[0mret\u001b[0m \u001b[0;34m=\u001b[0m \u001b[0mtranspose_fn\u001b[0m\u001b[0;34m(\u001b[0m\u001b[0ma\u001b[0m\u001b[0;34m,\u001b[0m \u001b[0mperm\u001b[0m\u001b[0;34m,\u001b[0m \u001b[0mname\u001b[0m\u001b[0;34m=\u001b[0m\u001b[0mname\u001b[0m\u001b[0;34m)\u001b[0m\u001b[0;34m\u001b[0m\u001b[0;34m\u001b[0m\u001b[0m\n\u001b[0m\u001b[1;32m   1675\u001b[0m     \u001b[0;32mreturn\u001b[0m \u001b[0mret\u001b[0m\u001b[0;34m\u001b[0m\u001b[0;34m\u001b[0m\u001b[0m\n\u001b[1;32m   1676\u001b[0m \u001b[0;34m\u001b[0m\u001b[0m\n",
      "\u001b[0;32m~/anaconda3/envs/scrambler/lib/python3.7/site-packages/tensorflow/python/ops/gen_array_ops.py\u001b[0m in \u001b[0;36mtranspose\u001b[0;34m(x, perm, name)\u001b[0m\n\u001b[1;32m  10236\u001b[0m   \u001b[0;31m# Add nodes to the TensorFlow graph.\u001b[0m\u001b[0;34m\u001b[0m\u001b[0;34m\u001b[0m\u001b[0;34m\u001b[0m\u001b[0m\n\u001b[1;32m  10237\u001b[0m   _, _, _op = _op_def_lib._apply_op_helper(\n\u001b[0;32m> 10238\u001b[0;31m         \"Transpose\", x=x, perm=perm, name=name)\n\u001b[0m\u001b[1;32m  10239\u001b[0m   \u001b[0m_result\u001b[0m \u001b[0;34m=\u001b[0m \u001b[0m_op\u001b[0m\u001b[0;34m.\u001b[0m\u001b[0moutputs\u001b[0m\u001b[0;34m[\u001b[0m\u001b[0;34m:\u001b[0m\u001b[0;34m]\u001b[0m\u001b[0;34m\u001b[0m\u001b[0;34m\u001b[0m\u001b[0m\n\u001b[1;32m  10240\u001b[0m   \u001b[0m_inputs_flat\u001b[0m \u001b[0;34m=\u001b[0m \u001b[0m_op\u001b[0m\u001b[0;34m.\u001b[0m\u001b[0minputs\u001b[0m\u001b[0;34m\u001b[0m\u001b[0;34m\u001b[0m\u001b[0m\n",
      "\u001b[0;32m~/anaconda3/envs/scrambler/lib/python3.7/site-packages/tensorflow/python/framework/op_def_library.py\u001b[0m in \u001b[0;36m_apply_op_helper\u001b[0;34m(self, op_type_name, name, **keywords)\u001b[0m\n\u001b[1;32m    786\u001b[0m         op = g.create_op(op_type_name, inputs, output_types, name=scope,\n\u001b[1;32m    787\u001b[0m                          \u001b[0minput_types\u001b[0m\u001b[0;34m=\u001b[0m\u001b[0minput_types\u001b[0m\u001b[0;34m,\u001b[0m \u001b[0mattrs\u001b[0m\u001b[0;34m=\u001b[0m\u001b[0mattr_protos\u001b[0m\u001b[0;34m,\u001b[0m\u001b[0;34m\u001b[0m\u001b[0;34m\u001b[0m\u001b[0m\n\u001b[0;32m--> 788\u001b[0;31m                          op_def=op_def)\n\u001b[0m\u001b[1;32m    789\u001b[0m       \u001b[0;32mreturn\u001b[0m \u001b[0moutput_structure\u001b[0m\u001b[0;34m,\u001b[0m \u001b[0mop_def\u001b[0m\u001b[0;34m.\u001b[0m\u001b[0mis_stateful\u001b[0m\u001b[0;34m,\u001b[0m \u001b[0mop\u001b[0m\u001b[0;34m\u001b[0m\u001b[0;34m\u001b[0m\u001b[0m\n\u001b[1;32m    790\u001b[0m \u001b[0;34m\u001b[0m\u001b[0m\n",
      "\u001b[0;32m~/anaconda3/envs/scrambler/lib/python3.7/site-packages/tensorflow/python/util/deprecation.py\u001b[0m in \u001b[0;36mnew_func\u001b[0;34m(*args, **kwargs)\u001b[0m\n\u001b[1;32m    505\u001b[0m                 \u001b[0;34m'in a future version'\u001b[0m \u001b[0;32mif\u001b[0m \u001b[0mdate\u001b[0m \u001b[0;32mis\u001b[0m \u001b[0;32mNone\u001b[0m \u001b[0;32melse\u001b[0m \u001b[0;34m(\u001b[0m\u001b[0;34m'after %s'\u001b[0m \u001b[0;34m%\u001b[0m \u001b[0mdate\u001b[0m\u001b[0;34m)\u001b[0m\u001b[0;34m,\u001b[0m\u001b[0;34m\u001b[0m\u001b[0;34m\u001b[0m\u001b[0m\n\u001b[1;32m    506\u001b[0m                 instructions)\n\u001b[0;32m--> 507\u001b[0;31m       \u001b[0;32mreturn\u001b[0m \u001b[0mfunc\u001b[0m\u001b[0;34m(\u001b[0m\u001b[0;34m*\u001b[0m\u001b[0margs\u001b[0m\u001b[0;34m,\u001b[0m \u001b[0;34m**\u001b[0m\u001b[0mkwargs\u001b[0m\u001b[0;34m)\u001b[0m\u001b[0;34m\u001b[0m\u001b[0;34m\u001b[0m\u001b[0m\n\u001b[0m\u001b[1;32m    508\u001b[0m \u001b[0;34m\u001b[0m\u001b[0m\n\u001b[1;32m    509\u001b[0m     doc = _add_deprecated_arg_notice_to_docstring(\n",
      "\u001b[0;32m~/anaconda3/envs/scrambler/lib/python3.7/site-packages/tensorflow/python/framework/ops.py\u001b[0m in \u001b[0;36mcreate_op\u001b[0;34m(***failed resolving arguments***)\u001b[0m\n\u001b[1;32m   3298\u001b[0m           \u001b[0minput_types\u001b[0m\u001b[0;34m=\u001b[0m\u001b[0minput_types\u001b[0m\u001b[0;34m,\u001b[0m\u001b[0;34m\u001b[0m\u001b[0;34m\u001b[0m\u001b[0m\n\u001b[1;32m   3299\u001b[0m           \u001b[0moriginal_op\u001b[0m\u001b[0;34m=\u001b[0m\u001b[0mself\u001b[0m\u001b[0;34m.\u001b[0m\u001b[0m_default_original_op\u001b[0m\u001b[0;34m,\u001b[0m\u001b[0;34m\u001b[0m\u001b[0;34m\u001b[0m\u001b[0m\n\u001b[0;32m-> 3300\u001b[0;31m           op_def=op_def)\n\u001b[0m\u001b[1;32m   3301\u001b[0m       \u001b[0mself\u001b[0m\u001b[0;34m.\u001b[0m\u001b[0m_create_op_helper\u001b[0m\u001b[0;34m(\u001b[0m\u001b[0mret\u001b[0m\u001b[0;34m,\u001b[0m \u001b[0mcompute_device\u001b[0m\u001b[0;34m=\u001b[0m\u001b[0mcompute_device\u001b[0m\u001b[0;34m)\u001b[0m\u001b[0;34m\u001b[0m\u001b[0;34m\u001b[0m\u001b[0m\n\u001b[1;32m   3302\u001b[0m     \u001b[0;32mreturn\u001b[0m \u001b[0mret\u001b[0m\u001b[0;34m\u001b[0m\u001b[0;34m\u001b[0m\u001b[0m\n",
      "\u001b[0;32m~/anaconda3/envs/scrambler/lib/python3.7/site-packages/tensorflow/python/framework/ops.py\u001b[0m in \u001b[0;36m__init__\u001b[0;34m(self, node_def, g, inputs, output_types, control_inputs, input_types, original_op, op_def)\u001b[0m\n\u001b[1;32m   1821\u001b[0m           op_def, inputs, node_def.attr)\n\u001b[1;32m   1822\u001b[0m       self._c_op = _create_c_op(self._graph, node_def, grouped_inputs,\n\u001b[0;32m-> 1823\u001b[0;31m                                 control_input_ops)\n\u001b[0m\u001b[1;32m   1824\u001b[0m \u001b[0;34m\u001b[0m\u001b[0m\n\u001b[1;32m   1825\u001b[0m     \u001b[0;31m# Initialize self._outputs.\u001b[0m\u001b[0;34m\u001b[0m\u001b[0;34m\u001b[0m\u001b[0;34m\u001b[0m\u001b[0m\n",
      "\u001b[0;32m~/anaconda3/envs/scrambler/lib/python3.7/site-packages/tensorflow/python/framework/ops.py\u001b[0m in \u001b[0;36m_create_c_op\u001b[0;34m(graph, node_def, inputs, control_inputs)\u001b[0m\n\u001b[1;32m   1660\u001b[0m   \u001b[0;32mexcept\u001b[0m \u001b[0merrors\u001b[0m\u001b[0;34m.\u001b[0m\u001b[0mInvalidArgumentError\u001b[0m \u001b[0;32mas\u001b[0m \u001b[0me\u001b[0m\u001b[0;34m:\u001b[0m\u001b[0;34m\u001b[0m\u001b[0;34m\u001b[0m\u001b[0m\n\u001b[1;32m   1661\u001b[0m     \u001b[0;31m# Convert to ValueError for backwards compatibility.\u001b[0m\u001b[0;34m\u001b[0m\u001b[0;34m\u001b[0m\u001b[0;34m\u001b[0m\u001b[0m\n\u001b[0;32m-> 1662\u001b[0;31m     \u001b[0;32mraise\u001b[0m \u001b[0mValueError\u001b[0m\u001b[0;34m(\u001b[0m\u001b[0mstr\u001b[0m\u001b[0;34m(\u001b[0m\u001b[0me\u001b[0m\u001b[0;34m)\u001b[0m\u001b[0;34m)\u001b[0m\u001b[0;34m\u001b[0m\u001b[0;34m\u001b[0m\u001b[0m\n\u001b[0m\u001b[1;32m   1663\u001b[0m \u001b[0;34m\u001b[0m\u001b[0m\n\u001b[1;32m   1664\u001b[0m   \u001b[0;32mreturn\u001b[0m \u001b[0mc_op\u001b[0m\u001b[0;34m\u001b[0m\u001b[0;34m\u001b[0m\u001b[0m\n",
      "\u001b[0;31mValueError\u001b[0m: Dimension must be 4 but is 3 for 'model_1_1/7/transpose' (op: 'Transpose') with input shapes: [?,1,8,4], [3]."
     ]
    }
   ],
   "source": [
    "cnn_scr, cnn_scr_train_hist = train_scrambler_on_model(jtest)\n",
    "model_name = 'mer8motif_model_cnn_inclusion_scrambler_bits_0125_epochs_10'\n",
    "save_scrambler(cnn_scr, cnn_scr_train_hist, model_name)"
   ]
  },
  {
   "cell_type": "code",
   "execution_count": null,
   "metadata": {},
   "outputs": [],
   "source": []
  },
  {
   "cell_type": "markdown",
   "metadata": {},
   "source": [
    "# Error! And this is where I'm really stuck\n",
    "There's a dimension mismatch that happens inside `scrambler.train`. Specifically when `predictor(scrambler_inputs)` is called. \n",
    "\n",
    "I've tried returning early both what `predictor` and `scrambler_inputs` are... \n",
    "\n",
    "\n",
    "`scrambler_inputs` looked like: `<tf.Tensor 't_scrambler_input_0_3:0' shape=(?, 1, 8, 4) dtype=float32>`\n",
    "\n",
    "`predictor` was still a `keras.engine.training.Model`\n",
    "\n",
    "But for some reason this shape can't be called by this model?\n",
    "\n",
    "Manually calling `predictor(scrambler_inputs)` in the notebook gives the same error:\n",
    "\n",
    "`InvalidArgumentError: Dimension must be 4 but is 3 for 'model_1_2/7/transpose' (op: 'Transpose') with input shapes: [?,1,8,4], [3].`"
   ]
  },
  {
   "cell_type": "markdown",
   "metadata": {},
   "source": [
    "### Again, I think it is something to do with how ONNX transfers `unsqueeze` from pytorch to keras... but I can't tell if I'm setting up the keras model incorrectly (totally possible, I manually deleted some things from JSON...) or if Scrambers for some reason can't handle input to a CNN built the way mine is? \n",
    "\n",
    "### I'm not sure if I should change my PyTorch model, because it's working and I can do test predictions with the keras models and get the same numbers out:"
   ]
  },
  {
   "cell_type": "code",
   "execution_count": 103,
   "metadata": {},
   "outputs": [
    {
     "name": "stdout",
     "output_type": "stream",
     "text": [
      "AAAAAAAA:\n",
      "\tPyTorch:\t20.049259185791016 \n",
      "\ttf.keras:\t20.049257278442383  \n",
      "\treg keras:\t20.049259185791016   \n",
      "\tkeras reload:\t20.049259185791016\n",
      "TTTTTTTT:\n",
      "\tPyTorch:\t11.053607940673828 \n",
      "\ttf.keras:\t11.053607940673828  \n",
      "\treg keras:\t11.053607940673828   \n",
      "\tkeras reload:\t11.053607940673828\n",
      "CCCCCCCC:\n",
      "\tPyTorch:\t17.018943786621094 \n",
      "\ttf.keras:\t17.018943786621094  \n",
      "\treg keras:\t17.018943786621094   \n",
      "\tkeras reload:\t17.018943786621094\n",
      "GGGGGGGG:\n",
      "\tPyTorch:\t14.023262977600098 \n",
      "\ttf.keras:\t14.023262977600098  \n",
      "\treg keras:\t14.023262977600098   \n",
      "\tkeras reload:\t14.023262977600098\n",
      "GGGTATGG:\n",
      "\tPyTorch:\t24.014760971069336 \n",
      "\ttf.keras:\t24.014759063720703  \n",
      "\treg keras:\t24.014760971069336   \n",
      "\tkeras reload:\t24.014760971069336\n",
      "AAGCGAAA:\n",
      "\tPyTorch:\t8.15086841583252 \n",
      "\ttf.keras:\t8.15086841583252  \n",
      "\treg keras:\t8.15086841583252   \n",
      "\tkeras reload:\t8.15086841583252\n"
     ]
    }
   ],
   "source": [
    "for i in range(len(seqs)):\n",
    "    seq = seqs[i]\n",
    "    ohe_seq = ohe_seqs[i]\n",
    "    seq_k = np.array(ohe_seq)\n",
    "\n",
    "    res1 = mer8motif_model_cnn(ohe_seq)\n",
    "    res2 = k_cnn_model.predict(seq_k)\n",
    "    res3 = jtest.predict(seq_k)\n",
    "    res4 = jtest_reload.predict(seq_k)\n",
    "    print(f\"{seq}:\")\n",
    "    print(f\"\\tPyTorch:\\t{res1.item()} \\n\\ttf.keras:\\t{res2[0][0]}  \\n\\treg keras:\\t{res3[0][0]}   \\n\\tkeras reload:\\t{res4[0][0]}\")"
   ]
  },
  {
   "cell_type": "markdown",
   "metadata": {},
   "source": [
    "### But something about the `scrambler_inputs` or the call to the `predictor()` inside `scrambler.train` is unhappy with the dimensions... :-/"
   ]
  },
  {
   "cell_type": "markdown",
   "metadata": {},
   "source": [
    "Did I go wrong:\n",
    "* Deleting things from JSON and expecting it to work?\n",
    "* Are there other ways to convert tf.keras.Model into regular keras.Model?\n",
    "* Is my PyTorch set up bad?\n",
    "* Does Scrambler code need to be edited?\n",
    "\n",
    "Happy for any ideas!"
   ]
  },
  {
   "cell_type": "code",
   "execution_count": 108,
   "metadata": {
    "scrolled": false
   },
   "outputs": [
    {
     "name": "stdout",
     "output_type": "stream",
     "text": [
      "TF Keras model\n",
      "<tensorflow.python.keras.engine.training.Model object at 0x7fcc9148dd50>\n",
      "_________________________________________________________________\n",
      "Layer (type)                 Output Shape              Param #   \n",
      "=================================================================\n",
      "test_input (InputLayer)      (None, 8, 4)              0         \n",
      "_________________________________________________________________\n",
      "7 (Permute)                  (None, 4, 8)              0         \n",
      "_________________________________________________________________\n",
      "8 (Lambda)                   (None, 1, 4, 8)           0         \n",
      "_________________________________________________________________\n",
      "9 (Conv2D)                   (None, 31, 1, 6)          403       \n",
      "_________________________________________________________________\n",
      "10 (Activation)              (None, 31, 1, 6)          0         \n",
      "_________________________________________________________________\n",
      "11 (Reshape)                 (None, None)              0         \n",
      "_________________________________________________________________\n",
      "12_reshape (Reshape)         (None, 186)               0         \n",
      "_________________________________________________________________\n",
      "12 (Dense)                   (None, 10)                1870      \n",
      "_________________________________________________________________\n",
      "13 (Activation)              (None, 10)                0         \n",
      "_________________________________________________________________\n",
      "test_output (Dense)          (None, 1)                 11        \n",
      "=================================================================\n",
      "Total params: 2,284\n",
      "Trainable params: 2,284\n",
      "Non-trainable params: 0\n",
      "_________________________________________________________________\n",
      "None\n"
     ]
    },
    {
     "data": {
      "text/plain": [
       "{'name': 'model_1',\n",
       " 'layers': [{'name': 'test_input',\n",
       "   'class_name': 'InputLayer',\n",
       "   'config': {'batch_input_shape': (None, 8, 4),\n",
       "    'dtype': 'float32',\n",
       "    'sparse': False,\n",
       "    'name': 'test_input'},\n",
       "   'inbound_nodes': []},\n",
       "  {'name': '7',\n",
       "   'class_name': 'Permute',\n",
       "   'config': {'name': '7',\n",
       "    'trainable': True,\n",
       "    'dtype': 'float32',\n",
       "    'dims': (2, 1)},\n",
       "   'inbound_nodes': [[['test_input', 0, 0, {}]]]},\n",
       "  {'name': '8',\n",
       "   'class_name': 'Lambda',\n",
       "   'config': {'name': '8',\n",
       "    'trainable': True,\n",
       "    'dtype': 'float32',\n",
       "    'function': ('4wIAAAAAAAAAAwAAAAQAAABTAAAAcxoAAABkAWQCbABtAX0CAQB8AmoCoAN8AHwBoQJTACkDTukA\\nAAAAKQHaBWtlcmFzKQTaCnRlbnNvcmZsb3dyAgAAANoHYmFja2VuZNoLZXhwYW5kX2RpbXMpA9oB\\neNoEYXhpc3ICAAAAqQByCAAAAPpgL2hvbWUvZXdpbHNvbjYvYW5hY29uZGEzL2VudnMvc2NyYW1i\\nbGVyL2xpYi9weXRob24zLjcvc2l0ZS1wYWNrYWdlcy9vbm54MmtlcmFzL3Jlc2hhcGVfbGF5ZXJz\\nLnB52gx0YXJnZXRfbGF5ZXLhAAAAcwQAAAAAAQwB\\n',\n",
       "     (1,),\n",
       "     None),\n",
       "    'module': 'onnx2keras.reshape_layers',\n",
       "    'function_type': 'lambda',\n",
       "    'output_shape': None,\n",
       "    'output_shape_type': 'raw',\n",
       "    'output_shape_module': None,\n",
       "    'arguments': {}},\n",
       "   'inbound_nodes': [[['7', 0, 0, {}]]]},\n",
       "  {'name': '9',\n",
       "   'class_name': 'Conv2D',\n",
       "   'config': {'name': '9',\n",
       "    'trainable': True,\n",
       "    'dtype': 'float32',\n",
       "    'filters': 31,\n",
       "    'kernel_size': (4, 3),\n",
       "    'strides': (1, 1),\n",
       "    'padding': 'valid',\n",
       "    'data_format': 'channels_first',\n",
       "    'dilation_rate': (1, 1),\n",
       "    'activation': 'linear',\n",
       "    'use_bias': True,\n",
       "    'kernel_initializer': {'class_name': 'Zeros',\n",
       "     'config': {'dtype': 'float32'}},\n",
       "    'bias_initializer': {'class_name': 'Zeros',\n",
       "     'config': {'dtype': 'float32'}},\n",
       "    'kernel_regularizer': None,\n",
       "    'bias_regularizer': None,\n",
       "    'activity_regularizer': None,\n",
       "    'kernel_constraint': None,\n",
       "    'bias_constraint': None},\n",
       "   'inbound_nodes': [[['8', 0, 0, {}]]]},\n",
       "  {'name': '10',\n",
       "   'class_name': 'Activation',\n",
       "   'config': {'name': '10',\n",
       "    'trainable': True,\n",
       "    'dtype': 'float32',\n",
       "    'activation': 'relu'},\n",
       "   'inbound_nodes': [[['9', 0, 0, {}]]]},\n",
       "  {'name': '11',\n",
       "   'class_name': 'Reshape',\n",
       "   'config': {'name': '11',\n",
       "    'trainable': True,\n",
       "    'dtype': 'float32',\n",
       "    'target_shape': (-1,)},\n",
       "   'inbound_nodes': [[['10', 0, 0, {}]]]},\n",
       "  {'name': '12_reshape',\n",
       "   'class_name': 'Reshape',\n",
       "   'config': {'name': '12_reshape',\n",
       "    'trainable': True,\n",
       "    'dtype': 'float32',\n",
       "    'target_shape': (186,)},\n",
       "   'inbound_nodes': [[['11', 0, 0, {}]]]},\n",
       "  {'name': '12',\n",
       "   'class_name': 'Dense',\n",
       "   'config': {'name': '12',\n",
       "    'trainable': True,\n",
       "    'dtype': 'float32',\n",
       "    'units': 10,\n",
       "    'activation': 'linear',\n",
       "    'use_bias': True,\n",
       "    'kernel_initializer': {'class_name': 'Zeros',\n",
       "     'config': {'dtype': 'float32'}},\n",
       "    'bias_initializer': {'class_name': 'Zeros',\n",
       "     'config': {'dtype': 'float32'}},\n",
       "    'kernel_regularizer': None,\n",
       "    'bias_regularizer': None,\n",
       "    'activity_regularizer': None,\n",
       "    'kernel_constraint': None,\n",
       "    'bias_constraint': None},\n",
       "   'inbound_nodes': [[['12_reshape', 0, 0, {}]]]},\n",
       "  {'name': '13',\n",
       "   'class_name': 'Activation',\n",
       "   'config': {'name': '13',\n",
       "    'trainable': True,\n",
       "    'dtype': 'float32',\n",
       "    'activation': 'relu'},\n",
       "   'inbound_nodes': [[['12', 0, 0, {}]]]},\n",
       "  {'name': 'test_output',\n",
       "   'class_name': 'Dense',\n",
       "   'config': {'name': 'test_output',\n",
       "    'trainable': True,\n",
       "    'dtype': 'float32',\n",
       "    'units': 1,\n",
       "    'activation': 'linear',\n",
       "    'use_bias': True,\n",
       "    'kernel_initializer': {'class_name': 'Zeros',\n",
       "     'config': {'dtype': 'float32'}},\n",
       "    'bias_initializer': {'class_name': 'Zeros',\n",
       "     'config': {'dtype': 'float32'}},\n",
       "    'kernel_regularizer': None,\n",
       "    'bias_regularizer': None,\n",
       "    'activity_regularizer': None,\n",
       "    'kernel_constraint': None,\n",
       "    'bias_constraint': None},\n",
       "   'inbound_nodes': [[['13', 0, 0, {}]]]}],\n",
       " 'input_layers': [['test_input', 0, 0]],\n",
       " 'output_layers': [['test_output', 0, 0]]}"
      ]
     },
     "execution_count": 108,
     "metadata": {},
     "output_type": "execute_result"
    }
   ],
   "source": [
    "# some final prints in case its helpful\n",
    "print(\"TF Keras model\")\n",
    "print(k_cnn_model)\n",
    "print(k_cnn_model.summary())\n",
    "k_cnn_model.get_config()"
   ]
  },
  {
   "cell_type": "code",
   "execution_count": 109,
   "metadata": {
    "scrolled": false
   },
   "outputs": [
    {
     "name": "stdout",
     "output_type": "stream",
     "text": [
      "Regular Keras model\n",
      "<keras.engine.training.Model object at 0x7fc8ff3cb110>\n",
      "_________________________________________________________________\n",
      "Layer (type)                 Output Shape              Param #   \n",
      "=================================================================\n",
      "test_input (InputLayer)      (None, 8, 4)              0         \n",
      "_________________________________________________________________\n",
      "7 (Permute)                  (None, 4, 8)              0         \n",
      "_________________________________________________________________\n",
      "8 (Lambda)                   (None, 1, 4, 8)           0         \n",
      "_________________________________________________________________\n",
      "9 (Conv2D)                   (None, 31, 1, 6)          403       \n",
      "_________________________________________________________________\n",
      "10 (Activation)              (None, 31, 1, 6)          0         \n",
      "_________________________________________________________________\n",
      "11 (Reshape)                 (None, 186)               0         \n",
      "_________________________________________________________________\n",
      "12_reshape (Reshape)         (None, 186)               0         \n",
      "_________________________________________________________________\n",
      "12 (Dense)                   (None, 10)                1870      \n",
      "_________________________________________________________________\n",
      "13 (Activation)              (None, 10)                0         \n",
      "_________________________________________________________________\n",
      "test_output (Dense)          (None, 1)                 11        \n",
      "=================================================================\n",
      "Total params: 2,284\n",
      "Trainable params: 0\n",
      "Non-trainable params: 2,284\n",
      "_________________________________________________________________\n",
      "None\n"
     ]
    },
    {
     "data": {
      "text/plain": [
       "{'name': 'model_1',\n",
       " 'layers': [{'name': 'test_input',\n",
       "   'class_name': 'InputLayer',\n",
       "   'config': {'batch_input_shape': (None, 8, 4),\n",
       "    'dtype': 'float32',\n",
       "    'sparse': False,\n",
       "    'name': 'test_input'},\n",
       "   'inbound_nodes': []},\n",
       "  {'name': '7',\n",
       "   'class_name': 'Permute',\n",
       "   'config': {'name': '7', 'trainable': True, 'dims': (2, 1)},\n",
       "   'inbound_nodes': [[['test_input', 0, 0, {}]]]},\n",
       "  {'name': '8',\n",
       "   'class_name': 'Lambda',\n",
       "   'config': {'name': '8',\n",
       "    'trainable': True,\n",
       "    'function': ('4wIAAAAAAAAAAwAAAAQAAABTAAAAcxoAAABkAWQCbABtAX0CAQB8AmoCoAN8AHwBoQJTACkDTukA\\nAAAAKQHaBWtlcmFzKQTaCnRlbnNvcmZsb3dyAgAAANoHYmFja2VuZNoLZXhwYW5kX2RpbXMpA9oB\\neNoEYXhpc3ICAAAAqQByCAAAAPpgL2hvbWUvZXdpbHNvbjYvYW5hY29uZGEzL2VudnMvc2NyYW1i\\nbGVyL2xpYi9weXRob24zLjcvc2l0ZS1wYWNrYWdlcy9vbm54MmtlcmFzL3Jlc2hhcGVfbGF5ZXJz\\nLnB52gx0YXJnZXRfbGF5ZXLhAAAAcwQAAAAAAQwB\\n',\n",
       "     (1,),\n",
       "     None),\n",
       "    'function_type': 'lambda',\n",
       "    'output_shape': None,\n",
       "    'output_shape_type': 'raw',\n",
       "    'arguments': {}},\n",
       "   'inbound_nodes': [[['7', 0, 0, {}]]]},\n",
       "  {'name': '9',\n",
       "   'class_name': 'Conv2D',\n",
       "   'config': {'name': '9',\n",
       "    'trainable': True,\n",
       "    'filters': 31,\n",
       "    'kernel_size': (4, 3),\n",
       "    'strides': (1, 1),\n",
       "    'padding': 'valid',\n",
       "    'data_format': 'channels_first',\n",
       "    'dilation_rate': (1, 1),\n",
       "    'activation': 'linear',\n",
       "    'use_bias': True,\n",
       "    'kernel_initializer': {'class_name': 'Zeros', 'config': {}},\n",
       "    'bias_initializer': {'class_name': 'Zeros', 'config': {}},\n",
       "    'kernel_regularizer': None,\n",
       "    'bias_regularizer': None,\n",
       "    'activity_regularizer': None,\n",
       "    'kernel_constraint': None,\n",
       "    'bias_constraint': None},\n",
       "   'inbound_nodes': [[['8', 0, 0, {}]]]},\n",
       "  {'name': '10',\n",
       "   'class_name': 'Activation',\n",
       "   'config': {'name': '10', 'trainable': True, 'activation': 'relu'},\n",
       "   'inbound_nodes': [[['9', 0, 0, {}]]]},\n",
       "  {'name': '11',\n",
       "   'class_name': 'Reshape',\n",
       "   'config': {'name': '11', 'trainable': True, 'target_shape': (-1,)},\n",
       "   'inbound_nodes': [[['10', 0, 0, {}]]]},\n",
       "  {'name': '12_reshape',\n",
       "   'class_name': 'Reshape',\n",
       "   'config': {'name': '12_reshape', 'trainable': True, 'target_shape': (186,)},\n",
       "   'inbound_nodes': [[['11', 0, 0, {}]]]},\n",
       "  {'name': '12',\n",
       "   'class_name': 'Dense',\n",
       "   'config': {'name': '12',\n",
       "    'trainable': True,\n",
       "    'units': 10,\n",
       "    'activation': 'linear',\n",
       "    'use_bias': True,\n",
       "    'kernel_initializer': {'class_name': 'Zeros', 'config': {}},\n",
       "    'bias_initializer': {'class_name': 'Zeros', 'config': {}},\n",
       "    'kernel_regularizer': None,\n",
       "    'bias_regularizer': None,\n",
       "    'activity_regularizer': None,\n",
       "    'kernel_constraint': None,\n",
       "    'bias_constraint': None},\n",
       "   'inbound_nodes': [[['12_reshape', 0, 0, {}]]]},\n",
       "  {'name': '13',\n",
       "   'class_name': 'Activation',\n",
       "   'config': {'name': '13', 'trainable': True, 'activation': 'relu'},\n",
       "   'inbound_nodes': [[['12', 0, 0, {}]]]},\n",
       "  {'name': 'test_output',\n",
       "   'class_name': 'Dense',\n",
       "   'config': {'name': 'test_output',\n",
       "    'trainable': True,\n",
       "    'units': 1,\n",
       "    'activation': 'linear',\n",
       "    'use_bias': True,\n",
       "    'kernel_initializer': {'class_name': 'Zeros', 'config': {}},\n",
       "    'bias_initializer': {'class_name': 'Zeros', 'config': {}},\n",
       "    'kernel_regularizer': None,\n",
       "    'bias_regularizer': None,\n",
       "    'activity_regularizer': None,\n",
       "    'kernel_constraint': None,\n",
       "    'bias_constraint': None},\n",
       "   'inbound_nodes': [[['13', 0, 0, {}]]]}],\n",
       " 'input_layers': [['test_input', 0, 0]],\n",
       " 'output_layers': [['test_output', 0, 0]]}"
      ]
     },
     "execution_count": 109,
     "metadata": {},
     "output_type": "execute_result"
    }
   ],
   "source": [
    "print(\"Regular Keras model\")\n",
    "print(jtest)\n",
    "print(jtest.summary())\n",
    "jtest.get_config()"
   ]
  },
  {
   "cell_type": "code",
   "execution_count": 112,
   "metadata": {},
   "outputs": [
    {
     "data": {
      "text/plain": [
       "<tensorflow.python.keras.engine.training.Model at 0x7fcc9148dd50>"
      ]
     },
     "execution_count": 112,
     "metadata": {},
     "output_type": "execute_result"
    }
   ],
   "source": [
    "k_cnn_model"
   ]
  },
  {
   "cell_type": "markdown",
   "metadata": {},
   "source": [
    "## Recs from Johannes"
   ]
  },
  {
   "cell_type": "code",
   "execution_count": 120,
   "metadata": {},
   "outputs": [],
   "source": [
    "# make input with new layer with 4 dimensions, then a lambda layer to remove it?\n",
    "new_input = Input(shape=(1, SEQ_LEN, 4))\n",
    "removed_ax = Lambda(lambda x: x[:, 0, ...])(new_input)\n",
    "new_output = jtest_reload(removed_ax)\n",
    "new_jtest_reload = Model([new_input], [new_output])"
   ]
  },
  {
   "cell_type": "code",
   "execution_count": 122,
   "metadata": {},
   "outputs": [
    {
     "name": "stdout",
     "output_type": "stream",
     "text": [
      "_________________________________________________________________\n",
      "Layer (type)                 Output Shape              Param #   \n",
      "=================================================================\n",
      "input_4 (InputLayer)         (None, 1, 8, 4)           0         \n",
      "_________________________________________________________________\n",
      "lambda_19 (Lambda)           (None, 8, 4)              0         \n",
      "_________________________________________________________________\n",
      "model_1 (Model)              (None, 1)                 2284      \n",
      "=================================================================\n",
      "Total params: 2,284\n",
      "Trainable params: 2,284\n",
      "Non-trainable params: 0\n",
      "_________________________________________________________________\n"
     ]
    }
   ],
   "source": [
    "new_jtest_reload.summary()"
   ]
  },
  {
   "cell_type": "code",
   "execution_count": 124,
   "metadata": {},
   "outputs": [
    {
     "name": "stdout",
     "output_type": "stream",
     "text": [
      "_________________________________________________________________\n",
      "Layer (type)                 Output Shape              Param #   \n",
      "=================================================================\n",
      "test_input (InputLayer)      (None, 8, 4)              0         \n",
      "_________________________________________________________________\n",
      "7 (Permute)                  (None, 4, 8)              0         \n",
      "_________________________________________________________________\n",
      "8 (Lambda)                   (None, 1, 4, 8)           0         \n",
      "_________________________________________________________________\n",
      "9 (Conv2D)                   (None, 31, 1, 6)          403       \n",
      "_________________________________________________________________\n",
      "10 (Activation)              (None, 31, 1, 6)          0         \n",
      "_________________________________________________________________\n",
      "11 (Reshape)                 (None, 186)               0         \n",
      "_________________________________________________________________\n",
      "12_reshape (Reshape)         (None, 186)               0         \n",
      "_________________________________________________________________\n",
      "12 (Dense)                   (None, 10)                1870      \n",
      "_________________________________________________________________\n",
      "13 (Activation)              (None, 10)                0         \n",
      "_________________________________________________________________\n",
      "test_output (Dense)          (None, 1)                 11        \n",
      "=================================================================\n",
      "Total params: 2,284\n",
      "Trainable params: 2,284\n",
      "Non-trainable params: 0\n",
      "_________________________________________________________________\n"
     ]
    }
   ],
   "source": [
    "jtest_reload.summary()"
   ]
  },
  {
   "cell_type": "code",
   "execution_count": 126,
   "metadata": {},
   "outputs": [
    {
     "name": "stdout",
     "output_type": "stream",
     "text": [
      "SCRAMBLER INITIATED!!\n",
      "IN SCRAMBLER TRAIN!\n",
      "predictor is compiled??\n",
      "<keras.engine.training.Model object at 0x7fc8f6a15950>\n",
      "Scrambler has created inputs...\n",
      "Starting to build lambda stuff?\n",
      "About to predict stuff...\n",
      "Inflating?\n",
      "Calculating NLL / error?\n",
      "Calculated NLL?: Tensor(\"nll_5/mul:0\", shape=(32,), dtype=float32)\n",
      "Made Loss Model\n",
      "Compiled loss model: <keras.engine.training.Model object at 0x7fc8fe4057d0>\n",
      "label train and test? [] []\n",
      "APPENDING to callbacks\n",
      "Fitting loss model...\n",
      "\tgroup train 1 (52416, 1)\n",
      "\tx train 1 (52416, 1, 8, 4)\n",
      "\tdrop train 0 []\n",
      "\tlabel train 0 []\n",
      "\n",
      "n epochs: 10\n",
      "batch size: 32\n",
      "callbacks: [<scrambler.models.scrambler_models.ScramblerMonitor object at 0x7fc8fe31ff10>]\n",
      "Train on 52416 samples, validate on 13088 samples\n",
      "Epoch 1/10\n",
      " 2432/52416 [>.............................] - ETA: 18:09 - loss: 20.7924 - nll_loss: 16.8570 - entropy_loss: 3.9354"
     ]
    },
    {
     "name": "stderr",
     "output_type": "stream",
     "text": [
      "/home/ewilson6/anaconda3/envs/scrambler/lib/python3.7/site-packages/keras/callbacks.py:122: UserWarning: Method on_batch_end() is slow compared to the batch update (0.217876). Check your callbacks.\n",
      "  % delta_t_median)\n"
     ]
    },
    {
     "name": "stdout",
     "output_type": "stream",
     "text": [
      "52416/52416 [==============================] - 760s 15ms/step - loss: 10.5034 - nll_loss: 7.4761 - entropy_loss: 3.0273 - val_loss: 7.1793 - val_nll_loss: 4.9688 - val_entropy_loss: 2.2105\n",
      "Epoch 2/10\n",
      "52416/52416 [==============================] - 605s 12ms/step - loss: 6.6889 - nll_loss: 4.6628 - entropy_loss: 2.0261 - val_loss: 6.3865 - val_nll_loss: 4.6096 - val_entropy_loss: 1.7769\n",
      "Epoch 3/10\n",
      "52416/52416 [==============================] - 526s 10ms/step - loss: 6.2715 - nll_loss: 4.4071 - entropy_loss: 1.8644 - val_loss: 6.1649 - val_nll_loss: 4.4506 - val_entropy_loss: 1.7143\n",
      "Epoch 4/10\n",
      "52416/52416 [==============================] - 499s 10ms/step - loss: 6.0850 - nll_loss: 4.2789 - entropy_loss: 1.8060 - val_loss: 6.0195 - val_nll_loss: 4.3430 - val_entropy_loss: 1.6765\n",
      "Epoch 5/10\n",
      "   32/52416 [..............................] - ETA: 4:53 - loss: 6.7463 - nll_loss: 4.8925 - entropy_loss: 1.8538"
     ]
    },
    {
     "name": "stderr",
     "output_type": "stream",
     "text": [
      "/home/ewilson6/anaconda3/envs/scrambler/lib/python3.7/site-packages/keras/callbacks.py:122: UserWarning: Method on_batch_end() is slow compared to the batch update (0.206042). Check your callbacks.\n",
      "  % delta_t_median)\n"
     ]
    },
    {
     "name": "stdout",
     "output_type": "stream",
     "text": [
      "52416/52416 [==============================] - 532s 10ms/step - loss: 5.9826 - nll_loss: 4.2070 - entropy_loss: 1.7757 - val_loss: 5.9549 - val_nll_loss: 4.2530 - val_entropy_loss: 1.7019\n",
      "Epoch 6/10\n",
      "   64/52416 [..............................] - ETA: 7:41 - loss: 6.4618 - nll_loss: 4.7760 - entropy_loss: 1.6859"
     ]
    },
    {
     "name": "stderr",
     "output_type": "stream",
     "text": [
      "/home/ewilson6/anaconda3/envs/scrambler/lib/python3.7/site-packages/keras/callbacks.py:122: UserWarning: Method on_batch_end() is slow compared to the batch update (0.240983). Check your callbacks.\n",
      "  % delta_t_median)\n"
     ]
    },
    {
     "name": "stdout",
     "output_type": "stream",
     "text": [
      "52416/52416 [==============================] - 552s 11ms/step - loss: 5.8891 - nll_loss: 4.1434 - entropy_loss: 1.7457 - val_loss: 5.8674 - val_nll_loss: 4.1585 - val_entropy_loss: 1.7090\n",
      "Epoch 7/10\n",
      "52416/52416 [==============================] - 572s 11ms/step - loss: 5.8464 - nll_loss: 4.1200 - entropy_loss: 1.7264 - val_loss: 5.8096 - val_nll_loss: 4.1462 - val_entropy_loss: 1.6634\n",
      "Epoch 8/10\n",
      "52416/52416 [==============================] - 582s 11ms/step - loss: 5.8227 - nll_loss: 4.1136 - entropy_loss: 1.7091 - val_loss: 5.7768 - val_nll_loss: 4.0299 - val_entropy_loss: 1.7469\n",
      "Epoch 9/10\n",
      "   32/52416 [..............................] - ETA: 4:08 - loss: 5.8654 - nll_loss: 4.4888 - entropy_loss: 1.3766"
     ]
    },
    {
     "name": "stderr",
     "output_type": "stream",
     "text": [
      "/home/ewilson6/anaconda3/envs/scrambler/lib/python3.7/site-packages/keras/callbacks.py:122: UserWarning: Method on_batch_end() is slow compared to the batch update (0.211889). Check your callbacks.\n",
      "  % delta_t_median)\n"
     ]
    },
    {
     "name": "stdout",
     "output_type": "stream",
     "text": [
      "52416/52416 [==============================] - 594s 11ms/step - loss: 5.7490 - nll_loss: 4.0492 - entropy_loss: 1.6998 - val_loss: 5.7170 - val_nll_loss: 3.9868 - val_entropy_loss: 1.7302\n",
      "Epoch 10/10\n",
      "52416/52416 [==============================] - 600s 11ms/step - loss: 5.7368 - nll_loss: 4.0585 - entropy_loss: 1.6783 - val_loss: 5.7113 - val_nll_loss: 4.0746 - val_entropy_loss: 1.6367\n",
      "Done creating train history\n",
      "returning....\n"
     ]
    },
    {
     "data": {
      "image/png": "[encoded data removed]",
      "text/plain": [
       "<Figure size 576x216 with 2 Axes>"
      ]
     },
     "metadata": {
      "needs_background": "light"
     },
     "output_type": "display_data"
    },
    {
     "name": "stdout",
     "output_type": "stream",
     "text": [
      "Saved scrambler model at saved_models/mer8motif_model_cnn_inclusion_scrambler_bits_0125_epochs_10.h5 \n"
     ]
    }
   ],
   "source": [
    "cnn_scr, cnn_scr_train_hist = train_scrambler_on_model(new_jtest_reload)\n",
    "model_name = 'mer8motif_model_cnn_inclusion_scrambler_bits_0125_epochs_10'\n",
    "save_scrambler(cnn_scr, cnn_scr_train_hist, model_name)"
   ]
  },
  {
   "cell_type": "code",
   "execution_count": 140,
   "metadata": {
    "scrolled": false
   },
   "outputs": [
    {
     "name": "stdout",
     "output_type": "stream",
     "text": [
      "13088/13088 [==============================] - 23s 2ms/step\n",
      "Test sequence 4:\n",
      " - Prediction (original) = 18.8\n",
      " - Predictions (scrambled) = [15.6, 15.8, 19.4, 15.6, 15.0, 18.0, 16.1, 15.7, 16.2, 15.6, 16.1, 21.7, 17.3, 18.3, 15.9, 17.6, 16.9, 15.9, 11.4, 15.3, 15.0, 14.8, 15.6, 15.8, 14.9, 18.6, 17.0, 15.2, 17.3, 15.5, 16.2, 16.8]\n"
     ]
    },
    {
     "data": {
      "image/png": "[encoded data removed]",
      "text/plain": [
       "<Figure size 360x72 with 1 Axes>"
      ]
     },
     "metadata": {},
     "output_type": "display_data"
    },
    {
     "data": {
      "image/png": "[encoded data removed]",
      "text/plain": [
       "<Figure size 360x72 with 1 Axes>"
      ]
     },
     "metadata": {},
     "output_type": "display_data"
    },
    {
     "data": {
      "image/png": "[encoded data removed]",
      "text/plain": [
       "<Figure size 360x72 with 1 Axes>"
      ]
     },
     "metadata": {
      "needs_background": "light"
     },
     "output_type": "display_data"
    },
    {
     "name": "stdout",
     "output_type": "stream",
     "text": [
      "Test sequence 133:\n",
      " - Prediction (original) = 8.12\n",
      " - Predictions (scrambled) = [4.58, 4.38, 5.29, 5.52, 4.41, 4.58, 4.69, 4.55, 5.64, 4.92, 6.14, 5.33, 6.38, 4.9, 5.29, 6.21, 5.18, 5.02, 5.0, 4.61, 4.96, 5.61, 5.17, 4.28, 4.55, 4.39, 5.08, 5.39, 4.95, 6.66, 4.91, 4.73]\n"
     ]
    },
    {
     "data": {
      "image/png": "[encoded data removed]",
      "text/plain": [
       "<Figure size 360x72 with 1 Axes>"
      ]
     },
     "metadata": {},
     "output_type": "display_data"
    },
    {
     "data": {
      "image/png": "[encoded data removed]",
      "text/plain": [
       "<Figure size 360x72 with 1 Axes>"
      ]
     },
     "metadata": {},
     "output_type": "display_data"
    },
    {
     "data": {
      "image/png": "[encoded data removed]",
      "text/plain": [
       "<Figure size 360x72 with 1 Axes>"
      ]
     },
     "metadata": {
      "needs_background": "light"
     },
     "output_type": "display_data"
    },
    {
     "name": "stdout",
     "output_type": "stream",
     "text": [
      "Test sequence 97:\n",
      " - Prediction (original) = 27.0\n",
      " - Predictions (scrambled) = [26.0, 23.6, 25.8, 24.9, 24.2, 24.8, 25.0, 23.9, 24.2, 22.4, 24.9, 23.9, 24.9, 20.9, 23.8, 25.8, 23.7, 26.6, 23.5, 23.7, 23.3, 26.1, 24.4, 24.6, 24.7, 25.4, 23.2, 23.8, 24.4, 27.2, 24.1, 24.8]\n"
     ]
    },
    {
     "data": {
      "image/png": "[encoded data removed]",
      "text/plain": [
       "<Figure size 360x72 with 1 Axes>"
      ]
     },
     "metadata": {},
     "output_type": "display_data"
    },
    {
     "data": {
      "image/png": "[encoded data removed]",
      "text/plain": [
       "<Figure size 360x72 with 1 Axes>"
      ]
     },
     "metadata": {},
     "output_type": "display_data"
    },
    {
     "data": {
      "image/png": "[encoded data removed]",
      "text/plain": [
       "<Figure size 360x72 with 1 Axes>"
      ]
     },
     "metadata": {
      "needs_background": "light"
     },
     "output_type": "display_data"
    },
    {
     "name": "stdout",
     "output_type": "stream",
     "text": [
      "Test sequence 99:\n",
      " - Prediction (original) = 18.1\n",
      " - Predictions (scrambled) = [17.1, 17.3, 15.9, 16.3, 16.2, 16.6, 16.8, 18.6, 17.4, 16.1, 17.3, 16.8, 18.3, 17.5, 17.8, 19.1, 17.8, 16.2, 25.3, 18.9, 17.0, 17.0, 17.4, 17.2, 16.7, 17.4, 16.5, 16.0, 17.4, 15.8, 17.7, 17.0]\n"
     ]
    },
    {
     "data": {
      "image/png": "[encoded data removed]",
      "text/plain": [
       "<Figure size 360x72 with 1 Axes>"
      ]
     },
     "metadata": {},
     "output_type": "display_data"
    },
    {
     "data": {
      "image/png": "[encoded data removed]",
      "text/plain": [
       "<Figure size 360x72 with 1 Axes>"
      ]
     },
     "metadata": {},
     "output_type": "display_data"
    },
    {
     "data": {
      "image/png": "[encoded data removed]",
      "text/plain": [
       "<Figure size 360x72 with 1 Axes>"
      ]
     },
     "metadata": {
      "needs_background": "light"
     },
     "output_type": "display_data"
    },
    {
     "name": "stdout",
     "output_type": "stream",
     "text": [
      "Test sequence 13074:\n",
      " - Prediction (original) = 23.6\n",
      " - Predictions (scrambled) = [22.5, 22.9, 23.8, 23.7, 23.5, 25.9, 23.0, 20.2, 23.5, 23.8, 25.2, 25.2, 25.2, 23.2, 22.3, 22.6, 22.9, 23.5, 26.4, 23.9, 25.1, 23.3, 22.7, 24.3, 23.6, 23.8, 25.0, 22.8, 19.2, 19.0, 25.3, 24.4]\n"
     ]
    },
    {
     "data": {
      "image/png": "[encoded data removed]",
      "text/plain": [
       "<Figure size 360x72 with 1 Axes>"
      ]
     },
     "metadata": {},
     "output_type": "display_data"
    },
    {
     "data": {
      "image/png": "[encoded data removed]",
      "text/plain": [
       "<Figure size 360x72 with 1 Axes>"
      ]
     },
     "metadata": {},
     "output_type": "display_data"
    },
    {
     "data": {
      "image/png": "[encoded data removed]",
      "text/plain": [
       "<Figure size 360x72 with 1 Axes>"
      ]
     },
     "metadata": {
      "needs_background": "light"
     },
     "output_type": "display_data"
    },
    {
     "name": "stdout",
     "output_type": "stream",
     "text": [
      "Test sequence 13075:\n",
      " - Prediction (original) = 14.0\n",
      " - Predictions (scrambled) = [16.9, 13.8, 10.6, 19.2, 15.6, 13.9, 13.6, 13.0, 15.0, 14.6, 16.8, 15.4, 17.6, 14.5, 14.5, 13.4, 14.4, 6.68, 15.8, 14.4, 13.4, 15.4, 14.7, 14.9, 14.8, 13.9, 13.5, 14.0, 15.5, 14.6, 14.9, 14.2]\n"
     ]
    },
    {
     "data": {
      "image/png": "[encoded data removed]",
      "text/plain": [
       "<Figure size 360x72 with 1 Axes>"
      ]
     },
     "metadata": {},
     "output_type": "display_data"
    },
    {
     "data": {
      "image/png": "[encoded data removed]",
      "text/plain": [
       "<Figure size 360x72 with 1 Axes>"
      ]
     },
     "metadata": {},
     "output_type": "display_data"
    },
    {
     "data": {
      "image/png": "[encoded data removed]",
      "text/plain": [
       "<Figure size 360x72 with 1 Axes>"
      ]
     },
     "metadata": {
      "needs_background": "light"
     },
     "output_type": "display_data"
    },
    {
     "name": "stdout",
     "output_type": "stream",
     "text": [
      "Test sequence 578:\n",
      " - Prediction (original) = 25.1\n",
      " - Predictions (scrambled) = [22.2, 22.4, 22.7, 24.6, 24.6, 24.7, 24.3, 23.9, 24.4, 22.9, 25.0, 22.7, 23.7, 22.4, 25.3, 27.5, 24.5, 23.7, 22.6, 22.8, 23.0, 23.2, 23.5, 23.6, 23.2, 24.0, 23.7, 27.2, 24.2, 24.1, 25.3, 23.2]\n"
     ]
    },
    {
     "data": {
      "image/png": "[encoded data removed]",
      "text/plain": [
       "<Figure size 360x72 with 1 Axes>"
      ]
     },
     "metadata": {},
     "output_type": "display_data"
    },
    {
     "data": {
      "image/png": "[encoded data removed]",
      "text/plain": [
       "<Figure size 360x72 with 1 Axes>"
      ]
     },
     "metadata": {},
     "output_type": "display_data"
    },
    {
     "data": {
      "image/png": "[encoded data removed]",
      "text/plain": [
       "<Figure size 360x72 with 1 Axes>"
      ]
     },
     "metadata": {
      "needs_background": "light"
     },
     "output_type": "display_data"
    },
    {
     "name": "stdout",
     "output_type": "stream",
     "text": [
      "Test sequence 579:\n",
      " - Prediction (original) = 14.7\n",
      " - Predictions (scrambled) = [11.6, 14.0, 14.3, 12.9, 18.0, 16.0, 16.6, 14.1, 15.3, 15.5, 12.2, 7.76, 15.5, 15.2, 15.1, 16.6, 14.9, 14.5, 16.2, 13.9, 10.7, 16.0, 21.5, 15.1, 16.2, 14.4, 14.7, 22.8, 14.0, 24.5, 15.5, 14.4]\n"
     ]
    },
    {
     "data": {
      "image/png": "[encoded data removed]",
      "text/plain": [
       "<Figure size 360x72 with 1 Axes>"
      ]
     },
     "metadata": {},
     "output_type": "display_data"
    },
    {
     "data": {
      "image/png": "[encoded data removed]",
      "text/plain": [
       "<Figure size 360x72 with 1 Axes>"
      ]
     },
     "metadata": {},
     "output_type": "display_data"
    },
    {
     "data": {
      "image/png": "[encoded data removed]",
      "text/plain": [
       "<Figure size 360x72 with 1 Axes>"
      ]
     },
     "metadata": {
      "needs_background": "light"
     },
     "output_type": "display_data"
    },
    {
     "name": "stdout",
     "output_type": "stream",
     "text": [
      "Test sequence 438:\n",
      " - Prediction (original) = 6.99\n",
      " - Predictions (scrambled) = [4.47, 5.44, 5.51, 5.59, 8.64, 5.74, 7.82, 5.09, 4.49, 5.03, 5.82, 5.24, 4.58, 5.58, 4.2, 5.37, 5.01, 8.69, 4.26, 4.12, 5.02, 4.87, 4.53, 6.14, 4.75, 4.26, 6.71, 5.65, 5.14, 5.05, 5.21, 5.69]\n"
     ]
    },
    {
     "data": {
      "image/png": "[encoded data removed]",
      "text/plain": [
       "<Figure size 360x72 with 1 Axes>"
      ]
     },
     "metadata": {},
     "output_type": "display_data"
    },
    {
     "data": {
      "image/png": "[encoded data removed]",
      "text/plain": [
       "<Figure size 360x72 with 1 Axes>"
      ]
     },
     "metadata": {},
     "output_type": "display_data"
    },
    {
     "data": {
      "image/png": "[encoded data removed]",
      "text/plain": [
       "<Figure size 360x72 with 1 Axes>"
      ]
     },
     "metadata": {
      "needs_background": "light"
     },
     "output_type": "display_data"
    },
    {
     "name": "stdout",
     "output_type": "stream",
     "text": [
      "Test sequence 439:\n",
      " - Prediction (original) = 17.0\n",
      " - Predictions (scrambled) = [19.4, 16.0, 15.4, 14.5, 15.1, 14.0, 15.9, 16.8, 15.6, 16.7, 15.2, 16.0, 15.5, 15.7, 17.1, 14.2, 15.4, 16.4, 14.7, 15.6, 17.1, 13.8, 15.9, 14.2, 14.7, 13.8, 14.8, 15.5, 17.6, 16.3, 16.2, 14.2]\n"
     ]
    },
    {
     "data": {
      "image/png": "[encoded data removed]",
      "text/plain": [
       "<Figure size 360x72 with 1 Axes>"
      ]
     },
     "metadata": {},
     "output_type": "display_data"
    },
    {
     "data": {
      "image/png": "[encoded data removed]",
      "text/plain": [
       "<Figure size 360x72 with 1 Axes>"
      ]
     },
     "metadata": {},
     "output_type": "display_data"
    },
    {
     "data": {
      "image/png": "[encoded data removed]",
      "text/plain": [
       "<Figure size 360x72 with 1 Axes>"
      ]
     },
     "metadata": {
      "needs_background": "light"
     },
     "output_type": "display_data"
    }
   ],
   "source": [
    "viz_scrambler_results(new_jtest_reload, cnn_scr)"
   ]
  },
  {
   "cell_type": "code",
   "execution_count": 131,
   "metadata": {},
   "outputs": [
    {
     "data": {
      "text/plain": [
       "(1, 8, 4)"
      ]
     },
     "execution_count": 131,
     "metadata": {},
     "output_type": "execute_result"
    }
   ],
   "source": [
    "x_test[4:5, ...][0].shape"
   ]
  },
  {
   "cell_type": "code",
   "execution_count": 134,
   "metadata": {},
   "outputs": [
    {
     "data": {
      "text/plain": [
       "[array([[[[1., 0., 0., 0.],\n",
       "          [1., 0., 0., 0.],\n",
       "          [1., 0., 0., 0.],\n",
       "          [1., 0., 0., 0.],\n",
       "          [1., 0., 0., 0.],\n",
       "          [0., 1., 0., 0.],\n",
       "          [0., 0., 1., 0.],\n",
       "          [1., 0., 0., 0.]]]])]"
      ]
     },
     "execution_count": 134,
     "metadata": {},
     "output_type": "execute_result"
    }
   ],
   "source": [
    "[x_test[4:5, ...]]"
   ]
  },
  {
   "cell_type": "code",
   "execution_count": null,
   "metadata": {},
   "outputs": [],
   "source": []
  },
  {
   "cell_type": "code",
   "execution_count": null,
   "metadata": {},
   "outputs": [],
   "source": []
  },
  {
   "cell_type": "code",
   "execution_count": 139,
   "metadata": {},
   "outputs": [],
   "source": [
    "def viz_scrambler_results(model, scrambler, verbose=False):\n",
    "    #Interpret the test set using the trained scrambler\n",
    "    pwm_test, sample_test, importance_scores_test = scrambler.interpret(x_test)\n",
    "    \n",
    "    if verbose:\n",
    "        print(\"x_test:\",x_test.shape)\n",
    "        print(\"pwm_test:\",pwm_test.shape)\n",
    "        print(\"sample_test:\",sample_test.shape)\n",
    "        print(\"importance_scores_test:\",importance_scores_test.shape)\n",
    "        \n",
    "    \n",
    "    #Visualize a few reconstructed sequence patterns\n",
    "    plot_examples = np.arange(5).tolist()\n",
    "    save_examples = []\n",
    "\n",
    "    importance_scores_test *= sequence_mask[None, None, :, None]\n",
    "\n",
    "    for test_ix in ixs :\n",
    "        #seq = x_test2[test_ix:test_ix+1, ...].flatten().reshape(1,-1)\n",
    "        \n",
    "        #seq = x_test[test_ix:test_ix+1, ...][0]#.reshape(1,-1)\n",
    "        seq = x_test[test_ix:test_ix+1, ...]\n",
    "        \n",
    "        print(\"Test sequence \" + str(test_ix) + \":\")\n",
    "\n",
    "        #sample_seqs = sample_test[test_ix, ...]\n",
    "        #x=           [sample_test[test_ix, ...]], batch_size=32)\n",
    "        \n",
    "        # reshape\n",
    "        #sample_seqs = np.array([x.flatten().reshape(1,-1) for x in sample_seqs])\n",
    "\n",
    "    #     y_test_hat_ref = k_reload.predict(x=[seq], batch_size=1)[0, 0]\n",
    "    #     y_test_hat = k_reload.predict(x=[sample_seqs], batch_size=32)[:32, 0].tolist()\n",
    "        y_test_hat_ref = model.predict(x=[seq])[0, 0]\n",
    "        \n",
    "        #y_test_hat = [model.predict(x=[ss])[0, 0] for ss in sample_seqs]\n",
    "        y_test_hat = model.predict(x=[sample_test[test_ix, ...]], batch_size=32)[:32, 0].tolist()\n",
    "        \n",
    "        print(\" - Prediction (original) = \" + str(round(y_test_hat_ref, 2))[:4])\n",
    "        print(\" - Predictions (scrambled) = \" + str([float(str(round(y_test_hat[i], 2))[:4]) for i in range(len(y_test_hat))]))\n",
    "\n",
    "        save_figs = False\n",
    "        if save_examples is not None and test_ix in save_examples :\n",
    "            save_figs = True\n",
    "\n",
    "        # Original seq\n",
    "        plot_dna_logo(x_test[test_ix, 0, :, :], \n",
    "                      sequence_template=sequence_template, \n",
    "                      figsize=(5, 1), \n",
    "                      plot_start=0, plot_end=SEQ_LEN, \n",
    "                      plot_sequence_template=True, \n",
    "                      save_figs=save_figs, \n",
    "                      fig_name=model_name + \"_test_ix_\" + str(test_ix) + \"_orig_sequence\"\n",
    "        )\n",
    "        # PWM\n",
    "        plot_dna_logo(pwm_test[test_ix, 0, :, :], \n",
    "                      sequence_template=sequence_template, \n",
    "                      figsize=(5, 1), \n",
    "                      plot_start=0, plot_end=SEQ_LEN, \n",
    "                      plot_sequence_template=True, \n",
    "                      save_figs=save_figs, fig_name=model_name + \"_test_ix_\" + str(test_ix) + \"_scrambld_pwm\"\n",
    "        )\n",
    "        # importance scores\n",
    "        plot_dna_importance_scores(importance_scores_test[test_ix, 0, :, :].T,\n",
    "                                   encoder.decode(x_test[test_ix, 0, :, :]), \n",
    "                                   figsize=(5, 1), \n",
    "                                   score_clip=None, \n",
    "                                   sequence_template=sequence_template, \n",
    "                                   plot_start=0, plot_end=SEQ_LEN, \n",
    "                                   save_figs=save_figs, \n",
    "                                   fig_name=model_name + \"_test_ix_\" + str(test_ix) + \"_scores\"\n",
    "        )\n",
    "  "
   ]
  },
  {
   "cell_type": "code",
   "execution_count": null,
   "metadata": {},
   "outputs": [],
   "source": []
  }
 ],
 "metadata": {
  "kernelspec": {
   "display_name": "Python 3",
   "language": "python",
   "name": "python3"
  },
  "language_info": {
   "codemirror_mode": {
    "name": "ipython",
    "version": 3
   },
   "file_extension": ".py",
   "mimetype": "text/x-python",
   "name": "python",
   "nbconvert_exporter": "python",
   "pygments_lexer": "ipython3",
   "version": "3.7.10"
  }
 },
 "nbformat": 4,
 "nbformat_minor": 4
}
