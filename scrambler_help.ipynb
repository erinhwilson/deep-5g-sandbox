{
 "cells": [
  {
   "cell_type": "markdown",
   "metadata": {},
   "source": [
    "# Sandbox for building toy PyTorch models and testing them in Scramblers\n",
    "I've been learning Pytorch and have put together some baby models on a toy dataset of 8-mers with 3-mer motifs to practice sticking tubes together. I also want to practice running scramblers to identify important sequences. \n",
    "\n",
    "I'm stuck but hopefully this notebook can demonstrate what I've tried and what might be wrong?\n"
   ]
  },
  {
   "cell_type": "code",
   "execution_count": 1,
   "metadata": {},
   "outputs": [
    {
     "name": "stderr",
     "output_type": "stream",
     "text": [
      "Matplotlib is building the font cache; this may take a moment.\n"
     ]
    }
   ],
   "source": [
    "import torch\n",
    "from torch import nn\n",
    "\n",
    "from itertools import product\n",
    "import matplotlib.pyplot as plt\n",
    "import numpy as np\n",
    "import pandas as pd\n",
    "\n",
    "import utils as u"
   ]
  },
  {
   "cell_type": "code",
   "execution_count": 46,
   "metadata": {},
   "outputs": [
    {
     "name": "stdout",
     "output_type": "stream",
     "text": [
      "Total 8mers: 65536\n"
     ]
    }
   ],
   "source": [
    "# create all possible n-mers for 8\n",
    "seqs8 = [''.join(x) for x in product(['A','C','G','T'], repeat=8)]\n",
    "print('Total 8mers:',len(seqs8))"
   ]
  },
  {
   "cell_type": "code",
   "execution_count": 3,
   "metadata": {},
   "outputs": [],
   "source": [
    "# if you want to down select\n",
    "seqs8_200 = u.downselect_list(seqs8,200)"
   ]
  },
  {
   "cell_type": "code",
   "execution_count": 4,
   "metadata": {},
   "outputs": [],
   "source": [
    "score_dict = {\n",
    "    'A':20,\n",
    "    'C':17,\n",
    "    'G':14,\n",
    "    'T':11\n",
    "}\n",
    "                  \n",
    "def score_seqs_motif(seqs):\n",
    "    '''\n",
    "    Use simple system to assign scores to a given seq:\n",
    "    Using above scoring dict, take the average score of the sequence. \n",
    "    If the sequence has a TAT, give it a 10pt bump.\n",
    "    If it has a GCG, take away 10 pts\n",
    "    (Simulating activating and repressing motifs)\n",
    "    '''\n",
    "    data = []\n",
    "    for seq in seqs:\n",
    "        score = np.mean([score_dict[base] for base in seq])\n",
    "        if 'TAT' in seq:\n",
    "            score += 10\n",
    "        if 'GCG' in seq:\n",
    "            score -= 10\n",
    "        data.append([seq,score])\n",
    "        \n",
    "    df = pd.DataFrame(data, columns=['seq','score'])\n",
    "    return df\n",
    "    "
   ]
  },
  {
   "cell_type": "code",
   "execution_count": 5,
   "metadata": {},
   "outputs": [
    {
     "data": {
      "text/html": [
       "<div>\n",
       "<style scoped>\n",
       "    .dataframe tbody tr th:only-of-type {\n",
       "        vertical-align: middle;\n",
       "    }\n",
       "\n",
       "    .dataframe tbody tr th {\n",
       "        vertical-align: top;\n",
       "    }\n",
       "\n",
       "    .dataframe thead th {\n",
       "        text-align: right;\n",
       "    }\n",
       "</style>\n",
       "<table border=\"1\" class=\"dataframe\">\n",
       "  <thead>\n",
       "    <tr style=\"text-align: right;\">\n",
       "      <th></th>\n",
       "      <th>seq</th>\n",
       "      <th>score</th>\n",
       "    </tr>\n",
       "  </thead>\n",
       "  <tbody>\n",
       "    <tr>\n",
       "      <th>0</th>\n",
       "      <td>AAAAAAAA</td>\n",
       "      <td>20.000</td>\n",
       "    </tr>\n",
       "    <tr>\n",
       "      <th>1</th>\n",
       "      <td>AAAAAAAC</td>\n",
       "      <td>19.625</td>\n",
       "    </tr>\n",
       "    <tr>\n",
       "      <th>2</th>\n",
       "      <td>AAAAAAAG</td>\n",
       "      <td>19.250</td>\n",
       "    </tr>\n",
       "    <tr>\n",
       "      <th>3</th>\n",
       "      <td>AAAAAAAT</td>\n",
       "      <td>18.875</td>\n",
       "    </tr>\n",
       "    <tr>\n",
       "      <th>4</th>\n",
       "      <td>AAAAAACA</td>\n",
       "      <td>19.625</td>\n",
       "    </tr>\n",
       "  </tbody>\n",
       "</table>\n",
       "</div>"
      ],
      "text/plain": [
       "        seq   score\n",
       "0  AAAAAAAA  20.000\n",
       "1  AAAAAAAC  19.625\n",
       "2  AAAAAAAG  19.250\n",
       "3  AAAAAAAT  18.875\n",
       "4  AAAAAACA  19.625"
      ]
     },
     "execution_count": 5,
     "metadata": {},
     "output_type": "execute_result"
    }
   ],
   "source": [
    "mer8_motif = score_seqs_motif(seqs8)\n",
    "mer8_motif.head()"
   ]
  },
  {
   "cell_type": "code",
   "execution_count": 6,
   "metadata": {},
   "outputs": [
    {
     "name": "stdout",
     "output_type": "stream",
     "text": [
      "            seq   score\n",
      "64767  TTTATTTT  22.125\n",
      "            seq  score\n",
      "59135  TGCGTTTT    2.5\n"
     ]
    }
   ],
   "source": [
    "print(mer8_motif[mer8_motif['seq']=='TTTATTTT'])\n",
    "print(mer8_motif[mer8_motif['seq']=='TGCGTTTT'])"
   ]
  },
  {
   "cell_type": "code",
   "execution_count": 7,
   "metadata": {},
   "outputs": [
    {
     "data": {
      "image/png": "[encoded data removed]",
      "text/plain": [
       "<Figure size 432x288 with 1 Axes>"
      ]
     },
     "metadata": {
      "needs_background": "light"
     },
     "output_type": "display_data"
    }
   ],
   "source": [
    "plt.hist(mer8_motif['score'].values,bins=20)\n",
    "plt.title(\"8-mer with Motifs score distribution\")\n",
    "plt.xlabel(\"seq score\",fontsize=14)\n",
    "plt.ylabel(\"count\",fontsize=14)\n",
    "plt.show()"
   ]
  },
  {
   "cell_type": "markdown",
   "metadata": {},
   "source": [
    "### Define some basic model archs for Linear and CNN"
   ]
  },
  {
   "cell_type": "code",
   "execution_count": 8,
   "metadata": {},
   "outputs": [],
   "source": [
    "class DNA_Linear_Deep(nn.Module):\n",
    "    def __init__(self, seq_len,h1_size):\n",
    "        super().__init__()\n",
    "        self.seq_len = seq_len\n",
    "        \n",
    "        self.lin = nn.Sequential(\n",
    "            nn.Linear(4*seq_len, h1_size),\n",
    "            nn.ReLU(inplace=True),\n",
    "            nn.Linear(h1_size, 1),\n",
    "            nn.ReLU(inplace=True)\n",
    "        )\n",
    "\n",
    "    def forward(self, xb):\n",
    "        # Linear wraps up the weights/bias dot product operations\n",
    "        # reshape to flatten sequence dimension\n",
    "        xb = xb.view(xb.shape[0],self.seq_len*4)\n",
    "        out = self.lin(xb)\n",
    "        #print(\"Lin out shape:\", out.shape)\n",
    "        return out\n",
    "    \n",
    "\n",
    "    \n",
    "class DNA_CNN(nn.Module):\n",
    "    def __init__(self,\n",
    "                 seq_len,\n",
    "                 num_filters=31,\n",
    "                 kernel_size=3\n",
    "                ):\n",
    "        super().__init__()\n",
    "        self.seq_len = seq_len\n",
    "        \n",
    "        self.conv_net = nn.Sequential(\n",
    "            nn.Conv2d(1, num_filters, kernel_size=(4,kernel_size)),\n",
    "            # ^^ changed from 4 to 1 channel??\n",
    "            nn.ReLU(inplace=True),\n",
    "            nn.Flatten(),\n",
    "            nn.Linear(num_filters*(seq_len-kernel_size+1), 10),\n",
    "            nn.ReLU(inplace=True),\n",
    "            nn.Linear(10, 1),\n",
    "        ) \n",
    "\n",
    "    def forward(self, xb):\n",
    "        # reshape view to batch_ssize x 4channel x seq_len\n",
    "        # permute to put channel in correct order\n",
    "        #xb = xb.view(-1,self.seq_len,4).permute(0,2,1) \n",
    "        #xb = xb.permute(0,2,1) \n",
    "        # OHE FIX??\n",
    "        xb = xb.permute(0,2,1).unsqueeze(1)\n",
    "        # ^^ Conv2D input fix?? I think the unsqueeze adds a necessary dimension for Conv2D?\n",
    "        #print(xb.shape)\n",
    "        out = self.conv_net(xb)\n",
    "        #print(\"CNN out shape:\",out.shape)\n",
    "        return out"
   ]
  },
  {
   "cell_type": "code",
   "execution_count": 9,
   "metadata": {},
   "outputs": [],
   "source": [
    "def plot_train_test_hist(train_df, test_df,bins=10):\n",
    "    ''' Check distribution of train/test scores, sanity check that its not skewed'''\n",
    "    plt.hist(train_df['score'].values,bins=bins,label=\"train\")\n",
    "    plt.hist(test_df['score'].values,bins=bins,label='test')\n",
    "    plt.legend()\n",
    "    plt.xlabel(\"seq score\",fontsize=14)\n",
    "    plt.ylabel(\"count\",fontsize=14)\n",
    "    plt.show()\n",
    "    \n",
    "    \n",
    "def quick_test8(model, oracle):\n",
    "    '''Sanity check some sequence predictions against the oracle (ground truth dict)'''\n",
    "    seqs1 = ['AAAAAAAA', 'CCCCCCCC','GGGGGGGG','TTTTTTTT']\n",
    "    seqs2 = ['AACCAACA','CCGGCGCG','GGGTAAGG', 'TTTCGTTT','TGTAATAC']\n",
    "    seqsTAT = ['TATAAAAA','CCTATCCC','GTATGGGG','TTTATTTT']\n",
    "    seqsGCG = ['AAGCGAAA','CGCGCCCC','GGGCGGGG','TTGCGTTT']\n",
    "    TATGCG =  ['ATATGCGA','TGCGTATT']\n",
    "\n",
    "    for seqs in [seqs1, seqs2, seqsTAT, seqsGCG, TATGCG]:\n",
    "        u.quick_seq_pred(model, seqs, oracle)\n",
    "        print()"
   ]
  },
  {
   "cell_type": "markdown",
   "metadata": {},
   "source": [
    "# Single task Regression with Motifs\n",
    "### Split data into train and test"
   ]
  },
  {
   "cell_type": "code",
   "execution_count": 10,
   "metadata": {},
   "outputs": [],
   "source": [
    "# build DataLoader objects in PyTorch, also return pandas dfs of the train and test seqs\n",
    "mer8motif_train_dl, \\\n",
    "mer8motif_test_dl, \\\n",
    "mer8motif_train_df, \\\n",
    "mer8motif_test_df = u.build_dataloaders_single(mer8_motif, batch_size=13)"
   ]
  },
  {
   "cell_type": "code",
   "execution_count": 11,
   "metadata": {},
   "outputs": [
    {
     "data": {
      "image/png": "[encoded data removed]",
      "text/plain": [
       "<Figure size 432x288 with 1 Axes>"
      ]
     },
     "metadata": {
      "needs_background": "light"
     },
     "output_type": "display_data"
    }
   ],
   "source": [
    "plot_train_test_hist(mer8motif_train_df, mer8motif_test_df,bins=20)"
   ]
  },
  {
   "cell_type": "code",
   "execution_count": 12,
   "metadata": {},
   "outputs": [
    {
     "data": {
      "text/plain": [
       "(8, 4)"
      ]
     },
     "execution_count": 12,
     "metadata": {},
     "output_type": "execute_result"
    }
   ],
   "source": [
    "mer8motif_train_df['oh'].values[0].shape"
   ]
  },
  {
   "cell_type": "code",
   "execution_count": 13,
   "metadata": {},
   "outputs": [
    {
     "name": "stdout",
     "output_type": "stream",
     "text": [
      "xb shape: torch.Size([13, 8, 4])\n",
      "xb shape after forward pass: torch.Size([13, 1, 4, 8])\n",
      "tensor([[[[0., 0., 0., 1., 0., 0., 0., 0.],\n",
      "          [1., 0., 1., 0., 1., 1., 0., 1.],\n",
      "          [0., 0., 0., 0., 0., 0., 1., 0.],\n",
      "          [0., 1., 0., 0., 0., 0., 0., 0.]]],\n",
      "\n",
      "\n",
      "        [[[0., 1., 0., 0., 1., 1., 1., 0.],\n",
      "          [0., 0., 0., 1., 0., 0., 0., 0.],\n",
      "          [1., 0., 1., 0., 0., 0., 0., 0.],\n",
      "          [0., 0., 0., 0., 0., 0., 0., 1.]]],\n",
      "\n",
      "\n",
      "        [[[1., 0., 1., 0., 0., 0., 0., 0.],\n",
      "          [0., 1., 0., 0., 0., 0., 0., 0.],\n",
      "          [0., 0., 0., 0., 1., 0., 1., 0.],\n",
      "          [0., 0., 0., 1., 0., 1., 0., 1.]]],\n",
      "\n",
      "\n",
      "        [[[1., 0., 1., 0., 0., 0., 0., 0.],\n",
      "          [0., 1., 0., 0., 1., 0., 1., 0.],\n",
      "          [0., 0., 0., 0., 0., 0., 0., 1.],\n",
      "          [0., 0., 0., 1., 0., 1., 0., 0.]]],\n",
      "\n",
      "\n",
      "        [[[0., 0., 0., 1., 0., 1., 0., 1.],\n",
      "          [1., 1., 0., 0., 1., 0., 1., 0.],\n",
      "          [0., 0., 1., 0., 0., 0., 0., 0.],\n",
      "          [0., 0., 0., 0., 0., 0., 0., 0.]]],\n",
      "\n",
      "\n",
      "        [[[1., 0., 0., 0., 1., 0., 1., 0.],\n",
      "          [0., 1., 0., 0., 0., 0., 0., 0.],\n",
      "          [0., 0., 1., 0., 0., 1., 0., 1.],\n",
      "          [0., 0., 0., 1., 0., 0., 0., 0.]]],\n",
      "\n",
      "\n",
      "        [[[0., 0., 0., 0., 1., 0., 0., 0.],\n",
      "          [1., 1., 0., 0., 0., 0., 0., 1.],\n",
      "          [0., 0., 0., 1., 0., 0., 1., 0.],\n",
      "          [0., 0., 1., 0., 0., 1., 0., 0.]]],\n",
      "\n",
      "\n",
      "        [[[0., 0., 0., 0., 0., 1., 0., 0.],\n",
      "          [1., 1., 0., 0., 0., 0., 0., 0.],\n",
      "          [0., 0., 0., 1., 0., 0., 1., 1.],\n",
      "          [0., 0., 1., 0., 1., 0., 0., 0.]]],\n",
      "\n",
      "\n",
      "        [[[1., 1., 1., 0., 0., 1., 0., 0.],\n",
      "          [0., 0., 0., 0., 0., 0., 1., 0.],\n",
      "          [0., 0., 0., 1., 1., 0., 0., 1.],\n",
      "          [0., 0., 0., 0., 0., 0., 0., 0.]]],\n",
      "\n",
      "\n",
      "        [[[0., 0., 1., 0., 0., 0., 0., 0.],\n",
      "          [0., 1., 0., 1., 1., 0., 1., 0.],\n",
      "          [1., 0., 0., 0., 0., 0., 0., 1.],\n",
      "          [0., 0., 0., 0., 0., 1., 0., 0.]]],\n",
      "\n",
      "\n",
      "        [[[0., 0., 0., 0., 0., 1., 1., 0.],\n",
      "          [0., 0., 1., 0., 0., 0., 0., 0.],\n",
      "          [1., 0., 0., 1., 0., 0., 0., 1.],\n",
      "          [0., 1., 0., 0., 1., 0., 0., 0.]]],\n",
      "\n",
      "\n",
      "        [[[0., 0., 0., 0., 0., 0., 0., 1.],\n",
      "          [0., 1., 0., 0., 1., 0., 0., 0.],\n",
      "          [0., 0., 0., 1., 0., 1., 0., 0.],\n",
      "          [1., 0., 1., 0., 0., 0., 1., 0.]]],\n",
      "\n",
      "\n",
      "        [[[0., 1., 0., 0., 0., 0., 0., 0.],\n",
      "          [0., 0., 0., 0., 1., 0., 1., 1.],\n",
      "          [1., 0., 0., 0., 0., 0., 0., 0.],\n",
      "          [0., 0., 1., 1., 0., 1., 0., 0.]]]], dtype=torch.float64)\n"
     ]
    }
   ],
   "source": [
    "# inspect some stuff about a batch\n",
    "for xb, yb in mer8motif_train_dl:\n",
    "    break\n",
    "\n",
    "# print some stuff that happens in the forward pass of the PyTorch model\n",
    "print(\"xb shape:\",xb.shape)\n",
    "print(\"xb shape after forward pass:\",xb.permute(0,2,1).unsqueeze(1).shape)\n",
    "print(xb.permute(0,2,1).unsqueeze(1))"
   ]
  },
  {
   "cell_type": "markdown",
   "metadata": {},
   "source": [
    "##  Linear Model"
   ]
  },
  {
   "cell_type": "code",
   "execution_count": 14,
   "metadata": {},
   "outputs": [
    {
     "name": "stderr",
     "output_type": "stream",
     "text": [
      "/home/ewilson6/anaconda3/envs/scrambler/lib/python3.7/site-packages/torch/autograd/__init__.py:149: UserWarning: CUDA initialization: The NVIDIA driver on your system is too old (found version 9000). Please update your GPU driver by downloading and installing a new version from the URL: http://www.nvidia.com/Download/index.aspx Alternatively, go to: https://pytorch.org to install a PyTorch version that has been compiled with your version of the CUDA driver. (Triggered internally at  /opt/conda/conda-bld/pytorch_1623448224956/work/c10/cuda/CUDAFunctions.cpp:115.)\n",
      "  allow_unreachable=True, accumulate_grad=True)  # allow_unreachable flag\n"
     ]
    },
    {
     "name": "stdout",
     "output_type": "stream",
     "text": [
      "0 6.793875023990934\n",
      "1 3.3187473799793468\n",
      "2 1.981510016897811\n",
      "3 1.1261696804691133\n",
      "4 1.6846805977128358\n",
      "5 0.7023500172017204\n",
      "6 1.0175650500052125\n",
      "7 0.5970002914795087\n",
      "8 0.5386132549927626\n",
      "9 0.7163647259007213\n",
      "10 0.7803298995026118\n",
      "11 0.5296663919302896\n",
      "12 0.5009169162611705\n",
      "13 0.5411686823996927\n",
      "14 0.682327261950558\n",
      "15 0.5582575772837518\n",
      "16 0.49702554952318\n",
      "17 0.5102440519855199\n",
      "18 0.5216030622910632\n",
      "19 0.5366919195114075\n"
     ]
    },
    {
     "data": {
      "image/png": "[encoded data removed]",
      "text/plain": [
       "<Figure size 432x288 with 1 Axes>"
      ]
     },
     "metadata": {
      "needs_background": "light"
     },
     "output_type": "display_data"
    }
   ],
   "source": [
    "seq_len = len(mer8motif_train_df['seq'].values[0])\n",
    "hidden_layer_size = 24\n",
    "\n",
    "mer8motif_model_lin_d = DNA_Linear_Deep(seq_len,hidden_layer_size)\n",
    "\n",
    "mer8motif_train_losses_lin_d, mer8motif_test_losses_lin_d = u.run_model(\n",
    "    mer8motif_train_dl, \n",
    "    mer8motif_test_dl, \n",
    "    mer8motif_model_lin_d\n",
    ")\n",
    "\n",
    "# to plot loss\n",
    "mer8motif_lin_d_data_label = list(zip([mer8motif_train_losses_lin_d,\n",
    "                                       mer8motif_test_losses_lin_d], \n",
    "                                      ['Lin(dp) Train Loss',\n",
    "                                       'Lin(dp) Test Loss']))\n",
    "u.quick_loss_plot(mer8motif_lin_d_data_label)"
   ]
  },
  {
   "cell_type": "code",
   "execution_count": 15,
   "metadata": {},
   "outputs": [
    {
     "name": "stdout",
     "output_type": "stream",
     "text": [
      "AAAAAAAA: pred:19.790 actual:20.000 (0.210)\n",
      "CCCCCCCC: pred:16.523 actual:17.000 (0.477)\n",
      "GGGGGGGG: pred:13.972 actual:14.000 (0.028)\n",
      "TTTTTTTT: pred:11.395 actual:11.000 (-0.395)\n",
      "\n",
      "AACCAACA: pred:18.868 actual:18.875 (0.007)\n",
      "CCGGCGCG: pred:0.000 actual:5.500 (5.500)\n",
      "GGGTAAGG: pred:15.125 actual:15.125 (-0.000)\n",
      "TTTCGTTT: pred:11.789 actual:12.125 (0.336)\n",
      "TGTAATAC: pred:16.083 actual:15.500 (-0.583)\n",
      "\n",
      "TATAAAAA: pred:25.658 actual:27.750 (2.092)\n",
      "CCTATCCC: pred:27.359 actual:25.875 (-1.484)\n",
      "GTATGGGG: pred:23.671 actual:24.000 (0.329)\n",
      "TTTATTTT: pred:19.543 actual:22.125 (2.582)\n",
      "\n",
      "AAGCGAAA: pred:8.472 actual:8.125 (-0.347)\n",
      "CGCGCCCC: pred:5.883 actual:6.250 (0.367)\n",
      "GGGCGGGG: pred:4.780 actual:4.375 (-0.405)\n",
      "TTGCGTTT: pred:1.835 actual:2.500 (0.665)\n",
      "\n",
      "ATATGCGA: pred:15.173 actual:15.875 (0.702)\n",
      "TGCGTATT: pred:12.446 actual:13.625 (1.179)\n",
      "\n"
     ]
    }
   ],
   "source": [
    "oracle_8mer_motif = dict(mer8_motif[['seq','score']].values)\n",
    "quick_test8(mer8motif_model_lin_d,oracle_8mer_motif)"
   ]
  },
  {
   "cell_type": "markdown",
   "metadata": {},
   "source": [
    "### CNN Model"
   ]
  },
  {
   "cell_type": "code",
   "execution_count": 16,
   "metadata": {},
   "outputs": [
    {
     "name": "stdout",
     "output_type": "stream",
     "text": [
      "0 0.6169636265656362\n",
      "1 0.3749693442948292\n",
      "2 0.04260264214420875\n",
      "3 0.024384622136471967\n",
      "4 0.023259644189894416\n",
      "5 0.02170218680784023\n",
      "6 0.01933398335858627\n",
      "7 0.01627576120402459\n",
      "8 0.014706319255608318\n",
      "9 0.021362573964718665\n",
      "10 0.013346249400199977\n",
      "11 0.012904090582175844\n",
      "12 0.012454442818831858\n",
      "13 0.013317870092388951\n",
      "14 0.011920447828504224\n",
      "15 0.01113764625995612\n",
      "16 0.01051346436198729\n",
      "17 0.010563881960665144\n",
      "18 0.010363452275387281\n",
      "19 0.010457818740215117\n"
     ]
    },
    {
     "data": {
      "image/png": "[encoded data removed]",
      "text/plain": [
       "<Figure size 432x288 with 1 Axes>"
      ]
     },
     "metadata": {
      "needs_background": "light"
     },
     "output_type": "display_data"
    }
   ],
   "source": [
    "seq_len = len(mer8motif_train_df['seq'].values[0])\n",
    "\n",
    "mer8motif_model_cnn = DNA_CNN(seq_len)\n",
    "\n",
    "mer8motif_train_losses_cnn, \\\n",
    "mer8motif_test_losses_cnn = u.run_model(\n",
    "    mer8motif_train_dl, \n",
    "    mer8motif_test_dl, \n",
    "    mer8motif_model_cnn, \n",
    ")\n",
    "\n",
    "# to plot loss\n",
    "mer8motif_cnn_data_label = list(zip([mer8motif_train_losses_cnn,mer8motif_test_losses_cnn], ['CNN Train Loss','CNN Test Loss']))\n",
    "u.quick_loss_plot(mer8motif_cnn_data_label)"
   ]
  },
  {
   "cell_type": "code",
   "execution_count": 17,
   "metadata": {},
   "outputs": [
    {
     "name": "stdout",
     "output_type": "stream",
     "text": [
      "AAAAAAAA: pred:19.869 actual:20.000 (0.131)\n",
      "CCCCCCCC: pred:16.986 actual:17.000 (0.014)\n",
      "GGGGGGGG: pred:13.983 actual:14.000 (0.017)\n",
      "TTTTTTTT: pred:10.894 actual:11.000 (0.106)\n",
      "\n",
      "AACCAACA: pred:18.874 actual:18.875 (0.001)\n",
      "CCGGCGCG: pred:5.475 actual:5.500 (0.025)\n",
      "GGGTAAGG: pred:15.120 actual:15.125 (0.005)\n",
      "TTTCGTTT: pred:12.090 actual:12.125 (0.035)\n",
      "TGTAATAC: pred:15.462 actual:15.500 (0.038)\n",
      "\n",
      "TATAAAAA: pred:26.797 actual:27.750 (0.953)\n",
      "CCTATCCC: pred:25.891 actual:25.875 (-0.016)\n",
      "GTATGGGG: pred:23.858 actual:24.000 (0.142)\n",
      "TTTATTTT: pred:22.088 actual:22.125 (0.037)\n",
      "\n",
      "AAGCGAAA: pred:8.173 actual:8.125 (-0.048)\n",
      "CGCGCCCC: pred:6.229 actual:6.250 (0.021)\n",
      "GGGCGGGG: pred:4.393 actual:4.375 (-0.018)\n",
      "TTGCGTTT: pred:2.448 actual:2.500 (0.052)\n",
      "\n",
      "ATATGCGA: pred:16.183 actual:15.875 (-0.308)\n",
      "TGCGTATT: pred:13.508 actual:13.625 (0.117)\n",
      "\n"
     ]
    }
   ],
   "source": [
    "quick_test8(mer8motif_model_cnn, oracle_8mer_motif)"
   ]
  },
  {
   "cell_type": "code",
   "execution_count": 18,
   "metadata": {
    "scrolled": false
   },
   "outputs": [
    {
     "data": {
      "image/png": "[encoded data removed]",
      "text/plain": [
       "<Figure size 432x288 with 1 Axes>"
      ]
     },
     "metadata": {
      "needs_background": "light"
     },
     "output_type": "display_data"
    }
   ],
   "source": [
    "u.quick_loss_plot(\n",
    "    mer8motif_lin_d_data_label + \\\n",
    "    mer8motif_cnn_data_label\n",
    ")"
   ]
  },
  {
   "cell_type": "code",
   "execution_count": 19,
   "metadata": {},
   "outputs": [],
   "source": [
    "def parity_pred(models, seqs, oracle,task,alt=True):\n",
    "    '''Given some sequences, get the model's predictions '''\n",
    "    dfs = {} # key: model name, value: parity_df\n",
    "    \n",
    "    \n",
    "    for model_name,model in models:\n",
    "        print(f\"Running {model_name}\")\n",
    "        data = []\n",
    "        for dna in seqs:\n",
    "            s = torch.tensor(u.one_hot_encode(dna)).unsqueeze(0)\n",
    "            actual = oracle[dna]\n",
    "            pred = model(s.float())\n",
    "            data.append([dna,actual,pred.item()])\n",
    "        df = pd.DataFrame(data, columns=['seq','truth','pred'])\n",
    "        pearson = df['truth'].corr(df['pred'])\n",
    "        dfs[model_name] = (pearson,df)\n",
    "        \n",
    "        #plot parity plot\n",
    "        if alt: # make an altair plot\n",
    "            u.alt_parity_plot(model_name, df, pearson,task)\n",
    "        u.parity_plot(model_name, df, pearson)\n",
    "\n",
    "    return dfs"
   ]
  },
  {
   "cell_type": "code",
   "execution_count": 20,
   "metadata": {},
   "outputs": [
    {
     "name": "stdout",
     "output_type": "stream",
     "text": [
      "Running LinearDeep_8mer\n"
     ]
    },
    {
     "data": {
      "image/png": "[encoded data removed]",
      "text/plain": [
       "<Figure size 432x288 with 1 Axes>"
      ]
     },
     "metadata": {
      "needs_background": "light"
     },
     "output_type": "display_data"
    },
    {
     "name": "stdout",
     "output_type": "stream",
     "text": [
      "Running CNN_8mer\n"
     ]
    },
    {
     "data": {
      "image/png": "[encoded data removed]",
      "text/plain": [
       "<Figure size 432x288 with 1 Axes>"
      ]
     },
     "metadata": {
      "needs_background": "light"
     },
     "output_type": "display_data"
    }
   ],
   "source": [
    "models = [\n",
    "    (\"LinearDeep_8mer\",mer8motif_model_lin_d),\n",
    "    (\"CNN_8mer\",mer8motif_model_cnn),\n",
    "]\n",
    "\n",
    "seqs = mer8motif_test_df['seq'].values\n",
    "task = \"TATGCGmotif\"\n",
    "\n",
    "dfs = parity_pred(models, seqs, oracle_8mer_motif,task,alt=True)"
   ]
  },
  {
   "cell_type": "markdown",
   "metadata": {},
   "source": [
    "# Checkpoint 1\n",
    "The models are trained in PyTorch and are working as expected: the linear model does pretty good (it's a simple task) but the CNN model is doing much better. \n",
    "\n",
    "I'd like to practice using Scramblers, and I expect that Scramblers should see that the models are indeed relying on the TAT and GCG motifs to predict the scoring pattern.\n",
    "\n",
    "However, Scramblers are in Keras, not PyTorch. \n",
    "\n",
    "So I'm trying to use ONNX to convert the PyTorch models to Keras. Unfortunately, ONNX uses tf.Keras while scramblers just use Keras. So this will actually be 2 steps:\n",
    "1. Convert PyTorch to tf.Keras (via ONNX)\n",
    "2. Convert tf.Keras to Keras\n"
   ]
  },
  {
   "cell_type": "markdown",
   "metadata": {},
   "source": [
    "## try to export to keras"
   ]
  },
  {
   "cell_type": "code",
   "execution_count": 21,
   "metadata": {},
   "outputs": [
    {
     "data": {
      "text/plain": [
       "DNA_Linear_Deep(\n",
       "  (lin): Sequential(\n",
       "    (0): Linear(in_features=32, out_features=24, bias=True)\n",
       "    (1): ReLU(inplace=True)\n",
       "    (2): Linear(in_features=24, out_features=1, bias=True)\n",
       "    (3): ReLU(inplace=True)\n",
       "  )\n",
       ")"
      ]
     },
     "execution_count": 21,
     "metadata": {},
     "output_type": "execute_result"
    }
   ],
   "source": [
    "mer8motif_model_lin_d"
   ]
  },
  {
   "cell_type": "code",
   "execution_count": 22,
   "metadata": {},
   "outputs": [
    {
     "data": {
      "text/plain": [
       "DNA_CNN(\n",
       "  (conv_net): Sequential(\n",
       "    (0): Conv2d(1, 31, kernel_size=(4, 3), stride=(1, 1))\n",
       "    (1): ReLU(inplace=True)\n",
       "    (2): Flatten(start_dim=1, end_dim=-1)\n",
       "    (3): Linear(in_features=186, out_features=10, bias=True)\n",
       "    (4): ReLU(inplace=True)\n",
       "    (5): Linear(in_features=10, out_features=1, bias=True)\n",
       "  )\n",
       ")"
      ]
     },
     "execution_count": 22,
     "metadata": {},
     "output_type": "execute_result"
    }
   ],
   "source": [
    "mer8motif_model_cnn"
   ]
  },
  {
   "cell_type": "markdown",
   "metadata": {},
   "source": [
    "### Try onnx export"
   ]
  },
  {
   "cell_type": "code",
   "execution_count": 23,
   "metadata": {},
   "outputs": [
    {
     "name": "stderr",
     "output_type": "stream",
     "text": [
      "Using TensorFlow backend.\n",
      "/home/ewilson6/anaconda3/envs/scrambler/lib/python3.7/site-packages/tensorflow/python/framework/dtypes.py:526: FutureWarning: Passing (type, 1) or '1type' as a synonym of type is deprecated; in a future version of numpy, it will be understood as (type, (1,)) / '(1,)type'.\n",
      "  _np_qint8 = np.dtype([(\"qint8\", np.int8, 1)])\n",
      "/home/ewilson6/anaconda3/envs/scrambler/lib/python3.7/site-packages/tensorflow/python/framework/dtypes.py:527: FutureWarning: Passing (type, 1) or '1type' as a synonym of type is deprecated; in a future version of numpy, it will be understood as (type, (1,)) / '(1,)type'.\n",
      "  _np_quint8 = np.dtype([(\"quint8\", np.uint8, 1)])\n",
      "/home/ewilson6/anaconda3/envs/scrambler/lib/python3.7/site-packages/tensorflow/python/framework/dtypes.py:528: FutureWarning: Passing (type, 1) or '1type' as a synonym of type is deprecated; in a future version of numpy, it will be understood as (type, (1,)) / '(1,)type'.\n",
      "  _np_qint16 = np.dtype([(\"qint16\", np.int16, 1)])\n",
      "/home/ewilson6/anaconda3/envs/scrambler/lib/python3.7/site-packages/tensorflow/python/framework/dtypes.py:529: FutureWarning: Passing (type, 1) or '1type' as a synonym of type is deprecated; in a future version of numpy, it will be understood as (type, (1,)) / '(1,)type'.\n",
      "  _np_quint16 = np.dtype([(\"quint16\", np.uint16, 1)])\n",
      "/home/ewilson6/anaconda3/envs/scrambler/lib/python3.7/site-packages/tensorflow/python/framework/dtypes.py:530: FutureWarning: Passing (type, 1) or '1type' as a synonym of type is deprecated; in a future version of numpy, it will be understood as (type, (1,)) / '(1,)type'.\n",
      "  _np_qint32 = np.dtype([(\"qint32\", np.int32, 1)])\n",
      "/home/ewilson6/anaconda3/envs/scrambler/lib/python3.7/site-packages/tensorflow/python/framework/dtypes.py:535: FutureWarning: Passing (type, 1) or '1type' as a synonym of type is deprecated; in a future version of numpy, it will be understood as (type, (1,)) / '(1,)type'.\n",
      "  np_resource = np.dtype([(\"resource\", np.ubyte, 1)])\n"
     ]
    }
   ],
   "source": [
    "import keras\n",
    "import onnx\n",
    "import onnx2keras\n",
    "from onnx2keras import onnx_to_keras"
   ]
  },
  {
   "cell_type": "code",
   "execution_count": 24,
   "metadata": {},
   "outputs": [],
   "source": [
    "seqs = [\"AAAAAAAA\",\"TTTTTTTT\",\"CCCCCCCC\",\"GGGGGGGG\",\"GGGTATGG\",\"AAGCGAAA\"]"
   ]
  },
  {
   "cell_type": "code",
   "execution_count": 25,
   "metadata": {},
   "outputs": [],
   "source": [
    "def export2keras(pt_model, model_name_str,example_seqs):\n",
    "    \n",
    "    # make dummy input from example seqs\n",
    "    ohe_seqs = [u.one_hot_encode(x) for x in example_seqs]\n",
    "    ohe_seqs = [torch.from_numpy(x).unsqueeze(0).float() for x in ohe_seqs]\n",
    "    dummy_input = ohe_seqs[0]\n",
    "    \n",
    "    # export intermediate ONNX model\n",
    "    onnx_model_str = f\"{model_name_str}.onnx\"\n",
    "    torch.onnx.export(\n",
    "        pt_model, \n",
    "        dummy_input, \n",
    "        onnx_model_str, \n",
    "        input_names=['test_input'], # should this change? Does it matter?\n",
    "        output_names=['test_output']\n",
    "    )\n",
    "    print(\"Done saving to onnx.\")\n",
    "    print(\"Loading to Keras...\")\n",
    "    \n",
    "    # convert ONNX to keras\n",
    "    onnx_model = onnx.load(onnx_model_str)\n",
    "    k_model = onnx_to_keras(onnx_model, ['test_input'])\n",
    "    \n",
    "    print(\"\\nConfirming Torch and Keras match\")\n",
    "    # confirm Pytorch and Keras agree\n",
    "    for i in range(len(example_seqs)):\n",
    "        seq = example_seqs[i]\n",
    "        ohe_seq = ohe_seqs[i]\n",
    "        seq_k = np.array(ohe_seq)\n",
    "\n",
    "        res = pt_model(ohe_seq)\n",
    "        res2 = k_model.predict(seq_k)\n",
    "        \n",
    "        print(f\"{seq}: \\n\\tPyTorch:{res.item()} \\n\\tKeras  :{res2[0][0]}\")\n",
    "        \n",
    "    # save the Keras model\n",
    "    k_model_str = f\"{model_name_str}.h5\"\n",
    "    \n",
    "    k_model.save(k_model_str)\n",
    "    print(f\"Keras Model saved at {k_model_str}\")\n",
    "    return k_model\n"
   ]
  },
  {
   "cell_type": "code",
   "execution_count": 26,
   "metadata": {},
   "outputs": [
    {
     "ename": "NameError",
     "evalue": "name 'tf' is not defined",
     "output_type": "error",
     "traceback": [
      "\u001b[0;31m---------------------------------------------------------------------------\u001b[0m",
      "\u001b[0;31mNameError\u001b[0m                                 Traceback (most recent call last)",
      "\u001b[0;32m<ipython-input-26-65996cac02ec>\u001b[0m in \u001b[0;36m<module>\u001b[0;34m\u001b[0m\n\u001b[0;32m----> 1\u001b[0;31m \u001b[0mtf\u001b[0m\u001b[0;34m.\u001b[0m\u001b[0m__version__\u001b[0m\u001b[0;34m\u001b[0m\u001b[0;34m\u001b[0m\u001b[0m\n\u001b[0m",
      "\u001b[0;31mNameError\u001b[0m: name 'tf' is not defined"
     ]
    }
   ],
   "source": [
    "tf.__version__"
   ]
  },
  {
   "cell_type": "code",
   "execution_count": 27,
   "metadata": {
    "scrolled": false
   },
   "outputs": [
    {
     "name": "stderr",
     "output_type": "stream",
     "text": [
      "INFO:onnx2keras:Converter is called.\n",
      "DEBUG:onnx2keras:List input shapes:\n",
      "DEBUG:onnx2keras:None\n",
      "DEBUG:onnx2keras:List inputs:\n",
      "DEBUG:onnx2keras:Input 0 -> test_input.\n",
      "DEBUG:onnx2keras:List outputs:\n",
      "DEBUG:onnx2keras:Output 0 -> test_output.\n",
      "DEBUG:onnx2keras:Gathering weights to dictionary.\n",
      "DEBUG:onnx2keras:Found weight lin.0.weight with shape (24, 32).\n",
      "DEBUG:onnx2keras:Found weight lin.0.bias with shape (24,).\n",
      "DEBUG:onnx2keras:Found weight lin.2.weight with shape (1, 24).\n",
      "DEBUG:onnx2keras:Found weight lin.2.bias with shape (1,).\n",
      "DEBUG:onnx2keras:Found weight 17 with shape (1,).\n",
      "DEBUG:onnx2keras:Found input test_input with shape [8, 4]\n",
      "DEBUG:onnx2keras:######\n",
      "DEBUG:onnx2keras:...\n",
      "DEBUG:onnx2keras:Converting ONNX operation\n",
      "DEBUG:onnx2keras:type: Shape\n",
      "DEBUG:onnx2keras:node_name: 5\n",
      "DEBUG:onnx2keras:node_params: {'change_ordering': False, 'name_policy': None}\n",
      "DEBUG:onnx2keras:...\n",
      "DEBUG:onnx2keras:Check if all inputs are available:\n",
      "DEBUG:onnx2keras:Check input 0 (name test_input).\n",
      "DEBUG:onnx2keras:... found all, continue\n",
      "DEBUG:onnx2keras:shape:Actual shape:\n",
      "DEBUG:onnx2keras:shape:[Dimension(None) Dimension(8) Dimension(4)]\n",
      "DEBUG:onnx2keras:Output TF Layer -> [Dimension(None) Dimension(8) Dimension(4)]\n",
      "DEBUG:onnx2keras:######\n",
      "DEBUG:onnx2keras:...\n",
      "DEBUG:onnx2keras:Converting ONNX operation\n",
      "DEBUG:onnx2keras:type: Constant\n",
      "DEBUG:onnx2keras:node_name: 6\n",
      "DEBUG:onnx2keras:node_params: {'value': array(0), 'change_ordering': False, 'name_policy': None}\n",
      "DEBUG:onnx2keras:...\n",
      "DEBUG:onnx2keras:Check if all inputs are available:\n",
      "DEBUG:onnx2keras:... found all, continue\n",
      "DEBUG:onnx2keras:Output TF Layer -> 0\n",
      "DEBUG:onnx2keras:######\n",
      "DEBUG:onnx2keras:...\n",
      "DEBUG:onnx2keras:Converting ONNX operation\n",
      "DEBUG:onnx2keras:type: Gather\n",
      "DEBUG:onnx2keras:node_name: 7\n",
      "DEBUG:onnx2keras:node_params: {'axis': 0, 'change_ordering': False, 'name_policy': None}\n",
      "DEBUG:onnx2keras:...\n",
      "DEBUG:onnx2keras:Check if all inputs are available:\n",
      "DEBUG:onnx2keras:Check input 0 (name 5).\n",
      "DEBUG:onnx2keras:Check input 1 (name 6).\n",
      "DEBUG:onnx2keras:... found all, continue\n",
      "DEBUG:onnx2keras:gather:Gather from numpy array\n",
      "DEBUG:onnx2keras:Output TF Layer -> ?\n",
      "DEBUG:onnx2keras:######\n",
      "DEBUG:onnx2keras:...\n",
      "DEBUG:onnx2keras:Converting ONNX operation\n",
      "DEBUG:onnx2keras:type: Unsqueeze\n",
      "DEBUG:onnx2keras:node_name: 9\n",
      "DEBUG:onnx2keras:node_params: {'axes': [0], 'change_ordering': False, 'name_policy': None}\n",
      "DEBUG:onnx2keras:...\n",
      "DEBUG:onnx2keras:Check if all inputs are available:\n",
      "DEBUG:onnx2keras:Check input 0 (name 7).\n",
      "DEBUG:onnx2keras:... found all, continue\n",
      "DEBUG:onnx2keras:unsqueeze:Work with numpy types.\n",
      "DEBUG:onnx2keras:Output TF Layer -> [Dimension(None)]\n",
      "DEBUG:onnx2keras:######\n",
      "DEBUG:onnx2keras:...\n",
      "DEBUG:onnx2keras:Converting ONNX operation\n",
      "DEBUG:onnx2keras:type: Concat\n",
      "DEBUG:onnx2keras:node_name: 11\n",
      "DEBUG:onnx2keras:node_params: {'axis': 0, 'change_ordering': False, 'name_policy': None}\n",
      "DEBUG:onnx2keras:...\n",
      "DEBUG:onnx2keras:Check if all inputs are available:\n",
      "DEBUG:onnx2keras:Check input 0 (name 9).\n",
      "DEBUG:onnx2keras:Check input 1 (name 17).\n",
      "DEBUG:onnx2keras:The input not found in layers / model inputs.\n",
      "DEBUG:onnx2keras:Found in weights, add as a numpy constant.\n",
      "DEBUG:onnx2keras:... found all, continue\n",
      "DEBUG:onnx2keras:concat:Concat numpy arrays.\n",
      "DEBUG:onnx2keras:Output TF Layer -> [Dimension(None) 32]\n",
      "DEBUG:onnx2keras:######\n",
      "DEBUG:onnx2keras:...\n",
      "DEBUG:onnx2keras:Converting ONNX operation\n",
      "DEBUG:onnx2keras:type: Reshape\n",
      "DEBUG:onnx2keras:node_name: 12\n",
      "DEBUG:onnx2keras:node_params: {'change_ordering': False, 'name_policy': None}\n",
      "DEBUG:onnx2keras:...\n",
      "DEBUG:onnx2keras:Check if all inputs are available:\n",
      "DEBUG:onnx2keras:Check input 0 (name test_input).\n",
      "DEBUG:onnx2keras:Check input 1 (name 11).\n",
      "DEBUG:onnx2keras:... found all, continue\n",
      "DEBUG:onnx2keras:reshape:The second argument is numpy array.\n",
      "DEBUG:onnx2keras:reshape:The first argument is Keras/tf layer. Apply keras.Reshape.\n",
      "DEBUG:onnx2keras:reshape:Target shape :\n",
      "DEBUG:onnx2keras:reshape:[32]\n",
      "DEBUG:onnx2keras:Output TF Layer -> Tensor(\"12/Reshape:0\", shape=(?, 32), dtype=float32)\n",
      "DEBUG:onnx2keras:######\n",
      "DEBUG:onnx2keras:...\n",
      "DEBUG:onnx2keras:Converting ONNX operation\n",
      "DEBUG:onnx2keras:type: Gemm\n",
      "DEBUG:onnx2keras:node_name: 13\n",
      "DEBUG:onnx2keras:node_params: {'alpha': 1.0, 'beta': 1.0, 'transB': 1, 'change_ordering': False, 'name_policy': None}\n",
      "DEBUG:onnx2keras:...\n",
      "DEBUG:onnx2keras:Check if all inputs are available:\n",
      "DEBUG:onnx2keras:Check input 0 (name 12).\n",
      "DEBUG:onnx2keras:Check input 1 (name lin.0.weight).\n",
      "DEBUG:onnx2keras:The input not found in layers / model inputs.\n",
      "DEBUG:onnx2keras:Found in weights, add as a numpy constant.\n",
      "DEBUG:onnx2keras:Check input 2 (name lin.0.bias).\n",
      "DEBUG:onnx2keras:The input not found in layers / model inputs.\n",
      "DEBUG:onnx2keras:Found in weights, add as a numpy constant.\n",
      "DEBUG:onnx2keras:... found all, continue\n",
      "DEBUG:onnx2keras:gemm:Convert GEMM with bias.\n",
      "DEBUG:onnx2keras:gemm:Transposing W matrix.\n",
      "DEBUG:onnx2keras:gemm:Input units 32, output units 24.\n"
     ]
    },
    {
     "name": "stdout",
     "output_type": "stream",
     "text": [
      "Done saving to onnx.\n",
      "Loading to Keras...\n",
      "WARNING:tensorflow:From /home/ewilson6/anaconda3/envs/scrambler/lib/python3.7/site-packages/tensorflow/python/ops/resource_variable_ops.py:435: colocate_with (from tensorflow.python.framework.ops) is deprecated and will be removed in a future version.\n",
      "Instructions for updating:\n",
      "Colocations handled automatically by placer.\n"
     ]
    },
    {
     "name": "stderr",
     "output_type": "stream",
     "text": [
      "WARNING:tensorflow:From /home/ewilson6/anaconda3/envs/scrambler/lib/python3.7/site-packages/tensorflow/python/ops/resource_variable_ops.py:435: colocate_with (from tensorflow.python.framework.ops) is deprecated and will be removed in a future version.\n",
      "Instructions for updating:\n",
      "Colocations handled automatically by placer.\n",
      "DEBUG:onnx2keras:Output TF Layer -> Tensor(\"13/BiasAdd:0\", shape=(?, 24), dtype=float32)\n",
      "DEBUG:onnx2keras:######\n",
      "DEBUG:onnx2keras:...\n",
      "DEBUG:onnx2keras:Converting ONNX operation\n",
      "DEBUG:onnx2keras:type: Relu\n",
      "DEBUG:onnx2keras:node_name: 14\n",
      "DEBUG:onnx2keras:node_params: {'change_ordering': False, 'name_policy': None}\n",
      "DEBUG:onnx2keras:...\n",
      "DEBUG:onnx2keras:Check if all inputs are available:\n",
      "DEBUG:onnx2keras:Check input 0 (name 13).\n",
      "DEBUG:onnx2keras:... found all, continue\n",
      "DEBUG:onnx2keras:Output TF Layer -> Tensor(\"14/Relu:0\", shape=(?, 24), dtype=float32)\n",
      "DEBUG:onnx2keras:######\n",
      "DEBUG:onnx2keras:...\n",
      "DEBUG:onnx2keras:Converting ONNX operation\n",
      "DEBUG:onnx2keras:type: Gemm\n",
      "DEBUG:onnx2keras:node_name: 15\n",
      "DEBUG:onnx2keras:node_params: {'alpha': 1.0, 'beta': 1.0, 'transB': 1, 'change_ordering': False, 'name_policy': None}\n",
      "DEBUG:onnx2keras:...\n",
      "DEBUG:onnx2keras:Check if all inputs are available:\n",
      "DEBUG:onnx2keras:Check input 0 (name 14).\n",
      "DEBUG:onnx2keras:Check input 1 (name lin.2.weight).\n",
      "DEBUG:onnx2keras:The input not found in layers / model inputs.\n",
      "DEBUG:onnx2keras:Found in weights, add as a numpy constant.\n",
      "DEBUG:onnx2keras:Check input 2 (name lin.2.bias).\n",
      "DEBUG:onnx2keras:The input not found in layers / model inputs.\n",
      "DEBUG:onnx2keras:Found in weights, add as a numpy constant.\n",
      "DEBUG:onnx2keras:... found all, continue\n",
      "DEBUG:onnx2keras:gemm:Convert GEMM with bias.\n",
      "DEBUG:onnx2keras:gemm:Transposing W matrix.\n",
      "DEBUG:onnx2keras:gemm:Input units 24, output units 1.\n",
      "DEBUG:onnx2keras:Output TF Layer -> Tensor(\"15/BiasAdd:0\", shape=(?, 1), dtype=float32)\n",
      "DEBUG:onnx2keras:######\n",
      "DEBUG:onnx2keras:...\n",
      "DEBUG:onnx2keras:Converting ONNX operation\n",
      "DEBUG:onnx2keras:type: Relu\n",
      "DEBUG:onnx2keras:node_name: test_output\n",
      "DEBUG:onnx2keras:node_params: {'change_ordering': False, 'name_policy': None}\n",
      "DEBUG:onnx2keras:...\n",
      "DEBUG:onnx2keras:Check if all inputs are available:\n",
      "DEBUG:onnx2keras:Check input 0 (name 15).\n",
      "DEBUG:onnx2keras:... found all, continue\n",
      "DEBUG:onnx2keras:Output TF Layer -> Tensor(\"test_output/Relu:0\", shape=(?, 1), dtype=float32)\n"
     ]
    },
    {
     "name": "stdout",
     "output_type": "stream",
     "text": [
      "\n",
      "Confirming Torch and Keras match\n",
      "AAAAAAAA: \n",
      "\tPyTorch:19.789669036865234 \n",
      "\tKeras  :19.789670944213867\n",
      "TTTTTTTT: \n",
      "\tPyTorch:11.395001411437988 \n",
      "\tKeras  :11.395001411437988\n",
      "CCCCCCCC: \n",
      "\tPyTorch:16.522705078125 \n",
      "\tKeras  :16.522701263427734\n",
      "GGGGGGGG: \n",
      "\tPyTorch:13.972076416015625 \n",
      "\tKeras  :13.972077369689941\n",
      "GGGTATGG: \n",
      "\tPyTorch:22.839338302612305 \n",
      "\tKeras  :22.839338302612305\n",
      "AAGCGAAA: \n",
      "\tPyTorch:8.471780776977539 \n",
      "\tKeras  :8.471780776977539\n",
      "Keras Model saved at mer8motif_model_lin_d.h5\n"
     ]
    }
   ],
   "source": [
    "k_lin_d_model = export2keras(mer8motif_model_lin_d, \"mer8motif_model_lin_d\",seqs)"
   ]
  },
  {
   "cell_type": "code",
   "execution_count": 28,
   "metadata": {
    "scrolled": false
   },
   "outputs": [
    {
     "name": "stderr",
     "output_type": "stream",
     "text": [
      "INFO:onnx2keras:Converter is called.\n",
      "DEBUG:onnx2keras:List input shapes:\n",
      "DEBUG:onnx2keras:None\n",
      "DEBUG:onnx2keras:List inputs:\n",
      "DEBUG:onnx2keras:Input 0 -> test_input.\n",
      "DEBUG:onnx2keras:List outputs:\n",
      "DEBUG:onnx2keras:Output 0 -> test_output.\n",
      "DEBUG:onnx2keras:Gathering weights to dictionary.\n",
      "DEBUG:onnx2keras:Found weight conv_net.0.weight with shape (31, 1, 4, 3).\n",
      "DEBUG:onnx2keras:Found weight conv_net.0.bias with shape (31,).\n",
      "DEBUG:onnx2keras:Found weight conv_net.3.weight with shape (10, 186).\n",
      "DEBUG:onnx2keras:Found weight conv_net.3.bias with shape (10,).\n",
      "DEBUG:onnx2keras:Found weight conv_net.5.weight with shape (1, 10).\n",
      "DEBUG:onnx2keras:Found weight conv_net.5.bias with shape (1,).\n",
      "DEBUG:onnx2keras:Found input test_input with shape [8, 4]\n",
      "DEBUG:onnx2keras:######\n",
      "DEBUG:onnx2keras:...\n",
      "DEBUG:onnx2keras:Converting ONNX operation\n",
      "DEBUG:onnx2keras:type: Transpose\n",
      "DEBUG:onnx2keras:node_name: 7\n",
      "DEBUG:onnx2keras:node_params: {'perm': [0, 2, 1], 'change_ordering': False, 'name_policy': None}\n",
      "DEBUG:onnx2keras:...\n",
      "DEBUG:onnx2keras:Check if all inputs are available:\n",
      "DEBUG:onnx2keras:Check input 0 (name test_input).\n",
      "DEBUG:onnx2keras:... found all, continue\n",
      "DEBUG:onnx2keras:Output TF Layer -> Tensor(\"7/transpose:0\", shape=(?, 4, 8), dtype=float32)\n",
      "DEBUG:onnx2keras:######\n",
      "DEBUG:onnx2keras:...\n",
      "DEBUG:onnx2keras:Converting ONNX operation\n",
      "DEBUG:onnx2keras:type: Unsqueeze\n",
      "DEBUG:onnx2keras:node_name: 8\n",
      "DEBUG:onnx2keras:node_params: {'axes': [1], 'change_ordering': False, 'name_policy': None}\n",
      "DEBUG:onnx2keras:...\n",
      "DEBUG:onnx2keras:Check if all inputs are available:\n",
      "DEBUG:onnx2keras:Check input 0 (name 7).\n",
      "DEBUG:onnx2keras:... found all, continue\n",
      "DEBUG:onnx2keras:Output TF Layer -> Tensor(\"8/ExpandDims:0\", shape=(?, 1, 4, 8), dtype=float32)\n",
      "DEBUG:onnx2keras:######\n",
      "DEBUG:onnx2keras:...\n",
      "DEBUG:onnx2keras:Converting ONNX operation\n",
      "DEBUG:onnx2keras:type: Conv\n",
      "DEBUG:onnx2keras:node_name: 9\n",
      "DEBUG:onnx2keras:node_params: {'dilations': [1, 1], 'group': 1, 'kernel_shape': [4, 3], 'pads': [0, 0, 0, 0], 'strides': [1, 1], 'change_ordering': False, 'name_policy': None}\n",
      "DEBUG:onnx2keras:...\n",
      "DEBUG:onnx2keras:Check if all inputs are available:\n",
      "DEBUG:onnx2keras:Check input 0 (name 8).\n",
      "DEBUG:onnx2keras:Check input 1 (name conv_net.0.weight).\n",
      "DEBUG:onnx2keras:The input not found in layers / model inputs.\n",
      "DEBUG:onnx2keras:Found in weights, add as a numpy constant.\n",
      "DEBUG:onnx2keras:Check input 2 (name conv_net.0.bias).\n",
      "DEBUG:onnx2keras:The input not found in layers / model inputs.\n",
      "DEBUG:onnx2keras:Found in weights, add as a numpy constant.\n",
      "DEBUG:onnx2keras:... found all, continue\n",
      "DEBUG:onnx2keras:conv:Conv with bias\n",
      "DEBUG:onnx2keras:conv:2D convolution\n",
      "DEBUG:onnx2keras:Output TF Layer -> Tensor(\"9/BiasAdd:0\", shape=(?, 31, 1, 6), dtype=float32)\n",
      "DEBUG:onnx2keras:######\n",
      "DEBUG:onnx2keras:...\n",
      "DEBUG:onnx2keras:Converting ONNX operation\n",
      "DEBUG:onnx2keras:type: Relu\n",
      "DEBUG:onnx2keras:node_name: 10\n",
      "DEBUG:onnx2keras:node_params: {'change_ordering': False, 'name_policy': None}\n",
      "DEBUG:onnx2keras:...\n",
      "DEBUG:onnx2keras:Check if all inputs are available:\n",
      "DEBUG:onnx2keras:Check input 0 (name 9).\n",
      "DEBUG:onnx2keras:... found all, continue\n",
      "DEBUG:onnx2keras:Output TF Layer -> Tensor(\"10/Relu:0\", shape=(?, 31, 1, 6), dtype=float32)\n",
      "DEBUG:onnx2keras:######\n",
      "DEBUG:onnx2keras:...\n",
      "DEBUG:onnx2keras:Converting ONNX operation\n",
      "DEBUG:onnx2keras:type: Flatten\n",
      "DEBUG:onnx2keras:node_name: 11\n",
      "DEBUG:onnx2keras:node_params: {'axis': 1, 'change_ordering': False, 'name_policy': None}\n",
      "DEBUG:onnx2keras:...\n",
      "DEBUG:onnx2keras:Check if all inputs are available:\n",
      "DEBUG:onnx2keras:Check input 0 (name 10).\n",
      "DEBUG:onnx2keras:... found all, continue\n",
      "DEBUG:onnx2keras:flatten:Convert inputs to Keras/TF layers if needed.\n",
      "DEBUG:onnx2keras:Output TF Layer -> Tensor(\"11/Reshape:0\", shape=(?, ?), dtype=float32)\n",
      "DEBUG:onnx2keras:######\n",
      "DEBUG:onnx2keras:...\n",
      "DEBUG:onnx2keras:Converting ONNX operation\n",
      "DEBUG:onnx2keras:type: Gemm\n",
      "DEBUG:onnx2keras:node_name: 12\n",
      "DEBUG:onnx2keras:node_params: {'alpha': 1.0, 'beta': 1.0, 'transB': 1, 'change_ordering': False, 'name_policy': None}\n",
      "DEBUG:onnx2keras:...\n",
      "DEBUG:onnx2keras:Check if all inputs are available:\n",
      "DEBUG:onnx2keras:Check input 0 (name 11).\n",
      "DEBUG:onnx2keras:Check input 1 (name conv_net.3.weight).\n",
      "DEBUG:onnx2keras:The input not found in layers / model inputs.\n",
      "DEBUG:onnx2keras:Found in weights, add as a numpy constant.\n",
      "DEBUG:onnx2keras:Check input 2 (name conv_net.3.bias).\n",
      "DEBUG:onnx2keras:The input not found in layers / model inputs.\n",
      "DEBUG:onnx2keras:Found in weights, add as a numpy constant.\n",
      "DEBUG:onnx2keras:... found all, continue\n",
      "DEBUG:onnx2keras:gemm:Convert GEMM with bias.\n",
      "DEBUG:onnx2keras:gemm:Transposing W matrix.\n",
      "DEBUG:onnx2keras:gemm:Input units 186, output units 10.\n"
     ]
    },
    {
     "name": "stdout",
     "output_type": "stream",
     "text": [
      "Done saving to onnx.\n",
      "Loading to Keras...\n"
     ]
    },
    {
     "name": "stderr",
     "output_type": "stream",
     "text": [
      "DEBUG:onnx2keras:Output TF Layer -> Tensor(\"12_2/BiasAdd:0\", shape=(?, 10), dtype=float32)\n",
      "DEBUG:onnx2keras:######\n",
      "DEBUG:onnx2keras:...\n",
      "DEBUG:onnx2keras:Converting ONNX operation\n",
      "DEBUG:onnx2keras:type: Relu\n",
      "DEBUG:onnx2keras:node_name: 13\n",
      "DEBUG:onnx2keras:node_params: {'change_ordering': False, 'name_policy': None}\n",
      "DEBUG:onnx2keras:...\n",
      "DEBUG:onnx2keras:Check if all inputs are available:\n",
      "DEBUG:onnx2keras:Check input 0 (name 12).\n",
      "DEBUG:onnx2keras:... found all, continue\n",
      "DEBUG:onnx2keras:Output TF Layer -> Tensor(\"13_1/Relu:0\", shape=(?, 10), dtype=float32)\n",
      "DEBUG:onnx2keras:######\n",
      "DEBUG:onnx2keras:...\n",
      "DEBUG:onnx2keras:Converting ONNX operation\n",
      "DEBUG:onnx2keras:type: Gemm\n",
      "DEBUG:onnx2keras:node_name: test_output\n",
      "DEBUG:onnx2keras:node_params: {'alpha': 1.0, 'beta': 1.0, 'transB': 1, 'change_ordering': False, 'name_policy': None}\n",
      "DEBUG:onnx2keras:...\n",
      "DEBUG:onnx2keras:Check if all inputs are available:\n",
      "DEBUG:onnx2keras:Check input 0 (name 13).\n",
      "DEBUG:onnx2keras:Check input 1 (name conv_net.5.weight).\n",
      "DEBUG:onnx2keras:The input not found in layers / model inputs.\n",
      "DEBUG:onnx2keras:Found in weights, add as a numpy constant.\n",
      "DEBUG:onnx2keras:Check input 2 (name conv_net.5.bias).\n",
      "DEBUG:onnx2keras:The input not found in layers / model inputs.\n",
      "DEBUG:onnx2keras:Found in weights, add as a numpy constant.\n",
      "DEBUG:onnx2keras:... found all, continue\n",
      "DEBUG:onnx2keras:gemm:Convert GEMM with bias.\n",
      "DEBUG:onnx2keras:gemm:Transposing W matrix.\n",
      "DEBUG:onnx2keras:gemm:Input units 10, output units 1.\n",
      "DEBUG:onnx2keras:Output TF Layer -> Tensor(\"test_output_1/BiasAdd:0\", shape=(?, 1), dtype=float32)\n"
     ]
    },
    {
     "name": "stdout",
     "output_type": "stream",
     "text": [
      "\n",
      "Confirming Torch and Keras match\n",
      "AAAAAAAA: \n",
      "\tPyTorch:19.8690242767334 \n",
      "\tKeras  :19.8690242767334\n",
      "TTTTTTTT: \n",
      "\tPyTorch:10.894265174865723 \n",
      "\tKeras  :10.894265174865723\n",
      "CCCCCCCC: \n",
      "\tPyTorch:16.986248016357422 \n",
      "\tKeras  :16.986248016357422\n",
      "GGGGGGGG: \n",
      "\tPyTorch:13.98330020904541 \n",
      "\tKeras  :13.98330020904541\n",
      "GGGTATGG: \n",
      "\tPyTorch:24.00599479675293 \n",
      "\tKeras  :24.005996704101562\n",
      "AAGCGAAA: \n",
      "\tPyTorch:8.172531127929688 \n",
      "\tKeras  :8.17253303527832\n",
      "Keras Model saved at mer8motif_model_cnn.h5\n"
     ]
    }
   ],
   "source": [
    "k_cnn_model = export2keras(mer8motif_model_cnn, \"mer8motif_model_cnn\",seqs)"
   ]
  },
  {
   "cell_type": "markdown",
   "metadata": {},
   "source": [
    "The models seems to be predicting the same out to ~5 decimals between PyTorch and Keras!"
   ]
  },
  {
   "cell_type": "markdown",
   "metadata": {},
   "source": [
    "# Test Keras model in Scramblers\n",
    "Using notebook template from optimus prime example"
   ]
  },
  {
   "cell_type": "code",
   "execution_count": 29,
   "metadata": {},
   "outputs": [],
   "source": [
    "import keras\n",
    "from keras.models import Sequential, Model, load_model\n",
    "\n",
    "import os\n",
    "import pickle\n",
    "import numpy as np\n",
    "import pandas as pd\n",
    "\n",
    "import scipy.sparse as sp\n",
    "import scipy.io as spio\n",
    "\n",
    "import matplotlib.pyplot as plt\n",
    "\n",
    "from scrambler.models import *\n",
    "from scrambler.utils import OneHotEncoder, get_sequence_masks\n",
    "from scrambler.visualizations import plot_dna_logo, plot_dna_importance_scores\n",
    "\n",
    "#from optimus5_utils import load_optimus5_data, load_optimus5_predictor, animate_optimus5_examples\n",
    "\n",
    "import utils as u\n",
    "SEQ_LEN=8"
   ]
  },
  {
   "cell_type": "code",
   "execution_count": 30,
   "metadata": {},
   "outputs": [
    {
     "name": "stdout",
     "output_type": "stream",
     "text": [
      "(52416, 1, 8, 4)\n",
      "(52416, 1)\n",
      "(13088, 1, 8, 4)\n",
      "(13088, 1)\n"
     ]
    }
   ],
   "source": [
    "# use same train/test sets as above\n",
    "encoder = OneHotEncoder(seq_length=SEQ_LEN, channel_map={'A' : 0, 'C' : 1, 'G' : 2, 'T' : 3})\n",
    "\n",
    "x_train = np.array([encoder(seq[0]).reshape(1, SEQ_LEN, 4) for seq in mer8motif_train_df[['seq']].values])\n",
    "x_test = np.array([encoder(seq[0]).reshape(1, SEQ_LEN, 4) for seq in mer8motif_test_df[['seq']].values])\n",
    "\n",
    "y_train = mer8motif_train_df[['score']].values\n",
    "y_test = mer8motif_test_df[['score']].values\n",
    "\n",
    "\n",
    "# Apparently keras can't deal with training sets that are not \n",
    "# an exact multiple of the batch size... sooo... trim some?\n",
    "train_trim = 12\n",
    "test_trim = 20\n",
    "\n",
    "x_train = x_train[:-train_trim]\n",
    "x_test = x_test[:-test_trim]\n",
    "y_train = y_train[:-train_trim]\n",
    "y_test = y_test[:-test_trim]\n",
    "\n",
    "print(x_train.shape)\n",
    "print(y_train.shape)\n",
    "print(x_test.shape)\n",
    "print(y_test.shape)"
   ]
  },
  {
   "cell_type": "code",
   "execution_count": 31,
   "metadata": {},
   "outputs": [
    {
     "name": "stdout",
     "output_type": "stream",
     "text": [
      "$$$$$$$$\n",
      "[[[0. 0. 0. 0.]\n",
      "  [0. 0. 0. 0.]\n",
      "  [0. 0. 0. 0.]\n",
      "  [0. 0. 0. 0.]\n",
      "  [0. 0. 0. 0.]\n",
      "  [0. 0. 0. 0.]\n",
      "  [0. 0. 0. 0.]\n",
      "  [0. 0. 0. 0.]]]\n",
      "[1 1 1 1 1 1 1 1]\n",
      "[[0.24929416 0.25099199 0.24954216 0.25017169]\n",
      " [0.24925601 0.25061045 0.25116368 0.24896986]\n",
      " [0.24906524 0.24925601 0.24961847 0.25206028]\n",
      " [0.24996185 0.25011446 0.24923693 0.25068676]\n",
      " [0.24887448 0.2503243  0.25053415 0.25026707]\n",
      " [0.25141167 0.24965662 0.24866463 0.25026707]\n",
      " [0.25087753 0.24807325 0.25198398 0.24906524]\n",
      " [0.24977108 0.25076307 0.24998092 0.24948493]]\n",
      "(8, 4)\n"
     ]
    }
   ],
   "source": [
    "#Define sequence template and background\n",
    "\n",
    "#sequence_template = '$' * 50\n",
    "sequence_template = '$' * SEQ_LEN\n",
    "\n",
    "pseudo_count = 1.0\n",
    "\n",
    "onehot_template = encoder(sequence_template)[None, ...]\n",
    "sequence_mask = get_sequence_masks([sequence_template])[0]\n",
    "\n",
    "# This is the background? So it's a mean by position... I'll probs change this...\n",
    "x_mean = (np.sum(x_train, axis=(0, 1)) + pseudo_count) / (x_train.shape[0] + 4. * pseudo_count)\n",
    "\n",
    "print(sequence_template)\n",
    "print(onehot_template)\n",
    "print(sequence_mask)\n",
    "print(x_mean)\n",
    "print(x_mean.shape)"
   ]
  },
  {
   "cell_type": "code",
   "execution_count": 33,
   "metadata": {},
   "outputs": [
    {
     "data": {
      "image/png": "[encoded data removed]",
      "text/plain": [
       "<Figure size 360x72 with 1 Axes>"
      ]
     },
     "metadata": {},
     "output_type": "display_data"
    },
    {
     "name": "stdout",
     "output_type": "stream",
     "text": [
      "Mean KL Div against background (bits) = 1.9999891911093224\n"
     ]
    },
    {
     "data": {
      "image/png": "[encoded data removed]",
      "text/plain": [
       "<Figure size 360x72 with 1 Axes>"
      ]
     },
     "metadata": {},
     "output_type": "display_data"
    }
   ],
   "source": [
    "#Visualize background sequence distribution\n",
    "plot_dna_logo(\n",
    "    np.copy(x_mean), \n",
    "    sequence_template=sequence_template, \n",
    "    figsize=(5, 1), logo_height=1.0, \n",
    "    plot_start=0, plot_end=SEQ_LEN)\n",
    "\n",
    "\n",
    "#Calculate mean training set kl-divergence against background\n",
    "# resets one hot to almost 0 and almost 1... why?\n",
    "#x_train_clipped = np.clip(np.copy(x_train[:, 0, :, :]), 1e-8, 1. - 1e-8)\n",
    "x_train_clipped = np.clip(np.copy(x_train[:, 0, :, :]), 1e-8, 1. - 1e-8)\n",
    "\n",
    "# (train size, 50)\n",
    "kl_divs = np.sum(x_train_clipped * \\\n",
    "                 np.log(x_train_clipped / np.tile(np.expand_dims(x_mean, axis=0), \n",
    "                                                  (x_train_clipped.shape[0], 1, 1))), axis=-1)\\\n",
    "            / np.log(2.0)\n",
    "\n",
    "# train size\n",
    "x_mean_kl_divs = np.sum(kl_divs * sequence_mask, axis=-1) / np.sum(sequence_mask)\n",
    "# 1\n",
    "x_mean_kl_div = np.mean(x_mean_kl_divs)\n",
    "\n",
    "print(\"Mean KL Div against background (bits) = \" + str(x_mean_kl_div))\n",
    "\n",
    "\n",
    "# Plot test array just so I can see some letters show up\n",
    "test = np.array([[.6, .2, .2, .0],\n",
    "                 [.2, .6, .2, .0],\n",
    "                 [.0, .2, .2, .6],\n",
    "                 [.3, .2, .2, .3],\n",
    "                 [.8, .2, .0, .0],\n",
    "                 [.0, .2, .2, .8],\n",
    "                 [.4, .4, .2, .0],\n",
    "                 [.6, .4, .0, .0],\n",
    "                ])\n",
    "plot_dna_logo(\n",
    "    np.copy(test), \n",
    "    sequence_template=sequence_template, \n",
    "    figsize=(5, 1), logo_height=1.0, \n",
    "    plot_start=0, plot_end=SEQ_LEN)"
   ]
  },
  {
   "cell_type": "markdown",
   "metadata": {},
   "source": [
    "## Scramblin' Time\n",
    "I changed some of the settings to try to make the smallest scrambler network as possible because the sequences are so small!"
   ]
  },
  {
   "cell_type": "code",
   "execution_count": 34,
   "metadata": {},
   "outputs": [],
   "source": [
    "#Plot training statistics\n",
    "def plot_training_stats(train_history):\n",
    "    f, (ax1, ax2) = plt.subplots(1, 2, figsize=(2 * 4, 3))\n",
    "\n",
    "    n_epochs_actual = len(train_history['nll_loss'])\n",
    "\n",
    "    ax1.plot(np.arange(1, n_epochs_actual + 1), train_history['nll_loss'], linewidth=3, color='green',label='nll_loss')\n",
    "    ax1.plot(np.arange(1, n_epochs_actual + 1), train_history['val_nll_loss'], linewidth=3, color='orange',label='vall_nll_loss')\n",
    "\n",
    "    plt.sca(ax1)\n",
    "    plt.xlabel(\"Epochs\", fontsize=14)\n",
    "    plt.ylabel(\"NLL\", fontsize=14)\n",
    "    plt.xlim(1, n_epochs_actual)\n",
    "    plt.xticks([1, n_epochs_actual], [1, n_epochs_actual], fontsize=12)\n",
    "    plt.yticks(fontsize=12)\n",
    "    plt.legend()\n",
    "\n",
    "    ax2.plot(np.arange(1, n_epochs_actual + 1), train_history['entropy_loss'], linewidth=3, color='green',label='entropy_loss')\n",
    "    ax2.plot(np.arange(1, n_epochs_actual + 1), train_history['val_entropy_loss'], linewidth=3, color='orange',label='val_entropy_loss')\n",
    "\n",
    "    plt.sca(ax2)\n",
    "    plt.xlabel(\"Epochs\", fontsize=14)\n",
    "    plt.ylabel(\"Entropy Loss\", fontsize=14)\n",
    "    plt.xlim(1, n_epochs_actual)\n",
    "    plt.xticks([1, n_epochs_actual], [1, n_epochs_actual], fontsize=12)\n",
    "    plt.yticks(fontsize=12)\n",
    "    plt.legend()\n",
    "\n",
    "    plt.tight_layout()\n",
    "\n",
    "    plt.show()\n",
    "\n",
    "def build_scrambler():\n",
    "    #Scrambler network configuration\n",
    "    network_config = {\n",
    "        'n_groups' : 1,\n",
    "        'n_resblocks_per_group' : 1, # resblock has 2 conv layers\n",
    "        'n_channels' : 32, # num filters\n",
    "        'window_size' : 3, # kernel size\n",
    "        'dilation_rates' : [1],\n",
    "        'drop_rate' : 0.0,\n",
    "        'norm_mode' : 'instance', # some sort of normalization\n",
    "        'mask_smoothing' : False, # \"smooth\" not referenced in paper or github instructions\n",
    "        'mask_smoothing_window_size' : 5,\n",
    "        'mask_smoothing_std' : 1.,\n",
    "        'mask_drop_scales' : [1, 5],\n",
    "        'mask_min_drop_rate' : 0.0,\n",
    "        'mask_max_drop_rate' : 0.5,\n",
    "        'label_input' : False\n",
    "    }\n",
    "\n",
    "    #Initialize scrambler\n",
    "    scrambler = Scrambler(\n",
    "        scrambler_mode='inclusion',\n",
    "        input_size_x=1,\n",
    "        input_size_y=SEQ_LEN,\n",
    "        n_out_channels=4,\n",
    "        input_templates=[onehot_template],\n",
    "        input_backgrounds=[x_mean],\n",
    "        batch_size=32,\n",
    "        n_samples=32,\n",
    "        sample_mode='gumbel',\n",
    "        zeropad_input=False,\n",
    "        mask_dropout=False,\n",
    "        network_config=network_config\n",
    "    )\n",
    "    \n",
    "    return scrambler\n",
    "\n",
    "def train_scrambler_on_model(model, n_epochs=10):\n",
    "    # init scrambler object\n",
    "    scr = build_scrambler()\n",
    "    \n",
    "    # train scrambler on model\n",
    "    train_history = scr.train(\n",
    "        model,\n",
    "        x_train,\n",
    "        y_train,\n",
    "        x_test,\n",
    "        y_test,\n",
    "        n_epochs,\n",
    "        monitor_test_indices=np.arange(32).tolist(),\n",
    "        monitor_batch_freq_dict={0 : 1, 100 : 5, 469 : 10},\n",
    "        nll_mode='reconstruction',\n",
    "        predictor_task='regression',\n",
    "        entropy_mode='target',\n",
    "        entropy_bits=0.125,\n",
    "        entropy_weight=10.\n",
    "    )\n",
    "    \n",
    "    # plot \n",
    "    plot_training_stats(train_history)\n",
    "    \n",
    "    return scr, train_history\n",
    "\n",
    "def save_scrambler(scrambler, train_history, model_name,save_dir=\"saved_models\"):\n",
    "    #Save scrambler checkpoint\n",
    "\n",
    "    #model_name = 'optimus5_inclusion_scrambler_bits_0125_epochs_10'\n",
    "    #model_name = 'mer8motif_model_lin_d_inclusion_scrambler_bits_0125_epochs_10'\n",
    "\n",
    "    if not os.path.isdir(save_dir):\n",
    "        os.makedirs(save_dir)\n",
    "\n",
    "    model_path = os.path.join(save_dir, model_name + '.h5')\n",
    "\n",
    "    scrambler.save_model(model_path)\n",
    "\n",
    "    pickle.dump({'train_history' : train_history}, open(save_dir + '/' + model_name + '_train_history.pickle', 'wb'))\n",
    "\n"
   ]
  },
  {
   "cell_type": "code",
   "execution_count": 35,
   "metadata": {},
   "outputs": [
    {
     "name": "stdout",
     "output_type": "stream",
     "text": [
      "SCRAMBLER INITIATED!!\n",
      "\n",
      "WARNING: The TensorFlow contrib module will not be included in TensorFlow 2.0.\n",
      "For more information, please see:\n",
      "  * https://github.com/tensorflow/community/blob/master/rfcs/20180907-contrib-sunset.md\n",
      "  * https://github.com/tensorflow/addons\n",
      "If you depend on functionality not listed there, please file an issue.\n",
      "\n",
      "IN SCRAMBLER TRAIN!\n"
     ]
    },
    {
     "ename": "ValueError",
     "evalue": "('Could not interpret optimizer identifier:', <keras.optimizers.SGD object at 0x7f64ac197a50>)",
     "output_type": "error",
     "traceback": [
      "\u001b[0;31m---------------------------------------------------------------------------\u001b[0m",
      "\u001b[0;31mValueError\u001b[0m                                Traceback (most recent call last)",
      "\u001b[0;32m<ipython-input-35-13c07041ac8a>\u001b[0m in \u001b[0;36m<module>\u001b[0;34m\u001b[0m\n\u001b[0;32m----> 1\u001b[0;31m \u001b[0mlin_d_scr\u001b[0m\u001b[0;34m,\u001b[0m \u001b[0mlin_d_scr_train_hist\u001b[0m \u001b[0;34m=\u001b[0m \u001b[0mtrain_scrambler_on_model\u001b[0m\u001b[0;34m(\u001b[0m\u001b[0mk_lin_d_model\u001b[0m\u001b[0;34m)\u001b[0m\u001b[0;34m\u001b[0m\u001b[0;34m\u001b[0m\u001b[0m\n\u001b[0m\u001b[1;32m      2\u001b[0m \u001b[0mmodel_name\u001b[0m \u001b[0;34m=\u001b[0m \u001b[0;34m'mer8motif_model_lin_d_inclusion_scrambler_bits_0125_epochs_10'\u001b[0m\u001b[0;34m\u001b[0m\u001b[0;34m\u001b[0m\u001b[0m\n\u001b[1;32m      3\u001b[0m \u001b[0msave_scrambler\u001b[0m\u001b[0;34m(\u001b[0m\u001b[0mlin_d_scr\u001b[0m\u001b[0;34m,\u001b[0m \u001b[0mlin_d_scr_train_hist\u001b[0m\u001b[0;34m,\u001b[0m \u001b[0mmodel_name\u001b[0m\u001b[0;34m)\u001b[0m\u001b[0;34m\u001b[0m\u001b[0;34m\u001b[0m\u001b[0m\n",
      "\u001b[0;32m<ipython-input-34-2604b0adad97>\u001b[0m in \u001b[0;36mtrain_scrambler_on_model\u001b[0;34m(model, n_epochs)\u001b[0m\n\u001b[1;32m     86\u001b[0m         \u001b[0mentropy_mode\u001b[0m\u001b[0;34m=\u001b[0m\u001b[0;34m'target'\u001b[0m\u001b[0;34m,\u001b[0m\u001b[0;34m\u001b[0m\u001b[0;34m\u001b[0m\u001b[0m\n\u001b[1;32m     87\u001b[0m         \u001b[0mentropy_bits\u001b[0m\u001b[0;34m=\u001b[0m\u001b[0;36m0.125\u001b[0m\u001b[0;34m,\u001b[0m\u001b[0;34m\u001b[0m\u001b[0;34m\u001b[0m\u001b[0m\n\u001b[0;32m---> 88\u001b[0;31m         \u001b[0mentropy_weight\u001b[0m\u001b[0;34m=\u001b[0m\u001b[0;36m10.\u001b[0m\u001b[0;34m\u001b[0m\u001b[0;34m\u001b[0m\u001b[0m\n\u001b[0m\u001b[1;32m     89\u001b[0m     )\n\u001b[1;32m     90\u001b[0m \u001b[0;34m\u001b[0m\u001b[0m\n",
      "\u001b[0;32m~/anaconda3/envs/scrambler/lib/python3.7/site-packages/scrambler-0.1-py3.7.egg/scrambler/models/scrambler_models.py\u001b[0m in \u001b[0;36mtrain\u001b[0;34m(self, predictor, x_train, y_train, x_test, y_test, n_epochs, group_train, group_test, monitor_test_indices, monitor_batch_freq_dict, adam_lr, adam_beta_1, adam_beta_2, nll_mode, predictor_task, reference, entropy_mode, entropy_bits, entropy_weight)\u001b[0m\n\u001b[1;32m   1075\u001b[0m         \u001b[0;31m#Freeze predictor\u001b[0m\u001b[0;34m\u001b[0m\u001b[0;34m\u001b[0m\u001b[0;34m\u001b[0m\u001b[0m\n\u001b[1;32m   1076\u001b[0m         \u001b[0mpredictor\u001b[0m\u001b[0;34m.\u001b[0m\u001b[0mtrainable\u001b[0m \u001b[0;34m=\u001b[0m \u001b[0;32mFalse\u001b[0m\u001b[0;34m\u001b[0m\u001b[0;34m\u001b[0m\u001b[0m\n\u001b[0;32m-> 1077\u001b[0;31m         \u001b[0mpredictor\u001b[0m\u001b[0;34m.\u001b[0m\u001b[0mcompile\u001b[0m\u001b[0;34m(\u001b[0m\u001b[0moptimizer\u001b[0m\u001b[0;34m=\u001b[0m\u001b[0mkeras\u001b[0m\u001b[0;34m.\u001b[0m\u001b[0moptimizers\u001b[0m\u001b[0;34m.\u001b[0m\u001b[0mSGD\u001b[0m\u001b[0;34m(\u001b[0m\u001b[0mlr\u001b[0m\u001b[0;34m=\u001b[0m\u001b[0;36m0.1\u001b[0m\u001b[0;34m)\u001b[0m\u001b[0;34m,\u001b[0m \u001b[0mloss\u001b[0m\u001b[0;34m=\u001b[0m\u001b[0;34m'mean_squared_error'\u001b[0m\u001b[0;34m)\u001b[0m\u001b[0;34m\u001b[0m\u001b[0;34m\u001b[0m\u001b[0m\n\u001b[0m\u001b[1;32m   1078\u001b[0m \u001b[0;34m\u001b[0m\u001b[0m\n\u001b[1;32m   1079\u001b[0m         \u001b[0mprint\u001b[0m\u001b[0;34m(\u001b[0m\u001b[0;34m\"predictor is compiled??\"\u001b[0m\u001b[0;34m)\u001b[0m\u001b[0;34m\u001b[0m\u001b[0;34m\u001b[0m\u001b[0m\n",
      "\u001b[0;32m~/anaconda3/envs/scrambler/lib/python3.7/site-packages/tensorflow/python/training/checkpointable/base.py\u001b[0m in \u001b[0;36m_method_wrapper\u001b[0;34m(self, *args, **kwargs)\u001b[0m\n\u001b[1;32m    440\u001b[0m     \u001b[0mself\u001b[0m\u001b[0;34m.\u001b[0m\u001b[0m_setattr_tracking\u001b[0m \u001b[0;34m=\u001b[0m \u001b[0;32mFalse\u001b[0m  \u001b[0;31m# pylint: disable=protected-access\u001b[0m\u001b[0;34m\u001b[0m\u001b[0;34m\u001b[0m\u001b[0m\n\u001b[1;32m    441\u001b[0m     \u001b[0;32mtry\u001b[0m\u001b[0;34m:\u001b[0m\u001b[0;34m\u001b[0m\u001b[0;34m\u001b[0m\u001b[0m\n\u001b[0;32m--> 442\u001b[0;31m       \u001b[0mmethod\u001b[0m\u001b[0;34m(\u001b[0m\u001b[0mself\u001b[0m\u001b[0;34m,\u001b[0m \u001b[0;34m*\u001b[0m\u001b[0margs\u001b[0m\u001b[0;34m,\u001b[0m \u001b[0;34m**\u001b[0m\u001b[0mkwargs\u001b[0m\u001b[0;34m)\u001b[0m\u001b[0;34m\u001b[0m\u001b[0;34m\u001b[0m\u001b[0m\n\u001b[0m\u001b[1;32m    443\u001b[0m     \u001b[0;32mfinally\u001b[0m\u001b[0;34m:\u001b[0m\u001b[0;34m\u001b[0m\u001b[0;34m\u001b[0m\u001b[0m\n\u001b[1;32m    444\u001b[0m       \u001b[0mself\u001b[0m\u001b[0;34m.\u001b[0m\u001b[0m_setattr_tracking\u001b[0m \u001b[0;34m=\u001b[0m \u001b[0mprevious_value\u001b[0m  \u001b[0;31m# pylint: disable=protected-access\u001b[0m\u001b[0;34m\u001b[0m\u001b[0;34m\u001b[0m\u001b[0m\n",
      "\u001b[0;32m~/anaconda3/envs/scrambler/lib/python3.7/site-packages/tensorflow/python/keras/engine/training.py\u001b[0m in \u001b[0;36mcompile\u001b[0;34m(self, optimizer, loss, metrics, loss_weights, sample_weight_mode, weighted_metrics, target_tensors, distribute, **kwargs)\u001b[0m\n\u001b[1;32m    192\u001b[0m     \u001b[0mrun_eagerly\u001b[0m \u001b[0;34m=\u001b[0m \u001b[0mkwargs\u001b[0m\u001b[0;34m.\u001b[0m\u001b[0mpop\u001b[0m\u001b[0;34m(\u001b[0m\u001b[0;34m'run_eagerly'\u001b[0m\u001b[0;34m,\u001b[0m \u001b[0;32mNone\u001b[0m\u001b[0;34m)\u001b[0m\u001b[0;34m\u001b[0m\u001b[0;34m\u001b[0m\u001b[0m\n\u001b[1;32m    193\u001b[0m     \u001b[0mself\u001b[0m\u001b[0;34m.\u001b[0m\u001b[0m_run_eagerly\u001b[0m \u001b[0;34m=\u001b[0m \u001b[0mrun_eagerly\u001b[0m\u001b[0;34m\u001b[0m\u001b[0;34m\u001b[0m\u001b[0m\n\u001b[0;32m--> 194\u001b[0;31m     \u001b[0moptimizer\u001b[0m \u001b[0;34m=\u001b[0m \u001b[0moptimizers\u001b[0m\u001b[0;34m.\u001b[0m\u001b[0mget\u001b[0m\u001b[0;34m(\u001b[0m\u001b[0moptimizer\u001b[0m\u001b[0;34m)\u001b[0m\u001b[0;34m\u001b[0m\u001b[0;34m\u001b[0m\u001b[0m\n\u001b[0m\u001b[1;32m    195\u001b[0m \u001b[0;34m\u001b[0m\u001b[0m\n\u001b[1;32m    196\u001b[0m     \u001b[0;31m# Validate that arguments passed by the user to `compile` are supported by\u001b[0m\u001b[0;34m\u001b[0m\u001b[0;34m\u001b[0m\u001b[0;34m\u001b[0m\u001b[0m\n",
      "\u001b[0;32m~/anaconda3/envs/scrambler/lib/python3.7/site-packages/tensorflow/python/keras/optimizers.py\u001b[0m in \u001b[0;36mget\u001b[0;34m(identifier)\u001b[0m\n\u001b[1;32m    870\u001b[0m     \u001b[0;32mreturn\u001b[0m \u001b[0mdeserialize\u001b[0m\u001b[0;34m(\u001b[0m\u001b[0mconfig\u001b[0m\u001b[0;34m)\u001b[0m\u001b[0;34m\u001b[0m\u001b[0;34m\u001b[0m\u001b[0m\n\u001b[1;32m    871\u001b[0m   \u001b[0;32melse\u001b[0m\u001b[0;34m:\u001b[0m\u001b[0;34m\u001b[0m\u001b[0;34m\u001b[0m\u001b[0m\n\u001b[0;32m--> 872\u001b[0;31m     \u001b[0;32mraise\u001b[0m \u001b[0mValueError\u001b[0m\u001b[0;34m(\u001b[0m\u001b[0;34m'Could not interpret optimizer identifier:'\u001b[0m\u001b[0;34m,\u001b[0m \u001b[0midentifier\u001b[0m\u001b[0;34m)\u001b[0m\u001b[0;34m\u001b[0m\u001b[0;34m\u001b[0m\u001b[0m\n\u001b[0m",
      "\u001b[0;31mValueError\u001b[0m: ('Could not interpret optimizer identifier:', <keras.optimizers.SGD object at 0x7f64ac197a50>)"
     ]
    }
   ],
   "source": [
    "lin_d_scr, lin_d_scr_train_hist = train_scrambler_on_model(k_lin_d_model)\n",
    "model_name = 'mer8motif_model_lin_d_inclusion_scrambler_bits_0125_epochs_10'\n",
    "save_scrambler(lin_d_scr, lin_d_scr_train_hist, model_name)"
   ]
  },
  {
   "cell_type": "markdown",
   "metadata": {},
   "source": [
    "# Error! \n",
    "I think this has to do with ONNX using tf.keras and Scramblers using regular keras."
   ]
  },
  {
   "cell_type": "code",
   "execution_count": 36,
   "metadata": {},
   "outputs": [
    {
     "data": {
      "text/plain": [
       "<tensorflow.python.keras.engine.training.Model at 0x7f6654ba7c10>"
      ]
     },
     "execution_count": 36,
     "metadata": {},
     "output_type": "execute_result"
    }
   ],
   "source": [
    "k_lin_d_model"
   ]
  },
  {
   "cell_type": "code",
   "execution_count": 37,
   "metadata": {},
   "outputs": [
    {
     "data": {
      "text/plain": [
       "<tensorflow.python.keras.engine.training.Model at 0x7f665526ced0>"
      ]
     },
     "execution_count": 37,
     "metadata": {},
     "output_type": "execute_result"
    }
   ],
   "source": [
    "k_cnn_model"
   ]
  },
  {
   "cell_type": "markdown",
   "metadata": {},
   "source": [
    "# try to Save as h5 and reload in keras (remove tensorflow)"
   ]
  },
  {
   "cell_type": "markdown",
   "metadata": {},
   "source": [
    "Optimus model loaded in Scrambler example is `keras.engine.training.Model`"
   ]
  },
  {
   "cell_type": "code",
   "execution_count": 38,
   "metadata": {},
   "outputs": [],
   "source": [
    "# conf = k_lin_d_model.get_config()\n",
    "# k_lin_no_tf = keras.models.Model.from_config(conf)\n",
    "# k_lin_no_tf # try saving then reloading\n",
    "# ^^ Ran in scrambler but must not have had weights? Scrambler didn't learn anything..."
   ]
  },
  {
   "cell_type": "code",
   "execution_count": 39,
   "metadata": {},
   "outputs": [
    {
     "name": "stderr",
     "output_type": "stream",
     "text": [
      "/home/ewilson6/anaconda3/envs/scrambler/lib/python3.7/site-packages/keras/engine/saving.py:292: UserWarning: No training configuration found in save file: the model was *not* compiled. Compile it manually.\n",
      "  warnings.warn('No training configuration found in save file: '\n"
     ]
    },
    {
     "data": {
      "text/plain": [
       "<keras.engine.training.Model at 0x7f64900b6d50>"
      ]
     },
     "execution_count": 39,
     "metadata": {},
     "output_type": "execute_result"
    }
   ],
   "source": [
    "k_lin_d_model.save(\"k_lin_d.h5\")\n",
    "k_lin_no_tf = keras.models.load_model(\"k_lin_d.h5\")\n",
    "k_lin_no_tf"
   ]
  },
  {
   "cell_type": "code",
   "execution_count": 40,
   "metadata": {},
   "outputs": [
    {
     "name": "stdout",
     "output_type": "stream",
     "text": [
      "SCRAMBLER INITIATED!!\n",
      "IN SCRAMBLER TRAIN!\n",
      "predictor is compiled??\n",
      "<keras.engine.training.Model object at 0x7f64900b6d50>\n",
      "Scrambler has created inputs...\n",
      "Starting to build lambda stuff?\n",
      "About to predict stuff...\n",
      "Inflating?\n",
      "Calculating NLL / error?\n",
      "Calculated NLL?: Tensor(\"nll/mul:0\", shape=(32,), dtype=float32)\n",
      "Made Loss Model\n",
      "Compiled loss model: <keras.engine.training.Model object at 0x7f63a80b1b50>\n",
      "label train and test? [] []\n",
      "APPENDING to callbacks\n",
      "Fitting loss model...\n",
      "\tgroup train 1 (52416, 1)\n",
      "\tx train 1 (52416, 1, 8, 4)\n",
      "\tdrop train 0 []\n",
      "\tlabel train 0 []\n",
      "\n",
      "n epochs: 10\n",
      "batch size: 32\n",
      "callbacks: [<scrambler.models.scrambler_models.ScramblerMonitor object at 0x7f63700496d0>]\n",
      "Train on 52416 samples, validate on 13088 samples\n",
      "Epoch 1/10\n",
      "52416/52416 [==============================] - 45s 857us/step - loss: 11.6766 - nll_loss: 8.0656 - entropy_loss: 3.6110 - val_loss: 8.2892 - val_nll_loss: 5.8985 - val_entropy_loss: 2.3907\n",
      "Epoch 2/10\n",
      "52416/52416 [==============================] - 36s 691us/step - loss: 7.9401 - nll_loss: 5.7615 - entropy_loss: 2.1786 - val_loss: 7.6141 - val_nll_loss: 5.6365 - val_entropy_loss: 1.9776\n",
      "Epoch 3/10\n",
      "52416/52416 [==============================] - 36s 686us/step - loss: 7.5363 - nll_loss: 5.5412 - entropy_loss: 1.9951 - val_loss: 7.3735 - val_nll_loss: 5.2987 - val_entropy_loss: 2.0748\n",
      "Epoch 4/10\n",
      "52416/52416 [==============================] - 36s 684us/step - loss: 7.3714 - nll_loss: 5.4344 - entropy_loss: 1.9370 - val_loss: 7.2777 - val_nll_loss: 5.4419 - val_entropy_loss: 1.8358\n",
      "Epoch 5/10\n",
      "52416/52416 [==============================] - 36s 685us/step - loss: 7.2921 - nll_loss: 5.3534 - entropy_loss: 1.9387 - val_loss: 7.2318 - val_nll_loss: 5.0782 - val_entropy_loss: 2.1536\n",
      "Epoch 6/10\n",
      "52416/52416 [==============================] - 36s 692us/step - loss: 7.2113 - nll_loss: 5.3025 - entropy_loss: 1.9088 - val_loss: 7.1585 - val_nll_loss: 5.3453 - val_entropy_loss: 1.8131\n",
      "Epoch 7/10\n",
      "52416/52416 [==============================] - 36s 683us/step - loss: 7.1725 - nll_loss: 5.2934 - entropy_loss: 1.8791 - val_loss: 7.0890 - val_nll_loss: 5.1756 - val_entropy_loss: 1.9133\n",
      "Epoch 8/10\n",
      "52416/52416 [==============================] - 37s 698us/step - loss: 7.1395 - nll_loss: 5.2738 - entropy_loss: 1.8657 - val_loss: 7.0709 - val_nll_loss: 5.1490 - val_entropy_loss: 1.9219\n",
      "Epoch 9/10\n",
      "52416/52416 [==============================] - 77s 1ms/step - loss: 7.1201 - nll_loss: 5.2369 - entropy_loss: 1.8831 - val_loss: 7.0328 - val_nll_loss: 5.2311 - val_entropy_loss: 1.8017\n",
      "Epoch 10/10\n",
      "52416/52416 [==============================] - 36s 684us/step - loss: 7.0779 - nll_loss: 5.2202 - entropy_loss: 1.8578 - val_loss: 7.0030 - val_nll_loss: 5.0605 - val_entropy_loss: 1.9424\n",
      "Done creating train history\n",
      "returning....\n"
     ]
    },
    {
     "data": {
      "image/png": "[encoded data removed]",
      "text/plain": [
       "<Figure size 576x216 with 2 Axes>"
      ]
     },
     "metadata": {
      "needs_background": "light"
     },
     "output_type": "display_data"
    },
    {
     "name": "stdout",
     "output_type": "stream",
     "text": [
      "Saved scrambler model at saved_models/mer8motif_model_lin_d_inclusion_scrambler_bits_0125_epochs_10.h5 \n"
     ]
    }
   ],
   "source": [
    "lin_d_scr, lin_d_scr_train_hist = train_scrambler_on_model(k_lin_no_tf)\n",
    "model_name = 'mer8motif_model_lin_d_inclusion_scrambler_bits_0125_epochs_10'\n",
    "save_scrambler(lin_d_scr, lin_d_scr_train_hist, model_name)"
   ]
  },
  {
   "cell_type": "markdown",
   "metadata": {},
   "source": [
    "## Eval scrambler results?\n",
    "So the scrambler ran on the linear model - now check the scrambler results by visualizing some sequences and their importances"
   ]
  },
  {
   "cell_type": "code",
   "execution_count": 41,
   "metadata": {
    "scrolled": false
   },
   "outputs": [
    {
     "name": "stdout",
     "output_type": "stream",
     "text": [
      "Num TAT: 1146\n",
      "Num TAT: 1124\n",
      "GCG example idx 133: AAAGCGAA\n",
      "TAT example idx 13074: TTTTATAG\n"
     ]
    }
   ],
   "source": [
    "# get seqs from test df that are ineresting to spot check\n",
    "test_df = mer8motif_test_df.reset_index()\n",
    "\n",
    "tat = list(test_df[test_df['seq'].str.contains(\"TAT\")].index)\n",
    "gcg = list(test_df[test_df['seq'].str.contains(\"GCG\")].index)\n",
    "\n",
    "print(\"Num TAT:\",len(tat))\n",
    "print(\"Num TAT:\",len(gcg))\n",
    "\n",
    "# Show some examples\n",
    "list_idx = 2\n",
    "g = gcg[list_idx]\n",
    "print(f'GCG example idx {g}: {test_df.loc[g][\"seq\"]}')\n",
    "\n",
    "list_idx = 1145\n",
    "t = tat[list_idx]\n",
    "print(f'TAT example idx {t}: {test_df.loc[t][\"seq\"]}')\n",
    "\n",
    "# some idxs I checked and think are interesting?\n",
    "ixs = [4,133,97,99,13074,13075,578,579,438,439]"
   ]
  },
  {
   "cell_type": "code",
   "execution_count": 60,
   "metadata": {},
   "outputs": [],
   "source": [
    "def viz_scrambler_results(model, scrambler, cnn=False, verbose=False):\n",
    "    #Interpret the test set using the trained scrambler\n",
    "    pwm_test, sample_test, importance_scores_test = scrambler.interpret(x_test)\n",
    "    \n",
    "    if verbose:\n",
    "        print(\"x_test:\",x_test.shape)\n",
    "        print(\"pwm_test:\",pwm_test.shape)\n",
    "        print(\"sample_test:\",sample_test.shape)\n",
    "        print(\"importance_scores_test:\",importance_scores_test.shape)\n",
    "        \n",
    "    \n",
    "    #Visualize a few reconstructed sequence patterns\n",
    "    plot_examples = np.arange(5).tolist()\n",
    "    save_examples = []\n",
    "\n",
    "    importance_scores_test *= sequence_mask[None, None, :, None]\n",
    "\n",
    "    for test_ix in ixs :\n",
    "        #seq = x_test2[test_ix:test_ix+1, ...].flatten().reshape(1,-1)\n",
    "        \n",
    "        seq = x_test[test_ix:test_ix+1, ...]\n",
    "        seq1 = x_test[test_ix:test_ix+1, ...][0]#.reshape(1,-1)\n",
    "        \n",
    "        print(\"Test sequence \" + str(test_ix) + \":\")\n",
    "        print(\"seq\",seq.shape,seq)\n",
    "        print(\"seq1\",seq1.shape,seq1)\n",
    "        sample_seqs = sample_test[test_ix, ...]\n",
    "        #x=           [sample_test[test_ix, ...]], batch_size=32)\n",
    "        \n",
    "        # reshape\n",
    "        #sample_seqs = np.array([x.flatten().reshape(1,-1) for x in sample_seqs])\n",
    "\n",
    "    #     y_test_hat_ref = k_reload.predict(x=[seq], batch_size=1)[0, 0]\n",
    "    #     y_test_hat = k_reload.predict(x=[sample_seqs], batch_size=32)[:32, 0].tolist()\n",
    "        #y_test_hat_ref = model.predict(x=[seq1])[0, 0]\n",
    "        \n",
    "        #y_test_hat = [model.predict(x=[ss])[0, 0] for ss in sample_seqs]\n",
    "        #y_test_hat = model.predict(x=[sample_test[test_ix, ...]], batch_size=32)[:32, 0].tolist()\n",
    "        \n",
    "        # BLERGH! Linear model expect 1,8,4 but CNN wants 1,1,8,4. I'm not gonna bother\n",
    "        # fixing this in a nice way now. I'll come back to it. FOr now, these are the lines\n",
    "        # that work for each type:\n",
    "    \n",
    "        if not cnn:\n",
    "        # linear model version\n",
    "            y_test_hat_ref = model.predict(x=[seq1])[0, 0]\n",
    "            y_test_hat = [model.predict(x=[ss])[0, 0] for ss in sample_seqs]\n",
    "        \n",
    "        # cnn model version\n",
    "        else:\n",
    "            y_test_hat_ref = model.predict(x=[seq])[0, 0]\n",
    "            y_test_hat = model.predict(x=[sample_test[test_ix, ...]], batch_size=32)[:32, 0].tolist()\n",
    "        \n",
    "        print(\" - Prediction (original) = \" + str(round(y_test_hat_ref, 2))[:4])\n",
    "        print(\" - Predictions (scrambled) = \" + str([float(str(round(y_test_hat[i], 2))[:4]) for i in range(len(y_test_hat))]))\n",
    "\n",
    "        save_figs = False\n",
    "        if save_examples is not None and test_ix in save_examples :\n",
    "            save_figs = True\n",
    "\n",
    "        # Original seq\n",
    "        plot_dna_logo(x_test[test_ix, 0, :, :], \n",
    "                      sequence_template=sequence_template, \n",
    "                      figsize=(5, 1), \n",
    "                      plot_start=0, plot_end=SEQ_LEN, \n",
    "                      plot_sequence_template=True, \n",
    "                      save_figs=save_figs, \n",
    "                      fig_name=model_name + \"_test_ix_\" + str(test_ix) + \"_orig_sequence\"\n",
    "        )\n",
    "        # PWM\n",
    "        plot_dna_logo(pwm_test[test_ix, 0, :, :], \n",
    "                      sequence_template=sequence_template, \n",
    "                      figsize=(5, 1), \n",
    "                      plot_start=0, plot_end=SEQ_LEN, \n",
    "                      plot_sequence_template=True, \n",
    "                      save_figs=save_figs, fig_name=model_name + \"_test_ix_\" + str(test_ix) + \"_scrambld_pwm\"\n",
    "        )\n",
    "        # importance scores\n",
    "        plot_dna_importance_scores(importance_scores_test[test_ix, 0, :, :].T,\n",
    "                                   encoder.decode(x_test[test_ix, 0, :, :]), \n",
    "                                   figsize=(5, 1), \n",
    "                                   score_clip=None, \n",
    "                                   sequence_template=sequence_template, \n",
    "                                   plot_start=0, plot_end=SEQ_LEN, \n",
    "                                   save_figs=save_figs, \n",
    "                                   fig_name=model_name + \"_test_ix_\" + str(test_ix) + \"_scores\"\n",
    "        )\n",
    "  "
   ]
  },
  {
   "cell_type": "code",
   "execution_count": 61,
   "metadata": {},
   "outputs": [
    {
     "name": "stdout",
     "output_type": "stream",
     "text": [
      "_________________________________________________________________\n",
      "Layer (type)                 Output Shape              Param #   \n",
      "=================================================================\n",
      "test_input (InputLayer)      (None, 8, 4)              0         \n",
      "_________________________________________________________________\n",
      "12 (Reshape)                 (None, 32)                0         \n",
      "_________________________________________________________________\n",
      "13 (Dense)                   (None, 24)                792       \n",
      "_________________________________________________________________\n",
      "14 (Activation)              (None, 24)                0         \n",
      "_________________________________________________________________\n",
      "15 (Dense)                   (None, 1)                 25        \n",
      "_________________________________________________________________\n",
      "test_output (Activation)     (None, 1)                 0         \n",
      "=================================================================\n",
      "Total params: 817\n",
      "Trainable params: 0\n",
      "Non-trainable params: 817\n",
      "_________________________________________________________________\n"
     ]
    }
   ],
   "source": [
    "k_lin_no_tf.summary()"
   ]
  },
  {
   "cell_type": "code",
   "execution_count": 62,
   "metadata": {
    "scrolled": false
   },
   "outputs": [
    {
     "name": "stdout",
     "output_type": "stream",
     "text": [
      "13088/13088 [==============================] - 2s 185us/step\n",
      "Test sequence 4:\n",
      "seq (1, 1, 8, 4) [[[[1. 0. 0. 0.]\n",
      "   [1. 0. 0. 0.]\n",
      "   [1. 0. 0. 0.]\n",
      "   [1. 0. 0. 0.]\n",
      "   [1. 0. 0. 0.]\n",
      "   [0. 1. 0. 0.]\n",
      "   [0. 0. 1. 0.]\n",
      "   [1. 0. 0. 0.]]]]\n",
      "seq1 (1, 8, 4) [[[1. 0. 0. 0.]\n",
      "  [1. 0. 0. 0.]\n",
      "  [1. 0. 0. 0.]\n",
      "  [1. 0. 0. 0.]\n",
      "  [1. 0. 0. 0.]\n",
      "  [0. 1. 0. 0.]\n",
      "  [0. 0. 1. 0.]\n",
      "  [1. 0. 0. 0.]]]\n",
      " - Prediction (original) = 18.9\n",
      " - Predictions (scrambled) = [16.9, 14.3, 15.6, 17.3, 16.4, 18.1, 15.1, 21.6, 15.7, 16.0, 16.7, 17.2, 16.0, 19.1, 14.6, 17.1, 17.6, 15.1, 12.5, 17.2, 22.7, 18.0, 17.2, 15.5, 16.5, 19.4, 18.9, 13.7, 16.3, 19.9, 17.1, 15.7]\n"
     ]
    },
    {
     "data": {
      "image/png": "[encoded data removed]",
      "text/plain": [
       "<Figure size 360x72 with 1 Axes>"
      ]
     },
     "metadata": {},
     "output_type": "display_data"
    },
    {
     "data": {
      "image/png": "[encoded data removed]",
      "text/plain": [
       "<Figure size 360x72 with 1 Axes>"
      ]
     },
     "metadata": {},
     "output_type": "display_data"
    },
    {
     "data": {
      "image/png": "[encoded data removed]",
      "text/plain": [
       "<Figure size 360x72 with 1 Axes>"
      ]
     },
     "metadata": {
      "needs_background": "light"
     },
     "output_type": "display_data"
    },
    {
     "name": "stdout",
     "output_type": "stream",
     "text": [
      "Test sequence 133:\n",
      "seq (1, 1, 8, 4) [[[[1. 0. 0. 0.]\n",
      "   [1. 0. 0. 0.]\n",
      "   [1. 0. 0. 0.]\n",
      "   [0. 0. 1. 0.]\n",
      "   [0. 1. 0. 0.]\n",
      "   [0. 0. 1. 0.]\n",
      "   [1. 0. 0. 0.]\n",
      "   [1. 0. 0. 0.]]]]\n",
      "seq1 (1, 8, 4) [[[1. 0. 0. 0.]\n",
      "  [1. 0. 0. 0.]\n",
      "  [1. 0. 0. 0.]\n",
      "  [0. 0. 1. 0.]\n",
      "  [0. 1. 0. 0.]\n",
      "  [0. 0. 1. 0.]\n",
      "  [1. 0. 0. 0.]\n",
      "  [1. 0. 0. 0.]]]\n",
      " - Prediction (original) = 8.49\n",
      " - Predictions (scrambled) = [7.03, 4.33, 4.91, 6.87, 5.4, 5.12, 6.96, 10.1, 5.54, 5.37, 3.88, 7.02, 7.78, 6.04, 2.9, 5.22, 8.18, 8.99, 13.6, 6.76, 6.65, -0.0, 5.71, 13.8, 14.6, 7.84, 13.7, 14.5, 7.26, 2.71, 3.23, 4.84]\n"
     ]
    },
    {
     "data": {
      "image/png": "[encoded data removed]",
      "text/plain": [
       "<Figure size 360x72 with 1 Axes>"
      ]
     },
     "metadata": {},
     "output_type": "display_data"
    },
    {
     "data": {
      "image/png": "[encoded data removed]",
      "text/plain": [
       "<Figure size 360x72 with 1 Axes>"
      ]
     },
     "metadata": {},
     "output_type": "display_data"
    },
    {
     "data": {
      "image/png": "[encoded data removed]",
      "text/plain": [
       "<Figure size 360x72 with 1 Axes>"
      ]
     },
     "metadata": {
      "needs_background": "light"
     },
     "output_type": "display_data"
    },
    {
     "name": "stdout",
     "output_type": "stream",
     "text": [
      "Test sequence 97:\n",
      "seq (1, 1, 8, 4) [[[[1. 0. 0. 0.]\n",
      "   [1. 0. 0. 0.]\n",
      "   [1. 0. 0. 0.]\n",
      "   [0. 1. 0. 0.]\n",
      "   [0. 0. 0. 1.]\n",
      "   [1. 0. 0. 0.]\n",
      "   [0. 0. 0. 1.]\n",
      "   [0. 1. 0. 0.]]]]\n",
      "seq1 (1, 8, 4) [[[1. 0. 0. 0.]\n",
      "  [1. 0. 0. 0.]\n",
      "  [1. 0. 0. 0.]\n",
      "  [0. 1. 0. 0.]\n",
      "  [0. 0. 0. 1.]\n",
      "  [1. 0. 0. 0.]\n",
      "  [0. 0. 0. 1.]\n",
      "  [0. 1. 0. 0.]]]\n",
      " - Prediction (original) = 26.2\n",
      " - Predictions (scrambled) = [24.7, 23.8, 24.5, 25.1, 22.5, 23.9, 20.9, 25.1, 22.7, 23.8, 23.8, 24.5, 25.8, 25.3, 22.7, 24.3, 23.5, 22.6, 24.4, 25.3, 23.5, 27.9, 23.6, 25.3, 24.4, 24.7, 22.5, 25.4, 25.4, 25.4, 23.0, 23.0]\n"
     ]
    },
    {
     "data": {
      "image/png": "[encoded data removed]",
      "text/plain": [
       "<Figure size 360x72 with 1 Axes>"
      ]
     },
     "metadata": {},
     "output_type": "display_data"
    },
    {
     "data": {
      "image/png": "[encoded data removed]",
      "text/plain": [
       "<Figure size 360x72 with 1 Axes>"
      ]
     },
     "metadata": {},
     "output_type": "display_data"
    },
    {
     "data": {
      "image/png": "[encoded data removed]",
      "text/plain": [
       "<Figure size 360x72 with 1 Axes>"
      ]
     },
     "metadata": {
      "needs_background": "light"
     },
     "output_type": "display_data"
    },
    {
     "name": "stdout",
     "output_type": "stream",
     "text": [
      "Test sequence 99:\n",
      "seq (1, 1, 8, 4) [[[[1. 0. 0. 0.]\n",
      "   [1. 0. 0. 0.]\n",
      "   [1. 0. 0. 0.]\n",
      "   [0. 1. 0. 0.]\n",
      "   [0. 0. 0. 1.]\n",
      "   [0. 1. 0. 0.]\n",
      "   [1. 0. 0. 0.]\n",
      "   [1. 0. 0. 0.]]]]\n",
      "seq1 (1, 8, 4) [[[1. 0. 0. 0.]\n",
      "  [1. 0. 0. 0.]\n",
      "  [1. 0. 0. 0.]\n",
      "  [0. 1. 0. 0.]\n",
      "  [0. 0. 0. 1.]\n",
      "  [0. 1. 0. 0.]\n",
      "  [1. 0. 0. 0.]\n",
      "  [1. 0. 0. 0.]]]\n",
      " - Prediction (original) = 18.4\n",
      " - Predictions (scrambled) = [15.8, 22.3, 19.2, 16.1, 16.0, 22.6, 17.3, 16.5, 16.6, 17.1, 16.7, 17.3, 17.1, 16.7, 22.9, 15.4, 16.6, 16.2, 16.4, 15.3, 16.5, 15.7, 17.8, 17.9, 12.5, 12.5, 18.2, 15.6, 16.9, 19.9, 15.2, 17.4]\n"
     ]
    },
    {
     "data": {
      "image/png": "[encoded data removed]",
      "text/plain": [
       "<Figure size 360x72 with 1 Axes>"
      ]
     },
     "metadata": {},
     "output_type": "display_data"
    },
    {
     "data": {
      "image/png": "[encoded data removed]",
      "text/plain": [
       "<Figure size 360x72 with 1 Axes>"
      ]
     },
     "metadata": {},
     "output_type": "display_data"
    },
    {
     "data": {
      "image/png": "[encoded data removed]",
      "text/plain": [
       "<Figure size 360x72 with 1 Axes>"
      ]
     },
     "metadata": {
      "needs_background": "light"
     },
     "output_type": "display_data"
    },
    {
     "name": "stdout",
     "output_type": "stream",
     "text": [
      "Test sequence 13074:\n",
      "seq (1, 1, 8, 4) [[[[0. 0. 0. 1.]\n",
      "   [0. 0. 0. 1.]\n",
      "   [0. 0. 0. 1.]\n",
      "   [0. 0. 0. 1.]\n",
      "   [1. 0. 0. 0.]\n",
      "   [0. 0. 0. 1.]\n",
      "   [1. 0. 0. 0.]\n",
      "   [0. 0. 1. 0.]]]]\n",
      "seq1 (1, 8, 4) [[[0. 0. 0. 1.]\n",
      "  [0. 0. 0. 1.]\n",
      "  [0. 0. 0. 1.]\n",
      "  [0. 0. 0. 1.]\n",
      "  [1. 0. 0. 0.]\n",
      "  [0. 0. 0. 1.]\n",
      "  [1. 0. 0. 0.]\n",
      "  [0. 0. 1. 0.]]]\n",
      " - Prediction (original) = 22.8\n",
      " - Predictions (scrambled) = [25.4, 18.3, 22.4, 22.2, 16.4, 23.4, 21.6, 23.9, 22.6, 15.3, 21.4, 21.3, 24.7, 22.6, 21.6, 24.0, 24.7, 19.6, 12.2, 24.4, 25.2, 24.7, 22.0, 23.1, 13.9, 22.9, 25.9, 22.5, 15.8, 19.5, 22.1, 23.5]\n"
     ]
    },
    {
     "data": {
      "image/png": "[encoded data removed]",
      "text/plain": [
       "<Figure size 360x72 with 1 Axes>"
      ]
     },
     "metadata": {},
     "output_type": "display_data"
    },
    {
     "data": {
      "image/png": "[encoded data removed]",
      "text/plain": [
       "<Figure size 360x72 with 1 Axes>"
      ]
     },
     "metadata": {},
     "output_type": "display_data"
    },
    {
     "data": {
      "image/png": "[encoded data removed]",
      "text/plain": [
       "<Figure size 360x72 with 1 Axes>"
      ]
     },
     "metadata": {
      "needs_background": "light"
     },
     "output_type": "display_data"
    },
    {
     "name": "stdout",
     "output_type": "stream",
     "text": [
      "Test sequence 13075:\n",
      "seq (1, 1, 8, 4) [[[[0. 0. 0. 1.]\n",
      "   [0. 0. 0. 1.]\n",
      "   [0. 0. 0. 1.]\n",
      "   [0. 0. 0. 1.]\n",
      "   [0. 1. 0. 0.]\n",
      "   [1. 0. 0. 0.]\n",
      "   [0. 1. 0. 0.]\n",
      "   [0. 0. 1. 0.]]]]\n",
      "seq1 (1, 8, 4) [[[0. 0. 0. 1.]\n",
      "  [0. 0. 0. 1.]\n",
      "  [0. 0. 0. 1.]\n",
      "  [0. 0. 0. 1.]\n",
      "  [0. 1. 0. 0.]\n",
      "  [1. 0. 0. 0.]\n",
      "  [0. 1. 0. 0.]\n",
      "  [0. 0. 1. 0.]]]\n",
      " - Prediction (original) = 13.4\n",
      " - Predictions (scrambled) = [14.3, 13.9, 16.3, 15.2, 11.3, 13.8, 21.6, 13.5, 13.7, 15.6, 13.8, 14.3, 12.9, 13.5, 11.9, 15.2, 15.8, 14.3, 14.3, 19.0, 14.0, 13.4, 11.4, 14.1, 14.8, 13.9, 13.4, 13.6, 15.3, 14.4, 16.0, 14.6]\n"
     ]
    },
    {
     "data": {
      "image/png": "[encoded data removed]",
      "text/plain": [
       "<Figure size 360x72 with 1 Axes>"
      ]
     },
     "metadata": {},
     "output_type": "display_data"
    },
    {
     "data": {
      "image/png": "[encoded data removed]",
      "text/plain": [
       "<Figure size 360x72 with 1 Axes>"
      ]
     },
     "metadata": {},
     "output_type": "display_data"
    },
    {
     "data": {
      "image/png": "[encoded data removed]",
      "text/plain": [
       "<Figure size 360x72 with 1 Axes>"
      ]
     },
     "metadata": {
      "needs_background": "light"
     },
     "output_type": "display_data"
    },
    {
     "name": "stdout",
     "output_type": "stream",
     "text": [
      "Test sequence 578:\n",
      "seq (1, 1, 8, 4) [[[[1. 0. 0. 0.]\n",
      "   [1. 0. 0. 0.]\n",
      "   [0. 0. 1. 0.]\n",
      "   [0. 0. 1. 0.]\n",
      "   [0. 0. 0. 1.]\n",
      "   [0. 0. 0. 1.]\n",
      "   [1. 0. 0. 0.]\n",
      "   [0. 0. 0. 1.]]]]\n",
      "seq1 (1, 8, 4) [[[1. 0. 0. 0.]\n",
      "  [1. 0. 0. 0.]\n",
      "  [0. 0. 1. 0.]\n",
      "  [0. 0. 1. 0.]\n",
      "  [0. 0. 0. 1.]\n",
      "  [0. 0. 0. 1.]\n",
      "  [1. 0. 0. 0.]\n",
      "  [0. 0. 0. 1.]]]\n",
      " - Prediction (original) = 25.4\n",
      " - Predictions (scrambled) = [22.0, 23.0, 28.6, 22.8, 24.0, 21.9, 22.8, 22.4, 19.0, 23.4, 21.2, 21.1, 21.0, 25.7, 23.5, 19.7, 26.3, 22.9, 20.9, 23.4, 24.8, 21.0, 24.2, 26.3, 23.0, 26.4, 25.3, 23.3, 22.6, 27.6, 23.3, 26.0]\n"
     ]
    },
    {
     "data": {
      "image/png": "[encoded data removed]",
      "text/plain": [
       "<Figure size 360x72 with 1 Axes>"
      ]
     },
     "metadata": {},
     "output_type": "display_data"
    },
    {
     "data": {
      "image/png": "[encoded data removed]",
      "text/plain": [
       "<Figure size 360x72 with 1 Axes>"
      ]
     },
     "metadata": {},
     "output_type": "display_data"
    },
    {
     "data": {
      "image/png": "[encoded data removed]",
      "text/plain": [
       "<Figure size 360x72 with 1 Axes>"
      ]
     },
     "metadata": {
      "needs_background": "light"
     },
     "output_type": "display_data"
    },
    {
     "name": "stdout",
     "output_type": "stream",
     "text": [
      "Test sequence 579:\n",
      "seq (1, 1, 8, 4) [[[[1. 0. 0. 0.]\n",
      "   [1. 0. 0. 0.]\n",
      "   [0. 0. 1. 0.]\n",
      "   [0. 0. 1. 0.]\n",
      "   [0. 0. 0. 1.]\n",
      "   [0. 0. 0. 1.]\n",
      "   [0. 0. 0. 1.]\n",
      "   [0. 1. 0. 0.]]]]\n",
      "seq1 (1, 8, 4) [[[1. 0. 0. 0.]\n",
      "  [1. 0. 0. 0.]\n",
      "  [0. 0. 1. 0.]\n",
      "  [0. 0. 1. 0.]\n",
      "  [0. 0. 0. 1.]\n",
      "  [0. 0. 0. 1.]\n",
      "  [0. 0. 0. 1.]\n",
      "  [0. 1. 0. 0.]]]\n",
      " - Prediction (original) = 14.5\n",
      " - Predictions (scrambled) = [14.4, 14.8, 15.0, 13.8, 13.2, 13.2, 20.0, 15.8, 15.3, 18.2, 15.4, 22.1, 14.8, 18.2, 15.7, 15.5, 16.8, 14.1, 7.92, 16.9, 11.7, 15.4, 14.5, 13.0, 17.1, 12.1, 14.8, 13.6, 16.3, 13.7, 21.6, 21.3]\n"
     ]
    },
    {
     "data": {
      "image/png": "[encoded data removed]",
      "text/plain": [
       "<Figure size 360x72 with 1 Axes>"
      ]
     },
     "metadata": {},
     "output_type": "display_data"
    },
    {
     "data": {
      "image/png": "[encoded data removed]",
      "text/plain": [
       "<Figure size 360x72 with 1 Axes>"
      ]
     },
     "metadata": {},
     "output_type": "display_data"
    },
    {
     "data": {
      "image/png": "[encoded data removed]",
      "text/plain": [
       "<Figure size 360x72 with 1 Axes>"
      ]
     },
     "metadata": {
      "needs_background": "light"
     },
     "output_type": "display_data"
    },
    {
     "name": "stdout",
     "output_type": "stream",
     "text": [
      "Test sequence 438:\n",
      "seq (1, 1, 8, 4) [[[[1. 0. 0. 0.]\n",
      "   [1. 0. 0. 0.]\n",
      "   [0. 0. 1. 0.]\n",
      "   [1. 0. 0. 0.]\n",
      "   [0. 1. 0. 0.]\n",
      "   [0. 0. 1. 0.]\n",
      "   [0. 1. 0. 0.]\n",
      "   [0. 0. 1. 0.]]]]\n",
      "seq1 (1, 8, 4) [[[1. 0. 0. 0.]\n",
      "  [1. 0. 0. 0.]\n",
      "  [0. 0. 1. 0.]\n",
      "  [1. 0. 0. 0.]\n",
      "  [0. 1. 0. 0.]\n",
      "  [0. 0. 1. 0.]\n",
      "  [0. 1. 0. 0.]\n",
      "  [0. 0. 1. 0.]]]\n",
      " - Prediction (original) = 7.8\n",
      " - Predictions (scrambled) = [6.74, 7.54, 4.61, 6.46, 6.17, 6.4, 7.02, -0.0, 7.6, 7.19, 8.23, 5.41, 0.1, 8.22, 3.56, 6.66, 7.39, 5.52, 6.74, 7.44, 5.61, 4.37, 6.95, 5.91, 5.24, 7.18, 7.53, 3.32, 2.32, 6.02, 8.25, 5.53]\n"
     ]
    },
    {
     "data": {
      "image/png": "[encoded data removed]",
      "text/plain": [
       "<Figure size 360x72 with 1 Axes>"
      ]
     },
     "metadata": {},
     "output_type": "display_data"
    },
    {
     "data": {
      "image/png": "[encoded data removed]",
      "text/plain": [
       "<Figure size 360x72 with 1 Axes>"
      ]
     },
     "metadata": {},
     "output_type": "display_data"
    },
    {
     "data": {
      "image/png": "[encoded data removed]",
      "text/plain": [
       "<Figure size 360x72 with 1 Axes>"
      ]
     },
     "metadata": {
      "needs_background": "light"
     },
     "output_type": "display_data"
    },
    {
     "name": "stdout",
     "output_type": "stream",
     "text": [
      "Test sequence 439:\n",
      "seq (1, 1, 8, 4) [[[[1. 0. 0. 0.]\n",
      "   [1. 0. 0. 0.]\n",
      "   [0. 0. 1. 0.]\n",
      "   [1. 0. 0. 0.]\n",
      "   [0. 1. 0. 0.]\n",
      "   [0. 0. 1. 0.]\n",
      "   [0. 0. 1. 0.]\n",
      "   [0. 1. 0. 0.]]]]\n",
      "seq1 (1, 8, 4) [[[1. 0. 0. 0.]\n",
      "  [1. 0. 0. 0.]\n",
      "  [0. 0. 1. 0.]\n",
      "  [1. 0. 0. 0.]\n",
      "  [0. 1. 0. 0.]\n",
      "  [0. 0. 1. 0.]\n",
      "  [0. 0. 1. 0.]\n",
      "  [0. 1. 0. 0.]]]\n",
      " - Prediction (original) = 16.9\n",
      " - Predictions (scrambled) = [16.4, 15.4, 16.6, 16.6, 15.4, 17.7, 15.4, 14.0, 14.3, 12.6, 17.0, 14.7, 7.69, 16.6, 15.1, 11.2, 15.3, 13.9, 15.4, 15.5, 14.0, 16.1, 12.0, 14.8, 16.7, 16.2, 14.4, 14.7, 13.9, 14.7, 15.5, 13.5]\n"
     ]
    },
    {
     "data": {
      "image/png": "[encoded data removed]",
      "text/plain": [
       "<Figure size 360x72 with 1 Axes>"
      ]
     },
     "metadata": {},
     "output_type": "display_data"
    },
    {
     "data": {
      "image/png": "[encoded data removed]",
      "text/plain": [
       "<Figure size 360x72 with 1 Axes>"
      ]
     },
     "metadata": {},
     "output_type": "display_data"
    },
    {
     "data": {
      "image/png": "[encoded data removed]",
      "text/plain": [
       "<Figure size 360x72 with 1 Axes>"
      ]
     },
     "metadata": {
      "needs_background": "light"
     },
     "output_type": "display_data"
    }
   ],
   "source": [
    "viz_scrambler_results(k_lin_no_tf, lin_d_scr)"
   ]
  },
  {
   "cell_type": "markdown",
   "metadata": {},
   "source": [
    "# Checkpoint 2\n",
    "### Scramblers working-ish for linear model!\n",
    "Running the scrambler on the linear model, it seems to highlight GCGs and TATs when present, though it is not perfect. Some other surrounding letters get lumped in too."
   ]
  },
  {
   "cell_type": "markdown",
   "metadata": {},
   "source": [
    "# Next: run scramblers on the CNN model"
   ]
  },
  {
   "cell_type": "code",
   "execution_count": 63,
   "metadata": {
    "scrolled": false
   },
   "outputs": [
    {
     "ename": "TypeError",
     "evalue": "('Keyword argument not understood:', 'module')",
     "output_type": "error",
     "traceback": [
      "\u001b[0;31m---------------------------------------------------------------------------\u001b[0m",
      "\u001b[0;31mTypeError\u001b[0m                                 Traceback (most recent call last)",
      "\u001b[0;32m<ipython-input-63-938e8e46a34d>\u001b[0m in \u001b[0;36m<module>\u001b[0;34m\u001b[0m\n\u001b[1;32m      1\u001b[0m \u001b[0mk_cnn_model\u001b[0m\u001b[0;34m.\u001b[0m\u001b[0msave\u001b[0m\u001b[0;34m(\u001b[0m\u001b[0;34m\"k_cnn.h5\"\u001b[0m\u001b[0;34m)\u001b[0m\u001b[0;34m\u001b[0m\u001b[0;34m\u001b[0m\u001b[0m\n\u001b[0;32m----> 2\u001b[0;31m \u001b[0mk_cnn_no_tf\u001b[0m \u001b[0;34m=\u001b[0m \u001b[0mkeras\u001b[0m\u001b[0;34m.\u001b[0m\u001b[0mmodels\u001b[0m\u001b[0;34m.\u001b[0m\u001b[0mload_model\u001b[0m\u001b[0;34m(\u001b[0m\u001b[0;34m\"k_cnn.h5\"\u001b[0m\u001b[0;34m)\u001b[0m\u001b[0;34m\u001b[0m\u001b[0;34m\u001b[0m\u001b[0m\n\u001b[0m\u001b[1;32m      3\u001b[0m \u001b[0mk_cnn_no_tf\u001b[0m\u001b[0;34m\u001b[0m\u001b[0;34m\u001b[0m\u001b[0m\n",
      "\u001b[0;32m~/anaconda3/envs/scrambler/lib/python3.7/site-packages/keras/engine/saving.py\u001b[0m in \u001b[0;36mload_model\u001b[0;34m(filepath, custom_objects, compile)\u001b[0m\n\u001b[1;32m    417\u001b[0m     \u001b[0mf\u001b[0m \u001b[0;34m=\u001b[0m \u001b[0mh5dict\u001b[0m\u001b[0;34m(\u001b[0m\u001b[0mfilepath\u001b[0m\u001b[0;34m,\u001b[0m \u001b[0;34m'r'\u001b[0m\u001b[0;34m)\u001b[0m\u001b[0;34m\u001b[0m\u001b[0;34m\u001b[0m\u001b[0m\n\u001b[1;32m    418\u001b[0m     \u001b[0;32mtry\u001b[0m\u001b[0;34m:\u001b[0m\u001b[0;34m\u001b[0m\u001b[0;34m\u001b[0m\u001b[0m\n\u001b[0;32m--> 419\u001b[0;31m         \u001b[0mmodel\u001b[0m \u001b[0;34m=\u001b[0m \u001b[0m_deserialize_model\u001b[0m\u001b[0;34m(\u001b[0m\u001b[0mf\u001b[0m\u001b[0;34m,\u001b[0m \u001b[0mcustom_objects\u001b[0m\u001b[0;34m,\u001b[0m \u001b[0mcompile\u001b[0m\u001b[0;34m)\u001b[0m\u001b[0;34m\u001b[0m\u001b[0;34m\u001b[0m\u001b[0m\n\u001b[0m\u001b[1;32m    420\u001b[0m     \u001b[0;32mfinally\u001b[0m\u001b[0;34m:\u001b[0m\u001b[0;34m\u001b[0m\u001b[0;34m\u001b[0m\u001b[0m\n\u001b[1;32m    421\u001b[0m         \u001b[0;32mif\u001b[0m \u001b[0mopened_new_file\u001b[0m\u001b[0;34m:\u001b[0m\u001b[0;34m\u001b[0m\u001b[0;34m\u001b[0m\u001b[0m\n",
      "\u001b[0;32m~/anaconda3/envs/scrambler/lib/python3.7/site-packages/keras/engine/saving.py\u001b[0m in \u001b[0;36m_deserialize_model\u001b[0;34m(f, custom_objects, compile)\u001b[0m\n\u001b[1;32m    223\u001b[0m         \u001b[0;32mraise\u001b[0m \u001b[0mValueError\u001b[0m\u001b[0;34m(\u001b[0m\u001b[0;34m'No model found in config.'\u001b[0m\u001b[0;34m)\u001b[0m\u001b[0;34m\u001b[0m\u001b[0;34m\u001b[0m\u001b[0m\n\u001b[1;32m    224\u001b[0m     \u001b[0mmodel_config\u001b[0m \u001b[0;34m=\u001b[0m \u001b[0mjson\u001b[0m\u001b[0;34m.\u001b[0m\u001b[0mloads\u001b[0m\u001b[0;34m(\u001b[0m\u001b[0mmodel_config\u001b[0m\u001b[0;34m.\u001b[0m\u001b[0mdecode\u001b[0m\u001b[0;34m(\u001b[0m\u001b[0;34m'utf-8'\u001b[0m\u001b[0;34m)\u001b[0m\u001b[0;34m)\u001b[0m\u001b[0;34m\u001b[0m\u001b[0;34m\u001b[0m\u001b[0m\n\u001b[0;32m--> 225\u001b[0;31m     \u001b[0mmodel\u001b[0m \u001b[0;34m=\u001b[0m \u001b[0mmodel_from_config\u001b[0m\u001b[0;34m(\u001b[0m\u001b[0mmodel_config\u001b[0m\u001b[0;34m,\u001b[0m \u001b[0mcustom_objects\u001b[0m\u001b[0;34m=\u001b[0m\u001b[0mcustom_objects\u001b[0m\u001b[0;34m)\u001b[0m\u001b[0;34m\u001b[0m\u001b[0;34m\u001b[0m\u001b[0m\n\u001b[0m\u001b[1;32m    226\u001b[0m     \u001b[0mmodel_weights_group\u001b[0m \u001b[0;34m=\u001b[0m \u001b[0mf\u001b[0m\u001b[0;34m[\u001b[0m\u001b[0;34m'model_weights'\u001b[0m\u001b[0;34m]\u001b[0m\u001b[0;34m\u001b[0m\u001b[0;34m\u001b[0m\u001b[0m\n\u001b[1;32m    227\u001b[0m \u001b[0;34m\u001b[0m\u001b[0m\n",
      "\u001b[0;32m~/anaconda3/envs/scrambler/lib/python3.7/site-packages/keras/engine/saving.py\u001b[0m in \u001b[0;36mmodel_from_config\u001b[0;34m(config, custom_objects)\u001b[0m\n\u001b[1;32m    456\u001b[0m                         '`Sequential.from_config(config)`?')\n\u001b[1;32m    457\u001b[0m     \u001b[0;32mfrom\u001b[0m \u001b[0;34m.\u001b[0m\u001b[0;34m.\u001b[0m\u001b[0mlayers\u001b[0m \u001b[0;32mimport\u001b[0m \u001b[0mdeserialize\u001b[0m\u001b[0;34m\u001b[0m\u001b[0;34m\u001b[0m\u001b[0m\n\u001b[0;32m--> 458\u001b[0;31m     \u001b[0;32mreturn\u001b[0m \u001b[0mdeserialize\u001b[0m\u001b[0;34m(\u001b[0m\u001b[0mconfig\u001b[0m\u001b[0;34m,\u001b[0m \u001b[0mcustom_objects\u001b[0m\u001b[0;34m=\u001b[0m\u001b[0mcustom_objects\u001b[0m\u001b[0;34m)\u001b[0m\u001b[0;34m\u001b[0m\u001b[0;34m\u001b[0m\u001b[0m\n\u001b[0m\u001b[1;32m    459\u001b[0m \u001b[0;34m\u001b[0m\u001b[0m\n\u001b[1;32m    460\u001b[0m \u001b[0;34m\u001b[0m\u001b[0m\n",
      "\u001b[0;32m~/anaconda3/envs/scrambler/lib/python3.7/site-packages/keras/layers/__init__.py\u001b[0m in \u001b[0;36mdeserialize\u001b[0;34m(config, custom_objects)\u001b[0m\n\u001b[1;32m     53\u001b[0m                                     \u001b[0mmodule_objects\u001b[0m\u001b[0;34m=\u001b[0m\u001b[0mglobs\u001b[0m\u001b[0;34m,\u001b[0m\u001b[0;34m\u001b[0m\u001b[0;34m\u001b[0m\u001b[0m\n\u001b[1;32m     54\u001b[0m                                     \u001b[0mcustom_objects\u001b[0m\u001b[0;34m=\u001b[0m\u001b[0mcustom_objects\u001b[0m\u001b[0;34m,\u001b[0m\u001b[0;34m\u001b[0m\u001b[0;34m\u001b[0m\u001b[0m\n\u001b[0;32m---> 55\u001b[0;31m                                     printable_module_name='layer')\n\u001b[0m",
      "\u001b[0;32m~/anaconda3/envs/scrambler/lib/python3.7/site-packages/keras/utils/generic_utils.py\u001b[0m in \u001b[0;36mdeserialize_keras_object\u001b[0;34m(identifier, module_objects, custom_objects, printable_module_name)\u001b[0m\n\u001b[1;32m    143\u001b[0m                     \u001b[0mconfig\u001b[0m\u001b[0;34m[\u001b[0m\u001b[0;34m'config'\u001b[0m\u001b[0;34m]\u001b[0m\u001b[0;34m,\u001b[0m\u001b[0;34m\u001b[0m\u001b[0;34m\u001b[0m\u001b[0m\n\u001b[1;32m    144\u001b[0m                     custom_objects=dict(list(_GLOBAL_CUSTOM_OBJECTS.items()) +\n\u001b[0;32m--> 145\u001b[0;31m                                         list(custom_objects.items())))\n\u001b[0m\u001b[1;32m    146\u001b[0m             \u001b[0;32mwith\u001b[0m \u001b[0mCustomObjectScope\u001b[0m\u001b[0;34m(\u001b[0m\u001b[0mcustom_objects\u001b[0m\u001b[0;34m)\u001b[0m\u001b[0;34m:\u001b[0m\u001b[0;34m\u001b[0m\u001b[0;34m\u001b[0m\u001b[0m\n\u001b[1;32m    147\u001b[0m                 \u001b[0;32mreturn\u001b[0m \u001b[0mcls\u001b[0m\u001b[0;34m.\u001b[0m\u001b[0mfrom_config\u001b[0m\u001b[0;34m(\u001b[0m\u001b[0mconfig\u001b[0m\u001b[0;34m[\u001b[0m\u001b[0;34m'config'\u001b[0m\u001b[0;34m]\u001b[0m\u001b[0;34m)\u001b[0m\u001b[0;34m\u001b[0m\u001b[0;34m\u001b[0m\u001b[0m\n",
      "\u001b[0;32m~/anaconda3/envs/scrambler/lib/python3.7/site-packages/keras/engine/network.py\u001b[0m in \u001b[0;36mfrom_config\u001b[0;34m(cls, config, custom_objects)\u001b[0m\n\u001b[1;32m   1020\u001b[0m         \u001b[0;31m# First, we create all layers and enqueue nodes to be processed\u001b[0m\u001b[0;34m\u001b[0m\u001b[0;34m\u001b[0m\u001b[0;34m\u001b[0m\u001b[0m\n\u001b[1;32m   1021\u001b[0m         \u001b[0;32mfor\u001b[0m \u001b[0mlayer_data\u001b[0m \u001b[0;32min\u001b[0m \u001b[0mconfig\u001b[0m\u001b[0;34m[\u001b[0m\u001b[0;34m'layers'\u001b[0m\u001b[0;34m]\u001b[0m\u001b[0;34m:\u001b[0m\u001b[0;34m\u001b[0m\u001b[0;34m\u001b[0m\u001b[0m\n\u001b[0;32m-> 1022\u001b[0;31m             \u001b[0mprocess_layer\u001b[0m\u001b[0;34m(\u001b[0m\u001b[0mlayer_data\u001b[0m\u001b[0;34m)\u001b[0m\u001b[0;34m\u001b[0m\u001b[0;34m\u001b[0m\u001b[0m\n\u001b[0m\u001b[1;32m   1023\u001b[0m         \u001b[0;31m# Then we process nodes in order of layer depth.\u001b[0m\u001b[0;34m\u001b[0m\u001b[0;34m\u001b[0m\u001b[0;34m\u001b[0m\u001b[0m\n\u001b[1;32m   1024\u001b[0m         \u001b[0;31m# Nodes that cannot yet be processed (if the inbound node\u001b[0m\u001b[0;34m\u001b[0m\u001b[0;34m\u001b[0m\u001b[0;34m\u001b[0m\u001b[0m\n",
      "\u001b[0;32m~/anaconda3/envs/scrambler/lib/python3.7/site-packages/keras/engine/network.py\u001b[0m in \u001b[0;36mprocess_layer\u001b[0;34m(layer_data)\u001b[0m\n\u001b[1;32m   1006\u001b[0m \u001b[0;34m\u001b[0m\u001b[0m\n\u001b[1;32m   1007\u001b[0m             layer = deserialize_layer(layer_data,\n\u001b[0;32m-> 1008\u001b[0;31m                                       custom_objects=custom_objects)\n\u001b[0m\u001b[1;32m   1009\u001b[0m             \u001b[0mcreated_layers\u001b[0m\u001b[0;34m[\u001b[0m\u001b[0mlayer_name\u001b[0m\u001b[0;34m]\u001b[0m \u001b[0;34m=\u001b[0m \u001b[0mlayer\u001b[0m\u001b[0;34m\u001b[0m\u001b[0;34m\u001b[0m\u001b[0m\n\u001b[1;32m   1010\u001b[0m \u001b[0;34m\u001b[0m\u001b[0m\n",
      "\u001b[0;32m~/anaconda3/envs/scrambler/lib/python3.7/site-packages/keras/layers/__init__.py\u001b[0m in \u001b[0;36mdeserialize\u001b[0;34m(config, custom_objects)\u001b[0m\n\u001b[1;32m     53\u001b[0m                                     \u001b[0mmodule_objects\u001b[0m\u001b[0;34m=\u001b[0m\u001b[0mglobs\u001b[0m\u001b[0;34m,\u001b[0m\u001b[0;34m\u001b[0m\u001b[0;34m\u001b[0m\u001b[0m\n\u001b[1;32m     54\u001b[0m                                     \u001b[0mcustom_objects\u001b[0m\u001b[0;34m=\u001b[0m\u001b[0mcustom_objects\u001b[0m\u001b[0;34m,\u001b[0m\u001b[0;34m\u001b[0m\u001b[0;34m\u001b[0m\u001b[0m\n\u001b[0;32m---> 55\u001b[0;31m                                     printable_module_name='layer')\n\u001b[0m",
      "\u001b[0;32m~/anaconda3/envs/scrambler/lib/python3.7/site-packages/keras/utils/generic_utils.py\u001b[0m in \u001b[0;36mdeserialize_keras_object\u001b[0;34m(identifier, module_objects, custom_objects, printable_module_name)\u001b[0m\n\u001b[1;32m    143\u001b[0m                     \u001b[0mconfig\u001b[0m\u001b[0;34m[\u001b[0m\u001b[0;34m'config'\u001b[0m\u001b[0;34m]\u001b[0m\u001b[0;34m,\u001b[0m\u001b[0;34m\u001b[0m\u001b[0;34m\u001b[0m\u001b[0m\n\u001b[1;32m    144\u001b[0m                     custom_objects=dict(list(_GLOBAL_CUSTOM_OBJECTS.items()) +\n\u001b[0;32m--> 145\u001b[0;31m                                         list(custom_objects.items())))\n\u001b[0m\u001b[1;32m    146\u001b[0m             \u001b[0;32mwith\u001b[0m \u001b[0mCustomObjectScope\u001b[0m\u001b[0;34m(\u001b[0m\u001b[0mcustom_objects\u001b[0m\u001b[0;34m)\u001b[0m\u001b[0;34m:\u001b[0m\u001b[0;34m\u001b[0m\u001b[0;34m\u001b[0m\u001b[0m\n\u001b[1;32m    147\u001b[0m                 \u001b[0;32mreturn\u001b[0m \u001b[0mcls\u001b[0m\u001b[0;34m.\u001b[0m\u001b[0mfrom_config\u001b[0m\u001b[0;34m(\u001b[0m\u001b[0mconfig\u001b[0m\u001b[0;34m[\u001b[0m\u001b[0;34m'config'\u001b[0m\u001b[0;34m]\u001b[0m\u001b[0;34m)\u001b[0m\u001b[0;34m\u001b[0m\u001b[0;34m\u001b[0m\u001b[0m\n",
      "\u001b[0;32m~/anaconda3/envs/scrambler/lib/python3.7/site-packages/keras/layers/core.py\u001b[0m in \u001b[0;36mfrom_config\u001b[0;34m(cls, config, custom_objects)\u001b[0m\n\u001b[1;32m    762\u001b[0m         \u001b[0mconfig\u001b[0m\u001b[0;34m[\u001b[0m\u001b[0;34m'function'\u001b[0m\u001b[0;34m]\u001b[0m \u001b[0;34m=\u001b[0m \u001b[0mfunction\u001b[0m\u001b[0;34m\u001b[0m\u001b[0;34m\u001b[0m\u001b[0m\n\u001b[1;32m    763\u001b[0m         \u001b[0mconfig\u001b[0m\u001b[0;34m[\u001b[0m\u001b[0;34m'output_shape'\u001b[0m\u001b[0;34m]\u001b[0m \u001b[0;34m=\u001b[0m \u001b[0moutput_shape\u001b[0m\u001b[0;34m\u001b[0m\u001b[0;34m\u001b[0m\u001b[0m\n\u001b[0;32m--> 764\u001b[0;31m         \u001b[0;32mreturn\u001b[0m \u001b[0mcls\u001b[0m\u001b[0;34m(\u001b[0m\u001b[0;34m**\u001b[0m\u001b[0mconfig\u001b[0m\u001b[0;34m)\u001b[0m\u001b[0;34m\u001b[0m\u001b[0;34m\u001b[0m\u001b[0m\n\u001b[0m\u001b[1;32m    765\u001b[0m \u001b[0;34m\u001b[0m\u001b[0m\n\u001b[1;32m    766\u001b[0m \u001b[0;34m\u001b[0m\u001b[0m\n",
      "\u001b[0;32m~/anaconda3/envs/scrambler/lib/python3.7/site-packages/keras/legacy/interfaces.py\u001b[0m in \u001b[0;36mwrapper\u001b[0;34m(*args, **kwargs)\u001b[0m\n\u001b[1;32m     89\u001b[0m                 warnings.warn('Update your `' + object_name + '` call to the ' +\n\u001b[1;32m     90\u001b[0m                               'Keras 2 API: ' + signature, stacklevel=2)\n\u001b[0;32m---> 91\u001b[0;31m             \u001b[0;32mreturn\u001b[0m \u001b[0mfunc\u001b[0m\u001b[0;34m(\u001b[0m\u001b[0;34m*\u001b[0m\u001b[0margs\u001b[0m\u001b[0;34m,\u001b[0m \u001b[0;34m**\u001b[0m\u001b[0mkwargs\u001b[0m\u001b[0;34m)\u001b[0m\u001b[0;34m\u001b[0m\u001b[0;34m\u001b[0m\u001b[0m\n\u001b[0m\u001b[1;32m     92\u001b[0m         \u001b[0mwrapper\u001b[0m\u001b[0;34m.\u001b[0m\u001b[0m_original_function\u001b[0m \u001b[0;34m=\u001b[0m \u001b[0mfunc\u001b[0m\u001b[0;34m\u001b[0m\u001b[0;34m\u001b[0m\u001b[0m\n\u001b[1;32m     93\u001b[0m         \u001b[0;32mreturn\u001b[0m \u001b[0mwrapper\u001b[0m\u001b[0;34m\u001b[0m\u001b[0;34m\u001b[0m\u001b[0m\n",
      "\u001b[0;32m~/anaconda3/envs/scrambler/lib/python3.7/site-packages/keras/layers/core.py\u001b[0m in \u001b[0;36m__init__\u001b[0;34m(self, function, output_shape, mask, arguments, **kwargs)\u001b[0m\n\u001b[1;32m    624\u001b[0m     def __init__(self, function, output_shape=None,\n\u001b[1;32m    625\u001b[0m                  mask=None, arguments=None, **kwargs):\n\u001b[0;32m--> 626\u001b[0;31m         \u001b[0msuper\u001b[0m\u001b[0;34m(\u001b[0m\u001b[0mLambda\u001b[0m\u001b[0;34m,\u001b[0m \u001b[0mself\u001b[0m\u001b[0;34m)\u001b[0m\u001b[0;34m.\u001b[0m\u001b[0m__init__\u001b[0m\u001b[0;34m(\u001b[0m\u001b[0;34m**\u001b[0m\u001b[0mkwargs\u001b[0m\u001b[0;34m)\u001b[0m\u001b[0;34m\u001b[0m\u001b[0;34m\u001b[0m\u001b[0m\n\u001b[0m\u001b[1;32m    627\u001b[0m         \u001b[0mself\u001b[0m\u001b[0;34m.\u001b[0m\u001b[0mfunction\u001b[0m \u001b[0;34m=\u001b[0m \u001b[0mfunction\u001b[0m\u001b[0;34m\u001b[0m\u001b[0;34m\u001b[0m\u001b[0m\n\u001b[1;32m    628\u001b[0m         \u001b[0mself\u001b[0m\u001b[0;34m.\u001b[0m\u001b[0marguments\u001b[0m \u001b[0;34m=\u001b[0m \u001b[0marguments\u001b[0m \u001b[0;32mif\u001b[0m \u001b[0marguments\u001b[0m \u001b[0;32melse\u001b[0m \u001b[0;34m{\u001b[0m\u001b[0;34m}\u001b[0m\u001b[0;34m\u001b[0m\u001b[0;34m\u001b[0m\u001b[0m\n",
      "\u001b[0;32m~/anaconda3/envs/scrambler/lib/python3.7/site-packages/keras/engine/base_layer.py\u001b[0m in \u001b[0;36m__init__\u001b[0;34m(self, **kwargs)\u001b[0m\n\u001b[1;32m    126\u001b[0m         \u001b[0;32mfor\u001b[0m \u001b[0mkwarg\u001b[0m \u001b[0;32min\u001b[0m \u001b[0mkwargs\u001b[0m\u001b[0;34m:\u001b[0m\u001b[0;34m\u001b[0m\u001b[0;34m\u001b[0m\u001b[0m\n\u001b[1;32m    127\u001b[0m             \u001b[0;32mif\u001b[0m \u001b[0mkwarg\u001b[0m \u001b[0;32mnot\u001b[0m \u001b[0;32min\u001b[0m \u001b[0mallowed_kwargs\u001b[0m\u001b[0;34m:\u001b[0m\u001b[0;34m\u001b[0m\u001b[0;34m\u001b[0m\u001b[0m\n\u001b[0;32m--> 128\u001b[0;31m                 \u001b[0;32mraise\u001b[0m \u001b[0mTypeError\u001b[0m\u001b[0;34m(\u001b[0m\u001b[0;34m'Keyword argument not understood:'\u001b[0m\u001b[0;34m,\u001b[0m \u001b[0mkwarg\u001b[0m\u001b[0;34m)\u001b[0m\u001b[0;34m\u001b[0m\u001b[0;34m\u001b[0m\u001b[0m\n\u001b[0m\u001b[1;32m    129\u001b[0m         \u001b[0mname\u001b[0m \u001b[0;34m=\u001b[0m \u001b[0mkwargs\u001b[0m\u001b[0;34m.\u001b[0m\u001b[0mget\u001b[0m\u001b[0;34m(\u001b[0m\u001b[0;34m'name'\u001b[0m\u001b[0;34m)\u001b[0m\u001b[0;34m\u001b[0m\u001b[0;34m\u001b[0m\u001b[0m\n\u001b[1;32m    130\u001b[0m         \u001b[0;32mif\u001b[0m \u001b[0;32mnot\u001b[0m \u001b[0mname\u001b[0m\u001b[0;34m:\u001b[0m\u001b[0;34m\u001b[0m\u001b[0;34m\u001b[0m\u001b[0m\n",
      "\u001b[0;31mTypeError\u001b[0m: ('Keyword argument not understood:', 'module')"
     ]
    }
   ],
   "source": [
    "k_cnn_model.save(\"k_cnn.h5\")\n",
    "k_cnn_no_tf = keras.models.load_model(\"k_cnn.h5\")\n",
    "k_cnn_no_tf"
   ]
  },
  {
   "cell_type": "markdown",
   "metadata": {},
   "source": [
    "# Error! Can't reload tf.keras into Keras for CNNs\n",
    "I've tried tracing the reason for this and best I can tell, it's that ONNX creates a lamba layer for the CNN model when translating the `unsqueeze()` command from PyTorch to keras. However this lambda layer is defined, it works in tf.keras but not in regular keras."
   ]
  },
  {
   "cell_type": "code",
   "execution_count": 64,
   "metadata": {},
   "outputs": [
    {
     "name": "stdout",
     "output_type": "stream",
     "text": [
      "_________________________________________________________________\n",
      "Layer (type)                 Output Shape              Param #   \n",
      "=================================================================\n",
      "test_input (InputLayer)      (None, 8, 4)              0         \n",
      "_________________________________________________________________\n",
      "7 (Permute)                  (None, 4, 8)              0         \n",
      "_________________________________________________________________\n",
      "8 (Lambda)                   (None, 1, 4, 8)           0         \n",
      "_________________________________________________________________\n",
      "9 (Conv2D)                   (None, 31, 1, 6)          403       \n",
      "_________________________________________________________________\n",
      "10 (Activation)              (None, 31, 1, 6)          0         \n",
      "_________________________________________________________________\n",
      "11 (Reshape)                 (None, None)              0         \n",
      "_________________________________________________________________\n",
      "12_reshape (Reshape)         (None, 186)               0         \n",
      "_________________________________________________________________\n",
      "12 (Dense)                   (None, 10)                1870      \n",
      "_________________________________________________________________\n",
      "13 (Activation)              (None, 10)                0         \n",
      "_________________________________________________________________\n",
      "test_output (Dense)          (None, 1)                 11        \n",
      "=================================================================\n",
      "Total params: 2,284\n",
      "Trainable params: 2,284\n",
      "Non-trainable params: 0\n",
      "_________________________________________________________________\n"
     ]
    }
   ],
   "source": [
    "k_cnn_model.summary()"
   ]
  },
  {
   "cell_type": "code",
   "execution_count": 65,
   "metadata": {},
   "outputs": [
    {
     "data": {
      "text/plain": [
       "{'name': '8',\n",
       " 'class_name': 'Lambda',\n",
       " 'config': {'name': '8',\n",
       "  'trainable': True,\n",
       "  'dtype': 'float32',\n",
       "  'function': ('4wIAAAAAAAAAAwAAAAQAAABTAAAAcxoAAABkAWQCbABtAX0CAQB8AmoCoAN8AHwBoQJTACkDTukA\\nAAAAKQHaBWtlcmFzKQTaCnRlbnNvcmZsb3dyAgAAANoHYmFja2VuZNoLZXhwYW5kX2RpbXMpA9oB\\neNoEYXhpc3ICAAAAqQByCAAAAPpgL2hvbWUvZXdpbHNvbjYvYW5hY29uZGEzL2VudnMvc2NyYW1i\\nbGVyL2xpYi9weXRob24zLjcvc2l0ZS1wYWNrYWdlcy9vbm54MmtlcmFzL3Jlc2hhcGVfbGF5ZXJz\\nLnB52gx0YXJnZXRfbGF5ZXLhAAAAcwQAAAAAAQwB\\n',\n",
       "   (1,),\n",
       "   None),\n",
       "  'module': 'onnx2keras.reshape_layers',\n",
       "  'function_type': 'lambda',\n",
       "  'output_shape': None,\n",
       "  'output_shape_type': 'raw',\n",
       "  'output_shape_module': None,\n",
       "  'arguments': {}},\n",
       " 'inbound_nodes': [[['7', 0, 0, {}]]]}"
      ]
     },
     "execution_count": 65,
     "metadata": {},
     "output_type": "execute_result"
    }
   ],
   "source": [
    "# I think this is the layer causing issues\n",
    "k_cnn_model.get_config()['layers'][2]"
   ]
  },
  {
   "cell_type": "markdown",
   "metadata": {},
   "source": [
    "### ^^ keras doesn't know what a \"module\" is? Must be a tf.keras thing..."
   ]
  },
  {
   "cell_type": "markdown",
   "metadata": {},
   "source": [
    "# Other tried to convert tf.keras to Keras Model\n",
    "ONNX uses tf.keras, but scramblers uses Keras. We need to convert it before using in scramblers, but for CNNs, I can't seem to just use `keras.models.load_model()`... there's formatting incompatibility\n",
    "\n",
    "Things that did not work:\n",
    "* Just using tf.keras.Model in scramblers - broke in scrambler as above with the SGD error\n",
    "* Just recasting as a keras model - broke in scramblers\n",
    "  * `cnn_test = keras.models.Model(k_lin_d_model)`\n",
    "\n",
    "* saving and reloading from json or config file\n",
    "  * keras still doesn't know about 'module' \n",
    "  \n",
    "Current thing that is partially working to at least load into scramblers:\n",
    "1. make tf.keras model as json object\n",
    "2. Delete part of json that keras doesn't recognize\n",
    "  * `del json_['config']['layers'][2]['config']['module']`\n",
    "  * `del json_['config']['layers'][2]['config']['output_shape_module']`\n",
    "    * I believe these have to do with the Unsqueeze function that happens in the pytorch cnn... Not sure how to get this to work in keras\n",
    "3. convert to json string\n",
    "4. load into keras.Model\n",
    "5. save weights from tf.keras model\n",
    "6. load weights into keras.Model\n",
    "\n",
    "This seems to preserve the predictions still and can go into scramblers, but then it breaks at scrambler prediction time with dimension mismatches. And thus I'm stuck again.\n",
    "\n"
   ]
  },
  {
   "cell_type": "markdown",
   "metadata": {},
   "source": [
    "### Demo of json manual deletions"
   ]
  },
  {
   "cell_type": "code",
   "execution_count": 66,
   "metadata": {},
   "outputs": [],
   "source": [
    "import json"
   ]
  },
  {
   "cell_type": "code",
   "execution_count": 67,
   "metadata": {
    "scrolled": false
   },
   "outputs": [],
   "source": [
    "kjson = k_cnn_model.to_json()\n",
    "json_obj = json.loads(kjson)"
   ]
  },
  {
   "cell_type": "code",
   "execution_count": 68,
   "metadata": {},
   "outputs": [
    {
     "data": {
      "text/plain": [
       "{'name': '8',\n",
       " 'trainable': True,\n",
       " 'dtype': 'float32',\n",
       " 'function': ['4wIAAAAAAAAAAwAAAAQAAABTAAAAcxoAAABkAWQCbABtAX0CAQB8AmoCoAN8AHwBoQJTACkDTukA\\nAAAAKQHaBWtlcmFzKQTaCnRlbnNvcmZsb3dyAgAAANoHYmFja2VuZNoLZXhwYW5kX2RpbXMpA9oB\\neNoEYXhpc3ICAAAAqQByCAAAAPpgL2hvbWUvZXdpbHNvbjYvYW5hY29uZGEzL2VudnMvc2NyYW1i\\nbGVyL2xpYi9weXRob24zLjcvc2l0ZS1wYWNrYWdlcy9vbm54MmtlcmFzL3Jlc2hhcGVfbGF5ZXJz\\nLnB52gx0YXJnZXRfbGF5ZXLhAAAAcwQAAAAAAQwB\\n',\n",
       "  [1],\n",
       "  None],\n",
       " 'module': 'onnx2keras.reshape_layers',\n",
       " 'function_type': 'lambda',\n",
       " 'output_shape': None,\n",
       " 'output_shape_type': 'raw',\n",
       " 'output_shape_module': None,\n",
       " 'arguments': {}}"
      ]
     },
     "execution_count": 68,
     "metadata": {},
     "output_type": "execute_result"
    }
   ],
   "source": [
    "json_obj['config']['layers'][2]['config']"
   ]
  },
  {
   "cell_type": "code",
   "execution_count": 69,
   "metadata": {},
   "outputs": [
    {
     "data": {
      "text/plain": [
       "{'name': '8',\n",
       " 'trainable': True,\n",
       " 'dtype': 'float32',\n",
       " 'function': ['4wIAAAAAAAAAAwAAAAQAAABTAAAAcxoAAABkAWQCbABtAX0CAQB8AmoCoAN8AHwBoQJTACkDTukA\\nAAAAKQHaBWtlcmFzKQTaCnRlbnNvcmZsb3dyAgAAANoHYmFja2VuZNoLZXhwYW5kX2RpbXMpA9oB\\neNoEYXhpc3ICAAAAqQByCAAAAPpgL2hvbWUvZXdpbHNvbjYvYW5hY29uZGEzL2VudnMvc2NyYW1i\\nbGVyL2xpYi9weXRob24zLjcvc2l0ZS1wYWNrYWdlcy9vbm54MmtlcmFzL3Jlc2hhcGVfbGF5ZXJz\\nLnB52gx0YXJnZXRfbGF5ZXLhAAAAcwQAAAAAAQwB\\n',\n",
       "  [1],\n",
       "  None],\n",
       " 'function_type': 'lambda',\n",
       " 'output_shape': None,\n",
       " 'output_shape_type': 'raw',\n",
       " 'arguments': {}}"
      ]
     },
     "execution_count": 69,
     "metadata": {},
     "output_type": "execute_result"
    }
   ],
   "source": [
    "# deleting things that seem to be unsupported by keras but are created in tf.keras\n",
    "del json_obj['config']['layers'][2]['config']['module']\n",
    "del json_obj['config']['layers'][2]['config']['output_shape_module']\n",
    "\n",
    "# json object with problem \"module\" lines deleted\n",
    "json_obj['config']['layers'][2]['config']"
   ]
  },
  {
   "cell_type": "code",
   "execution_count": 70,
   "metadata": {
    "scrolled": false
   },
   "outputs": [
    {
     "data": {
      "text/plain": [
       "{'class_name': 'Model',\n",
       " 'config': {'name': 'model_1',\n",
       "  'layers': [{'name': 'test_input',\n",
       "    'class_name': 'InputLayer',\n",
       "    'config': {'batch_input_shape': [None, 8, 4],\n",
       "     'dtype': 'float32',\n",
       "     'sparse': False,\n",
       "     'name': 'test_input'},\n",
       "    'inbound_nodes': []},\n",
       "   {'name': '7',\n",
       "    'class_name': 'Permute',\n",
       "    'config': {'name': '7',\n",
       "     'trainable': True,\n",
       "     'dtype': 'float32',\n",
       "     'dims': [2, 1]},\n",
       "    'inbound_nodes': [[['test_input', 0, 0, {}]]]},\n",
       "   {'name': '8',\n",
       "    'class_name': 'Lambda',\n",
       "    'config': {'name': '8',\n",
       "     'trainable': True,\n",
       "     'dtype': 'float32',\n",
       "     'function': ['4wIAAAAAAAAAAwAAAAQAAABTAAAAcxoAAABkAWQCbABtAX0CAQB8AmoCoAN8AHwBoQJTACkDTukA\\nAAAAKQHaBWtlcmFzKQTaCnRlbnNvcmZsb3dyAgAAANoHYmFja2VuZNoLZXhwYW5kX2RpbXMpA9oB\\neNoEYXhpc3ICAAAAqQByCAAAAPpgL2hvbWUvZXdpbHNvbjYvYW5hY29uZGEzL2VudnMvc2NyYW1i\\nbGVyL2xpYi9weXRob24zLjcvc2l0ZS1wYWNrYWdlcy9vbm54MmtlcmFzL3Jlc2hhcGVfbGF5ZXJz\\nLnB52gx0YXJnZXRfbGF5ZXLhAAAAcwQAAAAAAQwB\\n',\n",
       "      [1],\n",
       "      None],\n",
       "     'function_type': 'lambda',\n",
       "     'output_shape': None,\n",
       "     'output_shape_type': 'raw',\n",
       "     'arguments': {}},\n",
       "    'inbound_nodes': [[['7', 0, 0, {}]]]},\n",
       "   {'name': '9',\n",
       "    'class_name': 'Conv2D',\n",
       "    'config': {'name': '9',\n",
       "     'trainable': True,\n",
       "     'dtype': 'float32',\n",
       "     'filters': 31,\n",
       "     'kernel_size': [4, 3],\n",
       "     'strides': [1, 1],\n",
       "     'padding': 'valid',\n",
       "     'data_format': 'channels_first',\n",
       "     'dilation_rate': [1, 1],\n",
       "     'activation': 'linear',\n",
       "     'use_bias': True,\n",
       "     'kernel_initializer': {'class_name': 'Zeros',\n",
       "      'config': {'dtype': 'float32'}},\n",
       "     'bias_initializer': {'class_name': 'Zeros',\n",
       "      'config': {'dtype': 'float32'}},\n",
       "     'kernel_regularizer': None,\n",
       "     'bias_regularizer': None,\n",
       "     'activity_regularizer': None,\n",
       "     'kernel_constraint': None,\n",
       "     'bias_constraint': None},\n",
       "    'inbound_nodes': [[['8', 0, 0, {}]]]},\n",
       "   {'name': '10',\n",
       "    'class_name': 'Activation',\n",
       "    'config': {'name': '10',\n",
       "     'trainable': True,\n",
       "     'dtype': 'float32',\n",
       "     'activation': 'relu'},\n",
       "    'inbound_nodes': [[['9', 0, 0, {}]]]},\n",
       "   {'name': '11',\n",
       "    'class_name': 'Reshape',\n",
       "    'config': {'name': '11',\n",
       "     'trainable': True,\n",
       "     'dtype': 'float32',\n",
       "     'target_shape': [-1]},\n",
       "    'inbound_nodes': [[['10', 0, 0, {}]]]},\n",
       "   {'name': '12_reshape',\n",
       "    'class_name': 'Reshape',\n",
       "    'config': {'name': '12_reshape',\n",
       "     'trainable': True,\n",
       "     'dtype': 'float32',\n",
       "     'target_shape': [186]},\n",
       "    'inbound_nodes': [[['11', 0, 0, {}]]]},\n",
       "   {'name': '12',\n",
       "    'class_name': 'Dense',\n",
       "    'config': {'name': '12',\n",
       "     'trainable': True,\n",
       "     'dtype': 'float32',\n",
       "     'units': 10,\n",
       "     'activation': 'linear',\n",
       "     'use_bias': True,\n",
       "     'kernel_initializer': {'class_name': 'Zeros',\n",
       "      'config': {'dtype': 'float32'}},\n",
       "     'bias_initializer': {'class_name': 'Zeros',\n",
       "      'config': {'dtype': 'float32'}},\n",
       "     'kernel_regularizer': None,\n",
       "     'bias_regularizer': None,\n",
       "     'activity_regularizer': None,\n",
       "     'kernel_constraint': None,\n",
       "     'bias_constraint': None},\n",
       "    'inbound_nodes': [[['12_reshape', 0, 0, {}]]]},\n",
       "   {'name': '13',\n",
       "    'class_name': 'Activation',\n",
       "    'config': {'name': '13',\n",
       "     'trainable': True,\n",
       "     'dtype': 'float32',\n",
       "     'activation': 'relu'},\n",
       "    'inbound_nodes': [[['12', 0, 0, {}]]]},\n",
       "   {'name': 'test_output',\n",
       "    'class_name': 'Dense',\n",
       "    'config': {'name': 'test_output',\n",
       "     'trainable': True,\n",
       "     'dtype': 'float32',\n",
       "     'units': 1,\n",
       "     'activation': 'linear',\n",
       "     'use_bias': True,\n",
       "     'kernel_initializer': {'class_name': 'Zeros',\n",
       "      'config': {'dtype': 'float32'}},\n",
       "     'bias_initializer': {'class_name': 'Zeros',\n",
       "      'config': {'dtype': 'float32'}},\n",
       "     'kernel_regularizer': None,\n",
       "     'bias_regularizer': None,\n",
       "     'activity_regularizer': None,\n",
       "     'kernel_constraint': None,\n",
       "     'bias_constraint': None},\n",
       "    'inbound_nodes': [[['13', 0, 0, {}]]]}],\n",
       "  'input_layers': [['test_input', 0, 0]],\n",
       "  'output_layers': [['test_output', 0, 0]]},\n",
       " 'keras_version': '2.2.4-tf',\n",
       " 'backend': 'tensorflow'}"
      ]
     },
     "execution_count": 70,
     "metadata": {},
     "output_type": "execute_result"
    }
   ],
   "source": [
    "#Full JSON object:\n",
    "json_obj"
   ]
  },
  {
   "cell_type": "code",
   "execution_count": 71,
   "metadata": {},
   "outputs": [
    {
     "data": {
      "text/plain": [
       "<keras.engine.training.Model at 0x7f62c2d13ed0>"
      ]
     },
     "execution_count": 71,
     "metadata": {},
     "output_type": "execute_result"
    }
   ],
   "source": [
    "# convert json to string and load into keras\n",
    "json_str = json.dumps(json_obj)\n",
    "jtest = keras.models.model_from_json(json_str)\n",
    "jtest"
   ]
  },
  {
   "cell_type": "code",
   "execution_count": 72,
   "metadata": {},
   "outputs": [
    {
     "name": "stdout",
     "output_type": "stream",
     "text": [
      "_________________________________________________________________\n",
      "Layer (type)                 Output Shape              Param #   \n",
      "=================================================================\n",
      "test_input (InputLayer)      (None, 8, 4)              0         \n",
      "_________________________________________________________________\n",
      "7 (Permute)                  (None, 4, 8)              0         \n",
      "_________________________________________________________________\n",
      "8 (Lambda)                   (None, 1, 4, 8)           0         \n",
      "_________________________________________________________________\n",
      "9 (Conv2D)                   (None, 31, 1, 6)          403       \n",
      "_________________________________________________________________\n",
      "10 (Activation)              (None, 31, 1, 6)          0         \n",
      "_________________________________________________________________\n",
      "11 (Reshape)                 (None, 186)               0         \n",
      "_________________________________________________________________\n",
      "12_reshape (Reshape)         (None, 186)               0         \n",
      "_________________________________________________________________\n",
      "12 (Dense)                   (None, 10)                1870      \n",
      "_________________________________________________________________\n",
      "13 (Activation)              (None, 10)                0         \n",
      "_________________________________________________________________\n",
      "test_output (Dense)          (None, 1)                 11        \n",
      "=================================================================\n",
      "Total params: 2,284\n",
      "Trainable params: 2,284\n",
      "Non-trainable params: 0\n",
      "_________________________________________________________________\n"
     ]
    }
   ],
   "source": [
    "jtest.summary()"
   ]
  },
  {
   "cell_type": "markdown",
   "metadata": {},
   "source": [
    "### But wait! the newly loaded keras model doesn't have weights! \n",
    "Need to add from the tf.keras model?"
   ]
  },
  {
   "cell_type": "code",
   "execution_count": 73,
   "metadata": {
    "scrolled": false
   },
   "outputs": [
    {
     "name": "stdout",
     "output_type": "stream",
     "text": [
      "Before: [array([[[[0., 0., 0., 0., 0., 0., 0., 0., 0., 0., 0., 0., 0., 0., 0.,\n",
      "          0., 0., 0., 0., 0., 0., 0., 0., 0., 0., 0., 0., 0., 0., 0.,\n",
      "          0.]],\n",
      "\n",
      "        [[0., 0., 0., 0., 0., 0., 0., 0., 0., 0., 0., 0., 0., 0., 0.,\n",
      "          0., 0., 0., 0., 0., 0., 0., 0., 0., 0., 0., 0., 0., 0., 0.,\n",
      "          0.]],\n",
      "\n",
      "        [[0., 0., 0., 0., 0., 0., 0., 0., 0., 0., 0., 0., 0., 0., 0.,\n",
      "          0., 0., 0., 0., 0., 0., 0., 0., 0., 0., 0., 0., 0., 0., 0.,\n",
      "          0.]]],\n",
      "\n",
      "\n",
      "       [[[0., 0., 0., 0., 0., 0., 0., 0., 0., 0., 0., 0., 0., 0., 0.,\n",
      "          0., 0., 0., 0., 0., 0., 0., 0., 0., 0., 0., 0., 0., 0., 0.,\n",
      "          0.]],\n",
      "\n",
      "        [[0., 0., 0., 0., 0., 0., 0., 0., 0., 0., 0., 0., 0., 0., 0.,\n",
      "          0., 0., 0., 0., 0., 0., 0., 0., 0., 0., 0., 0., 0., 0., 0.,\n",
      "          0.]],\n",
      "\n",
      "        [[0., 0., 0., 0., 0., 0., 0., 0., 0., 0., 0., 0., 0., 0., 0.,\n",
      "          0., 0., 0., 0., 0., 0., 0., 0., 0., 0., 0., 0., 0., 0., 0.,\n",
      "          0.]]],\n",
      "\n",
      "\n",
      "       [[[0., 0., 0., 0., 0., 0., 0., 0., 0., 0., 0., 0., 0., 0., 0.,\n",
      "          0., 0., 0., 0., 0., 0., 0., 0., 0., 0., 0., 0., 0., 0., 0.,\n",
      "          0.]],\n",
      "\n",
      "        [[0., 0., 0., 0., 0., 0., 0., 0., 0., 0., 0., 0., 0., 0., 0.,\n",
      "          0., 0., 0., 0., 0., 0., 0., 0., 0., 0., 0., 0., 0., 0., 0.,\n",
      "          0.]],\n",
      "\n",
      "        [[0., 0., 0., 0., 0., 0., 0., 0., 0., 0., 0., 0., 0., 0., 0.,\n",
      "          0., 0., 0., 0., 0., 0., 0., 0., 0., 0., 0., 0., 0., 0., 0.,\n",
      "          0.]]],\n",
      "\n",
      "\n",
      "       [[[0., 0., 0., 0., 0., 0., 0., 0., 0., 0., 0., 0., 0., 0., 0.,\n",
      "          0., 0., 0., 0., 0., 0., 0., 0., 0., 0., 0., 0., 0., 0., 0.,\n",
      "          0.]],\n",
      "\n",
      "        [[0., 0., 0., 0., 0., 0., 0., 0., 0., 0., 0., 0., 0., 0., 0.,\n",
      "          0., 0., 0., 0., 0., 0., 0., 0., 0., 0., 0., 0., 0., 0., 0.,\n",
      "          0.]],\n",
      "\n",
      "        [[0., 0., 0., 0., 0., 0., 0., 0., 0., 0., 0., 0., 0., 0., 0.,\n",
      "          0., 0., 0., 0., 0., 0., 0., 0., 0., 0., 0., 0., 0., 0., 0.,\n",
      "          0.]]]], dtype=float32), array([0., 0., 0., 0., 0., 0., 0., 0., 0., 0., 0., 0., 0., 0., 0., 0., 0.,\n",
      "       0., 0., 0., 0., 0., 0., 0., 0., 0., 0., 0., 0., 0., 0.],\n",
      "      dtype=float32), array([[0., 0., 0., ..., 0., 0., 0.],\n",
      "       [0., 0., 0., ..., 0., 0., 0.],\n",
      "       [0., 0., 0., ..., 0., 0., 0.],\n",
      "       ...,\n",
      "       [0., 0., 0., ..., 0., 0., 0.],\n",
      "       [0., 0., 0., ..., 0., 0., 0.],\n",
      "       [0., 0., 0., ..., 0., 0., 0.]], dtype=float32), array([0., 0., 0., 0., 0., 0., 0., 0., 0., 0.], dtype=float32), array([[0.],\n",
      "       [0.],\n",
      "       [0.],\n",
      "       [0.],\n",
      "       [0.],\n",
      "       [0.],\n",
      "       [0.],\n",
      "       [0.],\n",
      "       [0.],\n",
      "       [0.]], dtype=float32), array([0.], dtype=float32)]\n",
      "After: [array([[[[-9.59628671e-02,  5.29986680e-01,  7.49627175e-03,\n",
      "          -3.82844299e-01, -3.89545448e-02, -5.53636312e-01,\n",
      "           1.19909751e+00, -5.32325320e-02, -3.53608638e-01,\n",
      "           2.52613574e-01,  2.40943030e-01, -1.45821035e+00,\n",
      "          -4.82588261e-01, -8.90664384e-02, -2.65094817e-01,\n",
      "          -2.76234895e-01, -3.50903362e-01, -4.14779544e-01,\n",
      "          -6.99558735e-01, -7.17829525e-01,  1.15437470e-01,\n",
      "           7.67414644e-02, -1.55833140e-01,  3.19154859e-02,\n",
      "          -3.00014406e-01, -8.42077881e-02, -2.00192034e-01,\n",
      "           1.16653271e-01,  6.52299821e-01, -4.93265688e-01,\n",
      "          -6.78535774e-02]],\n",
      "\n",
      "        [[-1.35376230e-01, -9.29278791e-01, -1.80336252e-01,\n",
      "          -4.06814367e-02, -5.61018765e-01, -2.30183378e-01,\n",
      "          -6.00413322e-01, -3.23885679e-01, -3.51887077e-01,\n",
      "           9.18267906e-01, -4.38511431e-01, -1.37068212e+00,\n",
      "          -1.40528664e-01, -1.92620695e-01, -2.31885120e-01,\n",
      "          -1.78947136e-01, -6.56181216e-01, -6.36117160e-02,\n",
      "          -1.39820918e-01,  1.35872245e+00, -3.33214134e-01,\n",
      "          -2.31915221e-01,  3.02596897e-01, -2.64685839e-01,\n",
      "          -3.16534251e-01, -6.21483289e-02,  2.96492279e-01,\n",
      "           1.02707636e+00,  2.58176208e-01, -1.17941953e-01,\n",
      "          -1.12145133e-01]],\n",
      "\n",
      "        [[-2.91031480e-01,  1.20542467e+00, -5.20459972e-02,\n",
      "          -3.45971584e-01, -8.62669572e-02, -3.77115220e-01,\n",
      "          -1.44589618e-01,  1.53448209e-01, -2.06247404e-01,\n",
      "          -5.01123011e-01,  4.71812218e-01, -1.30606902e+00,\n",
      "          -5.26897132e-01, -2.47317433e-01, -1.93497688e-01,\n",
      "          -3.13089997e-01, -2.53189445e-01,  1.32559687e-01,\n",
      "          -7.66672730e-01,  2.72405446e-01,  1.34356126e-01,\n",
      "           9.43627134e-02, -3.59400809e-01, -1.54676512e-01,\n",
      "          -3.48174199e-02, -2.56752186e-02,  1.20212927e-01,\n",
      "          -5.54070532e-01,  1.76214874e-01, -2.28375837e-01,\n",
      "          -6.37925118e-02]]],\n",
      "\n",
      "\n",
      "       [[[-1.48186207e-01, -4.37748820e-01, -3.18263859e-01,\n",
      "          -4.56962436e-01, -7.32928738e-02, -1.90745220e-01,\n",
      "          -4.63354200e-01, -4.14102823e-01, -5.50779998e-01,\n",
      "           2.56478429e-01,  3.74577880e-01, -1.45765972e+00,\n",
      "          -2.57509530e-01, -5.28333485e-01, -2.31827006e-01,\n",
      "          -2.97332227e-01, -3.22074860e-01, -2.09439665e-01,\n",
      "           6.42734766e-02, -7.44181812e-01, -1.22784816e-01,\n",
      "           5.83647862e-02, -3.02435249e-01,  8.61358196e-02,\n",
      "          -8.55582729e-02,  1.44066840e-01,  2.09414989e-01,\n",
      "           1.13425463e-01, -2.27276728e-01,  7.99442083e-02,\n",
      "          -2.23156244e-01]],\n",
      "\n",
      "        [[-2.39277810e-01, -9.28616941e-01, -5.04448116e-01,\n",
      "          -3.39903235e-01, -1.36335537e-01, -1.31249815e-01,\n",
      "          -5.89818239e-01,  2.55919285e-02, -4.13938254e-01,\n",
      "          -7.72485673e-01,  1.06565349e-01,  1.76715362e+00,\n",
      "          -2.61924595e-01, -1.76535100e-01, -2.68047154e-01,\n",
      "          -4.12643284e-01,  2.55163193e-01, -2.28870839e-01,\n",
      "           2.33630151e-01, -5.73098600e-01, -1.50664523e-02,\n",
      "           1.40026417e-02, -2.45372176e-01, -1.06775381e-01,\n",
      "          -4.08972561e-01, -2.03888379e-02, -2.94347912e-01,\n",
      "          -3.55750144e-01, -9.55485851e-02, -1.96371108e-01,\n",
      "          -3.00276160e-01]],\n",
      "\n",
      "        [[-6.20047927e-01, -7.80453444e-01, -1.74079761e-01,\n",
      "          -4.44566131e-01, -3.57285649e-01, -6.29906714e-01,\n",
      "          -1.44900158e-01, -1.71643868e-01, -4.12114561e-01,\n",
      "          -4.84831244e-01, -1.41177028e-02, -1.30589974e+00,\n",
      "          -2.50700474e-01, -1.98866978e-01, -8.81080106e-02,\n",
      "          -9.45219696e-02, -1.58045709e-01,  6.23542331e-02,\n",
      "          -3.59926134e-01,  2.74670631e-01,  6.92937747e-02,\n",
      "          -8.92635807e-02,  4.93067317e-02, -2.17412636e-01,\n",
      "           2.08984688e-02, -3.08467329e-01,  1.75955519e-03,\n",
      "          -5.56187570e-01,  1.75255328e-01, -2.50540882e-01,\n",
      "          -2.31616110e-01]]],\n",
      "\n",
      "\n",
      "       [[[-5.96668899e-01, -4.38783169e-01,  2.65507661e-02,\n",
      "          -1.66141614e-01, -3.00834745e-01, -2.78071433e-01,\n",
      "          -4.66395378e-01, -1.19318858e-01, -2.32726205e-02,\n",
      "           2.43388176e-01, -1.07713476e-01,  1.67978382e+00,\n",
      "          -3.02515060e-01, -3.31408143e-01, -6.73722774e-02,\n",
      "          -1.03071623e-01, -3.41266125e-01, -3.86630982e-01,\n",
      "           5.16038954e-01, -6.56361163e-01, -2.48684332e-01,\n",
      "          -7.26377442e-02,  4.77975085e-02, -2.72334993e-01,\n",
      "          -9.13115516e-02,  6.57946542e-02, -7.85136689e-03,\n",
      "           1.28325164e-01, -1.49839759e-01, -2.65861601e-01,\n",
      "          -2.80621290e-01]],\n",
      "\n",
      "        [[-2.53330588e-01, -9.39319372e-01, -3.24654400e-01,\n",
      "          -5.98159730e-02, -2.53040045e-01, -3.20616424e-01,\n",
      "          -6.03382707e-01, -7.96936303e-02, -4.17435497e-01,\n",
      "          -5.69616735e-01,  9.84856784e-02, -1.37195647e+00,\n",
      "          -5.04800916e-01, -7.96710253e-02, -3.81121278e-01,\n",
      "          -2.59661734e-01,  2.54262745e-01, -3.21095169e-01,\n",
      "           2.37963155e-01, -5.61446488e-01, -1.89885534e-02,\n",
      "          -3.42626840e-01, -2.45028988e-01,  1.23932108e-01,\n",
      "          -3.27741474e-01, -2.89573759e-01, -2.37671435e-01,\n",
      "          -4.13559586e-01, -9.46720541e-02, -2.03054041e-01,\n",
      "           2.42209658e-02]],\n",
      "\n",
      "        [[-5.47961712e-01, -7.82395542e-01, -2.91933507e-01,\n",
      "           5.46696559e-02, -2.89724357e-02, -2.90905118e-01,\n",
      "          -1.41469255e-01, -1.08006053e-01, -3.32919776e-01,\n",
      "          -4.89316672e-01, -1.78672105e-01,  1.83191085e+00,\n",
      "          -3.82904440e-01, -2.43977308e-01, -3.00151825e-01,\n",
      "           9.20932218e-02, -1.78268831e-03, -2.52651364e-01,\n",
      "           9.39428508e-02,  2.76130885e-01, -5.92705868e-02,\n",
      "           6.67308718e-02,  1.89791352e-01, -9.27272663e-02,\n",
      "          -2.56708004e-02,  1.39766380e-01, -4.27261693e-04,\n",
      "          -5.49961507e-01, -9.57590938e-02,  4.85541970e-01,\n",
      "          -1.03119589e-01]]],\n",
      "\n",
      "\n",
      "       [[[-1.15591243e-01, -4.38342154e-01, -1.79492518e-01,\n",
      "          -1.61745623e-02, -2.27226406e-01,  6.71282858e-02,\n",
      "          -4.71219927e-01, -2.46340543e-01, -3.06440204e-01,\n",
      "          -1.22950828e+00, -1.84318513e-01, -1.45846105e+00,\n",
      "          -1.24486573e-01, -7.69251585e-02, -2.73791790e-01,\n",
      "           7.45528787e-02,  5.54892778e-01, -8.16466287e-02,\n",
      "           3.39606926e-02,  1.24044061e+00, -2.06311166e-01,\n",
      "          -1.46694288e-01,  1.33424938e-01,  3.00568920e-02,\n",
      "          -4.26960409e-01,  9.64397416e-02, -4.57219273e-01,\n",
      "          -1.25361419e+00, -2.58681715e-01,  7.02910572e-02,\n",
      "           1.74128488e-01]],\n",
      "\n",
      "        [[-2.68853158e-01,  2.07872772e+00, -1.22339189e-01,\n",
      "           2.86730789e-02, -1.55024707e-01, -1.11395322e-01,\n",
      "           1.07149053e+00, -1.66766927e-01,  6.22451268e-02,\n",
      "          -6.88252509e-01,  9.11307260e-02, -1.37108624e+00,\n",
      "           4.89909062e-03, -2.25098193e-01,  2.55643688e-02,\n",
      "           4.09147404e-02,  2.59535730e-01, -1.75798252e-01,\n",
      "           2.50585467e-01, -5.89424670e-01, -2.38780856e-01,\n",
      "          -2.56925315e-01, -2.50198841e-01, -4.79038358e-02,\n",
      "          -2.81701624e-01,  1.64616346e-01, -2.96199948e-01,\n",
      "          -4.27524894e-01,  1.18975081e-01, -2.10741222e-01,\n",
      "           1.42190233e-01]],\n",
      "\n",
      "        [[-3.72578144e-01, -7.81551003e-01, -4.94158238e-01,\n",
      "          -2.06389382e-01, -1.64631709e-01, -5.04021585e-01,\n",
      "          -1.40461579e-01, -2.57748783e-01, -8.27850848e-02,\n",
      "           9.98320758e-01, -4.57303047e-01, -1.30539358e+00,\n",
      "          -2.62393415e-01, -9.32599828e-02, -1.13873556e-01,\n",
      "          -2.40102261e-01,  1.86617196e-01, -3.69850397e-02,\n",
      "           5.38524628e-01, -1.63177764e+00, -2.63278574e-01,\n",
      "          -2.73020834e-01, -3.41375649e-01,  5.24321236e-02,\n",
      "          -1.16659485e-01, -2.70508468e-01, -4.29664880e-01,\n",
      "           8.33913207e-01, -4.00159568e-01, -1.57772854e-01,\n",
      "          -2.91583329e-01]]]], dtype=float32), array([-0.973751  , -0.8643912 , -0.8366632 , -0.45850903, -0.8585296 ,\n",
      "       -1.2252909 , -0.48260203, -0.44792715, -0.758865  , -0.6968824 ,\n",
      "       -0.03272578, -2.154457  , -1.3215554 , -0.60138434, -0.3582811 ,\n",
      "       -0.3885182 , -0.25740063, -0.5231967 , -0.34616426, -0.9862552 ,\n",
      "       -0.45519277, -0.73788345, -0.08197508, -0.35312834, -0.9208684 ,\n",
      "       -0.4454743 , -0.09293511, -0.6152186 , -0.17781666, -0.01760638,\n",
      "       -0.25274107], dtype=float32), array([[-0.0194146 , -0.02398031, -0.0855846 , ..., -0.20965748,\n",
      "        -0.47012106, -0.00221313],\n",
      "       [ 0.03283715, -0.00303704, -0.09304332, ..., -0.26353422,\n",
      "        -0.44917074, -0.03202469],\n",
      "       [-0.0284284 , -0.00187174, -0.01692714, ..., -0.27878544,\n",
      "        -0.42558435,  0.04634441],\n",
      "       ...,\n",
      "       [ 0.02053535, -0.06547303,  0.00899314, ..., -0.12557669,\n",
      "        -0.0738977 ,  0.02996761],\n",
      "       [ 0.05206828, -0.17764561, -0.09487035, ..., -0.01753927,\n",
      "         0.11334116,  0.01582388],\n",
      "       [ 0.02807251,  0.02504458, -0.05372161, ..., -0.07137761,\n",
      "        -0.12734479,  0.01819244]], dtype=float32), array([-0.36200792,  3.5553205 , -0.10837755,  0.5631347 , -0.2952787 ,\n",
      "       -0.14770553,  0.23092224, -0.1324638 , -0.22459288,  0.26154226],\n",
      "      dtype=float32), array([[-2.656669  ],\n",
      "       [-2.9913764 ],\n",
      "       [-1.1054053 ],\n",
      "       [-0.56676906],\n",
      "       [-2.7034671 ],\n",
      "       [-0.2634026 ],\n",
      "       [-0.64909774],\n",
      "       [-2.0039911 ],\n",
      "       [-3.0391257 ],\n",
      "       [-0.19881438]], dtype=float32), array([26.796658], dtype=float32)]\n"
     ]
    }
   ],
   "source": [
    "# load weights into empty jtest\n",
    "print(\"Before:\",jtest.get_weights())\n",
    "k_cnn_model.save_weights('k_cnn_model_weights.h5')\n",
    "jtest.load_weights('k_cnn_model_weights.h5')\n",
    "print(\"After:\",jtest.get_weights())\n"
   ]
  },
  {
   "cell_type": "markdown",
   "metadata": {},
   "source": [
    "### Quick check to make sure previous tf.keras model makes the same predictions as the newly weight-loaded `jtest`"
   ]
  },
  {
   "cell_type": "code",
   "execution_count": 74,
   "metadata": {},
   "outputs": [
    {
     "name": "stdout",
     "output_type": "stream",
     "text": [
      "<tensorflow.python.keras.engine.training.Model object at 0x7f665526ced0>\n",
      "<keras.engine.training.Model object at 0x7f62c2d13ed0>\n"
     ]
    }
   ],
   "source": [
    "print(k_cnn_model)\n",
    "print(jtest)"
   ]
  },
  {
   "cell_type": "code",
   "execution_count": 76,
   "metadata": {},
   "outputs": [
    {
     "data": {
      "text/plain": [
       "(52416, 1, 8, 4)"
      ]
     },
     "execution_count": 76,
     "metadata": {},
     "output_type": "execute_result"
    }
   ],
   "source": [
    "x_train.shape"
   ]
  },
  {
   "cell_type": "code",
   "execution_count": null,
   "metadata": {},
   "outputs": [],
   "source": []
  },
  {
   "cell_type": "code",
   "execution_count": null,
   "metadata": {},
   "outputs": [],
   "source": []
  },
  {
   "cell_type": "code",
   "execution_count": 77,
   "metadata": {},
   "outputs": [
    {
     "name": "stdout",
     "output_type": "stream",
     "text": [
      "AAAAAAAA: tf.keras: [[19.869024]]  reg keras: [[19.869024]]\n",
      "TTTTTTTT: tf.keras: [[10.894265]]  reg keras: [[10.894265]]\n",
      "CCCCCCCC: tf.keras: [[16.986248]]  reg keras: [[16.986248]]\n",
      "GGGGGGGG: tf.keras: [[13.9833]]  reg keras: [[13.9833]]\n",
      "GGGTATGG: tf.keras: [[24.005997]]  reg keras: [[24.005997]]\n",
      "AAGCGAAA: tf.keras: [[8.172533]]  reg keras: [[8.172531]]\n"
     ]
    }
   ],
   "source": [
    "ohe_seqs = [u.one_hot_encode(x) for x in seqs]\n",
    "ohe_seqs = [torch.from_numpy(x).unsqueeze(0).float() for x in ohe_seqs]\n",
    "\n",
    "for i in range(len(seqs)):\n",
    "    seq = seqs[i]\n",
    "    ohe_seq = ohe_seqs[i]\n",
    "    seq_k = np.array(ohe_seq)\n",
    "\n",
    "    res2 = k_cnn_model.predict(seq_k)\n",
    "    res3 = jtest.predict(seq_k)\n",
    "    print(f\"{seq}: tf.keras: {res2}  reg keras: {res3}\")\n"
   ]
  },
  {
   "cell_type": "markdown",
   "metadata": {},
   "source": [
    "### Yes, these look the same. Save."
   ]
  },
  {
   "cell_type": "code",
   "execution_count": 78,
   "metadata": {},
   "outputs": [],
   "source": [
    "jtest.save(\"jtest_cnn.h5\")"
   ]
  },
  {
   "cell_type": "code",
   "execution_count": 79,
   "metadata": {},
   "outputs": [
    {
     "name": "stderr",
     "output_type": "stream",
     "text": [
      "/home/ewilson6/anaconda3/envs/scrambler/lib/python3.7/site-packages/keras/engine/saving.py:292: UserWarning: No training configuration found in save file: the model was *not* compiled. Compile it manually.\n",
      "  warnings.warn('No training configuration found in save file: '\n"
     ]
    }
   ],
   "source": [
    "jtest_reload = keras.models.load_model(\"jtest_cnn.h5\")"
   ]
  },
  {
   "cell_type": "code",
   "execution_count": null,
   "metadata": {},
   "outputs": [],
   "source": []
  },
  {
   "cell_type": "code",
   "execution_count": 80,
   "metadata": {},
   "outputs": [
    {
     "name": "stdout",
     "output_type": "stream",
     "text": [
      "AAAAAAAA: tf.keras: [[19.869024]]  reg keras: [[19.869024]]   keras reload: [[19.869024]]\n",
      "TTTTTTTT: tf.keras: [[10.894265]]  reg keras: [[10.894265]]   keras reload: [[10.894265]]\n",
      "CCCCCCCC: tf.keras: [[16.986248]]  reg keras: [[16.986248]]   keras reload: [[16.986248]]\n",
      "GGGGGGGG: tf.keras: [[13.9833]]  reg keras: [[13.9833]]   keras reload: [[13.9833]]\n",
      "GGGTATGG: tf.keras: [[24.005997]]  reg keras: [[24.005997]]   keras reload: [[24.005997]]\n",
      "AAGCGAAA: tf.keras: [[8.172533]]  reg keras: [[8.172531]]   keras reload: [[8.172531]]\n"
     ]
    }
   ],
   "source": [
    "for i in range(len(seqs)):\n",
    "    seq = seqs[i]\n",
    "    ohe_seq = ohe_seqs[i]\n",
    "    seq_k = np.array(ohe_seq)\n",
    "\n",
    "    res2 = k_cnn_model.predict(seq_k)\n",
    "    res3 = jtest.predict(seq_k)\n",
    "    res4 = jtest_reload.predict(seq_k)\n",
    "    print(f\"{seq}: tf.keras: {res2}  reg keras: {res3}   keras reload: {res4}\")"
   ]
  },
  {
   "cell_type": "markdown",
   "metadata": {},
   "source": [
    "# Try to use jtest in Scramblers"
   ]
  },
  {
   "cell_type": "code",
   "execution_count": 81,
   "metadata": {
    "scrolled": false
   },
   "outputs": [
    {
     "name": "stdout",
     "output_type": "stream",
     "text": [
      "SCRAMBLER INITIATED!!\n",
      "IN SCRAMBLER TRAIN!\n",
      "predictor is compiled??\n",
      "<keras.engine.training.Model object at 0x7f62c2d13ed0>\n",
      "Scrambler has created inputs...\n",
      "Starting to build lambda stuff?\n",
      "About to predict stuff...\n"
     ]
    },
    {
     "ename": "ValueError",
     "evalue": "Dimension must be 4 but is 3 for 'model_1_1/7/transpose' (op: 'Transpose') with input shapes: [?,1,8,4], [3].",
     "output_type": "error",
     "traceback": [
      "\u001b[0;31m---------------------------------------------------------------------------\u001b[0m",
      "\u001b[0;31mInvalidArgumentError\u001b[0m                      Traceback (most recent call last)",
      "\u001b[0;32m~/anaconda3/envs/scrambler/lib/python3.7/site-packages/tensorflow/python/framework/ops.py\u001b[0m in \u001b[0;36m_create_c_op\u001b[0;34m(graph, node_def, inputs, control_inputs)\u001b[0m\n\u001b[1;32m   1658\u001b[0m   \u001b[0;32mtry\u001b[0m\u001b[0;34m:\u001b[0m\u001b[0;34m\u001b[0m\u001b[0;34m\u001b[0m\u001b[0m\n\u001b[0;32m-> 1659\u001b[0;31m     \u001b[0mc_op\u001b[0m \u001b[0;34m=\u001b[0m \u001b[0mc_api\u001b[0m\u001b[0;34m.\u001b[0m\u001b[0mTF_FinishOperation\u001b[0m\u001b[0;34m(\u001b[0m\u001b[0mop_desc\u001b[0m\u001b[0;34m)\u001b[0m\u001b[0;34m\u001b[0m\u001b[0;34m\u001b[0m\u001b[0m\n\u001b[0m\u001b[1;32m   1660\u001b[0m   \u001b[0;32mexcept\u001b[0m \u001b[0merrors\u001b[0m\u001b[0;34m.\u001b[0m\u001b[0mInvalidArgumentError\u001b[0m \u001b[0;32mas\u001b[0m \u001b[0me\u001b[0m\u001b[0;34m:\u001b[0m\u001b[0;34m\u001b[0m\u001b[0;34m\u001b[0m\u001b[0m\n",
      "\u001b[0;31mInvalidArgumentError\u001b[0m: Dimension must be 4 but is 3 for 'model_1_1/7/transpose' (op: 'Transpose') with input shapes: [?,1,8,4], [3].",
      "\nDuring handling of the above exception, another exception occurred:\n",
      "\u001b[0;31mValueError\u001b[0m                                Traceback (most recent call last)",
      "\u001b[0;32m<ipython-input-81-8e6734e3318f>\u001b[0m in \u001b[0;36m<module>\u001b[0;34m\u001b[0m\n\u001b[0;32m----> 1\u001b[0;31m \u001b[0mcnn_scr\u001b[0m\u001b[0;34m,\u001b[0m \u001b[0mcnn_scr_train_hist\u001b[0m \u001b[0;34m=\u001b[0m \u001b[0mtrain_scrambler_on_model\u001b[0m\u001b[0;34m(\u001b[0m\u001b[0mjtest\u001b[0m\u001b[0;34m)\u001b[0m\u001b[0;34m\u001b[0m\u001b[0;34m\u001b[0m\u001b[0m\n\u001b[0m\u001b[1;32m      2\u001b[0m \u001b[0mmodel_name\u001b[0m \u001b[0;34m=\u001b[0m \u001b[0;34m'mer8motif_model_cnn_inclusion_scrambler_bits_0125_epochs_10'\u001b[0m\u001b[0;34m\u001b[0m\u001b[0;34m\u001b[0m\u001b[0m\n\u001b[1;32m      3\u001b[0m \u001b[0msave_scrambler\u001b[0m\u001b[0;34m(\u001b[0m\u001b[0mcnn_scr\u001b[0m\u001b[0;34m,\u001b[0m \u001b[0mcnn_scr_train_hist\u001b[0m\u001b[0;34m,\u001b[0m \u001b[0mmodel_name\u001b[0m\u001b[0;34m)\u001b[0m\u001b[0;34m\u001b[0m\u001b[0;34m\u001b[0m\u001b[0m\n",
      "\u001b[0;32m<ipython-input-34-2604b0adad97>\u001b[0m in \u001b[0;36mtrain_scrambler_on_model\u001b[0;34m(model, n_epochs)\u001b[0m\n\u001b[1;32m     86\u001b[0m         \u001b[0mentropy_mode\u001b[0m\u001b[0;34m=\u001b[0m\u001b[0;34m'target'\u001b[0m\u001b[0;34m,\u001b[0m\u001b[0;34m\u001b[0m\u001b[0;34m\u001b[0m\u001b[0m\n\u001b[1;32m     87\u001b[0m         \u001b[0mentropy_bits\u001b[0m\u001b[0;34m=\u001b[0m\u001b[0;36m0.125\u001b[0m\u001b[0;34m,\u001b[0m\u001b[0;34m\u001b[0m\u001b[0;34m\u001b[0m\u001b[0m\n\u001b[0;32m---> 88\u001b[0;31m         \u001b[0mentropy_weight\u001b[0m\u001b[0;34m=\u001b[0m\u001b[0;36m10.\u001b[0m\u001b[0;34m\u001b[0m\u001b[0;34m\u001b[0m\u001b[0m\n\u001b[0m\u001b[1;32m     89\u001b[0m     )\n\u001b[1;32m     90\u001b[0m \u001b[0;34m\u001b[0m\u001b[0m\n",
      "\u001b[0;32m~/anaconda3/envs/scrambler/lib/python3.7/site-packages/scrambler-0.1-py3.7.egg/scrambler/models/scrambler_models.py\u001b[0m in \u001b[0;36mtrain\u001b[0;34m(self, predictor, x_train, y_train, x_test, y_test, n_epochs, group_train, group_test, monitor_test_indices, monitor_batch_freq_dict, adam_lr, adam_beta_1, adam_beta_2, nll_mode, predictor_task, reference, entropy_mode, entropy_bits, entropy_weight)\u001b[0m\n\u001b[1;32m   1161\u001b[0m         \u001b[0;31m#return predictor, scrambler_inputs\u001b[0m\u001b[0;34m\u001b[0m\u001b[0;34m\u001b[0m\u001b[0;34m\u001b[0m\u001b[0m\n\u001b[1;32m   1162\u001b[0m         \u001b[0;31m#Make reference prediction on non-scrambled input sequence\u001b[0m\u001b[0;34m\u001b[0m\u001b[0;34m\u001b[0m\u001b[0;34m\u001b[0m\u001b[0m\n\u001b[0;32m-> 1163\u001b[0;31m         \u001b[0my_pred_non_scrambled_deflated\u001b[0m \u001b[0;34m=\u001b[0m \u001b[0mpredictor\u001b[0m\u001b[0;34m(\u001b[0m\u001b[0mscrambler_inputs\u001b[0m\u001b[0;34m)\u001b[0m \u001b[0;32mif\u001b[0m \u001b[0mreference\u001b[0m \u001b[0;34m==\u001b[0m \u001b[0;34m'predictor'\u001b[0m \u001b[0;32melse\u001b[0m \u001b[0mscrambler_label\u001b[0m\u001b[0;34m\u001b[0m\u001b[0;34m\u001b[0m\u001b[0m\n\u001b[0m\u001b[1;32m   1164\u001b[0m \u001b[0;34m\u001b[0m\u001b[0m\n\u001b[1;32m   1165\u001b[0m         \u001b[0;31m#Make prediction on scrambled sequence samples\u001b[0m\u001b[0;34m\u001b[0m\u001b[0;34m\u001b[0m\u001b[0;34m\u001b[0m\u001b[0m\n",
      "\u001b[0;32m~/anaconda3/envs/scrambler/lib/python3.7/site-packages/keras/engine/base_layer.py\u001b[0m in \u001b[0;36m__call__\u001b[0;34m(self, inputs, **kwargs)\u001b[0m\n\u001b[1;32m    455\u001b[0m             \u001b[0;31m# Actually call the layer,\u001b[0m\u001b[0;34m\u001b[0m\u001b[0;34m\u001b[0m\u001b[0;34m\u001b[0m\u001b[0m\n\u001b[1;32m    456\u001b[0m             \u001b[0;31m# collecting output(s), mask(s), and shape(s).\u001b[0m\u001b[0;34m\u001b[0m\u001b[0;34m\u001b[0m\u001b[0;34m\u001b[0m\u001b[0m\n\u001b[0;32m--> 457\u001b[0;31m             \u001b[0moutput\u001b[0m \u001b[0;34m=\u001b[0m \u001b[0mself\u001b[0m\u001b[0;34m.\u001b[0m\u001b[0mcall\u001b[0m\u001b[0;34m(\u001b[0m\u001b[0minputs\u001b[0m\u001b[0;34m,\u001b[0m \u001b[0;34m**\u001b[0m\u001b[0mkwargs\u001b[0m\u001b[0;34m)\u001b[0m\u001b[0;34m\u001b[0m\u001b[0;34m\u001b[0m\u001b[0m\n\u001b[0m\u001b[1;32m    458\u001b[0m             \u001b[0moutput_mask\u001b[0m \u001b[0;34m=\u001b[0m \u001b[0mself\u001b[0m\u001b[0;34m.\u001b[0m\u001b[0mcompute_mask\u001b[0m\u001b[0;34m(\u001b[0m\u001b[0minputs\u001b[0m\u001b[0;34m,\u001b[0m \u001b[0mprevious_mask\u001b[0m\u001b[0;34m)\u001b[0m\u001b[0;34m\u001b[0m\u001b[0;34m\u001b[0m\u001b[0m\n\u001b[1;32m    459\u001b[0m \u001b[0;34m\u001b[0m\u001b[0m\n",
      "\u001b[0;32m~/anaconda3/envs/scrambler/lib/python3.7/site-packages/keras/engine/network.py\u001b[0m in \u001b[0;36mcall\u001b[0;34m(self, inputs, mask)\u001b[0m\n\u001b[1;32m    562\u001b[0m             \u001b[0;32mreturn\u001b[0m \u001b[0mself\u001b[0m\u001b[0;34m.\u001b[0m\u001b[0m_output_tensor_cache\u001b[0m\u001b[0;34m[\u001b[0m\u001b[0mcache_key\u001b[0m\u001b[0;34m]\u001b[0m\u001b[0;34m\u001b[0m\u001b[0;34m\u001b[0m\u001b[0m\n\u001b[1;32m    563\u001b[0m         \u001b[0;32melse\u001b[0m\u001b[0;34m:\u001b[0m\u001b[0;34m\u001b[0m\u001b[0;34m\u001b[0m\u001b[0m\n\u001b[0;32m--> 564\u001b[0;31m             \u001b[0moutput_tensors\u001b[0m\u001b[0;34m,\u001b[0m \u001b[0m_\u001b[0m\u001b[0;34m,\u001b[0m \u001b[0m_\u001b[0m \u001b[0;34m=\u001b[0m \u001b[0mself\u001b[0m\u001b[0;34m.\u001b[0m\u001b[0mrun_internal_graph\u001b[0m\u001b[0;34m(\u001b[0m\u001b[0minputs\u001b[0m\u001b[0;34m,\u001b[0m \u001b[0mmasks\u001b[0m\u001b[0;34m)\u001b[0m\u001b[0;34m\u001b[0m\u001b[0;34m\u001b[0m\u001b[0m\n\u001b[0m\u001b[1;32m    565\u001b[0m             \u001b[0;32mreturn\u001b[0m \u001b[0moutput_tensors\u001b[0m\u001b[0;34m\u001b[0m\u001b[0;34m\u001b[0m\u001b[0m\n\u001b[1;32m    566\u001b[0m \u001b[0;34m\u001b[0m\u001b[0m\n",
      "\u001b[0;32m~/anaconda3/envs/scrambler/lib/python3.7/site-packages/keras/engine/network.py\u001b[0m in \u001b[0;36mrun_internal_graph\u001b[0;34m(self, inputs, masks)\u001b[0m\n\u001b[1;32m    719\u001b[0m                                     \u001b[0mkwargs\u001b[0m\u001b[0;34m[\u001b[0m\u001b[0;34m'mask'\u001b[0m\u001b[0;34m]\u001b[0m \u001b[0;34m=\u001b[0m \u001b[0mcomputed_mask\u001b[0m\u001b[0;34m\u001b[0m\u001b[0;34m\u001b[0m\u001b[0m\n\u001b[1;32m    720\u001b[0m                             output_tensors = to_list(\n\u001b[0;32m--> 721\u001b[0;31m                                 layer.call(computed_tensor, **kwargs))\n\u001b[0m\u001b[1;32m    722\u001b[0m                             output_masks = layer.compute_mask(computed_tensor,\n\u001b[1;32m    723\u001b[0m                                                               computed_mask)\n",
      "\u001b[0;32m~/anaconda3/envs/scrambler/lib/python3.7/site-packages/keras/layers/core.py\u001b[0m in \u001b[0;36mcall\u001b[0;34m(self, inputs)\u001b[0m\n\u001b[1;32m    451\u001b[0m \u001b[0;34m\u001b[0m\u001b[0m\n\u001b[1;32m    452\u001b[0m     \u001b[0;32mdef\u001b[0m \u001b[0mcall\u001b[0m\u001b[0;34m(\u001b[0m\u001b[0mself\u001b[0m\u001b[0;34m,\u001b[0m \u001b[0minputs\u001b[0m\u001b[0;34m)\u001b[0m\u001b[0;34m:\u001b[0m\u001b[0;34m\u001b[0m\u001b[0;34m\u001b[0m\u001b[0m\n\u001b[0;32m--> 453\u001b[0;31m         \u001b[0;32mreturn\u001b[0m \u001b[0mK\u001b[0m\u001b[0;34m.\u001b[0m\u001b[0mpermute_dimensions\u001b[0m\u001b[0;34m(\u001b[0m\u001b[0minputs\u001b[0m\u001b[0;34m,\u001b[0m \u001b[0;34m(\u001b[0m\u001b[0;36m0\u001b[0m\u001b[0;34m,\u001b[0m\u001b[0;34m)\u001b[0m \u001b[0;34m+\u001b[0m \u001b[0mself\u001b[0m\u001b[0;34m.\u001b[0m\u001b[0mdims\u001b[0m\u001b[0;34m)\u001b[0m\u001b[0;34m\u001b[0m\u001b[0;34m\u001b[0m\u001b[0m\n\u001b[0m\u001b[1;32m    454\u001b[0m \u001b[0;34m\u001b[0m\u001b[0m\n\u001b[1;32m    455\u001b[0m     \u001b[0;32mdef\u001b[0m \u001b[0mget_config\u001b[0m\u001b[0;34m(\u001b[0m\u001b[0mself\u001b[0m\u001b[0;34m)\u001b[0m\u001b[0;34m:\u001b[0m\u001b[0;34m\u001b[0m\u001b[0;34m\u001b[0m\u001b[0m\n",
      "\u001b[0;32m~/anaconda3/envs/scrambler/lib/python3.7/site-packages/keras/backend/tensorflow_backend.py\u001b[0m in \u001b[0;36mpermute_dimensions\u001b[0;34m(x, pattern)\u001b[0m\n\u001b[1;32m   1981\u001b[0m         \u001b[0mA\u001b[0m \u001b[0mtensor\u001b[0m\u001b[0;34m.\u001b[0m\u001b[0;34m\u001b[0m\u001b[0;34m\u001b[0m\u001b[0m\n\u001b[1;32m   1982\u001b[0m     \"\"\"\n\u001b[0;32m-> 1983\u001b[0;31m     \u001b[0;32mreturn\u001b[0m \u001b[0mtf\u001b[0m\u001b[0;34m.\u001b[0m\u001b[0mtranspose\u001b[0m\u001b[0;34m(\u001b[0m\u001b[0mx\u001b[0m\u001b[0;34m,\u001b[0m \u001b[0mperm\u001b[0m\u001b[0;34m=\u001b[0m\u001b[0mpattern\u001b[0m\u001b[0;34m)\u001b[0m\u001b[0;34m\u001b[0m\u001b[0;34m\u001b[0m\u001b[0m\n\u001b[0m\u001b[1;32m   1984\u001b[0m \u001b[0;34m\u001b[0m\u001b[0m\n\u001b[1;32m   1985\u001b[0m \u001b[0;34m\u001b[0m\u001b[0m\n",
      "\u001b[0;32m~/anaconda3/envs/scrambler/lib/python3.7/site-packages/tensorflow/python/ops/array_ops.py\u001b[0m in \u001b[0;36mtranspose\u001b[0;34m(a, perm, name, conjugate)\u001b[0m\n\u001b[1;32m   1672\u001b[0m           \u001b[0mret\u001b[0m\u001b[0;34m.\u001b[0m\u001b[0mset_shape\u001b[0m\u001b[0;34m(\u001b[0m\u001b[0minput_shape\u001b[0m\u001b[0;34m[\u001b[0m\u001b[0;34m:\u001b[0m\u001b[0;34m:\u001b[0m\u001b[0;34m-\u001b[0m\u001b[0;36m1\u001b[0m\u001b[0;34m]\u001b[0m\u001b[0;34m)\u001b[0m\u001b[0;34m\u001b[0m\u001b[0;34m\u001b[0m\u001b[0m\n\u001b[1;32m   1673\u001b[0m     \u001b[0;32melse\u001b[0m\u001b[0;34m:\u001b[0m\u001b[0;34m\u001b[0m\u001b[0;34m\u001b[0m\u001b[0m\n\u001b[0;32m-> 1674\u001b[0;31m       \u001b[0mret\u001b[0m \u001b[0;34m=\u001b[0m \u001b[0mtranspose_fn\u001b[0m\u001b[0;34m(\u001b[0m\u001b[0ma\u001b[0m\u001b[0;34m,\u001b[0m \u001b[0mperm\u001b[0m\u001b[0;34m,\u001b[0m \u001b[0mname\u001b[0m\u001b[0;34m=\u001b[0m\u001b[0mname\u001b[0m\u001b[0;34m)\u001b[0m\u001b[0;34m\u001b[0m\u001b[0;34m\u001b[0m\u001b[0m\n\u001b[0m\u001b[1;32m   1675\u001b[0m     \u001b[0;32mreturn\u001b[0m \u001b[0mret\u001b[0m\u001b[0;34m\u001b[0m\u001b[0;34m\u001b[0m\u001b[0m\n\u001b[1;32m   1676\u001b[0m \u001b[0;34m\u001b[0m\u001b[0m\n",
      "\u001b[0;32m~/anaconda3/envs/scrambler/lib/python3.7/site-packages/tensorflow/python/ops/gen_array_ops.py\u001b[0m in \u001b[0;36mtranspose\u001b[0;34m(x, perm, name)\u001b[0m\n\u001b[1;32m  10236\u001b[0m   \u001b[0;31m# Add nodes to the TensorFlow graph.\u001b[0m\u001b[0;34m\u001b[0m\u001b[0;34m\u001b[0m\u001b[0;34m\u001b[0m\u001b[0m\n\u001b[1;32m  10237\u001b[0m   _, _, _op = _op_def_lib._apply_op_helper(\n\u001b[0;32m> 10238\u001b[0;31m         \"Transpose\", x=x, perm=perm, name=name)\n\u001b[0m\u001b[1;32m  10239\u001b[0m   \u001b[0m_result\u001b[0m \u001b[0;34m=\u001b[0m \u001b[0m_op\u001b[0m\u001b[0;34m.\u001b[0m\u001b[0moutputs\u001b[0m\u001b[0;34m[\u001b[0m\u001b[0;34m:\u001b[0m\u001b[0;34m]\u001b[0m\u001b[0;34m\u001b[0m\u001b[0;34m\u001b[0m\u001b[0m\n\u001b[1;32m  10240\u001b[0m   \u001b[0m_inputs_flat\u001b[0m \u001b[0;34m=\u001b[0m \u001b[0m_op\u001b[0m\u001b[0;34m.\u001b[0m\u001b[0minputs\u001b[0m\u001b[0;34m\u001b[0m\u001b[0;34m\u001b[0m\u001b[0m\n",
      "\u001b[0;32m~/anaconda3/envs/scrambler/lib/python3.7/site-packages/tensorflow/python/framework/op_def_library.py\u001b[0m in \u001b[0;36m_apply_op_helper\u001b[0;34m(self, op_type_name, name, **keywords)\u001b[0m\n\u001b[1;32m    786\u001b[0m         op = g.create_op(op_type_name, inputs, output_types, name=scope,\n\u001b[1;32m    787\u001b[0m                          \u001b[0minput_types\u001b[0m\u001b[0;34m=\u001b[0m\u001b[0minput_types\u001b[0m\u001b[0;34m,\u001b[0m \u001b[0mattrs\u001b[0m\u001b[0;34m=\u001b[0m\u001b[0mattr_protos\u001b[0m\u001b[0;34m,\u001b[0m\u001b[0;34m\u001b[0m\u001b[0;34m\u001b[0m\u001b[0m\n\u001b[0;32m--> 788\u001b[0;31m                          op_def=op_def)\n\u001b[0m\u001b[1;32m    789\u001b[0m       \u001b[0;32mreturn\u001b[0m \u001b[0moutput_structure\u001b[0m\u001b[0;34m,\u001b[0m \u001b[0mop_def\u001b[0m\u001b[0;34m.\u001b[0m\u001b[0mis_stateful\u001b[0m\u001b[0;34m,\u001b[0m \u001b[0mop\u001b[0m\u001b[0;34m\u001b[0m\u001b[0;34m\u001b[0m\u001b[0m\n\u001b[1;32m    790\u001b[0m \u001b[0;34m\u001b[0m\u001b[0m\n",
      "\u001b[0;32m~/anaconda3/envs/scrambler/lib/python3.7/site-packages/tensorflow/python/util/deprecation.py\u001b[0m in \u001b[0;36mnew_func\u001b[0;34m(*args, **kwargs)\u001b[0m\n\u001b[1;32m    505\u001b[0m                 \u001b[0;34m'in a future version'\u001b[0m \u001b[0;32mif\u001b[0m \u001b[0mdate\u001b[0m \u001b[0;32mis\u001b[0m \u001b[0;32mNone\u001b[0m \u001b[0;32melse\u001b[0m \u001b[0;34m(\u001b[0m\u001b[0;34m'after %s'\u001b[0m \u001b[0;34m%\u001b[0m \u001b[0mdate\u001b[0m\u001b[0;34m)\u001b[0m\u001b[0;34m,\u001b[0m\u001b[0;34m\u001b[0m\u001b[0;34m\u001b[0m\u001b[0m\n\u001b[1;32m    506\u001b[0m                 instructions)\n\u001b[0;32m--> 507\u001b[0;31m       \u001b[0;32mreturn\u001b[0m \u001b[0mfunc\u001b[0m\u001b[0;34m(\u001b[0m\u001b[0;34m*\u001b[0m\u001b[0margs\u001b[0m\u001b[0;34m,\u001b[0m \u001b[0;34m**\u001b[0m\u001b[0mkwargs\u001b[0m\u001b[0;34m)\u001b[0m\u001b[0;34m\u001b[0m\u001b[0;34m\u001b[0m\u001b[0m\n\u001b[0m\u001b[1;32m    508\u001b[0m \u001b[0;34m\u001b[0m\u001b[0m\n\u001b[1;32m    509\u001b[0m     doc = _add_deprecated_arg_notice_to_docstring(\n",
      "\u001b[0;32m~/anaconda3/envs/scrambler/lib/python3.7/site-packages/tensorflow/python/framework/ops.py\u001b[0m in \u001b[0;36mcreate_op\u001b[0;34m(***failed resolving arguments***)\u001b[0m\n\u001b[1;32m   3298\u001b[0m           \u001b[0minput_types\u001b[0m\u001b[0;34m=\u001b[0m\u001b[0minput_types\u001b[0m\u001b[0;34m,\u001b[0m\u001b[0;34m\u001b[0m\u001b[0;34m\u001b[0m\u001b[0m\n\u001b[1;32m   3299\u001b[0m           \u001b[0moriginal_op\u001b[0m\u001b[0;34m=\u001b[0m\u001b[0mself\u001b[0m\u001b[0;34m.\u001b[0m\u001b[0m_default_original_op\u001b[0m\u001b[0;34m,\u001b[0m\u001b[0;34m\u001b[0m\u001b[0;34m\u001b[0m\u001b[0m\n\u001b[0;32m-> 3300\u001b[0;31m           op_def=op_def)\n\u001b[0m\u001b[1;32m   3301\u001b[0m       \u001b[0mself\u001b[0m\u001b[0;34m.\u001b[0m\u001b[0m_create_op_helper\u001b[0m\u001b[0;34m(\u001b[0m\u001b[0mret\u001b[0m\u001b[0;34m,\u001b[0m \u001b[0mcompute_device\u001b[0m\u001b[0;34m=\u001b[0m\u001b[0mcompute_device\u001b[0m\u001b[0;34m)\u001b[0m\u001b[0;34m\u001b[0m\u001b[0;34m\u001b[0m\u001b[0m\n\u001b[1;32m   3302\u001b[0m     \u001b[0;32mreturn\u001b[0m \u001b[0mret\u001b[0m\u001b[0;34m\u001b[0m\u001b[0;34m\u001b[0m\u001b[0m\n",
      "\u001b[0;32m~/anaconda3/envs/scrambler/lib/python3.7/site-packages/tensorflow/python/framework/ops.py\u001b[0m in \u001b[0;36m__init__\u001b[0;34m(self, node_def, g, inputs, output_types, control_inputs, input_types, original_op, op_def)\u001b[0m\n\u001b[1;32m   1821\u001b[0m           op_def, inputs, node_def.attr)\n\u001b[1;32m   1822\u001b[0m       self._c_op = _create_c_op(self._graph, node_def, grouped_inputs,\n\u001b[0;32m-> 1823\u001b[0;31m                                 control_input_ops)\n\u001b[0m\u001b[1;32m   1824\u001b[0m \u001b[0;34m\u001b[0m\u001b[0m\n\u001b[1;32m   1825\u001b[0m     \u001b[0;31m# Initialize self._outputs.\u001b[0m\u001b[0;34m\u001b[0m\u001b[0;34m\u001b[0m\u001b[0;34m\u001b[0m\u001b[0m\n",
      "\u001b[0;32m~/anaconda3/envs/scrambler/lib/python3.7/site-packages/tensorflow/python/framework/ops.py\u001b[0m in \u001b[0;36m_create_c_op\u001b[0;34m(graph, node_def, inputs, control_inputs)\u001b[0m\n\u001b[1;32m   1660\u001b[0m   \u001b[0;32mexcept\u001b[0m \u001b[0merrors\u001b[0m\u001b[0;34m.\u001b[0m\u001b[0mInvalidArgumentError\u001b[0m \u001b[0;32mas\u001b[0m \u001b[0me\u001b[0m\u001b[0;34m:\u001b[0m\u001b[0;34m\u001b[0m\u001b[0;34m\u001b[0m\u001b[0m\n\u001b[1;32m   1661\u001b[0m     \u001b[0;31m# Convert to ValueError for backwards compatibility.\u001b[0m\u001b[0;34m\u001b[0m\u001b[0;34m\u001b[0m\u001b[0;34m\u001b[0m\u001b[0m\n\u001b[0;32m-> 1662\u001b[0;31m     \u001b[0;32mraise\u001b[0m \u001b[0mValueError\u001b[0m\u001b[0;34m(\u001b[0m\u001b[0mstr\u001b[0m\u001b[0;34m(\u001b[0m\u001b[0me\u001b[0m\u001b[0;34m)\u001b[0m\u001b[0;34m)\u001b[0m\u001b[0;34m\u001b[0m\u001b[0;34m\u001b[0m\u001b[0m\n\u001b[0m\u001b[1;32m   1663\u001b[0m \u001b[0;34m\u001b[0m\u001b[0m\n\u001b[1;32m   1664\u001b[0m   \u001b[0;32mreturn\u001b[0m \u001b[0mc_op\u001b[0m\u001b[0;34m\u001b[0m\u001b[0;34m\u001b[0m\u001b[0m\n",
      "\u001b[0;31mValueError\u001b[0m: Dimension must be 4 but is 3 for 'model_1_1/7/transpose' (op: 'Transpose') with input shapes: [?,1,8,4], [3]."
     ]
    }
   ],
   "source": [
    "cnn_scr, cnn_scr_train_hist = train_scrambler_on_model(jtest)\n",
    "model_name = 'mer8motif_model_cnn_inclusion_scrambler_bits_0125_epochs_10'\n",
    "save_scrambler(cnn_scr, cnn_scr_train_hist, model_name)"
   ]
  },
  {
   "cell_type": "code",
   "execution_count": null,
   "metadata": {},
   "outputs": [],
   "source": []
  },
  {
   "cell_type": "markdown",
   "metadata": {},
   "source": [
    "# Error! And this is where I'm really stuck\n",
    "There's a dimension mismatch that happens inside `scrambler.train`. Specifically when `predictor(scrambler_inputs)` is called. \n",
    "\n",
    "I've tried returning early both what `predictor` and `scrambler_inputs` are... \n",
    "\n",
    "\n",
    "`scrambler_inputs` looked like: `<tf.Tensor 't_scrambler_input_0_3:0' shape=(?, 1, 8, 4) dtype=float32>`\n",
    "\n",
    "`predictor` was still a `keras.engine.training.Model`\n",
    "\n",
    "But for some reason this shape can't be called by this model?\n",
    "\n",
    "Manually calling `predictor(scrambler_inputs)` in the notebook gives the same error:\n",
    "\n",
    "`InvalidArgumentError: Dimension must be 4 but is 3 for 'model_1_2/7/transpose' (op: 'Transpose') with input shapes: [?,1,8,4], [3].`"
   ]
  },
  {
   "cell_type": "markdown",
   "metadata": {},
   "source": [
    "### Again, I think it is something to do with how ONNX transfers `unsqueeze` from pytorch to keras... but I can't tell if I'm setting up the keras model incorrectly (totally possible, I manually deleted some things from JSON...) or if Scrambers for some reason can't handle input to a CNN built the way mine is? \n",
    "\n",
    "### I'm not sure if I should change my PyTorch model, because it's working and I can do test predictions with the keras models and get the same numbers out:"
   ]
  },
  {
   "cell_type": "code",
   "execution_count": 82,
   "metadata": {},
   "outputs": [
    {
     "name": "stdout",
     "output_type": "stream",
     "text": [
      "AAAAAAAA:\n",
      "\tPyTorch:\t19.8690242767334 \n",
      "\ttf.keras:\t19.8690242767334  \n",
      "\treg keras:\t19.8690242767334   \n",
      "\tkeras reload:\t19.8690242767334\n",
      "TTTTTTTT:\n",
      "\tPyTorch:\t10.894265174865723 \n",
      "\ttf.keras:\t10.894265174865723  \n",
      "\treg keras:\t10.894265174865723   \n",
      "\tkeras reload:\t10.894265174865723\n",
      "CCCCCCCC:\n",
      "\tPyTorch:\t16.986248016357422 \n",
      "\ttf.keras:\t16.986248016357422  \n",
      "\treg keras:\t16.986248016357422   \n",
      "\tkeras reload:\t16.986248016357422\n",
      "GGGGGGGG:\n",
      "\tPyTorch:\t13.98330020904541 \n",
      "\ttf.keras:\t13.98330020904541  \n",
      "\treg keras:\t13.98330020904541   \n",
      "\tkeras reload:\t13.98330020904541\n",
      "GGGTATGG:\n",
      "\tPyTorch:\t24.00599479675293 \n",
      "\ttf.keras:\t24.005996704101562  \n",
      "\treg keras:\t24.005996704101562   \n",
      "\tkeras reload:\t24.005996704101562\n",
      "AAGCGAAA:\n",
      "\tPyTorch:\t8.172531127929688 \n",
      "\ttf.keras:\t8.17253303527832  \n",
      "\treg keras:\t8.172531127929688   \n",
      "\tkeras reload:\t8.172531127929688\n"
     ]
    }
   ],
   "source": [
    "for i in range(len(seqs)):\n",
    "    seq = seqs[i]\n",
    "    ohe_seq = ohe_seqs[i]\n",
    "    seq_k = np.array(ohe_seq)\n",
    "\n",
    "    res1 = mer8motif_model_cnn(ohe_seq)\n",
    "    res2 = k_cnn_model.predict(seq_k)\n",
    "    res3 = jtest.predict(seq_k)\n",
    "    res4 = jtest_reload.predict(seq_k)\n",
    "    print(f\"{seq}:\")\n",
    "    print(f\"\\tPyTorch:\\t{res1.item()} \\n\\ttf.keras:\\t{res2[0][0]}  \\n\\treg keras:\\t{res3[0][0]}   \\n\\tkeras reload:\\t{res4[0][0]}\")"
   ]
  },
  {
   "cell_type": "markdown",
   "metadata": {},
   "source": [
    "### But something about the `scrambler_inputs` or the call to the `predictor()` inside `scrambler.train` is unhappy with the dimensions... :-/"
   ]
  },
  {
   "cell_type": "markdown",
   "metadata": {},
   "source": [
    "Did I go wrong:\n",
    "* Deleting things from JSON and expecting it to work?\n",
    "* Are there other ways to convert tf.keras.Model into regular keras.Model?\n",
    "* Is my PyTorch set up bad?\n",
    "* Does Scrambler code need to be edited?\n",
    "\n",
    "Happy for any ideas!"
   ]
  },
  {
   "cell_type": "code",
   "execution_count": 83,
   "metadata": {
    "scrolled": false
   },
   "outputs": [
    {
     "name": "stdout",
     "output_type": "stream",
     "text": [
      "TF Keras model\n",
      "<tensorflow.python.keras.engine.training.Model object at 0x7f665526ced0>\n",
      "_________________________________________________________________\n",
      "Layer (type)                 Output Shape              Param #   \n",
      "=================================================================\n",
      "test_input (InputLayer)      (None, 8, 4)              0         \n",
      "_________________________________________________________________\n",
      "7 (Permute)                  (None, 4, 8)              0         \n",
      "_________________________________________________________________\n",
      "8 (Lambda)                   (None, 1, 4, 8)           0         \n",
      "_________________________________________________________________\n",
      "9 (Conv2D)                   (None, 31, 1, 6)          403       \n",
      "_________________________________________________________________\n",
      "10 (Activation)              (None, 31, 1, 6)          0         \n",
      "_________________________________________________________________\n",
      "11 (Reshape)                 (None, None)              0         \n",
      "_________________________________________________________________\n",
      "12_reshape (Reshape)         (None, 186)               0         \n",
      "_________________________________________________________________\n",
      "12 (Dense)                   (None, 10)                1870      \n",
      "_________________________________________________________________\n",
      "13 (Activation)              (None, 10)                0         \n",
      "_________________________________________________________________\n",
      "test_output (Dense)          (None, 1)                 11        \n",
      "=================================================================\n",
      "Total params: 2,284\n",
      "Trainable params: 2,284\n",
      "Non-trainable params: 0\n",
      "_________________________________________________________________\n",
      "None\n"
     ]
    },
    {
     "data": {
      "text/plain": [
       "{'name': 'model_1',\n",
       " 'layers': [{'name': 'test_input',\n",
       "   'class_name': 'InputLayer',\n",
       "   'config': {'batch_input_shape': (None, 8, 4),\n",
       "    'dtype': 'float32',\n",
       "    'sparse': False,\n",
       "    'name': 'test_input'},\n",
       "   'inbound_nodes': []},\n",
       "  {'name': '7',\n",
       "   'class_name': 'Permute',\n",
       "   'config': {'name': '7',\n",
       "    'trainable': True,\n",
       "    'dtype': 'float32',\n",
       "    'dims': (2, 1)},\n",
       "   'inbound_nodes': [[['test_input', 0, 0, {}]]]},\n",
       "  {'name': '8',\n",
       "   'class_name': 'Lambda',\n",
       "   'config': {'name': '8',\n",
       "    'trainable': True,\n",
       "    'dtype': 'float32',\n",
       "    'function': ('4wIAAAAAAAAAAwAAAAQAAABTAAAAcxoAAABkAWQCbABtAX0CAQB8AmoCoAN8AHwBoQJTACkDTukA\\nAAAAKQHaBWtlcmFzKQTaCnRlbnNvcmZsb3dyAgAAANoHYmFja2VuZNoLZXhwYW5kX2RpbXMpA9oB\\neNoEYXhpc3ICAAAAqQByCAAAAPpgL2hvbWUvZXdpbHNvbjYvYW5hY29uZGEzL2VudnMvc2NyYW1i\\nbGVyL2xpYi9weXRob24zLjcvc2l0ZS1wYWNrYWdlcy9vbm54MmtlcmFzL3Jlc2hhcGVfbGF5ZXJz\\nLnB52gx0YXJnZXRfbGF5ZXLhAAAAcwQAAAAAAQwB\\n',\n",
       "     (1,),\n",
       "     None),\n",
       "    'module': 'onnx2keras.reshape_layers',\n",
       "    'function_type': 'lambda',\n",
       "    'output_shape': None,\n",
       "    'output_shape_type': 'raw',\n",
       "    'output_shape_module': None,\n",
       "    'arguments': {}},\n",
       "   'inbound_nodes': [[['7', 0, 0, {}]]]},\n",
       "  {'name': '9',\n",
       "   'class_name': 'Conv2D',\n",
       "   'config': {'name': '9',\n",
       "    'trainable': True,\n",
       "    'dtype': 'float32',\n",
       "    'filters': 31,\n",
       "    'kernel_size': (4, 3),\n",
       "    'strides': (1, 1),\n",
       "    'padding': 'valid',\n",
       "    'data_format': 'channels_first',\n",
       "    'dilation_rate': (1, 1),\n",
       "    'activation': 'linear',\n",
       "    'use_bias': True,\n",
       "    'kernel_initializer': {'class_name': 'Zeros',\n",
       "     'config': {'dtype': 'float32'}},\n",
       "    'bias_initializer': {'class_name': 'Zeros',\n",
       "     'config': {'dtype': 'float32'}},\n",
       "    'kernel_regularizer': None,\n",
       "    'bias_regularizer': None,\n",
       "    'activity_regularizer': None,\n",
       "    'kernel_constraint': None,\n",
       "    'bias_constraint': None},\n",
       "   'inbound_nodes': [[['8', 0, 0, {}]]]},\n",
       "  {'name': '10',\n",
       "   'class_name': 'Activation',\n",
       "   'config': {'name': '10',\n",
       "    'trainable': True,\n",
       "    'dtype': 'float32',\n",
       "    'activation': 'relu'},\n",
       "   'inbound_nodes': [[['9', 0, 0, {}]]]},\n",
       "  {'name': '11',\n",
       "   'class_name': 'Reshape',\n",
       "   'config': {'name': '11',\n",
       "    'trainable': True,\n",
       "    'dtype': 'float32',\n",
       "    'target_shape': (-1,)},\n",
       "   'inbound_nodes': [[['10', 0, 0, {}]]]},\n",
       "  {'name': '12_reshape',\n",
       "   'class_name': 'Reshape',\n",
       "   'config': {'name': '12_reshape',\n",
       "    'trainable': True,\n",
       "    'dtype': 'float32',\n",
       "    'target_shape': (186,)},\n",
       "   'inbound_nodes': [[['11', 0, 0, {}]]]},\n",
       "  {'name': '12',\n",
       "   'class_name': 'Dense',\n",
       "   'config': {'name': '12',\n",
       "    'trainable': True,\n",
       "    'dtype': 'float32',\n",
       "    'units': 10,\n",
       "    'activation': 'linear',\n",
       "    'use_bias': True,\n",
       "    'kernel_initializer': {'class_name': 'Zeros',\n",
       "     'config': {'dtype': 'float32'}},\n",
       "    'bias_initializer': {'class_name': 'Zeros',\n",
       "     'config': {'dtype': 'float32'}},\n",
       "    'kernel_regularizer': None,\n",
       "    'bias_regularizer': None,\n",
       "    'activity_regularizer': None,\n",
       "    'kernel_constraint': None,\n",
       "    'bias_constraint': None},\n",
       "   'inbound_nodes': [[['12_reshape', 0, 0, {}]]]},\n",
       "  {'name': '13',\n",
       "   'class_name': 'Activation',\n",
       "   'config': {'name': '13',\n",
       "    'trainable': True,\n",
       "    'dtype': 'float32',\n",
       "    'activation': 'relu'},\n",
       "   'inbound_nodes': [[['12', 0, 0, {}]]]},\n",
       "  {'name': 'test_output',\n",
       "   'class_name': 'Dense',\n",
       "   'config': {'name': 'test_output',\n",
       "    'trainable': True,\n",
       "    'dtype': 'float32',\n",
       "    'units': 1,\n",
       "    'activation': 'linear',\n",
       "    'use_bias': True,\n",
       "    'kernel_initializer': {'class_name': 'Zeros',\n",
       "     'config': {'dtype': 'float32'}},\n",
       "    'bias_initializer': {'class_name': 'Zeros',\n",
       "     'config': {'dtype': 'float32'}},\n",
       "    'kernel_regularizer': None,\n",
       "    'bias_regularizer': None,\n",
       "    'activity_regularizer': None,\n",
       "    'kernel_constraint': None,\n",
       "    'bias_constraint': None},\n",
       "   'inbound_nodes': [[['13', 0, 0, {}]]]}],\n",
       " 'input_layers': [['test_input', 0, 0]],\n",
       " 'output_layers': [['test_output', 0, 0]]}"
      ]
     },
     "execution_count": 83,
     "metadata": {},
     "output_type": "execute_result"
    }
   ],
   "source": [
    "# some final prints in case its helpful\n",
    "print(\"TF Keras model\")\n",
    "print(k_cnn_model)\n",
    "print(k_cnn_model.summary())\n",
    "k_cnn_model.get_config()"
   ]
  },
  {
   "cell_type": "code",
   "execution_count": 84,
   "metadata": {
    "scrolled": false
   },
   "outputs": [
    {
     "name": "stdout",
     "output_type": "stream",
     "text": [
      "Regular Keras model\n",
      "<keras.engine.training.Model object at 0x7f62c2d13ed0>\n",
      "_________________________________________________________________\n",
      "Layer (type)                 Output Shape              Param #   \n",
      "=================================================================\n",
      "test_input (InputLayer)      (None, 8, 4)              0         \n",
      "_________________________________________________________________\n",
      "7 (Permute)                  (None, 4, 8)              0         \n",
      "_________________________________________________________________\n",
      "8 (Lambda)                   (None, 1, 4, 8)           0         \n",
      "_________________________________________________________________\n",
      "9 (Conv2D)                   (None, 31, 1, 6)          403       \n",
      "_________________________________________________________________\n",
      "10 (Activation)              (None, 31, 1, 6)          0         \n",
      "_________________________________________________________________\n",
      "11 (Reshape)                 (None, 186)               0         \n",
      "_________________________________________________________________\n",
      "12_reshape (Reshape)         (None, 186)               0         \n",
      "_________________________________________________________________\n",
      "12 (Dense)                   (None, 10)                1870      \n",
      "_________________________________________________________________\n",
      "13 (Activation)              (None, 10)                0         \n",
      "_________________________________________________________________\n",
      "test_output (Dense)          (None, 1)                 11        \n",
      "=================================================================\n",
      "Total params: 2,284\n",
      "Trainable params: 0\n",
      "Non-trainable params: 2,284\n",
      "_________________________________________________________________\n",
      "None\n"
     ]
    },
    {
     "data": {
      "text/plain": [
       "{'name': 'model_1',\n",
       " 'layers': [{'name': 'test_input',\n",
       "   'class_name': 'InputLayer',\n",
       "   'config': {'batch_input_shape': (None, 8, 4),\n",
       "    'dtype': 'float32',\n",
       "    'sparse': False,\n",
       "    'name': 'test_input'},\n",
       "   'inbound_nodes': []},\n",
       "  {'name': '7',\n",
       "   'class_name': 'Permute',\n",
       "   'config': {'name': '7', 'trainable': True, 'dims': (2, 1)},\n",
       "   'inbound_nodes': [[['test_input', 0, 0, {}]]]},\n",
       "  {'name': '8',\n",
       "   'class_name': 'Lambda',\n",
       "   'config': {'name': '8',\n",
       "    'trainable': True,\n",
       "    'function': ('4wIAAAAAAAAAAwAAAAQAAABTAAAAcxoAAABkAWQCbABtAX0CAQB8AmoCoAN8AHwBoQJTACkDTukA\\nAAAAKQHaBWtlcmFzKQTaCnRlbnNvcmZsb3dyAgAAANoHYmFja2VuZNoLZXhwYW5kX2RpbXMpA9oB\\neNoEYXhpc3ICAAAAqQByCAAAAPpgL2hvbWUvZXdpbHNvbjYvYW5hY29uZGEzL2VudnMvc2NyYW1i\\nbGVyL2xpYi9weXRob24zLjcvc2l0ZS1wYWNrYWdlcy9vbm54MmtlcmFzL3Jlc2hhcGVfbGF5ZXJz\\nLnB52gx0YXJnZXRfbGF5ZXLhAAAAcwQAAAAAAQwB\\n',\n",
       "     (1,),\n",
       "     None),\n",
       "    'function_type': 'lambda',\n",
       "    'output_shape': None,\n",
       "    'output_shape_type': 'raw',\n",
       "    'arguments': {}},\n",
       "   'inbound_nodes': [[['7', 0, 0, {}]]]},\n",
       "  {'name': '9',\n",
       "   'class_name': 'Conv2D',\n",
       "   'config': {'name': '9',\n",
       "    'trainable': True,\n",
       "    'filters': 31,\n",
       "    'kernel_size': (4, 3),\n",
       "    'strides': (1, 1),\n",
       "    'padding': 'valid',\n",
       "    'data_format': 'channels_first',\n",
       "    'dilation_rate': (1, 1),\n",
       "    'activation': 'linear',\n",
       "    'use_bias': True,\n",
       "    'kernel_initializer': {'class_name': 'Zeros', 'config': {}},\n",
       "    'bias_initializer': {'class_name': 'Zeros', 'config': {}},\n",
       "    'kernel_regularizer': None,\n",
       "    'bias_regularizer': None,\n",
       "    'activity_regularizer': None,\n",
       "    'kernel_constraint': None,\n",
       "    'bias_constraint': None},\n",
       "   'inbound_nodes': [[['8', 0, 0, {}]]]},\n",
       "  {'name': '10',\n",
       "   'class_name': 'Activation',\n",
       "   'config': {'name': '10', 'trainable': True, 'activation': 'relu'},\n",
       "   'inbound_nodes': [[['9', 0, 0, {}]]]},\n",
       "  {'name': '11',\n",
       "   'class_name': 'Reshape',\n",
       "   'config': {'name': '11', 'trainable': True, 'target_shape': (-1,)},\n",
       "   'inbound_nodes': [[['10', 0, 0, {}]]]},\n",
       "  {'name': '12_reshape',\n",
       "   'class_name': 'Reshape',\n",
       "   'config': {'name': '12_reshape', 'trainable': True, 'target_shape': (186,)},\n",
       "   'inbound_nodes': [[['11', 0, 0, {}]]]},\n",
       "  {'name': '12',\n",
       "   'class_name': 'Dense',\n",
       "   'config': {'name': '12',\n",
       "    'trainable': True,\n",
       "    'units': 10,\n",
       "    'activation': 'linear',\n",
       "    'use_bias': True,\n",
       "    'kernel_initializer': {'class_name': 'Zeros', 'config': {}},\n",
       "    'bias_initializer': {'class_name': 'Zeros', 'config': {}},\n",
       "    'kernel_regularizer': None,\n",
       "    'bias_regularizer': None,\n",
       "    'activity_regularizer': None,\n",
       "    'kernel_constraint': None,\n",
       "    'bias_constraint': None},\n",
       "   'inbound_nodes': [[['12_reshape', 0, 0, {}]]]},\n",
       "  {'name': '13',\n",
       "   'class_name': 'Activation',\n",
       "   'config': {'name': '13', 'trainable': True, 'activation': 'relu'},\n",
       "   'inbound_nodes': [[['12', 0, 0, {}]]]},\n",
       "  {'name': 'test_output',\n",
       "   'class_name': 'Dense',\n",
       "   'config': {'name': 'test_output',\n",
       "    'trainable': True,\n",
       "    'units': 1,\n",
       "    'activation': 'linear',\n",
       "    'use_bias': True,\n",
       "    'kernel_initializer': {'class_name': 'Zeros', 'config': {}},\n",
       "    'bias_initializer': {'class_name': 'Zeros', 'config': {}},\n",
       "    'kernel_regularizer': None,\n",
       "    'bias_regularizer': None,\n",
       "    'activity_regularizer': None,\n",
       "    'kernel_constraint': None,\n",
       "    'bias_constraint': None},\n",
       "   'inbound_nodes': [[['13', 0, 0, {}]]]}],\n",
       " 'input_layers': [['test_input', 0, 0]],\n",
       " 'output_layers': [['test_output', 0, 0]]}"
      ]
     },
     "execution_count": 84,
     "metadata": {},
     "output_type": "execute_result"
    }
   ],
   "source": [
    "print(\"Regular Keras model\")\n",
    "print(jtest)\n",
    "print(jtest.summary())\n",
    "jtest.get_config()"
   ]
  },
  {
   "cell_type": "code",
   "execution_count": 85,
   "metadata": {},
   "outputs": [
    {
     "data": {
      "text/plain": [
       "<tensorflow.python.keras.engine.training.Model at 0x7f665526ced0>"
      ]
     },
     "execution_count": 85,
     "metadata": {},
     "output_type": "execute_result"
    }
   ],
   "source": [
    "k_cnn_model"
   ]
  },
  {
   "cell_type": "markdown",
   "metadata": {},
   "source": [
    "## Recs from Johannes"
   ]
  },
  {
   "cell_type": "code",
   "execution_count": 86,
   "metadata": {},
   "outputs": [],
   "source": [
    "# make input with new layer with 4 dimensions, then a lambda layer to remove it?\n",
    "new_input = Input(shape=(1, SEQ_LEN, 4))\n",
    "removed_ax = Lambda(lambda x: x[:, 0, ...])(new_input)\n",
    "new_output = jtest_reload(removed_ax)\n",
    "new_jtest_reload = Model([new_input], [new_output])"
   ]
  },
  {
   "cell_type": "code",
   "execution_count": 87,
   "metadata": {},
   "outputs": [
    {
     "name": "stdout",
     "output_type": "stream",
     "text": [
      "_________________________________________________________________\n",
      "Layer (type)                 Output Shape              Param #   \n",
      "=================================================================\n",
      "input_1 (InputLayer)         (None, 1, 8, 4)           0         \n",
      "_________________________________________________________________\n",
      "lambda_7 (Lambda)            (None, 8, 4)              0         \n",
      "_________________________________________________________________\n",
      "model_1 (Model)              (None, 1)                 2284      \n",
      "=================================================================\n",
      "Total params: 2,284\n",
      "Trainable params: 2,284\n",
      "Non-trainable params: 0\n",
      "_________________________________________________________________\n"
     ]
    }
   ],
   "source": [
    "new_jtest_reload.summary()"
   ]
  },
  {
   "cell_type": "code",
   "execution_count": 88,
   "metadata": {},
   "outputs": [
    {
     "name": "stdout",
     "output_type": "stream",
     "text": [
      "_________________________________________________________________\n",
      "Layer (type)                 Output Shape              Param #   \n",
      "=================================================================\n",
      "test_input (InputLayer)      (None, 8, 4)              0         \n",
      "_________________________________________________________________\n",
      "7 (Permute)                  (None, 4, 8)              0         \n",
      "_________________________________________________________________\n",
      "8 (Lambda)                   (None, 1, 4, 8)           0         \n",
      "_________________________________________________________________\n",
      "9 (Conv2D)                   (None, 31, 1, 6)          403       \n",
      "_________________________________________________________________\n",
      "10 (Activation)              (None, 31, 1, 6)          0         \n",
      "_________________________________________________________________\n",
      "11 (Reshape)                 (None, 186)               0         \n",
      "_________________________________________________________________\n",
      "12_reshape (Reshape)         (None, 186)               0         \n",
      "_________________________________________________________________\n",
      "12 (Dense)                   (None, 10)                1870      \n",
      "_________________________________________________________________\n",
      "13 (Activation)              (None, 10)                0         \n",
      "_________________________________________________________________\n",
      "test_output (Dense)          (None, 1)                 11        \n",
      "=================================================================\n",
      "Total params: 2,284\n",
      "Trainable params: 2,284\n",
      "Non-trainable params: 0\n",
      "_________________________________________________________________\n"
     ]
    }
   ],
   "source": [
    "jtest_reload.summary()"
   ]
  },
  {
   "cell_type": "code",
   "execution_count": 89,
   "metadata": {},
   "outputs": [
    {
     "name": "stdout",
     "output_type": "stream",
     "text": [
      "SCRAMBLER INITIATED!!\n",
      "IN SCRAMBLER TRAIN!\n",
      "predictor is compiled??\n",
      "<keras.engine.training.Model object at 0x7f62cdd9b8d0>\n",
      "Scrambler has created inputs...\n",
      "Starting to build lambda stuff?\n",
      "About to predict stuff...\n",
      "Inflating?\n",
      "Calculating NLL / error?\n",
      "Calculated NLL?: Tensor(\"nll_1/mul:0\", shape=(32,), dtype=float32)\n",
      "Made Loss Model\n",
      "Compiled loss model: <keras.engine.training.Model object at 0x7f62c1d7d310>\n",
      "label train and test? [] []\n",
      "APPENDING to callbacks\n",
      "Fitting loss model...\n",
      "\tgroup train 1 (52416, 1)\n",
      "\tx train 1 (52416, 1, 8, 4)\n",
      "\tdrop train 0 []\n",
      "\tlabel train 0 []\n",
      "\n",
      "n epochs: 10\n",
      "batch size: 32\n",
      "callbacks: [<scrambler.models.scrambler_models.ScramblerMonitor object at 0x7f62c1c83e10>]\n",
      "Train on 52416 samples, validate on 13088 samples\n",
      "Epoch 1/10\n",
      "52416/52416 [==============================] - 50s 962us/step - loss: 10.0520 - nll_loss: 7.5953 - entropy_loss: 2.4567 - val_loss: 6.4776 - val_nll_loss: 5.0591 - val_entropy_loss: 1.4185\n",
      "Epoch 2/10\n",
      "52416/52416 [==============================] - 46s 870us/step - loss: 6.1824 - nll_loss: 4.7630 - entropy_loss: 1.4194 - val_loss: 5.8685 - val_nll_loss: 4.4789 - val_entropy_loss: 1.3896\n",
      "Epoch 3/10\n",
      "52416/52416 [==============================] - 45s 856us/step - loss: 5.8381 - nll_loss: 4.4924 - entropy_loss: 1.3457 - val_loss: 5.6760 - val_nll_loss: 4.4258 - val_entropy_loss: 1.2503\n",
      "Epoch 4/10\n",
      "52416/52416 [==============================] - 45s 857us/step - loss: 5.6503 - nll_loss: 4.3218 - entropy_loss: 1.3284 - val_loss: 5.6003 - val_nll_loss: 4.3157 - val_entropy_loss: 1.2846\n",
      "Epoch 5/10\n",
      "52416/52416 [==============================] - 45s 852us/step - loss: 5.5835 - nll_loss: 4.2632 - entropy_loss: 1.3202 - val_loss: 5.5306 - val_nll_loss: 4.3095 - val_entropy_loss: 1.2211\n",
      "Epoch 6/10\n",
      "52416/52416 [==============================] - 45s 857us/step - loss: 5.5318 - nll_loss: 4.2132 - entropy_loss: 1.3186 - val_loss: 5.4995 - val_nll_loss: 4.3350 - val_entropy_loss: 1.1646\n",
      "Epoch 7/10\n",
      "52416/52416 [==============================] - 45s 855us/step - loss: 5.4999 - nll_loss: 4.1847 - entropy_loss: 1.3152 - val_loss: 5.4529 - val_nll_loss: 4.1695 - val_entropy_loss: 1.2834\n",
      "Epoch 8/10\n",
      "52416/52416 [==============================] - 45s 862us/step - loss: 5.4689 - nll_loss: 4.1700 - entropy_loss: 1.2989 - val_loss: 5.4259 - val_nll_loss: 4.1877 - val_entropy_loss: 1.2382\n",
      "Epoch 9/10\n",
      "52416/52416 [==============================] - 44s 847us/step - loss: 5.4704 - nll_loss: 4.1648 - entropy_loss: 1.3056 - val_loss: 5.4063 - val_nll_loss: 4.1989 - val_entropy_loss: 1.2074\n",
      "Epoch 10/10\n",
      "52416/52416 [==============================] - 45s 852us/step - loss: 5.4361 - nll_loss: 4.1367 - entropy_loss: 1.2994 - val_loss: 5.4035 - val_nll_loss: 4.2535 - val_entropy_loss: 1.1500\n",
      "Done creating train history\n",
      "returning....\n"
     ]
    },
    {
     "data": {
      "image/png": "[encoded data removed]",
      "text/plain": [
       "<Figure size 576x216 with 2 Axes>"
      ]
     },
     "metadata": {
      "needs_background": "light"
     },
     "output_type": "display_data"
    },
    {
     "name": "stdout",
     "output_type": "stream",
     "text": [
      "Saved scrambler model at saved_models/mer8motif_model_cnn_inclusion_scrambler_bits_0125_epochs_10.h5 \n"
     ]
    }
   ],
   "source": [
    "cnn_scr, cnn_scr_train_hist = train_scrambler_on_model(new_jtest_reload)\n",
    "model_name = 'mer8motif_model_cnn_inclusion_scrambler_bits_0125_epochs_10'\n",
    "save_scrambler(cnn_scr, cnn_scr_train_hist, model_name)"
   ]
  },
  {
   "cell_type": "code",
   "execution_count": 90,
   "metadata": {
    "scrolled": false
   },
   "outputs": [
    {
     "name": "stdout",
     "output_type": "stream",
     "text": [
      "13088/13088 [==============================] - 2s 176us/step\n",
      "Test sequence 4:\n",
      "seq (1, 1, 8, 4) [[[[1. 0. 0. 0.]\n",
      "   [1. 0. 0. 0.]\n",
      "   [1. 0. 0. 0.]\n",
      "   [1. 0. 0. 0.]\n",
      "   [1. 0. 0. 0.]\n",
      "   [0. 1. 0. 0.]\n",
      "   [0. 0. 1. 0.]\n",
      "   [1. 0. 0. 0.]]]]\n",
      "seq1 (1, 8, 4) [[[1. 0. 0. 0.]\n",
      "  [1. 0. 0. 0.]\n",
      "  [1. 0. 0. 0.]\n",
      "  [1. 0. 0. 0.]\n",
      "  [1. 0. 0. 0.]\n",
      "  [0. 1. 0. 0.]\n",
      "  [0. 0. 1. 0.]\n",
      "  [1. 0. 0. 0.]]]\n",
      " - Prediction (original) = 18.8\n",
      " - Predictions (scrambled) = [17.0, 15.8, 16.3, 17.1, 16.2, 16.6, 17.4, 17.8, 18.1, 16.7, 16.9, 17.3, 14.3, 15.1, 14.6, 17.5, 16.5, 15.1, 17.8, 17.0, 15.6, 16.3, 16.4, 16.2, 22.8, 16.8, 15.3, 15.6, 16.7, 17.4, 16.1, 14.1]\n"
     ]
    },
    {
     "data": {
      "image/png": "[encoded data removed]",
      "text/plain": [
       "<Figure size 360x72 with 1 Axes>"
      ]
     },
     "metadata": {},
     "output_type": "display_data"
    },
    {
     "data": {
      "image/png": "[encoded data removed]",
      "text/plain": [
       "<Figure size 360x72 with 1 Axes>"
      ]
     },
     "metadata": {},
     "output_type": "display_data"
    },
    {
     "data": {
      "image/png": "[encoded data removed]",
      "text/plain": [
       "<Figure size 360x72 with 1 Axes>"
      ]
     },
     "metadata": {
      "needs_background": "light"
     },
     "output_type": "display_data"
    },
    {
     "name": "stdout",
     "output_type": "stream",
     "text": [
      "Test sequence 133:\n",
      "seq (1, 1, 8, 4) [[[[1. 0. 0. 0.]\n",
      "   [1. 0. 0. 0.]\n",
      "   [1. 0. 0. 0.]\n",
      "   [0. 0. 1. 0.]\n",
      "   [0. 1. 0. 0.]\n",
      "   [0. 0. 1. 0.]\n",
      "   [1. 0. 0. 0.]\n",
      "   [1. 0. 0. 0.]]]]\n",
      "seq1 (1, 8, 4) [[[1. 0. 0. 0.]\n",
      "  [1. 0. 0. 0.]\n",
      "  [1. 0. 0. 0.]\n",
      "  [0. 0. 1. 0.]\n",
      "  [0. 1. 0. 0.]\n",
      "  [0. 0. 1. 0.]\n",
      "  [1. 0. 0. 0.]\n",
      "  [1. 0. 0. 0.]]]\n",
      " - Prediction (original) = 8.22\n",
      " - Predictions (scrambled) = [6.05, 14.8, 13.0, 6.72, 6.6, 15.5, 7.87, 6.92, 5.22, 6.32, 5.8, 14.5, 7.23, 6.63, 12.4, 5.39, 6.34, 11.5, 5.64, 15.9, 6.85, 13.2, 6.63, 6.56, 5.87, 11.3, 6.68, 6.55, 6.92, 13.0, 6.93, 11.9]\n"
     ]
    },
    {
     "data": {
      "image/png": "[encoded data removed]",
      "text/plain": [
       "<Figure size 360x72 with 1 Axes>"
      ]
     },
     "metadata": {},
     "output_type": "display_data"
    },
    {
     "data": {
      "image/png": "[encoded data removed]",
      "text/plain": [
       "<Figure size 360x72 with 1 Axes>"
      ]
     },
     "metadata": {},
     "output_type": "display_data"
    },
    {
     "data": {
      "image/png": "[encoded data removed]",
      "text/plain": [
       "<Figure size 360x72 with 1 Axes>"
      ]
     },
     "metadata": {
      "needs_background": "light"
     },
     "output_type": "display_data"
    },
    {
     "name": "stdout",
     "output_type": "stream",
     "text": [
      "Test sequence 97:\n",
      "seq (1, 1, 8, 4) [[[[1. 0. 0. 0.]\n",
      "   [1. 0. 0. 0.]\n",
      "   [1. 0. 0. 0.]\n",
      "   [0. 1. 0. 0.]\n",
      "   [0. 0. 0. 1.]\n",
      "   [1. 0. 0. 0.]\n",
      "   [0. 0. 0. 1.]\n",
      "   [0. 1. 0. 0.]]]]\n",
      "seq1 (1, 8, 4) [[[1. 0. 0. 0.]\n",
      "  [1. 0. 0. 0.]\n",
      "  [1. 0. 0. 0.]\n",
      "  [0. 1. 0. 0.]\n",
      "  [0. 0. 0. 1.]\n",
      "  [1. 0. 0. 0.]\n",
      "  [0. 0. 0. 1.]\n",
      "  [0. 1. 0. 0.]]]\n",
      " - Prediction (original) = 26.5\n",
      " - Predictions (scrambled) = [23.2, 25.3, 25.7, 24.4, 25.1, 26.0, 26.1, 25.7, 24.7, 24.1, 25.5, 24.4, 25.7, 26.1, 24.9, 25.4, 25.3, 25.7, 25.7, 25.2, 25.7, 24.3, 25.7, 25.6, 25.7, 24.3, 25.6, 25.7, 24.3, 25.3, 23.9, 26.4]\n"
     ]
    },
    {
     "data": {
      "image/png": "[encoded data removed]",
      "text/plain": [
       "<Figure size 360x72 with 1 Axes>"
      ]
     },
     "metadata": {},
     "output_type": "display_data"
    },
    {
     "data": {
      "image/png": "[encoded data removed]",
      "text/plain": [
       "<Figure size 360x72 with 1 Axes>"
      ]
     },
     "metadata": {},
     "output_type": "display_data"
    },
    {
     "data": {
      "image/png": "[encoded data removed]",
      "text/plain": [
       "<Figure size 360x72 with 1 Axes>"
      ]
     },
     "metadata": {
      "needs_background": "light"
     },
     "output_type": "display_data"
    },
    {
     "name": "stdout",
     "output_type": "stream",
     "text": [
      "Test sequence 99:\n",
      "seq (1, 1, 8, 4) [[[[1. 0. 0. 0.]\n",
      "   [1. 0. 0. 0.]\n",
      "   [1. 0. 0. 0.]\n",
      "   [0. 1. 0. 0.]\n",
      "   [0. 0. 0. 1.]\n",
      "   [0. 1. 0. 0.]\n",
      "   [1. 0. 0. 0.]\n",
      "   [1. 0. 0. 0.]]]]\n",
      "seq1 (1, 8, 4) [[[1. 0. 0. 0.]\n",
      "  [1. 0. 0. 0.]\n",
      "  [1. 0. 0. 0.]\n",
      "  [0. 1. 0. 0.]\n",
      "  [0. 0. 0. 1.]\n",
      "  [0. 1. 0. 0.]\n",
      "  [1. 0. 0. 0.]\n",
      "  [1. 0. 0. 0.]]]\n",
      " - Prediction (original) = 18.1\n",
      " - Predictions (scrambled) = [17.1, 15.3, 14.8, 13.8, 17.6, 18.0, 17.3, 17.4, 17.6, 16.7, 14.2, 17.4, 16.5, 16.6, 15.9, 16.5, 18.3, 16.5, 16.5, 15.8, 18.0, 16.9, 14.0, 17.3, 22.6, 17.0, 15.8, 19.1, 17.0, 16.4, 15.5, 15.4]\n"
     ]
    },
    {
     "data": {
      "image/png": "[encoded data removed]",
      "text/plain": [
       "<Figure size 360x72 with 1 Axes>"
      ]
     },
     "metadata": {},
     "output_type": "display_data"
    },
    {
     "data": {
      "image/png": "[encoded data removed]",
      "text/plain": [
       "<Figure size 360x72 with 1 Axes>"
      ]
     },
     "metadata": {},
     "output_type": "display_data"
    },
    {
     "data": {
      "image/png": "[encoded data removed]",
      "text/plain": [
       "<Figure size 360x72 with 1 Axes>"
      ]
     },
     "metadata": {
      "needs_background": "light"
     },
     "output_type": "display_data"
    },
    {
     "name": "stdout",
     "output_type": "stream",
     "text": [
      "Test sequence 13074:\n",
      "seq (1, 1, 8, 4) [[[[0. 0. 0. 1.]\n",
      "   [0. 0. 0. 1.]\n",
      "   [0. 0. 0. 1.]\n",
      "   [0. 0. 0. 1.]\n",
      "   [1. 0. 0. 0.]\n",
      "   [0. 0. 0. 1.]\n",
      "   [1. 0. 0. 0.]\n",
      "   [0. 0. 1. 0.]]]]\n",
      "seq1 (1, 8, 4) [[[0. 0. 0. 1.]\n",
      "  [0. 0. 0. 1.]\n",
      "  [0. 0. 0. 1.]\n",
      "  [0. 0. 0. 1.]\n",
      "  [1. 0. 0. 0.]\n",
      "  [0. 0. 0. 1.]\n",
      "  [1. 0. 0. 0.]\n",
      "  [0. 0. 1. 0.]]]\n",
      " - Prediction (original) = 23.6\n",
      " - Predictions (scrambled) = [26.3, 19.2, 25.5, 23.8, 22.8, 22.7, 22.3, 25.8, 17.8, 23.1, 23.9, 25.1, 25.0, 26.3, 25.8, 14.7, 17.6, 25.5, 25.2, 23.6, 14.8, 16.9, 25.2, 25.9, 26.4, 21.8, 25.0, 20.8, 24.5, 25.4, 26.3, 22.9]\n"
     ]
    },
    {
     "data": {
      "image/png": "[encoded data removed]",
      "text/plain": [
       "<Figure size 360x72 with 1 Axes>"
      ]
     },
     "metadata": {},
     "output_type": "display_data"
    },
    {
     "data": {
      "image/png": "[encoded data removed]",
      "text/plain": [
       "<Figure size 360x72 with 1 Axes>"
      ]
     },
     "metadata": {},
     "output_type": "display_data"
    },
    {
     "data": {
      "image/png": "[encoded data removed]",
      "text/plain": [
       "<Figure size 360x72 with 1 Axes>"
      ]
     },
     "metadata": {
      "needs_background": "light"
     },
     "output_type": "display_data"
    },
    {
     "name": "stdout",
     "output_type": "stream",
     "text": [
      "Test sequence 13075:\n",
      "seq (1, 1, 8, 4) [[[[0. 0. 0. 1.]\n",
      "   [0. 0. 0. 1.]\n",
      "   [0. 0. 0. 1.]\n",
      "   [0. 0. 0. 1.]\n",
      "   [0. 1. 0. 0.]\n",
      "   [1. 0. 0. 0.]\n",
      "   [0. 1. 0. 0.]\n",
      "   [0. 0. 1. 0.]]]]\n",
      "seq1 (1, 8, 4) [[[0. 0. 0. 1.]\n",
      "  [0. 0. 0. 1.]\n",
      "  [0. 0. 0. 1.]\n",
      "  [0. 0. 0. 1.]\n",
      "  [0. 1. 0. 0.]\n",
      "  [1. 0. 0. 0.]\n",
      "  [0. 1. 0. 0.]\n",
      "  [0. 0. 1. 0.]]]\n",
      " - Prediction (original) = 13.9\n",
      " - Predictions (scrambled) = [18.6, 14.9, 14.6, 18.1, 15.9, 13.2, 14.1, 16.8, 14.8, 15.9, 15.4, 15.3, 14.2, 15.7, 22.0, 19.9, 13.7, 14.4, 15.8, 15.0, 14.9, 15.3, 15.7, 14.8, 16.2, 20.9, 14.5, 14.3, 15.8, 15.6, 16.4, 14.6]\n"
     ]
    },
    {
     "data": {
      "image/png": "[encoded data removed]",
      "text/plain": [
       "<Figure size 360x72 with 1 Axes>"
      ]
     },
     "metadata": {},
     "output_type": "display_data"
    },
    {
     "data": {
      "image/png": "[encoded data removed]",
      "text/plain": [
       "<Figure size 360x72 with 1 Axes>"
      ]
     },
     "metadata": {},
     "output_type": "display_data"
    },
    {
     "data": {
      "image/png": "[encoded data removed]",
      "text/plain": [
       "<Figure size 360x72 with 1 Axes>"
      ]
     },
     "metadata": {
      "needs_background": "light"
     },
     "output_type": "display_data"
    },
    {
     "name": "stdout",
     "output_type": "stream",
     "text": [
      "Test sequence 578:\n",
      "seq (1, 1, 8, 4) [[[[1. 0. 0. 0.]\n",
      "   [1. 0. 0. 0.]\n",
      "   [0. 0. 1. 0.]\n",
      "   [0. 0. 1. 0.]\n",
      "   [0. 0. 0. 1.]\n",
      "   [0. 0. 0. 1.]\n",
      "   [1. 0. 0. 0.]\n",
      "   [0. 0. 0. 1.]]]]\n",
      "seq1 (1, 8, 4) [[[1. 0. 0. 0.]\n",
      "  [1. 0. 0. 0.]\n",
      "  [0. 0. 1. 0.]\n",
      "  [0. 0. 1. 0.]\n",
      "  [0. 0. 0. 1.]\n",
      "  [0. 0. 0. 1.]\n",
      "  [1. 0. 0. 0.]\n",
      "  [0. 0. 0. 1.]]]\n",
      " - Prediction (original) = 25.1\n",
      " - Predictions (scrambled) = [25.7, 24.9, 24.9, 26.0, 24.9, 25.0, 25.5, 25.7, 24.2, 26.0, 25.1, 25.7, 24.6, 26.1, 24.3, 25.0, 24.6, 25.3, 23.4, 25.7, 25.3, 25.0, 24.7, 24.5, 25.8, 25.8, 26.2, 25.3, 24.5, 24.5, 24.9, 26.0]\n"
     ]
    },
    {
     "data": {
      "image/png": "[encoded data removed]",
      "text/plain": [
       "<Figure size 360x72 with 1 Axes>"
      ]
     },
     "metadata": {},
     "output_type": "display_data"
    },
    {
     "data": {
      "image/png": "[encoded data removed]",
      "text/plain": [
       "<Figure size 360x72 with 1 Axes>"
      ]
     },
     "metadata": {},
     "output_type": "display_data"
    },
    {
     "data": {
      "image/png": "[encoded data removed]",
      "text/plain": [
       "<Figure size 360x72 with 1 Axes>"
      ]
     },
     "metadata": {
      "needs_background": "light"
     },
     "output_type": "display_data"
    },
    {
     "name": "stdout",
     "output_type": "stream",
     "text": [
      "Test sequence 579:\n",
      "seq (1, 1, 8, 4) [[[[1. 0. 0. 0.]\n",
      "   [1. 0. 0. 0.]\n",
      "   [0. 0. 1. 0.]\n",
      "   [0. 0. 1. 0.]\n",
      "   [0. 0. 0. 1.]\n",
      "   [0. 0. 0. 1.]\n",
      "   [0. 0. 0. 1.]\n",
      "   [0. 1. 0. 0.]]]]\n",
      "seq1 (1, 8, 4) [[[1. 0. 0. 0.]\n",
      "  [1. 0. 0. 0.]\n",
      "  [0. 0. 1. 0.]\n",
      "  [0. 0. 1. 0.]\n",
      "  [0. 0. 0. 1.]\n",
      "  [0. 0. 0. 1.]\n",
      "  [0. 0. 0. 1.]\n",
      "  [0. 1. 0. 0.]]]\n",
      " - Prediction (original) = 14.7\n",
      " - Predictions (scrambled) = [17.5, 14.7, 13.8, 15.1, 23.6, 22.7, 14.1, 14.9, 18.7, 16.5, 15.0, 15.6, 16.3, 22.0, 14.1, 15.9, 15.0, 15.5, 15.4, 15.0, 15.2, 15.2, 14.3, 16.3, 13.4, 15.3, 15.1, 14.6, 17.5, 14.9, 17.7, 10.9]\n"
     ]
    },
    {
     "data": {
      "image/png": "[encoded data removed]",
      "text/plain": [
       "<Figure size 360x72 with 1 Axes>"
      ]
     },
     "metadata": {},
     "output_type": "display_data"
    },
    {
     "data": {
      "image/png": "[encoded data removed]",
      "text/plain": [
       "<Figure size 360x72 with 1 Axes>"
      ]
     },
     "metadata": {},
     "output_type": "display_data"
    },
    {
     "data": {
      "image/png": "[encoded data removed]",
      "text/plain": [
       "<Figure size 360x72 with 1 Axes>"
      ]
     },
     "metadata": {
      "needs_background": "light"
     },
     "output_type": "display_data"
    },
    {
     "name": "stdout",
     "output_type": "stream",
     "text": [
      "Test sequence 438:\n",
      "seq (1, 1, 8, 4) [[[[1. 0. 0. 0.]\n",
      "   [1. 0. 0. 0.]\n",
      "   [0. 0. 1. 0.]\n",
      "   [1. 0. 0. 0.]\n",
      "   [0. 1. 0. 0.]\n",
      "   [0. 0. 1. 0.]\n",
      "   [0. 1. 0. 0.]\n",
      "   [0. 0. 1. 0.]]]]\n",
      "seq1 (1, 8, 4) [[[1. 0. 0. 0.]\n",
      "  [1. 0. 0. 0.]\n",
      "  [0. 0. 1. 0.]\n",
      "  [1. 0. 0. 0.]\n",
      "  [0. 1. 0. 0.]\n",
      "  [0. 0. 1. 0.]\n",
      "  [0. 1. 0. 0.]\n",
      "  [0. 0. 1. 0.]]]\n",
      " - Prediction (original) = 7.12\n",
      " - Predictions (scrambled) = [6.93, 4.92, 5.92, 5.83, 4.94, 3.66, 6.24, 5.37, 5.5, 5.16, 5.95, 5.81, 6.39, 5.62, 5.09, 10.4, 5.51, 4.87, 6.75, 6.57, 4.84, 6.57, 4.84, 5.17, 7.52, 5.36, 5.54, 6.25, 6.03, 5.37, 5.91, 5.54]\n"
     ]
    },
    {
     "data": {
      "image/png": "[encoded data removed]",
      "text/plain": [
       "<Figure size 360x72 with 1 Axes>"
      ]
     },
     "metadata": {},
     "output_type": "display_data"
    },
    {
     "data": {
      "image/png": "[encoded data removed]",
      "text/plain": [
       "<Figure size 360x72 with 1 Axes>"
      ]
     },
     "metadata": {},
     "output_type": "display_data"
    },
    {
     "data": {
      "image/png": "[encoded data removed]",
      "text/plain": [
       "<Figure size 360x72 with 1 Axes>"
      ]
     },
     "metadata": {
      "needs_background": "light"
     },
     "output_type": "display_data"
    },
    {
     "name": "stdout",
     "output_type": "stream",
     "text": [
      "Test sequence 439:\n",
      "seq (1, 1, 8, 4) [[[[1. 0. 0. 0.]\n",
      "   [1. 0. 0. 0.]\n",
      "   [0. 0. 1. 0.]\n",
      "   [1. 0. 0. 0.]\n",
      "   [0. 1. 0. 0.]\n",
      "   [0. 0. 1. 0.]\n",
      "   [0. 0. 1. 0.]\n",
      "   [0. 1. 0. 0.]]]]\n",
      "seq1 (1, 8, 4) [[[1. 0. 0. 0.]\n",
      "  [1. 0. 0. 0.]\n",
      "  [0. 0. 1. 0.]\n",
      "  [1. 0. 0. 0.]\n",
      "  [0. 1. 0. 0.]\n",
      "  [0. 0. 1. 0.]\n",
      "  [0. 0. 1. 0.]\n",
      "  [0. 1. 0. 0.]]]\n",
      " - Prediction (original) = 17.0\n",
      " - Predictions (scrambled) = [17.4, 16.7, 16.2, 16.8, 15.9, 15.7, 16.2, 17.2, 15.5, 13.7, 16.5, 15.2, 17.0, 16.1, 18.1, 17.1, 16.5, 14.4, 19.0, 16.1, 14.0, 12.8, 15.7, 15.7, 17.7, 14.9, 16.2, 16.7, 16.9, 16.7, 15.3, 15.6]\n"
     ]
    },
    {
     "data": {
      "image/png": "[encoded data removed]",
      "text/plain": [
       "<Figure size 360x72 with 1 Axes>"
      ]
     },
     "metadata": {},
     "output_type": "display_data"
    },
    {
     "data": {
      "image/png": "[encoded data removed]",
      "text/plain": [
       "<Figure size 360x72 with 1 Axes>"
      ]
     },
     "metadata": {},
     "output_type": "display_data"
    },
    {
     "data": {
      "image/png": "[encoded data removed]",
      "text/plain": [
       "<Figure size 360x72 with 1 Axes>"
      ]
     },
     "metadata": {
      "needs_background": "light"
     },
     "output_type": "display_data"
    }
   ],
   "source": [
    "viz_scrambler_results(new_jtest_reload, cnn_scr, cnn=True)"
   ]
  },
  {
   "cell_type": "code",
   "execution_count": null,
   "metadata": {},
   "outputs": [],
   "source": []
  },
  {
   "cell_type": "code",
   "execution_count": null,
   "metadata": {},
   "outputs": [],
   "source": []
  },
  {
   "cell_type": "code",
   "execution_count": null,
   "metadata": {},
   "outputs": [],
   "source": []
  },
  {
   "cell_type": "code",
   "execution_count": null,
   "metadata": {},
   "outputs": [],
   "source": []
  },
  {
   "cell_type": "code",
   "execution_count": 131,
   "metadata": {},
   "outputs": [
    {
     "data": {
      "text/plain": [
       "(1, 8, 4)"
      ]
     },
     "execution_count": 131,
     "metadata": {},
     "output_type": "execute_result"
    }
   ],
   "source": [
    "x_test[4:5, ...][0].shape"
   ]
  },
  {
   "cell_type": "code",
   "execution_count": 134,
   "metadata": {},
   "outputs": [
    {
     "data": {
      "text/plain": [
       "[array([[[[1., 0., 0., 0.],\n",
       "          [1., 0., 0., 0.],\n",
       "          [1., 0., 0., 0.],\n",
       "          [1., 0., 0., 0.],\n",
       "          [1., 0., 0., 0.],\n",
       "          [0., 1., 0., 0.],\n",
       "          [0., 0., 1., 0.],\n",
       "          [1., 0., 0., 0.]]]])]"
      ]
     },
     "execution_count": 134,
     "metadata": {},
     "output_type": "execute_result"
    }
   ],
   "source": [
    "[x_test[4:5, ...]]"
   ]
  },
  {
   "cell_type": "code",
   "execution_count": null,
   "metadata": {},
   "outputs": [],
   "source": []
  },
  {
   "cell_type": "code",
   "execution_count": null,
   "metadata": {},
   "outputs": [],
   "source": []
  },
  {
   "cell_type": "code",
   "execution_count": null,
   "metadata": {},
   "outputs": [],
   "source": []
  }
 ],
 "metadata": {
  "kernelspec": {
   "display_name": "Python 3",
   "language": "python",
   "name": "python3"
  },
  "language_info": {
   "codemirror_mode": {
    "name": "ipython",
    "version": 3
   },
   "file_extension": ".py",
   "mimetype": "text/x-python",
   "name": "python",
   "nbconvert_exporter": "python",
   "pygments_lexer": "ipython3",
   "version": "3.7.10"
  }
 },
 "nbformat": 4,
 "nbformat_minor": 4
}
