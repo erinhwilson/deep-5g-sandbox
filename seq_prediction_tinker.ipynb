{
 "cells": [
  {
   "cell_type": "markdown",
   "metadata": {},
   "source": [
    "# sequence prediction sandbox\n"
   ]
  },
  {
   "cell_type": "code",
   "execution_count": 1,
   "metadata": {},
   "outputs": [],
   "source": [
    "import torch\n",
    "from torch.utils.data import TensorDataset,DataLoader\n",
    "from torch import nn\n",
    "\n",
    "import math\n",
    "import matplotlib.pyplot as plt\n",
    "import numpy as np\n",
    "import pandas as pd\n",
    "import random\n",
    "random.seed(7) #10\n",
    "\n",
    "import utils as u"
   ]
  },
  {
   "cell_type": "markdown",
   "metadata": {},
   "source": [
    "## Load data "
   ]
  },
  {
   "cell_type": "code",
   "execution_count": 2,
   "metadata": {},
   "outputs": [],
   "source": [
    "def load_data(\n",
    "        upstream_region_file,\n",
    "        data_mat_file, \n",
    "        sample2cond_file, \n",
    "        sample_file, \n",
    "        condition_file,\n",
    "        coded_meta_file\n",
    "        ):\n",
    "    '''\n",
    "    Wrapper function to load data from files into relavent objects\n",
    "    '''\n",
    "    # load upstream seq regions\n",
    "    seqs = u.load_promoter_seqs(upstream_region_file)\n",
    "    loc2seq = dict([(x,z) for (x,y,z) in seqs])\n",
    "    \n",
    "    # load TPM data\n",
    "    tpm_df = pd.read_csv(data_mat_file,sep='\\t').fillna('')\n",
    "\n",
    "    \n",
    "    # load mapping from sample to condition\n",
    "    with open(sample2cond_file,'r') as f:\n",
    "        sample2condition = dict(x.strip().split() for x in f.readlines())\n",
    "\n",
    "    \n",
    "    # load sample to include file\n",
    "    if sample_file:\n",
    "        with open(sample_file,'r') as f:\n",
    "            samples = list(x.strip() for x in f.readlines())\n",
    "    # if none provided, just use all the samples from the sample2condition dict\n",
    "    else: \n",
    "        samples = list(sample2condition.keys())\n",
    "\n",
    "        \n",
    "    # load the conditions to include file\n",
    "    if condition_file:\n",
    "        with open(condition_file,'r') as f:\n",
    "            conditions = list(x.strip() for x in f.readlines())\n",
    "    # if none provided, just use all the conditions\n",
    "    else:\n",
    "        conditions = list(set([sample2condition[x] for x in sample2condition]))\n",
    "\n",
    "    # load coded metadata file\n",
    "    meta_df = pd.read_csv(coded_meta_file,sep='\\t')\n",
    "    meta_df['sample'] = meta_df['#sample']+'_tpm'\n",
    "\n",
    "    return loc2seq, tpm_df, sample2condition, samples, conditions, meta_df"
   ]
  },
  {
   "cell_type": "code",
   "execution_count": 3,
   "metadata": {},
   "outputs": [],
   "source": [
    "upstream_region_file = 'all_seq_info/all_loci_upstream_regions_w100_min20.fa'\n",
    "data_mat_file = 'data/extract_TPM_counts.tsv'\n",
    "sample2cond_file = 'data/sample2condition.txt'\n",
    "sample_file = None\n",
    "condition_file = 'data/conditions_to_include.txt'\n",
    "coded_meta_file = 'data/5G_exp_metadata_coded.tsv'\n",
    "COND_COLS = ['carbon_source','oxygen_level','nitrate_level','copper_level','lanthanum_level','growth_rate','growth_mode']\n",
    "\n",
    "\n",
    "loc2seq, tpm_df, sample2condition, samples, conditions, meta_df = load_data(\n",
    "    upstream_region_file,\n",
    "    data_mat_file, \n",
    "    sample2cond_file, \n",
    "    sample_file, \n",
    "    condition_file,\n",
    "    coded_meta_file\n",
    ")"
   ]
  },
  {
   "cell_type": "code",
   "execution_count": 4,
   "metadata": {},
   "outputs": [],
   "source": [
    "def format_XY_dfs(tpm_df, meta_df):\n",
    "    # melt tpm df so every sample is in a row\n",
    "    tpm_melt = tpm_df[['locus_tag']+samples].melt(id_vars=['locus_tag'],var_name='sample',value_name='tpm')\n",
    "    tpm_melt['condition'] = tpm_melt['sample'].apply(lambda x: sample2condition[x])\n",
    "\n",
    "    # also add in upstream seq\n",
    "    tpm_melt['upstream_region'] = tpm_melt['locus_tag'].apply(lambda x: loc2seq[x])\n",
    "    \n",
    "    # get coded metadata conditions from meta_df\n",
    "    samp2cond_df = meta_df[['sample']+COND_COLS]\n",
    "\n",
    "    # merge back onto the tpm df\n",
    "    df = tpm_melt.merge(samp2cond_df,on='sample',how='left')\n",
    "    \n",
    "    # reformat full df\n",
    "    full_df = df[['locus_tag','upstream_region', 'sample','condition']+COND_COLS+['tpm']]\n",
    "    \n",
    "    # separate out just X (features) and Y (labels)\n",
    "    X = full_df[['locus_tag','upstream_region']+COND_COLS]\n",
    "    Y = full_df['tpm']\n",
    "    \n",
    "    return full_df,X,Y\n",
    "    "
   ]
  },
  {
   "cell_type": "code",
   "execution_count": 5,
   "metadata": {},
   "outputs": [],
   "source": [
    "full_df, X, Y = format_XY_dfs(tpm_df,meta_df)"
   ]
  },
  {
   "cell_type": "code",
   "execution_count": 6,
   "metadata": {},
   "outputs": [
    {
     "data": {
      "text/html": [
       "<div>\n",
       "<style scoped>\n",
       "    .dataframe tbody tr th:only-of-type {\n",
       "        vertical-align: middle;\n",
       "    }\n",
       "\n",
       "    .dataframe tbody tr th {\n",
       "        vertical-align: top;\n",
       "    }\n",
       "\n",
       "    .dataframe thead th {\n",
       "        text-align: right;\n",
       "    }\n",
       "</style>\n",
       "<table border=\"1\" class=\"dataframe\">\n",
       "  <thead>\n",
       "    <tr style=\"text-align: right;\">\n",
       "      <th></th>\n",
       "      <th>locus_tag</th>\n",
       "      <th>upstream_region</th>\n",
       "      <th>sample</th>\n",
       "      <th>condition</th>\n",
       "      <th>carbon_source</th>\n",
       "      <th>oxygen_level</th>\n",
       "      <th>nitrate_level</th>\n",
       "      <th>copper_level</th>\n",
       "      <th>lanthanum_level</th>\n",
       "      <th>growth_rate</th>\n",
       "      <th>growth_mode</th>\n",
       "      <th>tpm</th>\n",
       "    </tr>\n",
       "  </thead>\n",
       "  <tbody>\n",
       "    <tr>\n",
       "      <th>0</th>\n",
       "      <td>EQU24_RS00005</td>\n",
       "      <td>CGCCGGTTTATGTCAATTATGCCGGCACTGATTTGATTGCTGTATA...</td>\n",
       "      <td>5GB1_ferm_Ack_QC_tpm</td>\n",
       "      <td>lowO2_slow_growth</td>\n",
       "      <td>2</td>\n",
       "      <td>0</td>\n",
       "      <td>0</td>\n",
       "      <td>3</td>\n",
       "      <td>0</td>\n",
       "      <td>0</td>\n",
       "      <td>0</td>\n",
       "      <td>2.933003</td>\n",
       "    </tr>\n",
       "    <tr>\n",
       "      <th>1</th>\n",
       "      <td>EQU24_RS00010</td>\n",
       "      <td>AACGCCGGTTTTACAGTTCATAAGCTATTGATAAATAAAATAAAAA...</td>\n",
       "      <td>5GB1_ferm_Ack_QC_tpm</td>\n",
       "      <td>lowO2_slow_growth</td>\n",
       "      <td>2</td>\n",
       "      <td>0</td>\n",
       "      <td>0</td>\n",
       "      <td>3</td>\n",
       "      <td>0</td>\n",
       "      <td>0</td>\n",
       "      <td>0</td>\n",
       "      <td>1.607784</td>\n",
       "    </tr>\n",
       "    <tr>\n",
       "      <th>2</th>\n",
       "      <td>EQU24_RS00015</td>\n",
       "      <td>ATCGCAGTCATTATTAAATGTGGAAGCAACAAAAAAACGAGCTTGT...</td>\n",
       "      <td>5GB1_ferm_Ack_QC_tpm</td>\n",
       "      <td>lowO2_slow_growth</td>\n",
       "      <td>2</td>\n",
       "      <td>0</td>\n",
       "      <td>0</td>\n",
       "      <td>3</td>\n",
       "      <td>0</td>\n",
       "      <td>0</td>\n",
       "      <td>0</td>\n",
       "      <td>1.415515</td>\n",
       "    </tr>\n",
       "    <tr>\n",
       "      <th>3</th>\n",
       "      <td>EQU24_RS00020</td>\n",
       "      <td>AACTTAATAACTATAAAATGTTCCACGTGGAACATGGTGAAATTAA...</td>\n",
       "      <td>5GB1_ferm_Ack_QC_tpm</td>\n",
       "      <td>lowO2_slow_growth</td>\n",
       "      <td>2</td>\n",
       "      <td>0</td>\n",
       "      <td>0</td>\n",
       "      <td>3</td>\n",
       "      <td>0</td>\n",
       "      <td>0</td>\n",
       "      <td>0</td>\n",
       "      <td>3.200081</td>\n",
       "    </tr>\n",
       "    <tr>\n",
       "      <th>4</th>\n",
       "      <td>EQU24_RS00025</td>\n",
       "      <td>CTTTGCCGAACACCCCGCACCTCCACGCGTCAACAACGAAATTTGA...</td>\n",
       "      <td>5GB1_ferm_Ack_QC_tpm</td>\n",
       "      <td>lowO2_slow_growth</td>\n",
       "      <td>2</td>\n",
       "      <td>0</td>\n",
       "      <td>0</td>\n",
       "      <td>3</td>\n",
       "      <td>0</td>\n",
       "      <td>0</td>\n",
       "      <td>0</td>\n",
       "      <td>1.522728</td>\n",
       "    </tr>\n",
       "    <tr>\n",
       "      <th>...</th>\n",
       "      <td>...</td>\n",
       "      <td>...</td>\n",
       "      <td>...</td>\n",
       "      <td>...</td>\n",
       "      <td>...</td>\n",
       "      <td>...</td>\n",
       "      <td>...</td>\n",
       "      <td>...</td>\n",
       "      <td>...</td>\n",
       "      <td>...</td>\n",
       "      <td>...</td>\n",
       "      <td>...</td>\n",
       "    </tr>\n",
       "    <tr>\n",
       "      <th>412869</th>\n",
       "      <td>EQU24_RS22135</td>\n",
       "      <td>CCCGGCCGGTTTGGTCTTGTACTGGGTGGTCAACAATACGCTGTCG...</td>\n",
       "      <td>5GB1C-JG15-N-BR2_tpm</td>\n",
       "      <td>NoLanthanum</td>\n",
       "      <td>2</td>\n",
       "      <td>1</td>\n",
       "      <td>0</td>\n",
       "      <td>3</td>\n",
       "      <td>0</td>\n",
       "      <td>2</td>\n",
       "      <td>1</td>\n",
       "      <td>24.508375</td>\n",
       "    </tr>\n",
       "    <tr>\n",
       "      <th>412870</th>\n",
       "      <td>EQU24_RS22140</td>\n",
       "      <td>GCCGCCCAGGGCACCTATCTTACAGTCCGAAGAGTATTAAAGTGTC...</td>\n",
       "      <td>5GB1C-JG15-N-BR2_tpm</td>\n",
       "      <td>NoLanthanum</td>\n",
       "      <td>2</td>\n",
       "      <td>1</td>\n",
       "      <td>0</td>\n",
       "      <td>3</td>\n",
       "      <td>0</td>\n",
       "      <td>2</td>\n",
       "      <td>1</td>\n",
       "      <td>130.851229</td>\n",
       "    </tr>\n",
       "    <tr>\n",
       "      <th>412871</th>\n",
       "      <td>EQU24_RS22145</td>\n",
       "      <td>AATATTGATGTTGTTGTTATGGCCCGAAAAGATGCACTCAATGCAT...</td>\n",
       "      <td>5GB1C-JG15-N-BR2_tpm</td>\n",
       "      <td>NoLanthanum</td>\n",
       "      <td>2</td>\n",
       "      <td>1</td>\n",
       "      <td>0</td>\n",
       "      <td>3</td>\n",
       "      <td>0</td>\n",
       "      <td>2</td>\n",
       "      <td>1</td>\n",
       "      <td>66.415222</td>\n",
       "    </tr>\n",
       "    <tr>\n",
       "      <th>412872</th>\n",
       "      <td>EQU24_RS22150</td>\n",
       "      <td>AAGAACTCACGGCTTTCGTGCCAGAATGGCGACCAAAGGCGGCCGT...</td>\n",
       "      <td>5GB1C-JG15-N-BR2_tpm</td>\n",
       "      <td>NoLanthanum</td>\n",
       "      <td>2</td>\n",
       "      <td>1</td>\n",
       "      <td>0</td>\n",
       "      <td>3</td>\n",
       "      <td>0</td>\n",
       "      <td>2</td>\n",
       "      <td>1</td>\n",
       "      <td>164.123473</td>\n",
       "    </tr>\n",
       "    <tr>\n",
       "      <th>412873</th>\n",
       "      <td>EQU24_RS22155</td>\n",
       "      <td>ATCAGTGCCGGCATAATTGACATAAACCGGCGTTTATTCTATCATC...</td>\n",
       "      <td>5GB1C-JG15-N-BR2_tpm</td>\n",
       "      <td>NoLanthanum</td>\n",
       "      <td>2</td>\n",
       "      <td>1</td>\n",
       "      <td>0</td>\n",
       "      <td>3</td>\n",
       "      <td>0</td>\n",
       "      <td>2</td>\n",
       "      <td>1</td>\n",
       "      <td>301.751157</td>\n",
       "    </tr>\n",
       "  </tbody>\n",
       "</table>\n",
       "<p>412874 rows × 12 columns</p>\n",
       "</div>"
      ],
      "text/plain": [
       "            locus_tag                                    upstream_region  \\\n",
       "0       EQU24_RS00005  CGCCGGTTTATGTCAATTATGCCGGCACTGATTTGATTGCTGTATA...   \n",
       "1       EQU24_RS00010  AACGCCGGTTTTACAGTTCATAAGCTATTGATAAATAAAATAAAAA...   \n",
       "2       EQU24_RS00015  ATCGCAGTCATTATTAAATGTGGAAGCAACAAAAAAACGAGCTTGT...   \n",
       "3       EQU24_RS00020  AACTTAATAACTATAAAATGTTCCACGTGGAACATGGTGAAATTAA...   \n",
       "4       EQU24_RS00025  CTTTGCCGAACACCCCGCACCTCCACGCGTCAACAACGAAATTTGA...   \n",
       "...               ...                                                ...   \n",
       "412869  EQU24_RS22135  CCCGGCCGGTTTGGTCTTGTACTGGGTGGTCAACAATACGCTGTCG...   \n",
       "412870  EQU24_RS22140  GCCGCCCAGGGCACCTATCTTACAGTCCGAAGAGTATTAAAGTGTC...   \n",
       "412871  EQU24_RS22145  AATATTGATGTTGTTGTTATGGCCCGAAAAGATGCACTCAATGCAT...   \n",
       "412872  EQU24_RS22150  AAGAACTCACGGCTTTCGTGCCAGAATGGCGACCAAAGGCGGCCGT...   \n",
       "412873  EQU24_RS22155  ATCAGTGCCGGCATAATTGACATAAACCGGCGTTTATTCTATCATC...   \n",
       "\n",
       "                      sample          condition  carbon_source  oxygen_level  \\\n",
       "0       5GB1_ferm_Ack_QC_tpm  lowO2_slow_growth              2             0   \n",
       "1       5GB1_ferm_Ack_QC_tpm  lowO2_slow_growth              2             0   \n",
       "2       5GB1_ferm_Ack_QC_tpm  lowO2_slow_growth              2             0   \n",
       "3       5GB1_ferm_Ack_QC_tpm  lowO2_slow_growth              2             0   \n",
       "4       5GB1_ferm_Ack_QC_tpm  lowO2_slow_growth              2             0   \n",
       "...                      ...                ...            ...           ...   \n",
       "412869  5GB1C-JG15-N-BR2_tpm        NoLanthanum              2             1   \n",
       "412870  5GB1C-JG15-N-BR2_tpm        NoLanthanum              2             1   \n",
       "412871  5GB1C-JG15-N-BR2_tpm        NoLanthanum              2             1   \n",
       "412872  5GB1C-JG15-N-BR2_tpm        NoLanthanum              2             1   \n",
       "412873  5GB1C-JG15-N-BR2_tpm        NoLanthanum              2             1   \n",
       "\n",
       "        nitrate_level  copper_level  lanthanum_level  growth_rate  \\\n",
       "0                   0             3                0            0   \n",
       "1                   0             3                0            0   \n",
       "2                   0             3                0            0   \n",
       "3                   0             3                0            0   \n",
       "4                   0             3                0            0   \n",
       "...               ...           ...              ...          ...   \n",
       "412869              0             3                0            2   \n",
       "412870              0             3                0            2   \n",
       "412871              0             3                0            2   \n",
       "412872              0             3                0            2   \n",
       "412873              0             3                0            2   \n",
       "\n",
       "        growth_mode         tpm  \n",
       "0                 0    2.933003  \n",
       "1                 0    1.607784  \n",
       "2                 0    1.415515  \n",
       "3                 0    3.200081  \n",
       "4                 0    1.522728  \n",
       "...             ...         ...  \n",
       "412869            1   24.508375  \n",
       "412870            1  130.851229  \n",
       "412871            1   66.415222  \n",
       "412872            1  164.123473  \n",
       "412873            1  301.751157  \n",
       "\n",
       "[412874 rows x 12 columns]"
      ]
     },
     "execution_count": 6,
     "metadata": {},
     "output_type": "execute_result"
    }
   ],
   "source": [
    "full_df"
   ]
  },
  {
   "cell_type": "code",
   "execution_count": 7,
   "metadata": {},
   "outputs": [
    {
     "data": {
      "text/html": [
       "<div>\n",
       "<style scoped>\n",
       "    .dataframe tbody tr th:only-of-type {\n",
       "        vertical-align: middle;\n",
       "    }\n",
       "\n",
       "    .dataframe tbody tr th {\n",
       "        vertical-align: top;\n",
       "    }\n",
       "\n",
       "    .dataframe thead th {\n",
       "        text-align: right;\n",
       "    }\n",
       "</style>\n",
       "<table border=\"1\" class=\"dataframe\">\n",
       "  <thead>\n",
       "    <tr style=\"text-align: right;\">\n",
       "      <th></th>\n",
       "      <th>locus_tag</th>\n",
       "      <th>upstream_region</th>\n",
       "      <th>carbon_source</th>\n",
       "      <th>oxygen_level</th>\n",
       "      <th>nitrate_level</th>\n",
       "      <th>copper_level</th>\n",
       "      <th>lanthanum_level</th>\n",
       "      <th>growth_rate</th>\n",
       "      <th>growth_mode</th>\n",
       "    </tr>\n",
       "  </thead>\n",
       "  <tbody>\n",
       "    <tr>\n",
       "      <th>0</th>\n",
       "      <td>EQU24_RS00005</td>\n",
       "      <td>CGCCGGTTTATGTCAATTATGCCGGCACTGATTTGATTGCTGTATA...</td>\n",
       "      <td>2</td>\n",
       "      <td>0</td>\n",
       "      <td>0</td>\n",
       "      <td>3</td>\n",
       "      <td>0</td>\n",
       "      <td>0</td>\n",
       "      <td>0</td>\n",
       "    </tr>\n",
       "    <tr>\n",
       "      <th>1</th>\n",
       "      <td>EQU24_RS00010</td>\n",
       "      <td>AACGCCGGTTTTACAGTTCATAAGCTATTGATAAATAAAATAAAAA...</td>\n",
       "      <td>2</td>\n",
       "      <td>0</td>\n",
       "      <td>0</td>\n",
       "      <td>3</td>\n",
       "      <td>0</td>\n",
       "      <td>0</td>\n",
       "      <td>0</td>\n",
       "    </tr>\n",
       "    <tr>\n",
       "      <th>2</th>\n",
       "      <td>EQU24_RS00015</td>\n",
       "      <td>ATCGCAGTCATTATTAAATGTGGAAGCAACAAAAAAACGAGCTTGT...</td>\n",
       "      <td>2</td>\n",
       "      <td>0</td>\n",
       "      <td>0</td>\n",
       "      <td>3</td>\n",
       "      <td>0</td>\n",
       "      <td>0</td>\n",
       "      <td>0</td>\n",
       "    </tr>\n",
       "    <tr>\n",
       "      <th>3</th>\n",
       "      <td>EQU24_RS00020</td>\n",
       "      <td>AACTTAATAACTATAAAATGTTCCACGTGGAACATGGTGAAATTAA...</td>\n",
       "      <td>2</td>\n",
       "      <td>0</td>\n",
       "      <td>0</td>\n",
       "      <td>3</td>\n",
       "      <td>0</td>\n",
       "      <td>0</td>\n",
       "      <td>0</td>\n",
       "    </tr>\n",
       "    <tr>\n",
       "      <th>4</th>\n",
       "      <td>EQU24_RS00025</td>\n",
       "      <td>CTTTGCCGAACACCCCGCACCTCCACGCGTCAACAACGAAATTTGA...</td>\n",
       "      <td>2</td>\n",
       "      <td>0</td>\n",
       "      <td>0</td>\n",
       "      <td>3</td>\n",
       "      <td>0</td>\n",
       "      <td>0</td>\n",
       "      <td>0</td>\n",
       "    </tr>\n",
       "    <tr>\n",
       "      <th>...</th>\n",
       "      <td>...</td>\n",
       "      <td>...</td>\n",
       "      <td>...</td>\n",
       "      <td>...</td>\n",
       "      <td>...</td>\n",
       "      <td>...</td>\n",
       "      <td>...</td>\n",
       "      <td>...</td>\n",
       "      <td>...</td>\n",
       "    </tr>\n",
       "    <tr>\n",
       "      <th>412869</th>\n",
       "      <td>EQU24_RS22135</td>\n",
       "      <td>CCCGGCCGGTTTGGTCTTGTACTGGGTGGTCAACAATACGCTGTCG...</td>\n",
       "      <td>2</td>\n",
       "      <td>1</td>\n",
       "      <td>0</td>\n",
       "      <td>3</td>\n",
       "      <td>0</td>\n",
       "      <td>2</td>\n",
       "      <td>1</td>\n",
       "    </tr>\n",
       "    <tr>\n",
       "      <th>412870</th>\n",
       "      <td>EQU24_RS22140</td>\n",
       "      <td>GCCGCCCAGGGCACCTATCTTACAGTCCGAAGAGTATTAAAGTGTC...</td>\n",
       "      <td>2</td>\n",
       "      <td>1</td>\n",
       "      <td>0</td>\n",
       "      <td>3</td>\n",
       "      <td>0</td>\n",
       "      <td>2</td>\n",
       "      <td>1</td>\n",
       "    </tr>\n",
       "    <tr>\n",
       "      <th>412871</th>\n",
       "      <td>EQU24_RS22145</td>\n",
       "      <td>AATATTGATGTTGTTGTTATGGCCCGAAAAGATGCACTCAATGCAT...</td>\n",
       "      <td>2</td>\n",
       "      <td>1</td>\n",
       "      <td>0</td>\n",
       "      <td>3</td>\n",
       "      <td>0</td>\n",
       "      <td>2</td>\n",
       "      <td>1</td>\n",
       "    </tr>\n",
       "    <tr>\n",
       "      <th>412872</th>\n",
       "      <td>EQU24_RS22150</td>\n",
       "      <td>AAGAACTCACGGCTTTCGTGCCAGAATGGCGACCAAAGGCGGCCGT...</td>\n",
       "      <td>2</td>\n",
       "      <td>1</td>\n",
       "      <td>0</td>\n",
       "      <td>3</td>\n",
       "      <td>0</td>\n",
       "      <td>2</td>\n",
       "      <td>1</td>\n",
       "    </tr>\n",
       "    <tr>\n",
       "      <th>412873</th>\n",
       "      <td>EQU24_RS22155</td>\n",
       "      <td>ATCAGTGCCGGCATAATTGACATAAACCGGCGTTTATTCTATCATC...</td>\n",
       "      <td>2</td>\n",
       "      <td>1</td>\n",
       "      <td>0</td>\n",
       "      <td>3</td>\n",
       "      <td>0</td>\n",
       "      <td>2</td>\n",
       "      <td>1</td>\n",
       "    </tr>\n",
       "  </tbody>\n",
       "</table>\n",
       "<p>412874 rows × 9 columns</p>\n",
       "</div>"
      ],
      "text/plain": [
       "            locus_tag                                    upstream_region  \\\n",
       "0       EQU24_RS00005  CGCCGGTTTATGTCAATTATGCCGGCACTGATTTGATTGCTGTATA...   \n",
       "1       EQU24_RS00010  AACGCCGGTTTTACAGTTCATAAGCTATTGATAAATAAAATAAAAA...   \n",
       "2       EQU24_RS00015  ATCGCAGTCATTATTAAATGTGGAAGCAACAAAAAAACGAGCTTGT...   \n",
       "3       EQU24_RS00020  AACTTAATAACTATAAAATGTTCCACGTGGAACATGGTGAAATTAA...   \n",
       "4       EQU24_RS00025  CTTTGCCGAACACCCCGCACCTCCACGCGTCAACAACGAAATTTGA...   \n",
       "...               ...                                                ...   \n",
       "412869  EQU24_RS22135  CCCGGCCGGTTTGGTCTTGTACTGGGTGGTCAACAATACGCTGTCG...   \n",
       "412870  EQU24_RS22140  GCCGCCCAGGGCACCTATCTTACAGTCCGAAGAGTATTAAAGTGTC...   \n",
       "412871  EQU24_RS22145  AATATTGATGTTGTTGTTATGGCCCGAAAAGATGCACTCAATGCAT...   \n",
       "412872  EQU24_RS22150  AAGAACTCACGGCTTTCGTGCCAGAATGGCGACCAAAGGCGGCCGT...   \n",
       "412873  EQU24_RS22155  ATCAGTGCCGGCATAATTGACATAAACCGGCGTTTATTCTATCATC...   \n",
       "\n",
       "        carbon_source  oxygen_level  nitrate_level  copper_level  \\\n",
       "0                   2             0              0             3   \n",
       "1                   2             0              0             3   \n",
       "2                   2             0              0             3   \n",
       "3                   2             0              0             3   \n",
       "4                   2             0              0             3   \n",
       "...               ...           ...            ...           ...   \n",
       "412869              2             1              0             3   \n",
       "412870              2             1              0             3   \n",
       "412871              2             1              0             3   \n",
       "412872              2             1              0             3   \n",
       "412873              2             1              0             3   \n",
       "\n",
       "        lanthanum_level  growth_rate  growth_mode  \n",
       "0                     0            0            0  \n",
       "1                     0            0            0  \n",
       "2                     0            0            0  \n",
       "3                     0            0            0  \n",
       "4                     0            0            0  \n",
       "...                 ...          ...          ...  \n",
       "412869                0            2            1  \n",
       "412870                0            2            1  \n",
       "412871                0            2            1  \n",
       "412872                0            2            1  \n",
       "412873                0            2            1  \n",
       "\n",
       "[412874 rows x 9 columns]"
      ]
     },
     "execution_count": 7,
     "metadata": {},
     "output_type": "execute_result"
    }
   ],
   "source": [
    "X"
   ]
  },
  {
   "cell_type": "code",
   "execution_count": 8,
   "metadata": {},
   "outputs": [
    {
     "data": {
      "text/plain": [
       "0           2.933003\n",
       "1           1.607784\n",
       "2           1.415515\n",
       "3           3.200081\n",
       "4           1.522728\n",
       "             ...    \n",
       "412869     24.508375\n",
       "412870    130.851229\n",
       "412871     66.415222\n",
       "412872    164.123473\n",
       "412873    301.751157\n",
       "Name: tpm, Length: 412874, dtype: float64"
      ]
     },
     "execution_count": 8,
     "metadata": {},
     "output_type": "execute_result"
    }
   ],
   "source": [
    "Y"
   ]
  },
  {
   "cell_type": "code",
   "execution_count": 9,
   "metadata": {},
   "outputs": [],
   "source": [
    "def one_hot_encode(seq):\n",
    "    #print(\"one hot encoding...\")\n",
    "    \n",
    "    # Dictionary returning one-hot encoding of nucleotides. \n",
    "    nuc_d = {'A':[1.0,0.0,0.0,0.0],\n",
    "             'C':[0.0,1.0,0.0,0.0],\n",
    "             'G':[0.0,0.0,1.0,0.0],\n",
    "             'T':[0.0,0.0,0.0,1.0],\n",
    "             'N':[0.0,0.0,0.0,0.0]}\n",
    "    \n",
    "    # Creat empty matrix.\n",
    "    #vec=torch.tensor([nuc_d[x] for x in seq])\n",
    "    vec=np.array([nuc_d[x] for x in seq]).flatten()\n",
    "        \n",
    "    return vec"
   ]
  },
  {
   "cell_type": "code",
   "execution_count": 10,
   "metadata": {
    "scrolled": false
   },
   "outputs": [],
   "source": [
    "#tl_lin, vl_lin = fit(50, model_lin, loss_func, optimizer, train_dl, test_dl)"
   ]
  },
  {
   "cell_type": "code",
   "execution_count": 11,
   "metadata": {},
   "outputs": [],
   "source": [
    "def quick_load_and_split_input(data, split_frac=0.8, verbose=False):\n",
    "    '''\n",
    "    Given a list of tuples, build a df, ohe the sequences, and randomly split between\n",
    "    train and test. Not a formal train/test split, just a quick n dirty version.\n",
    "    \n",
    "    Return pytorch tensors of x/y train/test\n",
    "    '''\n",
    "    # convert data to df and one-hot encode\n",
    "    df = pd.DataFrame(data, columns = ['seq','score'])\n",
    "    df['oh'] = df['seq'].apply(lambda x: one_hot_encode(x))\n",
    "\n",
    "    # train test split\n",
    "    idxs = list(range(df.shape[0]))\n",
    "    random.shuffle(idxs)\n",
    "\n",
    "    split = int(len(idxs)*split_frac)\n",
    "    train_idxs = idxs[:split]\n",
    "    test_idxs = idxs[split:]\n",
    "    \n",
    "    # split df and convert to tensors\n",
    "    train_df = df[df.index.isin(train_idxs)]\n",
    "    test_df = df[df.index.isin(test_idxs)]\n",
    "\n",
    "    x_train = torch.tensor(list(train_df['oh'].values))\n",
    "    y_train = torch.tensor(list(train_df['score'].values)).unsqueeze(1)\n",
    "    x_test  = torch.tensor(list(test_df['oh'].values))\n",
    "    y_test  = torch.tensor(list(test_df['score'].values)).unsqueeze(1)\n",
    "    \n",
    "    if verbose:\n",
    "        print(\"Example train seq\")\n",
    "        plt.imshow(x_train[0].reshape((6, 4)), cmap=\"gray\")\n",
    "        plt.show()\n",
    "        \n",
    "        print(idxs)\n",
    "        print(\"Train #:\", len(train_idxs))\n",
    "        print(\"Test #:\", len(test_idxs))\n",
    "        \n",
    "        print(\"Y test:\", y_test)\n",
    "        \n",
    "    return x_train, y_train, x_test, y_test\n",
    "\n",
    "def build_dataloaders(data, batch_size=4):\n",
    "    '''\n",
    "    Given sets of x and y train and test, put into pytorch loaders\n",
    "    '''\n",
    "    x_train, y_train, x_test, y_test = quick_load_and_split_input(data, verbose=True)\n",
    "    \n",
    "    train_ds = TensorDataset(x_train, y_train)\n",
    "    train_dl = DataLoader(train_ds, batch_size=batch_size, shuffle=True)\n",
    "\n",
    "    test_ds = TensorDataset(x_test, y_test)\n",
    "    test_dl = DataLoader(test_ds, batch_size=batch_size * 2)\n",
    "    \n",
    "    return train_dl, test_dl"
   ]
  },
  {
   "cell_type": "code",
   "execution_count": 12,
   "metadata": {},
   "outputs": [],
   "source": [
    "def loss_batch(model, loss_func, xb, yb, opt=None):\n",
    "    loss = loss_func(model(xb.float()), yb.float())\n",
    "\n",
    "    if opt is not None:\n",
    "        loss.backward()\n",
    "        opt.step()\n",
    "        opt.zero_grad()\n",
    "\n",
    "    #print(\"lb returning:\",loss.item(), len(xb))\n",
    "    return loss.item(), len(xb)\n",
    "\n",
    "\n",
    "def fit(epochs, model, loss_func, opt, train_dl, test_dl):\n",
    "    train_losses = []    \n",
    "    val_losses = []\n",
    "    for epoch in range(epochs):\n",
    "        #print(\"TRAIN\")\n",
    "        model.train()\n",
    "        ts = []\n",
    "        ns = []\n",
    "        for xb, yb in train_dl:\n",
    "            t, n = loss_batch(model, loss_func, xb, yb, opt)\n",
    "            ts.append(t)\n",
    "            ns.append(n)\n",
    "        train_loss = np.sum(np.multiply(ts, ns)) / np.sum(ns)\n",
    "        train_losses.append(train_loss)\n",
    "        \n",
    "        #print(\"EVAL\")\n",
    "        model.eval()\n",
    "        with torch.no_grad():\n",
    "            losses, nums = zip(\n",
    "                # loop through test batches\n",
    "                # returns loss calc for test set batch size\n",
    "                # unzips into two lists\n",
    "                *[loss_batch(model, loss_func, xb, yb) for xb, yb in test_dl]\n",
    "            )\n",
    "        # Gets average MSE loss across all batches (may be of diff sizes, hence the multiply)\n",
    "        #print(\"losses\", losses)\n",
    "        #print(\"nums\", nums)\n",
    "        val_loss = np.sum(np.multiply(losses, nums)) / np.sum(nums)\n",
    "\n",
    "        print(epoch, val_loss)\n",
    "        val_losses.append(val_loss)\n",
    "\n",
    "    return train_losses, val_losses"
   ]
  },
  {
   "cell_type": "code",
   "execution_count": 13,
   "metadata": {},
   "outputs": [],
   "source": [
    "class DNA_Linear(nn.Module):\n",
    "    def __init__(self):\n",
    "        super().__init__()\n",
    "        self.lin = nn.Linear(24, 1)\n",
    "\n",
    "    def forward(self, xb):\n",
    "        # lin wraps up the weights/bias dot product from before\n",
    "        return self.lin(xb)\n",
    "    \n",
    "class DNA_CNN(nn.Module):\n",
    "    def __init__(self):\n",
    "        super().__init__()\n",
    "        self.conv_net = nn.Sequential(\n",
    "            nn.Conv1d(4, 32, kernel_size=3),\n",
    "            nn.ReLU(inplace=True),\n",
    "            nn.Flatten(),\n",
    "            nn.Linear(128, 10),\n",
    "            nn.ReLU(inplace=True),\n",
    "            nn.Linear(10, 1),\n",
    "        ) # ?? Linear?\n",
    "\n",
    "    def forward(self, xb):\n",
    "        xb = xb.view(-1,6,4).permute(0,2,1) # reshape to 4bs x 4channel x 6len\n",
    "        #print(xb)\n",
    "        xb = self.conv_net(xb)\n",
    "        return xb"
   ]
  },
  {
   "cell_type": "code",
   "execution_count": 14,
   "metadata": {},
   "outputs": [],
   "source": [
    "def run_model(train_dl,test_dl, model, lr=0.01, epochs=50):\n",
    "    '''\n",
    "    Given data and a model type, run dataloaders with MSE loss and SGD opt\n",
    "    '''\n",
    "    \n",
    "    loss_func = torch.nn.MSELoss() \n",
    "    optimizer = torch.optim.SGD(model.parameters(), lr=lr) \n",
    "    \n",
    "    train_losses, val_losses = fit(epochs, model, loss_func, optimizer, train_dl, test_dl)\n",
    "    \n",
    "    return model, train_losses, val_losses\n",
    "\n",
    "def run_linear_model(train_dl,test_dl, lr=0.01, epochs=50):\n",
    "    model = DNA_Linear()\n",
    "    \n",
    "    return run_model(train_dl,test_dl, model)\n",
    "\n",
    "\n",
    "def run_cnn_model(train_dl,test_dl, lr=0.01, epochs=50):\n",
    "    model = DNA_CNN()\n",
    "    return run_model(train_dl,test_dl, model)"
   ]
  },
  {
   "cell_type": "code",
   "execution_count": 15,
   "metadata": {},
   "outputs": [],
   "source": [
    "def quick_loss_plot(data_label):\n",
    "    for data, label in data_label:\n",
    "        plt.plot(data, label=label)\n",
    "    plt.legend()\n",
    "    plt.ylabel(\"MSE loss\")\n",
    "    plt.xlabel(\"Epoch\")\n",
    "    plt.show()\n",
    "    \n",
    "def quick_seq_pred(model, seqs):\n",
    "    for dna in seqs:\n",
    "        s = torch.tensor(one_hot_encode(dna))\n",
    "        pred = model(s.float())\n",
    "        print(dna, pred.item())"
   ]
  },
  {
   "cell_type": "markdown",
   "metadata": {},
   "source": [
    "## Fake data"
   ]
  },
  {
   "cell_type": "code",
   "execution_count": 16,
   "metadata": {},
   "outputs": [
    {
     "name": "stdout",
     "output_type": "stream",
     "text": [
      "Example train seq\n"
     ]
    },
    {
     "data": {
      "image/png": "[encoded data removed]",
      "text/plain": [
       "<Figure size 432x288 with 1 Axes>"
      ]
     },
     "metadata": {
      "needs_background": "light"
     },
     "output_type": "display_data"
    },
    {
     "name": "stdout",
     "output_type": "stream",
     "text": [
      "[22, 35, 14, 15, 10, 44, 11, 16, 43, 26, 38, 40, 31, 8, 0, 21, 19, 12, 24, 37, 45, 28, 36, 18, 1, 30, 17, 29, 7, 33, 39, 27, 5, 2, 13, 32, 42, 23, 6, 34, 4, 3, 41, 25, 9, 20]\n",
      "Train #: 36\n",
      "Test #: 10\n",
      "Y test: tensor([[8.0000],\n",
      "        [7.0000],\n",
      "        [6.7000],\n",
      "        [4.0000],\n",
      "        [9.9000],\n",
      "        [7.8000],\n",
      "        [6.6000],\n",
      "        [1.1000],\n",
      "        [1.1000],\n",
      "        [1.1000]], dtype=torch.float64)\n"
     ]
    }
   ],
   "source": [
    "# mostly A = 10.0\n",
    "# mostly C = 7.0\n",
    "# mostly G = 4.0\n",
    "# mostly T = 1.0\n",
    "data = [\n",
    "    ('AAAAAA', 10.0),\n",
    "    ('ATAAAA', 9.0),\n",
    "    ('AAAACA', 9.8),\n",
    "    ('CCAACA', 8.0),\n",
    "    ('CCCCCC', 7.0),\n",
    "    ('CGGACC', 6.8),\n",
    "    ('CCCGCC', 6.7),\n",
    "    ('GGGACG', 6.2),\n",
    "    ('CGGGCG', 5.0),\n",
    "    ('GGGGGG', 4.0),\n",
    "    ('GCCGGT', 4.1),\n",
    "    ('TGGTGT', 3.0),\n",
    "    ('CGGTTG', 3.4),\n",
    "    ('TTGTGT', 2.0),\n",
    "    ('TTTTTT', 1.0),\n",
    "    ('TAATTA', 5.1),\n",
    "    ('GAGTGA', 5.3),\n",
    "    ('AAATAA', 9.1),\n",
    "    ('AAAAAG', 9.4),\n",
    "    ('TTAGCT', 3.2),\n",
    "    ('CAAAAA', 9.9),\n",
    "    ('ACAAAA', 9.8),\n",
    "    ('AAAACA', 9.8),\n",
    "    ('CCAATA', 7.8),\n",
    "    ('CCCGCC', 6.8),\n",
    "    ('CGGATC', 6.6),\n",
    "    ('CACGCC', 6.9),\n",
    "    ('AGGACG', 6.5),\n",
    "    ('CGTGCG', 4.9),\n",
    "    ('GGGGGA', 4.3),\n",
    "    ('GCCGGA', 4.5),\n",
    "    ('TGGTGA', 3.5),\n",
    "    ('CGGTTA', 3.8),\n",
    "    ('TTGTGA', 2.5),\n",
    "    ('TTTTTG', 1.1),\n",
    "    ('TAATAA', 5.6),\n",
    "    ('GAGTGC', 5.0),\n",
    "    ('AAATAC', 8.7),\n",
    "    ('AACAAA', 9.9),\n",
    "    ('TTCTTT', 1.3),\n",
    "    ('TTTCTT', 1.2),\n",
    "    ('TTTTGT', 1.1),\n",
    "    ('GTTTTT', 1.1),\n",
    "    ('AACAAA', 9.8),\n",
    "    ('AAAAGA', 9.7),\n",
    "    ('TAAAAA', 9.4),\n",
    "]\n",
    "train_dl, test_dl = build_dataloaders(data)"
   ]
  },
  {
   "cell_type": "code",
   "execution_count": 17,
   "metadata": {},
   "outputs": [
    {
     "name": "stderr",
     "output_type": "stream",
     "text": [
      "/home/ewilson6/anaconda3/envs/torch/lib/python3.8/site-packages/torch/autograd/__init__.py:130: UserWarning: CUDA initialization: The NVIDIA driver on your system is too old (found version 9000). Please update your GPU driver by downloading and installing a new version from the URL: http://www.nvidia.com/Download/index.aspx Alternatively, go to: https://pytorch.org to install a PyTorch version that has been compiled with your version of the CUDA driver. (Triggered internally at  /opt/conda/conda-bld/pytorch_1607369981906/work/c10/cuda/CUDAFunctions.cpp:100.)\n",
      "  Variable._execution_engine.run_backward(\n"
     ]
    },
    {
     "name": "stdout",
     "output_type": "stream",
     "text": [
      "0 19.20298115313053\n",
      "1 10.386842203140258\n",
      "2 6.466837096214294\n",
      "3 4.596130895614624\n",
      "4 3.5755373001098634\n",
      "5 2.925488543510437\n",
      "6 2.49044725894928\n",
      "7 2.1887886047363283\n",
      "8 1.9454148292541504\n",
      "9 1.7497816801071167\n",
      "10 1.6098498821258544\n",
      "11 1.4963623046875\n",
      "12 1.3915011405944824\n",
      "13 1.305808925628662\n",
      "14 1.225673496723175\n",
      "15 1.1587521851062774\n",
      "16 1.0937750220298768\n",
      "17 1.0465195775032043\n",
      "18 1.00126513838768\n",
      "19 0.9633267164230347\n",
      "20 0.9313404589891434\n",
      "21 0.9025005042552948\n",
      "22 0.8712363600730896\n",
      "23 0.8452667653560638\n",
      "24 0.8125807583332062\n",
      "25 0.7925148665904999\n",
      "26 0.7698869854211807\n",
      "27 0.7457895755767823\n",
      "28 0.7243365734815598\n",
      "29 0.7064141631126404\n",
      "30 0.6986008644104004\n",
      "31 0.6906477957963943\n",
      "32 0.6740806877613068\n",
      "33 0.656878513097763\n",
      "34 0.6388355821371079\n",
      "35 0.6230300337076187\n",
      "36 0.61553173661232\n",
      "37 0.6059700965881347\n",
      "38 0.5904154717922211\n",
      "39 0.5851420998573303\n",
      "40 0.5752354472875595\n",
      "41 0.5612780153751373\n",
      "42 0.5534529894590378\n",
      "43 0.5447666883468628\n",
      "44 0.5375030517578125\n",
      "45 0.5310918867588044\n",
      "46 0.5223455309867859\n",
      "47 0.5136572390794754\n",
      "48 0.507913202047348\n",
      "49 0.4998903125524521\n"
     ]
    },
    {
     "data": {
      "image/png": "[encoded data removed]",
      "text/plain": [
       "<Figure size 432x288 with 1 Axes>"
      ]
     },
     "metadata": {
      "needs_background": "light"
     },
     "output_type": "display_data"
    }
   ],
   "source": [
    "model_lin, tl_lin, vl_lin = run_linear_model(train_dl, test_dl)\n",
    "\n",
    "# to plot loss\n",
    "lin_data_label = list(zip([tl_lin,vl_lin], ['Lin Train Loss','Lin Val Loss']))\n",
    "quick_loss_plot(lin_data_label)"
   ]
  },
  {
   "cell_type": "code",
   "execution_count": 18,
   "metadata": {},
   "outputs": [
    {
     "name": "stdout",
     "output_type": "stream",
     "text": [
      "AAAAAA 10.41738510131836\n",
      "CCCCCC 5.62603759765625\n",
      "GGGGGG 3.9000308513641357\n",
      "TTTTTT 0.9597322940826416\n",
      "AACCAA 8.132274627685547\n",
      "CCGGGG 4.4542436599731445\n",
      "GGGTAA 5.266139507293701\n",
      "TTTCGT 1.5184788703918457\n",
      "TGTAAT 5.0711164474487305\n",
      "\n",
      "TATAAA 7.27061653137207\n",
      "TAATAT 5.601452827453613\n",
      "CCTATA 5.6529130935668945\n",
      "AAGCGA 6.499587535858154\n",
      "GCGAAA 7.087843894958496\n",
      "TTGCGA 2.830794334411621\n",
      "GCGTAA 5.36977481842041\n",
      "TATTAA 5.552547454833984\n",
      "TTTATT 2.6778013706207275\n"
     ]
    }
   ],
   "source": [
    "seqs1 = ['AAAAAA', 'CCCCCC','GGGGGG','TTTTTT','AACCAA','CCGGGG','GGGTAA', 'TTTCGT',\"TGTAAT\"]\n",
    "seqs2 = ['TATAAA', 'TAATAT','CCTATA','AAGCGA','GCGAAA','TTGCGA','GCGTAA', 'TATTAA','TTTATT']\n",
    "\n",
    "quick_seq_pred(model_lin, seqs1)\n",
    "print()\n",
    "quick_seq_pred(model_lin, seqs2)"
   ]
  },
  {
   "cell_type": "markdown",
   "metadata": {},
   "source": [
    "# Next with specific patterns that mean higher score"
   ]
  },
  {
   "cell_type": "code",
   "execution_count": 19,
   "metadata": {},
   "outputs": [
    {
     "name": "stdout",
     "output_type": "stream",
     "text": [
      "Example train seq\n"
     ]
    },
    {
     "data": {
      "image/png": "[encoded data removed]",
      "text/plain": [
       "<Figure size 432x288 with 1 Axes>"
      ]
     },
     "metadata": {
      "needs_background": "light"
     },
     "output_type": "display_data"
    },
    {
     "name": "stdout",
     "output_type": "stream",
     "text": [
      "[8, 28, 43, 11, 21, 44, 37, 1, 0, 47, 26, 32, 38, 12, 17, 40, 42, 30, 33, 14, 10, 41, 16, 9, 18, 2, 7, 24, 22, 5, 25, 15, 19, 48, 46, 29, 20, 27, 34, 31, 13, 39, 3, 36, 4, 45, 35, 6, 23]\n",
      "Train #: 39\n",
      "Test #: 10\n",
      "Y test: tensor([[14.8000],\n",
      "        [ 9.0000],\n",
      "        [ 0.4000],\n",
      "        [ 4.1000],\n",
      "        [ 9.9000],\n",
      "        [ 0.3000],\n",
      "        [13.9000],\n",
      "        [ 0.2000],\n",
      "        [ 5.0000],\n",
      "        [ 1.1000]], dtype=torch.float64)\n"
     ]
    }
   ],
   "source": [
    "# fake data: \n",
    "# TAT = really high\n",
    "# GCG = really low\n",
    "data2 = [\n",
    "    ('AAAAAA', 10.0),\n",
    "    ('AATATA', 15.0),\n",
    "    ('TATAAA', 14.9),\n",
    "    ('TAATAT', 14.8),\n",
    "    ('ATAAAA', 9.0),\n",
    "    ('AAAACA', 9.8),\n",
    "    ('GCGACA', 0.4),\n",
    "    ('CCCCCC', 7.0),\n",
    "    ('CGGACC', 6.8),\n",
    "    ('CTATCC', 13.6),\n",
    "    ('GGGACG', 6.2),\n",
    "    ('CGGGCG', 0.5),\n",
    "    ('GGGGGG', 4.0),\n",
    "    ('GCCGGT', 4.1),\n",
    "    ('TGTATT', 12.3),\n",
    "    ('CGGTTG', 3.4),\n",
    "    ('TTGCGT', 0.1),\n",
    "    ('TTTTTT', 1.0),\n",
    "    ('TAATTA', 5.1),\n",
    "    ('GAGTGA', 5.3),\n",
    "    ('AAATAT', 14.9),\n",
    "    ('AAGCGA', 0.5),\n",
    "    ('TTAGCT', 3.2),\n",
    "    ('CAAAAA', 9.9),\n",
    "    ('ACAAAA', 9.8),\n",
    "    ('AAAACA', 9.8),\n",
    "    ('CCTATA', 14.5),\n",
    "    ('CCCGCC', 6.8),\n",
    "    ('CGGATC', 6.6),\n",
    "    ('CACGCG', 0.3),\n",
    "    ('AGGACG', 6.5),\n",
    "    ('CGTGCG', 0.3),\n",
    "    ('GGGGGA', 4.3),\n",
    "    ('GCCGGA', 4.5),\n",
    "    ('TGGTGA', 3.5),\n",
    "    ('CGGTAT', 13.9),\n",
    "    ('TTGCGA', 0.2),\n",
    "    ('TTTTTG', 1.1),\n",
    "    ('TATTAA', 14.7),\n",
    "    ('GAGTGC', 5.0),\n",
    "    ('AAATAC', 8.7),\n",
    "    ('AGCGAA', 0.6),\n",
    "    ('TTCTTT', 1.3),\n",
    "    ('TTTATT', 13.6),\n",
    "    ('TTTTGT', 1.1),\n",
    "    ('GTTTTT', 1.1),\n",
    "    ('AACAAA', 9.8),\n",
    "    ('AAGCGA', 0.6),\n",
    "    ('GCGAAA', 0.7),\n",
    "]\n",
    "\n",
    "train_dl2, test_dl2 = build_dataloaders(data2)"
   ]
  },
  {
   "cell_type": "markdown",
   "metadata": {},
   "source": [
    "### Linear model"
   ]
  },
  {
   "cell_type": "code",
   "execution_count": 20,
   "metadata": {},
   "outputs": [
    {
     "name": "stdout",
     "output_type": "stream",
     "text": [
      "0 36.421215534210205\n",
      "1 27.85675926208496\n",
      "2 24.719279861450197\n",
      "3 23.668754196166994\n",
      "4 23.1800199508667\n",
      "5 22.936335372924805\n",
      "6 22.803665733337404\n",
      "7 22.67708511352539\n",
      "8 22.59776077270508\n",
      "9 22.709904670715332\n",
      "10 22.70086498260498\n",
      "11 22.78223247528076\n",
      "12 22.853711891174317\n",
      "13 22.94460678100586\n",
      "14 23.079266166687013\n",
      "15 23.005728340148927\n",
      "16 23.062863159179688\n",
      "17 23.19020175933838\n",
      "18 23.349144172668456\n",
      "19 23.412909317016602\n",
      "20 23.437256240844725\n",
      "21 23.484661483764647\n",
      "22 23.607909774780275\n",
      "23 23.687813377380373\n",
      "24 23.75507335662842\n",
      "25 23.85243797302246\n",
      "26 23.885113143920897\n",
      "27 23.946125411987303\n",
      "28 23.936274909973143\n",
      "29 23.96214656829834\n",
      "30 23.892788124084472\n",
      "31 23.855388641357422\n",
      "32 23.90021858215332\n",
      "33 24.012298393249512\n",
      "34 24.048152732849122\n",
      "35 24.00236873626709\n",
      "36 24.12769775390625\n",
      "37 24.154443740844727\n",
      "38 24.27652473449707\n",
      "39 24.33352127075195\n",
      "40 24.310730743408204\n",
      "41 24.292930603027344\n",
      "42 24.377696228027343\n",
      "43 24.52041015625\n",
      "44 24.541775131225585\n",
      "45 24.640755081176756\n",
      "46 24.767647552490235\n",
      "47 24.67654914855957\n",
      "48 24.709445190429687\n",
      "49 24.822146606445312\n",
      "AAAAAA 11.632832527160645\n",
      "CCCCCC 5.426604270935059\n",
      "GGGGGG 0.3118600845336914\n",
      "TTTTTT 6.366137504577637\n",
      "AACCAA 4.630974769592285\n",
      "CCGGGG 0.7509472370147705\n",
      "GGGTAA 4.765618324279785\n",
      "TTTCGT 4.206838607788086\n",
      "TGTAAT 11.866083145141602\n",
      "\n",
      "TATAAA 12.77069091796875\n",
      "TAATAT 8.584885597229004\n",
      "CCTATA 12.27273941040039\n",
      "AAGCGA 2.2779414653778076\n",
      "GCGAAA 7.163455009460449\n",
      "TTGCGA -1.1242446899414062\n",
      "GCGTAA 4.482077598571777\n",
      "TATTAA 10.089313507080078\n",
      "TTTATT 9.047514915466309\n"
     ]
    }
   ],
   "source": [
    "model_lin2, tl_lin2, vl_lin2 = run_linear_model(train_dl2, test_dl2)\n",
    "\n",
    "quick_seq_pred(model_lin2, seqs1)\n",
    "print()\n",
    "quick_seq_pred(model_lin2, seqs2)"
   ]
  },
  {
   "cell_type": "markdown",
   "metadata": {},
   "source": [
    "### CNN Model"
   ]
  },
  {
   "cell_type": "code",
   "execution_count": 21,
   "metadata": {},
   "outputs": [
    {
     "name": "stdout",
     "output_type": "stream",
     "text": [
      "0 79.22750244140624\n",
      "1 21.81738624572754\n",
      "2 23.831478118896484\n",
      "3 25.330908203125\n",
      "4 18.529233932495117\n",
      "5 24.174281883239747\n",
      "6 21.56878900527954\n",
      "7 16.69544048309326\n",
      "8 16.644419956207276\n",
      "9 19.774962997436525\n",
      "10 10.538008785247802\n",
      "11 9.55414276123047\n",
      "12 8.50589828491211\n",
      "13 8.631241035461425\n",
      "14 6.967060482501983\n",
      "15 5.55669846534729\n",
      "16 7.264363372325898\n",
      "17 6.296165227890015\n",
      "18 3.6348398327827454\n",
      "19 4.328325498104095\n",
      "20 3.295625126361847\n",
      "21 5.142059469223023\n",
      "22 2.9690168857574464\n",
      "23 2.4574607849121093\n",
      "24 2.319462704658508\n",
      "25 2.6658541798591613\n",
      "26 1.9816447496414185\n",
      "27 1.7655739665031434\n",
      "28 2.1873213768005373\n",
      "29 1.9021898984909058\n",
      "30 2.0014153718948364\n",
      "31 1.93047376871109\n",
      "32 1.693687081336975\n",
      "33 2.871855068206787\n",
      "34 1.3159065246582031\n",
      "35 1.704166293144226\n",
      "36 1.500616431236267\n",
      "37 1.8226253509521484\n",
      "38 1.515538215637207\n",
      "39 1.5347742557525634\n",
      "40 1.1094238996505736\n",
      "41 1.4052547454833983\n",
      "42 1.2758324146270752\n",
      "43 1.184644865989685\n",
      "44 1.3602749824523925\n",
      "45 1.3706448554992676\n",
      "46 1.354943823814392\n",
      "47 1.1274637222290038\n",
      "48 1.3024624347686768\n",
      "49 1.5431311845779419\n",
      "AAAAAA 9.279114723205566\n",
      "CCCCCC 6.629472732543945\n",
      "GGGGGG 3.7950210571289062\n",
      "TTTTTT 0.9416487216949463\n",
      "AACCAA 4.9710373878479\n",
      "CCGGGG 4.937052249908447\n",
      "GGGTAA 6.949565410614014\n",
      "TTTCGT 3.2269163131713867\n",
      "TGTAAT 13.096689224243164\n",
      "\n",
      "TATAAA 14.520594596862793\n",
      "TAATAT 13.64686393737793\n",
      "CCTATA 14.046283721923828\n",
      "AAGCGA 0.8394593000411987\n",
      "GCGAAA 0.7584834098815918\n",
      "TTGCGA 0.7466347217559814\n",
      "GCGTAA 4.7465314865112305\n",
      "TATTAA 13.696145057678223\n",
      "TTTATT 13.137117385864258\n"
     ]
    }
   ],
   "source": [
    "model_cnn, tl_cnn, vl_cnn = run_cnn_model(train_dl2, test_dl2)\n",
    "\n",
    "quick_seq_pred(model_cnn, seqs1)\n",
    "print()\n",
    "quick_seq_pred(model_cnn, seqs2)"
   ]
  },
  {
   "cell_type": "code",
   "execution_count": 22,
   "metadata": {},
   "outputs": [
    {
     "data": {
      "image/png": "[encoded data removed]",
      "text/plain": [
       "<Figure size 432x288 with 1 Axes>"
      ]
     },
     "metadata": {
      "needs_background": "light"
     },
     "output_type": "display_data"
    }
   ],
   "source": [
    "#  plot loss\n",
    "lin_data_label = list(zip([tl_lin2,vl_lin2,tl_cnn, vl_cnn], \n",
    "                          ['Lin Train Loss','Lin Val Loss', 'CNN Train Loss','CNN Val Loss']))\n",
    "quick_loss_plot(lin_data_label)"
   ]
  },
  {
   "cell_type": "code",
   "execution_count": null,
   "metadata": {},
   "outputs": [],
   "source": []
  },
  {
   "cell_type": "code",
   "execution_count": null,
   "metadata": {},
   "outputs": [],
   "source": []
  },
  {
   "cell_type": "code",
   "execution_count": null,
   "metadata": {},
   "outputs": [],
   "source": []
  },
  {
   "cell_type": "code",
   "execution_count": 35,
   "metadata": {},
   "outputs": [
    {
     "name": "stdout",
     "output_type": "stream",
     "text": [
      "[17, 1, 21, 11, 44, 42, 48, 12, 15, 20, 39, 19, 43, 36, 37, 7, 40, 18, 30, 25, 33, 45, 38, 32, 23, 10, 14, 16, 24, 13, 27, 41, 8, 31, 29, 46, 9, 5, 22, 3, 4, 34, 47, 0, 2, 26, 6, 28, 35]\n",
      "Train #: 39\n",
      "Test #: 10\n"
     ]
    }
   ],
   "source": [
    "# train test split\n",
    "idxs = list(range(df.shape[0]))\n",
    "random.shuffle(idxs)\n",
    "print(idxs)\n",
    "\n",
    "split = int(len(idxs)*0.8)\n",
    "train_idxs = idxs[:split]\n",
    "test_idxs = idxs[split:]\n",
    "\n",
    "print(\"Train #:\", len(train_idxs))\n",
    "print(\"Test #:\", len(test_idxs))"
   ]
  },
  {
   "cell_type": "code",
   "execution_count": 36,
   "metadata": {},
   "outputs": [
    {
     "name": "stdout",
     "output_type": "stream",
     "text": [
      "tensor([[1., 0., 0., 0., 1., 0., 0., 0., 1., 0., 0., 0., 1., 0., 0., 0., 1., 0.,\n",
      "         0., 0., 1., 0., 0., 0.],\n",
      "        [0., 0., 0., 1., 1., 0., 0., 0., 0., 0., 0., 1., 1., 0., 0., 0., 1., 0.,\n",
      "         0., 0., 1., 0., 0., 0.],\n",
      "        [0., 0., 0., 1., 1., 0., 0., 0., 1., 0., 0., 0., 0., 0., 0., 1., 1., 0.,\n",
      "         0., 0., 0., 0., 0., 1.],\n",
      "        [1., 0., 0., 0., 0., 0., 0., 1., 1., 0., 0., 0., 1., 0., 0., 0., 1., 0.,\n",
      "         0., 0., 1., 0., 0., 0.],\n",
      "        [0., 0., 1., 0., 0., 1., 0., 0., 0., 0., 1., 0., 1., 0., 0., 0., 0., 1.,\n",
      "         0., 0., 1., 0., 0., 0.],\n",
      "        [0., 1., 0., 0., 0., 1., 0., 0., 0., 0., 0., 1., 1., 0., 0., 0., 0., 0.,\n",
      "         0., 1., 1., 0., 0., 0.],\n",
      "        [0., 1., 0., 0., 0., 0., 1., 0., 0., 0., 1., 0., 1., 0., 0., 0., 0., 0.,\n",
      "         0., 1., 0., 1., 0., 0.],\n",
      "        [0., 0., 0., 1., 0., 0., 1., 0., 0., 0., 1., 0., 0., 0., 0., 1., 0., 0.,\n",
      "         1., 0., 1., 0., 0., 0.],\n",
      "        [0., 1., 0., 0., 0., 0., 1., 0., 0., 0., 1., 0., 0., 0., 0., 1., 1., 0.,\n",
      "         0., 0., 0., 0., 0., 1.],\n",
      "        [1., 0., 0., 0., 1., 0., 0., 0., 0., 0., 1., 0., 0., 1., 0., 0., 0., 0.,\n",
      "         1., 0., 1., 0., 0., 0.]], dtype=torch.float64)\n",
      "tensor([[10.0000],\n",
      "        [14.9000],\n",
      "        [14.8000],\n",
      "        [ 9.0000],\n",
      "        [ 0.4000],\n",
      "        [14.5000],\n",
      "        [ 6.6000],\n",
      "        [ 3.5000],\n",
      "        [13.9000],\n",
      "        [ 0.6000]], dtype=torch.float64)\n"
     ]
    }
   ],
   "source": [
    "train_df = df[df.index.isin(train_idxs)]\n",
    "test_df = df[df.index.isin(test_idxs)]\n",
    "\n",
    "x_train = torch.tensor(list(train_df['oh'].values))\n",
    "y_train = torch.tensor(list(train_df['score'].values)).unsqueeze(1)\n",
    "x_test  = torch.tensor(list(test_df['oh'].values))\n",
    "y_test  = torch.tensor(list(test_df['score'].values)).unsqueeze(1)\n",
    "\n",
    "print(x_test)\n",
    "print(y_test)"
   ]
  },
  {
   "cell_type": "code",
   "execution_count": 37,
   "metadata": {},
   "outputs": [],
   "source": [
    "bs = 4\n",
    "\n",
    "train_ds = TensorDataset(x_train, y_train)\n",
    "train_dl = DataLoader(train_ds, batch_size=bs, shuffle=True)\n",
    "\n",
    "test_ds = TensorDataset(x_test, y_test)\n",
    "test_dl = DataLoader(test_ds, batch_size=bs * 2)\n",
    "\n",
    "lr = 0.01\n",
    "epochs = 50\n",
    "model_lin2 = DNA_Linear()\n",
    "loss_func = torch.nn.MSELoss() \n",
    "optimizer = torch.optim.SGD(model_lin2.parameters(), lr=lr)"
   ]
  },
  {
   "cell_type": "code",
   "execution_count": 39,
   "metadata": {},
   "outputs": [
    {
     "name": "stdout",
     "output_type": "stream",
     "text": [
      "0 68.09041748046874\n",
      "1 49.32786865234375\n",
      "2 39.55677337646485\n",
      "3 34.41413192749023\n",
      "4 31.67222671508789\n",
      "5 30.251473236083985\n",
      "6 29.120285034179688\n",
      "7 28.075050354003906\n",
      "8 26.81099090576172\n",
      "9 25.930934143066406\n",
      "10 25.401055908203126\n",
      "11 24.998995971679687\n",
      "12 25.110486602783205\n",
      "13 25.0474494934082\n",
      "14 24.43956604003906\n",
      "15 24.374861907958984\n",
      "16 24.2609619140625\n",
      "17 23.6954833984375\n",
      "18 23.551791381835937\n",
      "19 23.70868377685547\n",
      "20 23.182360076904295\n",
      "21 22.983940887451173\n",
      "22 23.02279052734375\n",
      "23 22.964396667480468\n",
      "24 22.60875244140625\n",
      "25 22.514385223388672\n",
      "26 22.417697143554687\n",
      "27 22.417207336425783\n",
      "28 22.191029357910157\n",
      "29 22.35784454345703\n",
      "30 22.562381744384766\n",
      "31 21.928821563720703\n",
      "32 21.614825439453124\n",
      "33 21.706591033935545\n",
      "34 21.803601837158205\n",
      "35 21.727206420898437\n",
      "36 21.717665100097655\n",
      "37 21.62573699951172\n",
      "38 21.69854736328125\n",
      "39 21.549234771728514\n",
      "40 21.34781494140625\n",
      "41 21.128070068359374\n",
      "42 21.394181060791016\n",
      "43 21.207501220703126\n",
      "44 21.21027603149414\n",
      "45 21.303125\n",
      "46 21.293035888671874\n",
      "47 21.414521789550783\n",
      "48 21.299910736083984\n",
      "49 21.00789794921875\n"
     ]
    }
   ],
   "source": [
    "tl_lin2, vl_lin2 = fit(50, model_lin2, loss_func, optimizer, train_dl, test_dl)"
   ]
  },
  {
   "cell_type": "code",
   "execution_count": 40,
   "metadata": {},
   "outputs": [
    {
     "data": {
      "image/png": "[encoded data removed]",
      "text/plain": [
       "<Figure size 432x288 with 1 Axes>"
      ]
     },
     "metadata": {
      "needs_background": "light"
     },
     "output_type": "display_data"
    }
   ],
   "source": [
    "plt.plot(vl_lin2, label=\"Lin val loss\")\n",
    "plt.plot(tl_lin2, label=\"Lin train loss\")\n",
    "plt.legend()\n",
    "plt.show()"
   ]
  },
  {
   "cell_type": "code",
   "execution_count": 42,
   "metadata": {},
   "outputs": [
    {
     "name": "stdout",
     "output_type": "stream",
     "text": [
      "AAAAAA tensor([11.7176], grad_fn=<AddBackward0>)\n",
      "CCCCCC tensor([5.2495], grad_fn=<AddBackward0>)\n",
      "GGGGGG tensor([0.4521], grad_fn=<AddBackward0>)\n",
      "TTTTTT tensor([5.0028], grad_fn=<AddBackward0>)\n",
      "AACCAA tensor([5.2514], grad_fn=<AddBackward0>)\n",
      "CCGGGG tensor([0.3986], grad_fn=<AddBackward0>)\n",
      "GGGTAA tensor([4.0127], grad_fn=<AddBackward0>)\n",
      "TTTCGT tensor([3.2138], grad_fn=<AddBackward0>)\n",
      "TGTAAT tensor([10.3386], grad_fn=<AddBackward0>)\n"
     ]
    }
   ],
   "source": [
    "for dna in ['AAAAAA', 'CCCCCC','GGGGGG','TTTTTT','AACCAA','CCGGGG','GGGTAA', 'TTTCGT',\"TGTAAT\"]:\n",
    "    s = torch.tensor(one_hot_encode(dna))\n",
    "    pred = model_lin2(s.float())\n",
    "    print(dna, pred)"
   ]
  },
  {
   "cell_type": "code",
   "execution_count": 44,
   "metadata": {},
   "outputs": [
    {
     "name": "stdout",
     "output_type": "stream",
     "text": [
      "TATAAA tensor([10.8625], grad_fn=<AddBackward0>)\n",
      "TAATAT tensor([8.9638], grad_fn=<AddBackward0>)\n",
      "CCTATA tensor([9.1524], grad_fn=<AddBackward0>)\n",
      "AAGCGA tensor([3.5378], grad_fn=<AddBackward0>)\n",
      "GCGAAA tensor([6.5253], grad_fn=<AddBackward0>)\n",
      "TTGCGA tensor([-0.2992], grad_fn=<AddBackward0>)\n",
      "GCGTAA tensor([3.7381], grad_fn=<AddBackward0>)\n",
      "TATTAA tensor([8.0753], grad_fn=<AddBackward0>)\n",
      "TTTATT tensor([7.7900], grad_fn=<AddBackward0>)\n"
     ]
    }
   ],
   "source": [
    "for dna in :\n",
    "    s = torch.tensor(one_hot_encode(dna))\n",
    "    pred = model_lin2(s.float())\n",
    "    print(dna, pred)\n",
    "    \n",
    "#     ('TATAAA', 14.9),\n",
    "#     ('TAATAT', 14.8),\n",
    "#     ('CCTATA', 14.5),\n",
    "#     ('AAGCGA', 0.6),\n",
    "#     ('GCGAAA', 0.7),\n",
    "#     ('TTGCGA', 0.2),\n"
   ]
  },
  {
   "cell_type": "code",
   "execution_count": 45,
   "metadata": {},
   "outputs": [],
   "source": [
    "# class DNA_CNN(nn.Module):\n",
    "#     def __init__(self):\n",
    "#         super().__init__()\n",
    "#         self.conv_net = nn.Sequential(\n",
    "#             nn.Conv1d(4, 10, kernel_size=3),\n",
    "#             nn.ReLU(inplace=True),\n",
    "#             nn.Conv1d(10,10, kernel_size=3),\n",
    "#             nn.ReLU(inplace=True),\n",
    "#             nn.Sigmoid()) # ?? Linear?\n",
    "\n",
    "#     def forward(self, xb):\n",
    "#         xb = xb.view(-1,6,4) # reshape to 4x6\n",
    "#         xb = self.conv_net(xb)\n",
    "#         return xb\n",
    "    \n",
    "# class DNA_CNN(nn.Module):\n",
    "#     def __init__(self):\n",
    "#         super().__init__()\n",
    "#         self.conv_net = nn.Sequential(\n",
    "#             nn.Conv1d(4, 16, kernel_size=(3,1)),\n",
    "#             nn.ReLU(inplace=True),\n",
    "#             nn.Linear(96, 1)) # ?? Linear?\n",
    "\n",
    "#     def forward(self, xb):\n",
    "#         xb = xb.view(-1,6,4) # reshape to 4x6\n",
    "#         xb = self.conv_net(xb)\n",
    "#         return xb\n",
    "\n",
    "class DNA_CNN(nn.Module):\n",
    "    def __init__(self):\n",
    "        super().__init__()\n",
    "        self.conv_net = nn.Sequential(\n",
    "            nn.Conv1d(4, 32, kernel_size=3),\n",
    "            nn.ReLU(inplace=True),\n",
    "            nn.Flatten(),\n",
    "            nn.Linear(128, 10),\n",
    "            nn.ReLU(inplace=True),\n",
    "            nn.Linear(10, 1),\n",
    "        ) # ?? Linear?\n",
    "\n",
    "    def forward(self, xb):\n",
    "        xb = xb.view(-1,6,4).permute(0,2,1) # reshape to 4bs x 4channel x 6len\n",
    "        #print(xb)\n",
    "        xb = self.conv_net(xb)\n",
    "        return xb\n",
    "    \n",
    "# class DNA_Linear(nn.Module):\n",
    "#     def __init__(self):\n",
    "#         super().__init__()\n",
    "#         self.lin = nn.Linear(24, 1)\n",
    "\n",
    "#     def forward(self, xb):\n",
    "#         # lin wraps up the weights/bias dot product from before\n",
    "#         return self.lin(xb)"
   ]
  },
  {
   "cell_type": "code",
   "execution_count": 46,
   "metadata": {
    "scrolled": true
   },
   "outputs": [
    {
     "name": "stdout",
     "output_type": "stream",
     "text": [
      "0 40.6715690612793\n",
      "1 40.37783660888672\n",
      "2 36.810550689697266\n",
      "3 25.871519470214842\n",
      "4 40.83929290771484\n",
      "5 39.22800521850586\n",
      "6 77.48642578125\n",
      "7 27.12381362915039\n",
      "8 18.393498992919923\n",
      "9 17.6382194519043\n",
      "10 20.524129486083986\n",
      "11 21.57399215698242\n",
      "12 12.914355850219726\n",
      "13 11.953047943115234\n",
      "14 15.0128662109375\n",
      "15 12.581398391723633\n",
      "16 11.565887451171875\n",
      "17 6.693359756469727\n",
      "18 7.235995483398438\n",
      "19 7.864342117309571\n",
      "20 5.465847778320312\n",
      "21 7.203878021240234\n",
      "22 4.886105346679687\n",
      "23 4.112865829467774\n",
      "24 4.8013715744018555\n",
      "25 4.102758407592773\n",
      "26 3.7902560234069824\n",
      "27 3.8833343505859377\n",
      "28 4.053083038330078\n",
      "29 4.585363388061523\n",
      "30 3.3617820739746094\n",
      "31 3.3483532905578612\n",
      "32 3.388096809387207\n",
      "33 3.782131385803223\n",
      "34 3.442391204833984\n",
      "35 4.611374568939209\n",
      "36 3.4518901824951174\n",
      "37 2.7605968475341798\n",
      "38 2.6472429990768434\n",
      "39 2.632403039932251\n",
      "40 2.490719938278198\n",
      "41 2.4544651031494142\n",
      "42 3.0625499725341796\n",
      "43 2.4440274238586426\n",
      "44 2.463066816329956\n",
      "45 2.217893123626709\n",
      "46 2.2091307163238527\n",
      "47 2.5803760528564452\n",
      "48 2.690100574493408\n",
      "49 2.3687640190124513\n"
     ]
    }
   ],
   "source": [
    "model_cnn = DNA_CNN()\n",
    "loss_func = torch.nn.MSELoss() \n",
    "optimizer = torch.optim.SGD(model_cnn.parameters(), lr=lr)\n",
    "tl_cnn, vl_cnn = fit(50, model_cnn, loss_func, optimizer, train_dl, test_dl)"
   ]
  },
  {
   "cell_type": "code",
   "execution_count": 47,
   "metadata": {},
   "outputs": [
    {
     "data": {
      "image/png": "[encoded data removed]",
      "text/plain": [
       "<Figure size 432x288 with 1 Axes>"
      ]
     },
     "metadata": {
      "needs_background": "light"
     },
     "output_type": "display_data"
    }
   ],
   "source": [
    "plt.plot(vl_lin2, label=\"Lin val loss\")\n",
    "plt.plot(tl_lin2, label=\"Lin train loss\")\n",
    "plt.plot(vl_cnn, label=\"CNN val loss\")\n",
    "plt.plot(tl_cnn, label=\"CNN train loss\")\n",
    "plt.legend()\n",
    "plt.show()"
   ]
  },
  {
   "cell_type": "code",
   "execution_count": 48,
   "metadata": {},
   "outputs": [
    {
     "name": "stdout",
     "output_type": "stream",
     "text": [
      "AAAAAA tensor([[9.2661]], grad_fn=<AddmmBackward>)\n",
      "CCCCCC tensor([[7.0220]], grad_fn=<AddmmBackward>)\n",
      "GGGGGG tensor([[3.8047]], grad_fn=<AddmmBackward>)\n",
      "TTTTTT tensor([[1.0482]], grad_fn=<AddmmBackward>)\n",
      "AACCAA tensor([[4.8595]], grad_fn=<AddmmBackward>)\n",
      "CCGGGG tensor([[3.0401]], grad_fn=<AddmmBackward>)\n",
      "GGGTAA tensor([[8.0723]], grad_fn=<AddmmBackward>)\n",
      "TTTCGT tensor([[1.2749]], grad_fn=<AddmmBackward>)\n",
      "TGTAAT tensor([[12.7573]], grad_fn=<AddmmBackward>)\n"
     ]
    }
   ],
   "source": [
    "for dna in ['AAAAAA', 'CCCCCC','GGGGGG','TTTTTT','AACCAA','CCGGGG','GGGTAA', 'TTTCGT',\"TGTAAT\"]:\n",
    "    s = torch.tensor(one_hot_encode(dna))\n",
    "    pred = model_cnn(s.float())\n",
    "    print(dna, pred)"
   ]
  },
  {
   "cell_type": "code",
   "execution_count": 50,
   "metadata": {},
   "outputs": [
    {
     "name": "stdout",
     "output_type": "stream",
     "text": [
      "TATAAA tensor([[15.1144]], grad_fn=<AddmmBackward>)\n",
      "TAATAT tensor([[14.6269]], grad_fn=<AddmmBackward>)\n",
      "CCTATA tensor([[11.5350]], grad_fn=<AddmmBackward>)\n",
      "AAGCGA tensor([[0.4359]], grad_fn=<AddmmBackward>)\n",
      "GCGAAA tensor([[1.0538]], grad_fn=<AddmmBackward>)\n",
      "TTGCGA tensor([[0.3293]], grad_fn=<AddmmBackward>)\n",
      "GCGTAA tensor([[3.9840]], grad_fn=<AddmmBackward>)\n",
      "TATTAA tensor([[14.5705]], grad_fn=<AddmmBackward>)\n",
      "TTTATT tensor([[13.7654]], grad_fn=<AddmmBackward>)\n"
     ]
    }
   ],
   "source": [
    "for dna in ['TATAAA', 'TAATAT','CCTATA','AAGCGA','GCGAAA','TTGCGA','GCGTAA', 'TATTAA','TTTATT']:\n",
    "    s = torch.tensor(one_hot_encode(dna))\n",
    "    pred = model_cnn(s.float())\n",
    "    print(dna, pred)\n",
    "    \n",
    "#     ('TATAAA', 14.9),\n",
    "#     ('TAATAT', 14.8),\n",
    "#     ('CCTATA', 14.5),\n",
    "#     ('AAGCGA', 0.6),\n",
    "#     ('GCGAAA', 0.7),\n",
    "#     ('TTGCGA', 0.2),\n"
   ]
  },
  {
   "cell_type": "code",
   "execution_count": 61,
   "metadata": {
    "scrolled": true
   },
   "outputs": [
    {
     "name": "stdout",
     "output_type": "stream",
     "text": [
      "tensor([[[[1., 0., 0., 0.],\n",
      "          [0., 0., 0., 1.],\n",
      "          [1., 0., 0., 0.],\n",
      "          [1., 0., 0., 0.],\n",
      "          [1., 0., 0., 0.],\n",
      "          [1., 0., 0., 0.]]],\n",
      "\n",
      "\n",
      "        [[[0., 1., 0., 0.],\n",
      "          [0., 1., 0., 0.],\n",
      "          [1., 0., 0., 0.],\n",
      "          [1., 0., 0., 0.],\n",
      "          [0., 1., 0., 0.],\n",
      "          [1., 0., 0., 0.]]],\n",
      "\n",
      "\n",
      "        [[[0., 1., 0., 0.],\n",
      "          [0., 1., 0., 0.],\n",
      "          [0., 1., 0., 0.],\n",
      "          [0., 1., 0., 0.],\n",
      "          [0., 1., 0., 0.],\n",
      "          [0., 1., 0., 0.]]],\n",
      "\n",
      "\n",
      "        [[[0., 1., 0., 0.],\n",
      "          [0., 0., 1., 0.],\n",
      "          [0., 0., 1., 0.],\n",
      "          [1., 0., 0., 0.],\n",
      "          [0., 1., 0., 0.],\n",
      "          [0., 1., 0., 0.]]]], dtype=torch.float64)\n",
      "tensor([[[1., 0., 0., 0.],\n",
      "         [0., 0., 0., 1.],\n",
      "         [1., 0., 0., 0.],\n",
      "         [1., 0., 0., 0.],\n",
      "         [1., 0., 0., 0.],\n",
      "         [1., 0., 0., 0.]],\n",
      "\n",
      "        [[0., 1., 0., 0.],\n",
      "         [0., 1., 0., 0.],\n",
      "         [1., 0., 0., 0.],\n",
      "         [1., 0., 0., 0.],\n",
      "         [0., 1., 0., 0.],\n",
      "         [1., 0., 0., 0.]],\n",
      "\n",
      "        [[0., 1., 0., 0.],\n",
      "         [0., 1., 0., 0.],\n",
      "         [0., 1., 0., 0.],\n",
      "         [0., 1., 0., 0.],\n",
      "         [0., 1., 0., 0.],\n",
      "         [0., 1., 0., 0.]],\n",
      "\n",
      "        [[0., 1., 0., 0.],\n",
      "         [0., 0., 1., 0.],\n",
      "         [0., 0., 1., 0.],\n",
      "         [1., 0., 0., 0.],\n",
      "         [0., 1., 0., 0.],\n",
      "         [0., 1., 0., 0.]]], dtype=torch.float64)\n"
     ]
    }
   ],
   "source": [
    "print(xb.view(-1,1,6,4))\n",
    "print(xb.view(-1,6,4))"
   ]
  },
  {
   "cell_type": "code",
   "execution_count": 79,
   "metadata": {},
   "outputs": [
    {
     "data": {
      "text/plain": [
       "tensor([[1., 0., 0., 0.],\n",
       "        [0., 0., 0., 1.],\n",
       "        [1., 0., 0., 0.],\n",
       "        [1., 0., 0., 0.],\n",
       "        [1., 0., 0., 0.],\n",
       "        [1., 0., 0., 0.],\n",
       "        [0., 1., 0., 0.],\n",
       "        [0., 1., 0., 0.],\n",
       "        [1., 0., 0., 0.],\n",
       "        [1., 0., 0., 0.],\n",
       "        [0., 1., 0., 0.],\n",
       "        [1., 0., 0., 0.],\n",
       "        [0., 1., 0., 0.],\n",
       "        [0., 1., 0., 0.],\n",
       "        [0., 1., 0., 0.],\n",
       "        [0., 1., 0., 0.],\n",
       "        [0., 1., 0., 0.],\n",
       "        [0., 1., 0., 0.],\n",
       "        [0., 1., 0., 0.],\n",
       "        [0., 0., 1., 0.],\n",
       "        [0., 0., 1., 0.],\n",
       "        [1., 0., 0., 0.],\n",
       "        [0., 1., 0., 0.],\n",
       "        [0., 1., 0., 0.]], dtype=torch.float64)"
      ]
     },
     "execution_count": 79,
     "metadata": {},
     "output_type": "execute_result"
    }
   ],
   "source": [
    "xb.view(-1,4)"
   ]
  },
  {
   "cell_type": "code",
   "execution_count": 82,
   "metadata": {},
   "outputs": [
    {
     "data": {
      "text/plain": [
       "torch.Size([4, 24])"
      ]
     },
     "execution_count": 82,
     "metadata": {},
     "output_type": "execute_result"
    }
   ],
   "source": [
    "xb.shape"
   ]
  },
  {
   "cell_type": "code",
   "execution_count": 84,
   "metadata": {},
   "outputs": [
    {
     "data": {
      "text/plain": [
       "torch.Size([24])"
      ]
     },
     "execution_count": 84,
     "metadata": {},
     "output_type": "execute_result"
    }
   ],
   "source": [
    "xb[0].shape"
   ]
  },
  {
   "cell_type": "code",
   "execution_count": 89,
   "metadata": {},
   "outputs": [
    {
     "data": {
      "text/plain": [
       "tensor([[[1., 0., 0., 0.],\n",
       "         [0., 0., 0., 1.],\n",
       "         [1., 0., 0., 0.],\n",
       "         [1., 0., 0., 0.],\n",
       "         [1., 0., 0., 0.],\n",
       "         [1., 0., 0., 0.]],\n",
       "\n",
       "        [[0., 1., 0., 0.],\n",
       "         [0., 1., 0., 0.],\n",
       "         [1., 0., 0., 0.],\n",
       "         [1., 0., 0., 0.],\n",
       "         [0., 1., 0., 0.],\n",
       "         [1., 0., 0., 0.]],\n",
       "\n",
       "        [[0., 1., 0., 0.],\n",
       "         [0., 1., 0., 0.],\n",
       "         [0., 1., 0., 0.],\n",
       "         [0., 1., 0., 0.],\n",
       "         [0., 1., 0., 0.],\n",
       "         [0., 1., 0., 0.]],\n",
       "\n",
       "        [[0., 1., 0., 0.],\n",
       "         [0., 0., 1., 0.],\n",
       "         [0., 0., 1., 0.],\n",
       "         [1., 0., 0., 0.],\n",
       "         [0., 1., 0., 0.],\n",
       "         [0., 1., 0., 0.]]], dtype=torch.float64)"
      ]
     },
     "execution_count": 89,
     "metadata": {},
     "output_type": "execute_result"
    }
   ],
   "source": [
    "xb.view(4,6,4)"
   ]
  },
  {
   "cell_type": "code",
   "execution_count": 91,
   "metadata": {},
   "outputs": [
    {
     "data": {
      "text/plain": [
       "tensor([[[True, True, True, True],\n",
       "         [True, True, True, True],\n",
       "         [True, True, True, True],\n",
       "         [True, True, True, True],\n",
       "         [True, True, True, True],\n",
       "         [True, True, True, True]],\n",
       "\n",
       "        [[True, True, True, True],\n",
       "         [True, True, True, True],\n",
       "         [True, True, True, True],\n",
       "         [True, True, True, True],\n",
       "         [True, True, True, True],\n",
       "         [True, True, True, True]],\n",
       "\n",
       "        [[True, True, True, True],\n",
       "         [True, True, True, True],\n",
       "         [True, True, True, True],\n",
       "         [True, True, True, True],\n",
       "         [True, True, True, True],\n",
       "         [True, True, True, True]],\n",
       "\n",
       "        [[True, True, True, True],\n",
       "         [True, True, True, True],\n",
       "         [True, True, True, True],\n",
       "         [True, True, True, True],\n",
       "         [True, True, True, True],\n",
       "         [True, True, True, True]]])"
      ]
     },
     "execution_count": 91,
     "metadata": {},
     "output_type": "execute_result"
    }
   ],
   "source": [
    "xb.view(-1,6,4) == xb.view(4,6,4)"
   ]
  },
  {
   "cell_type": "code",
   "execution_count": 117,
   "metadata": {},
   "outputs": [
    {
     "data": {
      "text/plain": [
       "torch.Size([4, 4, 6])"
      ]
     },
     "execution_count": 117,
     "metadata": {},
     "output_type": "execute_result"
    }
   ],
   "source": [
    "xb.view(4,4,6).shape"
   ]
  },
  {
   "cell_type": "code",
   "execution_count": 124,
   "metadata": {
    "scrolled": true
   },
   "outputs": [
    {
     "data": {
      "text/plain": [
       "tensor([[[1., 0., 1., 1., 1., 1.],\n",
       "         [0., 0., 0., 0., 0., 0.],\n",
       "         [0., 0., 0., 0., 0., 0.],\n",
       "         [0., 1., 0., 0., 0., 0.]],\n",
       "\n",
       "        [[0., 0., 1., 1., 0., 1.],\n",
       "         [1., 1., 0., 0., 1., 0.],\n",
       "         [0., 0., 0., 0., 0., 0.],\n",
       "         [0., 0., 0., 0., 0., 0.]],\n",
       "\n",
       "        [[0., 0., 0., 0., 0., 0.],\n",
       "         [1., 1., 1., 1., 1., 1.],\n",
       "         [0., 0., 0., 0., 0., 0.],\n",
       "         [0., 0., 0., 0., 0., 0.]],\n",
       "\n",
       "        [[0., 0., 0., 1., 0., 0.],\n",
       "         [1., 0., 0., 0., 1., 1.],\n",
       "         [0., 1., 1., 0., 0., 0.],\n",
       "         [0., 0., 0., 0., 0., 0.]]], dtype=torch.float64)"
      ]
     },
     "execution_count": 124,
     "metadata": {},
     "output_type": "execute_result"
    }
   ],
   "source": [
    "xb.view(-1,6,4).permute(0,2,1)"
   ]
  },
  {
   "cell_type": "code",
   "execution_count": 125,
   "metadata": {},
   "outputs": [
    {
     "data": {
      "text/plain": [
       "torch.Size([4, 4, 6])"
      ]
     },
     "execution_count": 125,
     "metadata": {},
     "output_type": "execute_result"
    }
   ],
   "source": [
    "xb.view(-1,6,4).permute(0,2,1).shape"
   ]
  },
  {
   "cell_type": "code",
   "execution_count": null,
   "metadata": {},
   "outputs": [],
   "source": [
    "xb = x_train[0:bs]  # a mini-batch from x\n",
    "preds = model_lin(xb.float()) "
   ]
  }
 ],
 "metadata": {
  "kernelspec": {
   "display_name": "Python 3",
   "language": "python",
   "name": "python3"
  },
  "language_info": {
   "codemirror_mode": {
    "name": "ipython",
    "version": 3
   },
   "file_extension": ".py",
   "mimetype": "text/x-python",
   "name": "python",
   "nbconvert_exporter": "python",
   "pygments_lexer": "ipython3",
   "version": "3.8.5"
  }
 },
 "nbformat": 4,
 "nbformat_minor": 4
}
